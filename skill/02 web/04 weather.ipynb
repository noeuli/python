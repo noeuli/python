{
 "cells": [
  {
   "cell_type": "code",
   "execution_count": 2,
   "id": "c04836d5",
   "metadata": {},
   "outputs": [
    {
     "name": "stdout",
     "output_type": "stream",
     "text": [
      "w_108_2020_1.html saved\n",
      "w_108_2020_2.html saved\n",
      "w_108_2020_3.html saved\n",
      "w_108_2020_4.html saved\n",
      "w_108_2020_5.html saved\n",
      "w_108_2020_6.html saved\n",
      "w_108_2020_7.html saved\n",
      "w_108_2020_8.html saved\n",
      "w_108_2020_9.html saved\n",
      "w_108_2020_10.html saved\n",
      "w_108_2020_11.html saved\n",
      "w_108_2020_12.html saved\n"
     ]
    }
   ],
   "source": [
    "import requests\n",
    "\n",
    "def get_page(st, yy, mm):\n",
    "    url = f'http://www.weather.go.kr/weather/climate/past_cal.jsp?stn={stn}&yy={yy}&mm={mm}' # 단계 2\n",
    "    res = requests.get(url) # 단계 3\n",
    "    return res.text\n",
    "\n",
    "stn = 108 # 단계 1\n",
    "yy = 2020 # 단계 1\n",
    "\n",
    "for mm in range(1, 13): # eksrP 1\n",
    "    html = get_page(stn, yy, mm) # 단꼐 2-3\n",
    "    fpath = f'w_{stn}_{yy}_{mm}.html' # 단계 4\n",
    "    open(fpath, 'w', encoding='euc-kr').write(html) # 단계 5\n",
    "    print(fpath, 'saved')\n"
   ]
  },
  {
   "cell_type": "code",
   "execution_count": null,
   "id": "63f1ddf0",
   "metadata": {},
   "outputs": [],
   "source": []
  }
 ],
 "metadata": {
  "kernelspec": {
   "display_name": "Python 3",
   "language": "python",
   "name": "python3"
  },
  "language_info": {
   "codemirror_mode": {
    "name": "ipython",
    "version": 3
   },
   "file_extension": ".py",
   "mimetype": "text/x-python",
   "name": "python",
   "nbconvert_exporter": "python",
   "pygments_lexer": "ipython3",
   "version": "3.8.8"
  }
 },
 "nbformat": 4,
 "nbformat_minor": 5
}
