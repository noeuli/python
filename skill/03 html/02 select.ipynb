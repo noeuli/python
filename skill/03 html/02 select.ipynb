{
 "cells": [
  {
   "cell_type": "code",
   "execution_count": 1,
   "id": "ec5dee75",
   "metadata": {},
   "outputs": [],
   "source": [
    "from bs4 import BeautifulSoup\n",
    "html = \"\"\"\n",
    "<html><head><title>FREELEC</title></head>\n",
    "\n",
    "<body>\n",
    "<H1 class=\"title\">Short history of freelec</H1>\n",
    "\n",
    "<p class=\"story\">프리렉은 가속화되는 기술 흐름과 시대 변화 속에서 짦게만 느껴지는 지난 시간을 되짚으며 ‘지식 가공 및 유통’ 회사라는 아이덴티티를 확고히 하려고 합니다.</p>\n",
    "\n",
    "<div class=\"book python\">\n",
    "<a href=\"https://freelec.co.kr/python\" class=\"python\" name=\"python\" id=\"link1\">열혈강의 파이썬</a>,\n",
    "<a href=\"https://freelec.co.kr/bible\" class=\"python\" name=\"bible\" id=\"link1\">바이블 파이썬</a>,\n",
    "</div>\n",
    "<div class=\"book etc\">\n",
    "<a href=\"https://freelec.co.kr/time\" class=\"physics\" id=\"link2\">시간여행</a>,\n",
    "<a href=\"https://freelec.co.kr/physics\" class=\"physics\" id=\"link3\">재미있는 물리</a>,\n",
    "<a href=\"https://freelec.co.kr/business\" class=\"learning python\">머신러닝</a>\n",
    "</div>\n",
    "</body>\n",
    "</html>\n",
    "\"\"\"\n",
    "soup = BeautifulSoup(html, 'lxml')"
   ]
  },
  {
   "cell_type": "code",
   "execution_count": 2,
   "id": "6b7cae9d",
   "metadata": {},
   "outputs": [
    {
     "data": {
      "text/plain": [
       "'<html>\\n <head>\\n  <title>\\n   FREELEC\\n  </title>\\n </head>\\n <body>\\n  <h1 class=\"title\">\\n   Short history of freelec\\n  </h1>\\n  <p class=\"story\">\\n   프리렉은 가속화되는 기술 흐름과 시대 변화 속에서 짦게만 느껴지는 지난 시간을 되짚으며 ‘지식 가공 및 유통’ 회사라는 아이덴티티를 확고히 하려고 합니다.\\n  </p>\\n  <div class=\"book python\">\\n   <a class=\"python\" href=\"https://freelec.co.kr/python\" id=\"link1\" name=\"python\">\\n    열혈강의 파이썬\\n   </a>\\n   ,\\n   <a class=\"python\" href=\"https://freelec.co.kr/bible\" id=\"link1\" name=\"bible\">\\n    바이블 파이썬\\n   </a>\\n   ,\\n  </div>\\n  <div class=\"book etc\">\\n   <a class=\"physics\" href=\"https://freelec.co.kr/time\" id=\"link2\">\\n    시간여행\\n   </a>\\n   ,\\n   <a class=\"physics\" href=\"https://freelec.co.kr/physics\" id=\"link3\">\\n    재미있는 물리\\n   </a>\\n   ,\\n   <a class=\"learning python\" href=\"https://freelec.co.kr/business\">\\n    머신러닝\\n   </a>\\n  </div>\\n </body>\\n</html>\\n'"
      ]
     },
     "execution_count": 2,
     "metadata": {},
     "output_type": "execute_result"
    }
   ],
   "source": [
    "soup.prettify()"
   ]
  },
  {
   "cell_type": "code",
   "execution_count": 3,
   "id": "e3f319d0",
   "metadata": {},
   "outputs": [
    {
     "data": {
      "text/plain": [
       "<html><head><title>FREELEC</title></head>\n",
       "<body>\n",
       "<h1 class=\"title\">Short history of freelec</h1>\n",
       "<p class=\"story\">프리렉은 가속화되는 기술 흐름과 시대 변화 속에서 짦게만 느껴지는 지난 시간을 되짚으며 ‘지식 가공 및 유통’ 회사라는 아이덴티티를 확고히 하려고 합니다.</p>\n",
       "<div class=\"book python\">\n",
       "<a class=\"python\" href=\"https://freelec.co.kr/python\" id=\"link1\" name=\"python\">열혈강의 파이썬</a>,\n",
       "<a class=\"python\" href=\"https://freelec.co.kr/bible\" id=\"link1\" name=\"bible\">바이블 파이썬</a>,\n",
       "</div>\n",
       "<div class=\"book etc\">\n",
       "<a class=\"physics\" href=\"https://freelec.co.kr/time\" id=\"link2\">시간여행</a>,\n",
       "<a class=\"physics\" href=\"https://freelec.co.kr/physics\" id=\"link3\">재미있는 물리</a>,\n",
       "<a class=\"learning python\" href=\"https://freelec.co.kr/business\">머신러닝</a>\n",
       "</div>\n",
       "</body>\n",
       "</html>"
      ]
     },
     "execution_count": 3,
     "metadata": {},
     "output_type": "execute_result"
    }
   ],
   "source": [
    "soup"
   ]
  },
  {
   "cell_type": "code",
   "execution_count": 4,
   "id": "e62680ff",
   "metadata": {},
   "outputs": [
    {
     "data": {
      "text/plain": [
       "[<a class=\"python\" href=\"https://freelec.co.kr/python\" id=\"link1\" name=\"python\">열혈강의 파이썬</a>,\n",
       " <a class=\"python\" href=\"https://freelec.co.kr/bible\" id=\"link1\" name=\"bible\">바이블 파이썬</a>]"
      ]
     },
     "execution_count": 4,
     "metadata": {},
     "output_type": "execute_result"
    }
   ],
   "source": [
    "soup.select('#link1')"
   ]
  },
  {
   "cell_type": "code",
   "execution_count": 5,
   "id": "43d65c93",
   "metadata": {},
   "outputs": [
    {
     "data": {
      "text/plain": [
       "[<p class=\"story\">프리렉은 가속화되는 기술 흐름과 시대 변화 속에서 짦게만 느껴지는 지난 시간을 되짚으며 ‘지식 가공 및 유통’ 회사라는 아이덴티티를 확고히 하려고 합니다.</p>]"
      ]
     },
     "execution_count": 5,
     "metadata": {},
     "output_type": "execute_result"
    }
   ],
   "source": [
    "soup.select('.story')"
   ]
  },
  {
   "cell_type": "code",
   "execution_count": 6,
   "id": "7e3639ec",
   "metadata": {},
   "outputs": [
    {
     "data": {
      "text/plain": [
       "[<a class=\"python\" href=\"https://freelec.co.kr/python\" id=\"link1\" name=\"python\">열혈강의 파이썬</a>,\n",
       " <a class=\"python\" href=\"https://freelec.co.kr/bible\" id=\"link1\" name=\"bible\">바이블 파이썬</a>]"
      ]
     },
     "execution_count": 6,
     "metadata": {},
     "output_type": "execute_result"
    }
   ],
   "source": [
    "soup.select('.python #link1')"
   ]
  },
  {
   "cell_type": "code",
   "execution_count": 7,
   "id": "4e874f8a",
   "metadata": {},
   "outputs": [
    {
     "data": {
      "text/plain": [
       "[<p class=\"story\">프리렉은 가속화되는 기술 흐름과 시대 변화 속에서 짦게만 느껴지는 지난 시간을 되짚으며 ‘지식 가공 및 유통’ 회사라는 아이덴티티를 확고히 하려고 합니다.</p>]"
      ]
     },
     "execution_count": 7,
     "metadata": {},
     "output_type": "execute_result"
    }
   ],
   "source": [
    "soup.select('p')"
   ]
  },
  {
   "cell_type": "code",
   "execution_count": 8,
   "id": "06107a45",
   "metadata": {},
   "outputs": [
    {
     "data": {
      "text/plain": [
       "[<a class=\"python\" href=\"https://freelec.co.kr/python\" id=\"link1\" name=\"python\">열혈강의 파이썬</a>,\n",
       " <a class=\"python\" href=\"https://freelec.co.kr/bible\" id=\"link1\" name=\"bible\">바이블 파이썬</a>,\n",
       " <a class=\"learning python\" href=\"https://freelec.co.kr/business\">머신러닝</a>]"
      ]
     },
     "execution_count": 8,
     "metadata": {},
     "output_type": "execute_result"
    }
   ],
   "source": [
    "soup.select('a.python')"
   ]
  },
  {
   "cell_type": "code",
   "execution_count": 9,
   "id": "1029f183",
   "metadata": {},
   "outputs": [
    {
     "data": {
      "text/plain": [
       "[<a class=\"learning python\" href=\"https://freelec.co.kr/business\">머신러닝</a>]"
      ]
     },
     "execution_count": 9,
     "metadata": {},
     "output_type": "execute_result"
    }
   ],
   "source": [
    "soup.select('a.python.learning')"
   ]
  },
  {
   "cell_type": "code",
   "execution_count": 10,
   "id": "a81a90f3",
   "metadata": {},
   "outputs": [
    {
     "data": {
      "text/plain": [
       "[<p class=\"story\">프리렉은 가속화되는 기술 흐름과 시대 변화 속에서 짦게만 느껴지는 지난 시간을 되짚으며 ‘지식 가공 및 유통’ 회사라는 아이덴티티를 확고히 하려고 합니다.</p>,\n",
       " <a class=\"python\" href=\"https://freelec.co.kr/python\" id=\"link1\" name=\"python\">열혈강의 파이썬</a>,\n",
       " <a class=\"python\" href=\"https://freelec.co.kr/bible\" id=\"link1\" name=\"bible\">바이블 파이썬</a>,\n",
       " <a class=\"physics\" href=\"https://freelec.co.kr/time\" id=\"link2\">시간여행</a>,\n",
       " <a class=\"physics\" href=\"https://freelec.co.kr/physics\" id=\"link3\">재미있는 물리</a>,\n",
       " <a class=\"learning python\" href=\"https://freelec.co.kr/business\">머신러닝</a>]"
      ]
     },
     "execution_count": 10,
     "metadata": {},
     "output_type": "execute_result"
    }
   ],
   "source": [
    "soup.select('p, a')"
   ]
  },
  {
   "cell_type": "code",
   "execution_count": 11,
   "id": "1f01291b",
   "metadata": {},
   "outputs": [
    {
     "data": {
      "text/plain": [
       "[<a class=\"python\" href=\"https://freelec.co.kr/python\" id=\"link1\" name=\"python\">열혈강의 파이썬</a>,\n",
       " <a class=\"python\" href=\"https://freelec.co.kr/bible\" id=\"link1\" name=\"bible\">바이블 파이썬</a>,\n",
       " <a class=\"physics\" href=\"https://freelec.co.kr/time\" id=\"link2\">시간여행</a>,\n",
       " <a class=\"physics\" href=\"https://freelec.co.kr/physics\" id=\"link3\">재미있는 물리</a>,\n",
       " <a class=\"learning python\" href=\"https://freelec.co.kr/business\">머신러닝</a>]"
      ]
     },
     "execution_count": 11,
     "metadata": {},
     "output_type": "execute_result"
    }
   ],
   "source": [
    "soup.select('body a')"
   ]
  },
  {
   "cell_type": "code",
   "execution_count": 12,
   "id": "d7b17490",
   "metadata": {},
   "outputs": [
    {
     "data": {
      "text/plain": [
       "[<a class=\"python\" href=\"https://freelec.co.kr/python\" id=\"link1\" name=\"python\">열혈강의 파이썬</a>,\n",
       " <a class=\"python\" href=\"https://freelec.co.kr/bible\" id=\"link1\" name=\"bible\">바이블 파이썬</a>,\n",
       " <a class=\"physics\" href=\"https://freelec.co.kr/time\" id=\"link2\">시간여행</a>,\n",
       " <a class=\"physics\" href=\"https://freelec.co.kr/physics\" id=\"link3\">재미있는 물리</a>,\n",
       " <a class=\"learning python\" href=\"https://freelec.co.kr/business\">머신러닝</a>]"
      ]
     },
     "execution_count": 12,
     "metadata": {},
     "output_type": "execute_result"
    }
   ],
   "source": [
    "soup.select(\"body a\")"
   ]
  },
  {
   "cell_type": "code",
   "execution_count": 13,
   "id": "54a91b1c",
   "metadata": {},
   "outputs": [
    {
     "data": {
      "text/plain": [
       "[<div class=\"book python\">\n",
       " <a class=\"python\" href=\"https://freelec.co.kr/python\" id=\"link1\" name=\"python\">열혈강의 파이썬</a>,\n",
       " <a class=\"python\" href=\"https://freelec.co.kr/bible\" id=\"link1\" name=\"bible\">바이블 파이썬</a>,\n",
       " </div>]"
      ]
     },
     "execution_count": 13,
     "metadata": {},
     "output_type": "execute_result"
    }
   ],
   "source": [
    "soup.select('p + div')"
   ]
  },
  {
   "cell_type": "code",
   "execution_count": 14,
   "id": "ec3a1be6",
   "metadata": {},
   "outputs": [
    {
     "data": {
      "text/plain": [
       "<html><head><title>FREELEC</title></head>\n",
       "<body>\n",
       "<h1 class=\"title\">Short history of freelec</h1>\n",
       "<p class=\"story\">프리렉은 가속화되는 기술 흐름과 시대 변화 속에서 짦게만 느껴지는 지난 시간을 되짚으며 ‘지식 가공 및 유통’ 회사라는 아이덴티티를 확고히 하려고 합니다.</p>\n",
       "<div class=\"book python\">\n",
       "<a class=\"python\" href=\"https://freelec.co.kr/python\" id=\"link1\" name=\"python\">열혈강의 파이썬</a>,\n",
       "<a class=\"python\" href=\"https://freelec.co.kr/bible\" id=\"link1\" name=\"bible\">바이블 파이썬</a>,\n",
       "</div>\n",
       "<div class=\"book etc\">\n",
       "<a class=\"physics\" href=\"https://freelec.co.kr/time\" id=\"link2\">시간여행</a>,\n",
       "<a class=\"physics\" href=\"https://freelec.co.kr/physics\" id=\"link3\">재미있는 물리</a>,\n",
       "<a class=\"learning python\" href=\"https://freelec.co.kr/business\">머신러닝</a>\n",
       "</div>\n",
       "</body>\n",
       "</html>"
      ]
     },
     "execution_count": 14,
     "metadata": {},
     "output_type": "execute_result"
    }
   ],
   "source": [
    "soup"
   ]
  },
  {
   "cell_type": "code",
   "execution_count": 15,
   "id": "c4e2e242",
   "metadata": {},
   "outputs": [
    {
     "data": {
      "text/plain": [
       "[<div class=\"book etc\">\n",
       " <a class=\"physics\" href=\"https://freelec.co.kr/time\" id=\"link2\">시간여행</a>,\n",
       " <a class=\"physics\" href=\"https://freelec.co.kr/physics\" id=\"link3\">재미있는 물리</a>,\n",
       " <a class=\"learning python\" href=\"https://freelec.co.kr/business\">머신러닝</a>\n",
       " </div>]"
      ]
     },
     "execution_count": 15,
     "metadata": {},
     "output_type": "execute_result"
    }
   ],
   "source": [
    "soup.select('div + div')"
   ]
  },
  {
   "cell_type": "code",
   "execution_count": 16,
   "id": "d2561146",
   "metadata": {},
   "outputs": [
    {
     "data": {
      "text/plain": [
       "[]"
      ]
     },
     "execution_count": 16,
     "metadata": {},
     "output_type": "execute_result"
    }
   ],
   "source": [
    "soup.select('body > a')"
   ]
  },
  {
   "cell_type": "code",
   "execution_count": 17,
   "id": "49c562f4",
   "metadata": {},
   "outputs": [
    {
     "data": {
      "text/plain": [
       "[<a class=\"python\" href=\"https://freelec.co.kr/python\" id=\"link1\" name=\"python\">열혈강의 파이썬</a>,\n",
       " <a class=\"python\" href=\"https://freelec.co.kr/bible\" id=\"link1\" name=\"bible\">바이블 파이썬</a>,\n",
       " <a class=\"physics\" href=\"https://freelec.co.kr/time\" id=\"link2\">시간여행</a>,\n",
       " <a class=\"physics\" href=\"https://freelec.co.kr/physics\" id=\"link3\">재미있는 물리</a>,\n",
       " <a class=\"learning python\" href=\"https://freelec.co.kr/business\">머신러닝</a>]"
      ]
     },
     "execution_count": 17,
     "metadata": {},
     "output_type": "execute_result"
    }
   ],
   "source": [
    "soup.select('div > a')"
   ]
  },
  {
   "cell_type": "code",
   "execution_count": 18,
   "id": "15a7814f",
   "metadata": {},
   "outputs": [
    {
     "data": {
      "text/plain": [
       "[<a class=\"physics\" href=\"https://freelec.co.kr/time\" id=\"link2\">시간여행</a>,\n",
       " <a class=\"physics\" href=\"https://freelec.co.kr/physics\" id=\"link3\">재미있는 물리</a>,\n",
       " <a class=\"learning python\" href=\"https://freelec.co.kr/business\">머신러닝</a>]"
      ]
     },
     "execution_count": 18,
     "metadata": {},
     "output_type": "execute_result"
    }
   ],
   "source": [
    "soup.select('html > body > div.etc > a')"
   ]
  },
  {
   "cell_type": "code",
   "execution_count": 19,
   "id": "7b769c88",
   "metadata": {},
   "outputs": [
    {
     "data": {
      "text/plain": [
       "[<a class=\"python\" href=\"https://freelec.co.kr/bible\" id=\"link1\" name=\"bible\">바이블 파이썬</a>]"
      ]
     },
     "execution_count": 19,
     "metadata": {},
     "output_type": "execute_result"
    }
   ],
   "source": [
    "soup.select('[name=bible]')"
   ]
  },
  {
   "cell_type": "code",
   "execution_count": 20,
   "id": "2503fabc",
   "metadata": {},
   "outputs": [
    {
     "data": {
      "text/plain": [
       "[<a class=\"python\" href=\"https://freelec.co.kr/bible\" id=\"link1\" name=\"bible\">바이블 파이썬</a>]"
      ]
     },
     "execution_count": 20,
     "metadata": {},
     "output_type": "execute_result"
    }
   ],
   "source": [
    "soup.select('a[name=bible]')"
   ]
  },
  {
   "cell_type": "code",
   "execution_count": 40,
   "id": "9f40971d",
   "metadata": {},
   "outputs": [
    {
     "data": {
      "text/plain": [
       "[]"
      ]
     },
     "execution_count": 40,
     "metadata": {},
     "output_type": "execute_result"
    }
   ],
   "source": [
    "import re\n",
    "soup.select(\"a[href^=http\\:]\")"
   ]
  },
  {
   "cell_type": "code",
   "execution_count": 30,
   "id": "881e8bb3",
   "metadata": {},
   "outputs": [
    {
     "data": {
      "text/plain": [
       "[<a class=\"python\" href=\"https://freelec.co.kr/python\" id=\"link1\" name=\"python\">열혈강의 파이썬</a>,\n",
       " <a class=\"physics\" href=\"https://freelec.co.kr/time\" id=\"link2\">시간여행</a>]"
      ]
     },
     "execution_count": 30,
     "metadata": {},
     "output_type": "execute_result"
    }
   ],
   "source": [
    "soup.select(\"a:nth-of-type(1)\")"
   ]
  },
  {
   "cell_type": "code",
   "execution_count": 31,
   "id": "d15a4c0f",
   "metadata": {},
   "outputs": [
    {
     "data": {
      "text/plain": [
       "[<a class=\"python\" href=\"https://freelec.co.kr/python\" id=\"link1\" name=\"python\">열혈강의 파이썬</a>,\n",
       " <a class=\"python\" href=\"https://freelec.co.kr/bible\" id=\"link1\" name=\"bible\">바이블 파이썬</a>,\n",
       " <a class=\"physics\" href=\"https://freelec.co.kr/time\" id=\"link2\">시간여행</a>,\n",
       " <a class=\"physics\" href=\"https://freelec.co.kr/physics\" id=\"link3\">재미있는 물리</a>,\n",
       " <a class=\"learning python\" href=\"https://freelec.co.kr/business\">머신러닝</a>]"
      ]
     },
     "execution_count": 31,
     "metadata": {},
     "output_type": "execute_result"
    }
   ],
   "source": [
    "soup.select(\"a\")"
   ]
  },
  {
   "cell_type": "code",
   "execution_count": 32,
   "id": "5f0c4b66",
   "metadata": {},
   "outputs": [
    {
     "data": {
      "text/plain": [
       "[<a class=\"learning python\" href=\"https://freelec.co.kr/business\">머신러닝</a>]"
      ]
     },
     "execution_count": 32,
     "metadata": {},
     "output_type": "execute_result"
    }
   ],
   "source": [
    "soup.select(\"a:nth-of-type(3)\")"
   ]
  },
  {
   "cell_type": "code",
   "execution_count": 33,
   "id": "0873b0d3",
   "metadata": {},
   "outputs": [
    {
     "data": {
      "text/plain": [
       "[<a class=\"python\" href=\"https://freelec.co.kr/bible\" id=\"link1\" name=\"bible\">바이블 파이썬</a>,\n",
       " <a class=\"physics\" href=\"https://freelec.co.kr/physics\" id=\"link3\">재미있는 물리</a>]"
      ]
     },
     "execution_count": 33,
     "metadata": {},
     "output_type": "execute_result"
    }
   ],
   "source": [
    "soup.select(\"a:nth-of-type(2)\")"
   ]
  },
  {
   "cell_type": "code",
   "execution_count": 41,
   "id": "5b1c7984",
   "metadata": {},
   "outputs": [
    {
     "data": {
      "text/plain": [
       "[<a class=\"python\" href=\"https://freelec.co.kr/python\" id=\"link1\" name=\"python\">열혈강의 파이썬</a>,\n",
       " <a class=\"python\" href=\"https://freelec.co.kr/bible\" id=\"link1\" name=\"bible\">바이블 파이썬</a>,\n",
       " <a class=\"physics\" href=\"https://freelec.co.kr/time\" id=\"link2\">시간여행</a>,\n",
       " <a class=\"physics\" href=\"https://freelec.co.kr/physics\" id=\"link3\">재미있는 물리</a>,\n",
       " <a class=\"learning python\" href=\"https://freelec.co.kr/business\">머신러닝</a>]"
      ]
     },
     "execution_count": 41,
     "metadata": {},
     "output_type": "execute_result"
    }
   ],
   "source": [
    "soup.select(\"a[href^=https\\:]\")"
   ]
  },
  {
   "cell_type": "code",
   "execution_count": 42,
   "id": "84905187",
   "metadata": {},
   "outputs": [
    {
     "name": "stdout",
     "output_type": "stream",
     "text": [
      "열혈강의 파이썬 https://freelec.co.kr/python\n",
      "바이블 파이썬 https://freelec.co.kr/bible\n",
      "시간여행 https://freelec.co.kr/time\n",
      "재미있는 물리 https://freelec.co.kr/physics\n",
      "머신러닝 https://freelec.co.kr/business\n"
     ]
    }
   ],
   "source": [
    "for ele in soup.select('a[href^=https\\:]'):\n",
    "    print(ele.get_text(), ele.get('href'))"
   ]
  },
  {
   "cell_type": "code",
   "execution_count": null,
   "id": "41335148",
   "metadata": {},
   "outputs": [],
   "source": []
  },
  {
   "cell_type": "code",
   "execution_count": null,
   "id": "69031751",
   "metadata": {},
   "outputs": [],
   "source": []
  },
  {
   "cell_type": "code",
   "execution_count": null,
   "id": "8114a866",
   "metadata": {},
   "outputs": [],
   "source": []
  }
 ],
 "metadata": {
  "kernelspec": {
   "display_name": "Python 3",
   "language": "python",
   "name": "python3"
  },
  "language_info": {
   "codemirror_mode": {
    "name": "ipython",
    "version": 3
   },
   "file_extension": ".py",
   "mimetype": "text/x-python",
   "name": "python",
   "nbconvert_exporter": "python",
   "pygments_lexer": "ipython3",
   "version": "3.8.8"
  }
 },
 "nbformat": 4,
 "nbformat_minor": 5
}
