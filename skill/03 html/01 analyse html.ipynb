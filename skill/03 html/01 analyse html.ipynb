{
 "cells": [
  {
   "cell_type": "code",
   "execution_count": 1,
   "id": "56dfbcbb",
   "metadata": {},
   "outputs": [
    {
     "data": {
      "text/plain": [
       "<!DOCTYPE html>\n",
       "<html itemscope=\"\" itemtype=\"http://schema.org/WebPage\" lang=\"ko\"><head><meta content=\"text/html; charset=utf-8\" http-equiv=\"Content-Type\"/><meta content=\"/logos/doodles/2021/googles-23rd-birthday-6753651837109087-law.gif\" itemprop=\"image\"/><meta content=\"Google 설립 23주년\" property=\"twitter:title\"/><meta content=\"Google 설립 23주년 #Google기념일로고\" property=\"twitter:description\"/><meta content=\"Google 설립 23주년 #Google기념일로고\" property=\"og:description\"/><meta content=\"summary_large_image\" property=\"twitter:card\"/><meta content=\"@GoogleDoodles\" property=\"twitter:site\"/><meta content=\"https://www.google.com/logos/doodles/2021/googles-23rd-birthday-6753651837109087-2xa.gif\" property=\"twitter:image\"/><meta content=\"https://www.google.com/logos/doodles/2021/googles-23rd-birthday-6753651837109087-2xa.gif\" property=\"og:image\"/><meta content=\"735\" property=\"og:image:width\"/><meta content=\"440\" property=\"og:image:height\"/><meta content=\"https://www.google.com/logos/doodles/2021/googles-23rd-birthday-6753651837109087-2xa.gif\" property=\"og:url\"/><meta content=\"video.other\" property=\"og:type\"/><title>Google</title><script nonce=\"zQ6+sFs3keAf9puIfUaPcw==\">(function(){window.google={kEI:'5yBRYaXlKMLAhwOzu6boCw',kEXPI:'0,1302536,56873,6059,206,4804,2316,383,246,5,1354,5250,1122516,1197751,650,328866,51223,16115,28684,17572,1325,3534,1361,284,9007,3027,4746,12835,4020,978,13228,3847,4192,6430,7432,11613,2777,919,5081,1593,1279,2214,529,148,1103,840,2196,4101,3514,606,2023,1777,520,14670,3227,2845,7,4773,826,6755,5096,11625,4695,908,2,940,2615,13142,3,346,230,6459,150,12313,1661,4,1252,276,2304,1236,5803,4684,2011,6576,11802,2658,4243,2458,656,30,11412,2216,1592,713,638,1494,16786,5800,2557,992,3102,3138,6,908,3,3541,1,11373,3337,1816,281,912,5992,16728,1715,2,10554,3468,1931,3911,1678,744,5852,2050,6824,1589,1160,1269,7811,749,1970,4545,3,4046,1427,4148,487,3604,2,6,7755,1932,2636,2577,3136,539,2075,400,503,1016,3,583,794,1264,85,182,630,2249,720,2,1517,2,869,760,653,4,2935,843,173,141,28,86,78,39,197,694,559,1401,2484,540,849,1503,244,1081,745,1080,39,41,462,1117,3,374,180,2,146,1636,635,323,729,370,1,301,227,754,798,4,191,1359,3304,3,2,275,88,9,677,13,34,2,213,133,274,484,550,1073,928,590,5564502,3904,99,347,72,88,45,1802684,95,4193884,2799374,1323,882,444,1,2,80,1,1797,2,7,2553,1,748,141,801,557,1,4265,1,1,2,1331,4142,2609,155,17,13,72,139,4,2,20,2,169,13,19,46,5,39,96,548,29,2,2,1,2,1,2,2,7,4,1,2,2,2,2,2,2,353,513,186,1,1,158,3,2,2,2,2,2,4,2,3,3,269,461,2,45,3,40,14,3,11,9,14,28,10,33,3,3,2,12,2,35,1,2,5,2,1,41,1,1,1,1,13,23953923,4041352,276,62,3,2414,448,2,1041,9,3239,678,858,883,636,221,775,806353',kBL:'lszj'};google.sn='webhp';google.kHL='ko';})();(function(){\n",
       "var f=this||self;var h,k=[];function l(a){for(var b;a&&(!a.getAttribute||!(b=a.getAttribute(\"eid\")));)a=a.parentNode;return b||h}function m(a){for(var b=null;a&&(!a.getAttribute||!(b=a.getAttribute(\"leid\")));)a=a.parentNode;return b}\n",
       "function n(a,b,c,d,g){var e=\"\";c||-1!==b.search(\"&ei=\")||(e=\"&ei=\"+l(d),-1===b.search(\"&lei=\")&&(d=m(d))&&(e+=\"&lei=\"+d));d=\"\";!c&&f._cshid&&-1===b.search(\"&cshid=\")&&\"slh\"!==a&&(d=\"&cshid=\"+f._cshid);c=c||\"/\"+(g||\"gen_204\")+\"?atyp=i&ct=\"+a+\"&cad=\"+b+e+\"&zx=\"+Date.now()+d;/^http:/i.test(c)&&\"https:\"===window.location.protocol&&(google.ml&&google.ml(Error(\"a\"),!1,{src:c,glmm:1}),c=\"\");return c};h=google.kEI;google.getEI=l;google.getLEI=m;google.ml=function(){return null};google.log=function(a,b,c,d,g){if(c=n(a,b,c,d,g)){a=new Image;var e=k.length;k[e]=a;a.onerror=a.onload=a.onabort=function(){delete k[e]};a.src=c}};google.logUrl=n;}).call(this);(function(){\n",
       "google.y={};google.sy=[];google.x=function(a,b){if(a)var c=a.id;else{do c=Math.random();while(google.y[c])}google.y[c]=[a,b];return!1};google.sx=function(a){google.sy.push(a)};google.lm=[];google.plm=function(a){google.lm.push.apply(google.lm,a)};google.lq=[];google.load=function(a,b,c){google.lq.push([[a],b,c])};google.loadAll=function(a,b){google.lq.push([a,b])};google.bx=!1;google.lx=function(){};}).call(this);google.f={};(function(){\n",
       "document.documentElement.addEventListener(\"submit\",function(b){var a;if(a=b.target){var c=a.getAttribute(\"data-submitfalse\");a=\"1\"===c||\"q\"===c&&!a.elements.q.value?!0:!1}else a=!1;a&&(b.preventDefault(),b.stopPropagation())},!0);document.documentElement.addEventListener(\"click\",function(b){var a;a:{for(a=b.target;a&&a!==document.documentElement;a=a.parentElement)if(\"A\"===a.tagName){a=\"1\"===a.getAttribute(\"data-nohref\");break a}a=!1}a&&b.preventDefault()},!0);}).call(this);</script><style>#gbar,#guser{font-size:13px;padding-top:1px !important;}#gbar{height:22px}#guser{padding-bottom:7px !important;text-align:right}.gbh,.gbd{border-top:1px solid #c9d7f1;font-size:1px}.gbh{height:0;position:absolute;top:24px;width:100%}@media all{.gb1{height:22px;margin-right:.5em;vertical-align:top}#gbar{float:left}}a.gb1,a.gb4{text-decoration:underline !important}a.gb1,a.gb4{color:#00c !important}.gbi .gb4{color:#dd8e27 !important}.gbf .gb4{color:#900 !important}\n",
       "</style><style>body,td,a,p,.h{font-family:&#44404;&#47548;,&#46027;&#50880;,arial,sans-serif}.ko{font-size:9pt}body{margin:0;overflow-y:scroll}#gog{padding:3px 8px 0}td{line-height:.8em}.gac_m td{line-height:17px}form{margin-bottom:20px}.h{color:#1558d6}em{font-weight:bold;font-style:normal}.lst{height:25px;width:496px}.gsfi,.lst{font:18px arial,sans-serif}.gsfs{font:17px arial,sans-serif}.ds{display:inline-box;display:inline-block;margin:3px 0 4px;margin-left:4px}input{font-family:inherit}body{background:#fff;color:#000}a{color:#4b11a8;text-decoration:none}a:hover,a:active{text-decoration:underline}.fl a{color:#1558d6}a:visited{color:#4b11a8}.sblc{padding-top:5px}.sblc a{display:block;margin:2px 0;margin-left:13px;font-size:11px}.lsbb{background:#f8f9fa;border:solid 1px;border-color:#dadce0 #70757a #70757a #dadce0;height:30px}.lsbb{display:block}#WqQANb a{display:inline-block;margin:0 12px}.lsb{background:url(/images/nav_logo229.png) 0 -261px repeat-x;border:none;color:#000;cursor:pointer;height:30px;margin:0;outline:0;font:15px arial,sans-serif;vertical-align:top}.lsb:active{background:#dadce0}.lst:focus{outline:none}.tiah{width:458px}</style><script nonce=\"zQ6+sFs3keAf9puIfUaPcw==\">(function(){window.google.erd={sp:'hp',jsr:0,bv:46};\n",
       "var f=this||self;var g,h,k=null!==(g=f.mei)&&void 0!==g?g:1,l=null!==(h=f.sdo)&&void 0!==h?h:!0,n=0,p,q=google.erd,t=q.jsr;google.ml=function(a,b,e,m,d){d=void 0===d?2:d;b&&(p=a&&a.message);if(google.dl)return google.dl(a,d,e),null;if(0>t){window.console&&console.error(a,e);if(-2===t)throw a;b=!1}else b=!a||!a.message||\"Error loading script\"===a.message||n>=k&&!m?!1:!0;if(!b)return null;n++;e=e||{};b=encodeURIComponent;var c=\"/gen_204?atyp=i&ei=\"+b(google.kEI);google.kEXPI&&(c+=\"&jexpid=\"+b(google.kEXPI));c+=\"&srcpg=\"+b(q.sp)+\"&jsr=\"+b(q.jsr)+\"&bver=\"+b(q.bv)+(\"&jsel=\"+d);c+=\"&sn=\"+b(google.sn);for(var r in e)c+=\"&\",c+=b(r),c+=\"=\",c+=b(e[r]);c=c+\"&emsg=\"+b(a.name+\": \"+a.message);c=c+\"&jsst=\"+b(a.stack||\"N/A\");12288<=c.length&&(c=c.substr(0,12288));a=c;m||google.log(0,\"\",a);return a};window.onerror=function(a,b,e,m,d){p!==a&&google.ml(d instanceof Error?d:Error(a),!1,void 0,!1,google.dl?0:2);p=null;l&&n>=k&&(window.onerror=null)};})();</script></head><body bgcolor=\"#fff\"><script nonce=\"zQ6+sFs3keAf9puIfUaPcw==\">(function(){var src='/images/nav_logo229.png';var iesg=false;document.body.onload = function(){window.n && window.n();if (document.images){new Image().src=src;}\n",
       "if (!iesg){document.f&&document.f.q.focus();document.gbqf&&document.gbqf.q.focus();}\n",
       "}\n",
       "})();</script><div id=\"mngb\"><div id=\"gbar\"><nobr><b class=\"gb1\">검색</b> <a class=\"gb1\" href=\"http://www.google.co.kr/imghp?hl=ko&amp;tab=wi\">이미지</a> <a class=\"gb1\" href=\"http://maps.google.co.kr/maps?hl=ko&amp;tab=wl\">지도</a> <a class=\"gb1\" href=\"https://play.google.com/?hl=ko&amp;tab=w8\">Play</a> <a class=\"gb1\" href=\"http://www.youtube.com/?gl=KR&amp;tab=w1\">YouTube</a> <a class=\"gb1\" href=\"https://news.google.com/?tab=wn\">뉴스</a> <a class=\"gb1\" href=\"https://mail.google.com/mail/?tab=wm\">Gmail</a> <a class=\"gb1\" href=\"https://drive.google.com/?tab=wo\">드라이브</a> <a class=\"gb1\" href=\"https://www.google.co.kr/intl/ko/about/products?tab=wh\" style=\"text-decoration:none\"><u>더보기</u> »</a></nobr></div><div id=\"guser\" width=\"100%\"><nobr><span class=\"gbi\" id=\"gbn\"></span><span class=\"gbf\" id=\"gbf\"></span><span id=\"gbe\"></span><a class=\"gb4\" href=\"http://www.google.co.kr/history/optout?hl=ko\">웹 기록</a> | <a class=\"gb4\" href=\"/preferences?hl=ko\">설정</a> | <a class=\"gb4\" href=\"https://accounts.google.com/ServiceLogin?hl=ko&amp;passive=true&amp;continue=http://www.google.com/&amp;ec=GAZAAQ\" id=\"gb_70\" target=\"_top\">로그인</a></nobr></div><div class=\"gbh\" style=\"left:0\"></div><div class=\"gbh\" style=\"right:0\"></div></div><center><br clear=\"all\" id=\"lgpd\"/><div id=\"lga\"><a href=\"/search?ie=UTF-8&amp;q=Google+&amp;oi=ddle&amp;ct=174788361&amp;hl=ko&amp;si=AHuW2sTKkcygiABA_QY_APML0LA-zLeY72p7cWUnG9AtyAalP7HHY3dFtSWBqk8puNCUm6BnkheVtoD5vs0xVFaZgHy4zOVkJ0E9Wa5_cYARMoqWTiHqoWQ%3D&amp;sa=X&amp;ved=0ahUKEwjl9Nvigp7zAhVC4GEKHbOdCb0QPQgD\"><img alt=\"Google 설립 23주년\" border=\"0\" height=\"210\" id=\"hplogo\" src=\"/logos/doodles/2021/googles-23rd-birthday-6753651837109087-law.gif\" title=\"Google 설립 23주년\" width=\"369\"/><br/></a><br/></div><form action=\"/search\" name=\"f\"><table cellpadding=\"0\" cellspacing=\"0\"><tr valign=\"top\"><td width=\"25%\"> </td><td align=\"center\" nowrap=\"\"><input name=\"ie\" type=\"hidden\" value=\"ISO-8859-1\"/><input name=\"hl\" type=\"hidden\" value=\"ko\"/><input name=\"source\" type=\"hidden\" value=\"hp\"/><input name=\"biw\" type=\"hidden\"/><input name=\"bih\" type=\"hidden\"/><div class=\"ds\" style=\"height:32px;margin:4px 0\"><div style=\"position:relative;zoom:1\"><input autocomplete=\"off\" class=\"lst tiah\" maxlength=\"2048\" name=\"q\" size=\"57\" style=\"margin:0;padding:5px 8px 0 6px;vertical-align:top;color:#000;padding-right:38px\" title=\"Google 검색\" value=\"\"/><img alt=\"\" data-script-url=\"/textinputassistant/11/ko_tia.js\" height=\"23\" id=\"tsuid1\" src=\"/textinputassistant/tia.png\" style=\"position:absolute;cursor:pointer;right:5px;top:4px;z-index:300\" width=\"27\"/><script nonce=\"zQ6+sFs3keAf9puIfUaPcw==\">(function(){var id='tsuid1';document.getElementById(id).onclick = function(){var s = document.createElement('script');s.src = this.getAttribute('data-script-url');(document.getElementById('xjsc')||document.body).appendChild(s);};})();</script></div></div><br style=\"line-height:0\"/><span class=\"ds\"><span class=\"lsbb\"><input class=\"lsb\" name=\"btnG\" type=\"submit\" value=\"Google 검색\"/></span></span><span class=\"ds\"><span class=\"lsbb\"><input class=\"lsb\" id=\"tsuid2\" name=\"btnI\" type=\"submit\" value=\"I’m Feeling Lucky\"/><script nonce=\"zQ6+sFs3keAf9puIfUaPcw==\">(function(){var id='tsuid2';document.getElementById(id).onclick = function(){if (this.form.q.value){this.checked = 1;if (this.form.iflsig)this.form.iflsig.disabled = false;}\n",
       "else top.location='/doodles/';};})();</script><input name=\"iflsig\" type=\"hidden\" value=\"ALs-wAMAAAAAYVEu98SXZfzu6s70NOpf7RcX-RBywKd2\"/></span></span></td><td align=\"left\" class=\"fl sblc\" nowrap=\"\" width=\"25%\"><a href=\"/advanced_search?hl=ko&amp;authuser=0\">고급검색</a></td></tr></table><input id=\"gbv\" name=\"gbv\" type=\"hidden\" value=\"1\"/><script nonce=\"zQ6+sFs3keAf9puIfUaPcw==\">(function(){\n",
       "var a,b=\"1\";if(document&&document.getElementById)if(\"undefined\"!=typeof XMLHttpRequest)b=\"2\";else if(\"undefined\"!=typeof ActiveXObject){var c,d,e=[\"MSXML2.XMLHTTP.6.0\",\"MSXML2.XMLHTTP.3.0\",\"MSXML2.XMLHTTP\",\"Microsoft.XMLHTTP\"];for(c=0;d=e[c++];)try{new ActiveXObject(d),b=\"2\"}catch(h){}}a=b;if(\"2\"==a&&-1==location.search.indexOf(\"&gbv=2\")){var f=google.gbvu,g=document.getElementById(\"gbv\");g&&(g.value=a);f&&window.setTimeout(function(){location.href=f},0)};}).call(this);</script></form><div id=\"gac_scont\"></div><div style=\"font-size:83%;min-height:3.5em\"><br/></div><span id=\"footer\"><div style=\"font-size:10pt\"><div id=\"WqQANb\" style=\"margin:19px auto;text-align:center\"><a href=\"/intl/ko/ads/\">광고 프로그램</a><a href=\"http://www.google.co.kr/intl/ko/services/\">비즈니스 솔루션</a><a href=\"/intl/ko/about.html\">Google 정보</a><a href=\"http://www.google.com/setprefdomain?prefdom=KR&amp;prev=http://www.google.co.kr/&amp;sig=K_4EI3jAR89pAGkKND6HvLol07HBg%3D\">Google.co.kr</a></div></div><p style=\"font-size:8pt;color:#70757a\">© 2021 - <a href=\"/intl/ko/policies/privacy/\">개인정보처리방침</a> - <a href=\"/intl/ko/policies/terms/\">약관</a></p></span></center><script nonce=\"zQ6+sFs3keAf9puIfUaPcw==\">(function(){window.google.cdo={height:757,width:1440};(function(){\n",
       "var a=window.innerWidth,b=window.innerHeight;if(!a||!b){var c=window.document,d=\"CSS1Compat\"==c.compatMode?c.documentElement:c.body;a=d.clientWidth;b=d.clientHeight}a&&b&&(a!=google.cdo.width||b!=google.cdo.height)&&google.log(\"\",\"\",\"/client_204?&atyp=i&biw=\"+a+\"&bih=\"+b+\"&ei=\"+google.kEI);}).call(this);})();</script> <script nonce=\"zQ6+sFs3keAf9puIfUaPcw==\">(function(){google.xjs={ck:'',cs:'',excm:[]};})();</script> <script nonce=\"zQ6+sFs3keAf9puIfUaPcw==\">(function(){var u='/xjs/_/js/k=xjs.hp.en.3-3KfVctVSg.O/am=APgEWA/d=1/ed=1/rs=ACT90oFYtpgGNdnD55sATsmsQTnqOWDvYw/m=sb_he,d';\n",
       "var e=this||self,f=function(a){return a};var g;var l=function(a,b){this.g=b===h?a:\"\"};l.prototype.toString=function(){return this.g+\"\"};var h={};\n",
       "function m(){var a=u;google.lx=function(){n(a);google.lx=function(){}};google.bx||google.lx()}\n",
       "function n(a){google.timers&&google.timers.load&&google.tick&&google.tick(\"load\",\"xjsls\");var b=document;var c=\"SCRIPT\";\"application/xhtml+xml\"===b.contentType&&(c=c.toLowerCase());c=b.createElement(c);if(void 0===g){b=null;var k=e.trustedTypes;if(k&&k.createPolicy){try{b=k.createPolicy(\"goog#html\",{createHTML:f,createScript:f,createScriptURL:f})}catch(p){e.console&&e.console.error(p.message)}g=b}else g=b}a=(b=g)?b.createScriptURL(a):a;a=new l(a,h);c.src=a instanceof l&&a.constructor===l?a.g:\"type_error:TrustedResourceUrl\";var d;a=(c.ownerDocument&&c.ownerDocument.defaultView||window).document;(d=(b=null===(d=a.querySelector)||void 0===d?void 0:d.call(a,\"script[nonce]\"))?b.nonce||b.getAttribute(\"nonce\")||\"\":\"\")&&c.setAttribute(\"nonce\",d);document.body.appendChild(c);google.psa=!0};setTimeout(function(){m()},0);})();(function(){window.google.xjsu='/xjs/_/js/k=xjs.hp.en.3-3KfVctVSg.O/am=APgEWA/d=1/ed=1/rs=ACT90oFYtpgGNdnD55sATsmsQTnqOWDvYw/m=sb_he,d';})();function _DumpException(e){throw e;}\n",
       "function _F_installCss(c){}\n",
       "(function(){google.jl={attn:false,blt:'none',chnk:0,dw:false,dwu:false,emtn:0,end:0,ine:false,lls:'default',pdt:0,rep:0,snet:true,strt:0,ubm:false,uwp:true};})();(function(){var pmc='{\"d\":{},\"sb_he\":{\"agen\":true,\"cgen\":true,\"client\":\"heirloom-hp\",\"dh\":true,\"dhqt\":true,\"ds\":\"\",\"ffql\":\"ko\",\"fl\":true,\"host\":\"google.com\",\"isbh\":28,\"jsonp\":true,\"msgs\":{\"cibl\":\"&#44160;&#49353;&#50612; &#51648;&#50864;&#44592;\",\"dym\":\"&#51060;&#44163;&#51012; &#52286;&#51004;&#49512;&#45208;&#50836;?\",\"lcky\":\"I&#8217;m Feeling Lucky\",\"lml\":\"&#51088;&#49464;&#55176; &#50508;&#50500;&#48372;&#44592;\",\"oskt\":\"&#51077;&#47141; &#46020;&#44396;\",\"psrc\":\"&#44160;&#49353;&#50612;&#44032; \\u003Ca href=\\\"/history\\\"\\u003E&#50937; &#44592;&#47197;\\u003C/a\\u003E&#50640;&#49436; &#49325;&#51228;&#46104;&#50632;&#49845;&#45768;&#45796;.\",\"psrl\":\"&#49325;&#51228;\",\"sbit\":\"&#51060;&#48120;&#51648;&#47196; &#44160;&#49353;\",\"srch\":\"Google &#44160;&#49353;\"},\"ovr\":{},\"pq\":\"\",\"refpd\":true,\"refspre\":true,\"rfs\":[],\"sbas\":\"0 3px 8px 0 rgba(0,0,0,0.2),0 0 0 1px rgba(0,0,0,0.08)\",\"sbpl\":16,\"sbpr\":16,\"scd\":10,\"stok\":\"dEQ2Aylix5272EUCGPPv9jNRWVM\",\"uhde\":false}}';google.pmc=JSON.parse(pmc);})();</script> </body></html>"
      ]
     },
     "execution_count": 1,
     "metadata": {},
     "output_type": "execute_result"
    }
   ],
   "source": [
    "from bs4 import BeautifulSoup\n",
    "\n",
    "html = \"\"\"\n",
    "<!doctype html><html itemscope=\"\" itemtype=\"http://schema.org/WebPage\" lang=\"ko\"><head><meta content=\"text/html; charset=UTF-8\" http-equiv=\"Content-Type\"><meta content=\"/logos/doodles/2021/googles-23rd-birthday-6753651837109087-law.gif\" itemprop=\"image\"><meta content=\"Google &#49444;&#47549; 23&#51452;&#45380;\" property=\"twitter:title\"><meta content=\"Google &#49444;&#47549; 23&#51452;&#45380; #Google&#44592;&#45392;&#51068;&#47196;&#44256;\" property=\"twitter:description\"><meta content=\"Google &#49444;&#47549; 23&#51452;&#45380; #Google&#44592;&#45392;&#51068;&#47196;&#44256;\" property=\"og:description\"><meta content=\"summary_large_image\" property=\"twitter:card\"><meta content=\"@GoogleDoodles\" property=\"twitter:site\"><meta content=\"https://www.google.com/logos/doodles/2021/googles-23rd-birthday-6753651837109087-2xa.gif\" property=\"twitter:image\"><meta content=\"https://www.google.com/logos/doodles/2021/googles-23rd-birthday-6753651837109087-2xa.gif\" property=\"og:image\"><meta content=\"735\" property=\"og:image:width\"><meta content=\"440\" property=\"og:image:height\"><meta content=\"https://www.google.com/logos/doodles/2021/googles-23rd-birthday-6753651837109087-2xa.gif\" property=\"og:url\"><meta content=\"video.other\" property=\"og:type\"><title>Google</title><script nonce=\"zQ6+sFs3keAf9puIfUaPcw==\">(function(){window.google={kEI:'5yBRYaXlKMLAhwOzu6boCw',kEXPI:'0,1302536,56873,6059,206,4804,2316,383,246,5,1354,5250,1122516,1197751,650,328866,51223,16115,28684,17572,1325,3534,1361,284,9007,3027,4746,12835,4020,978,13228,3847,4192,6430,7432,11613,2777,919,5081,1593,1279,2214,529,148,1103,840,2196,4101,3514,606,2023,1777,520,14670,3227,2845,7,4773,826,6755,5096,11625,4695,908,2,940,2615,13142,3,346,230,6459,150,12313,1661,4,1252,276,2304,1236,5803,4684,2011,6576,11802,2658,4243,2458,656,30,11412,2216,1592,713,638,1494,16786,5800,2557,992,3102,3138,6,908,3,3541,1,11373,3337,1816,281,912,5992,16728,1715,2,10554,3468,1931,3911,1678,744,5852,2050,6824,1589,1160,1269,7811,749,1970,4545,3,4046,1427,4148,487,3604,2,6,7755,1932,2636,2577,3136,539,2075,400,503,1016,3,583,794,1264,85,182,630,2249,720,2,1517,2,869,760,653,4,2935,843,173,141,28,86,78,39,197,694,559,1401,2484,540,849,1503,244,1081,745,1080,39,41,462,1117,3,374,180,2,146,1636,635,323,729,370,1,301,227,754,798,4,191,1359,3304,3,2,275,88,9,677,13,34,2,213,133,274,484,550,1073,928,590,5564502,3904,99,347,72,88,45,1802684,95,4193884,2799374,1323,882,444,1,2,80,1,1797,2,7,2553,1,748,141,801,557,1,4265,1,1,2,1331,4142,2609,155,17,13,72,139,4,2,20,2,169,13,19,46,5,39,96,548,29,2,2,1,2,1,2,2,7,4,1,2,2,2,2,2,2,353,513,186,1,1,158,3,2,2,2,2,2,4,2,3,3,269,461,2,45,3,40,14,3,11,9,14,28,10,33,3,3,2,12,2,35,1,2,5,2,1,41,1,1,1,1,13,23953923,4041352,276,62,3,2414,448,2,1041,9,3239,678,858,883,636,221,775,806353',kBL:'lszj'};google.sn='webhp';google.kHL='ko';})();(function(){\n",
    "var f=this||self;var h,k=[];function l(a){for(var b;a&&(!a.getAttribute||!(b=a.getAttribute(\"eid\")));)a=a.parentNode;return b||h}function m(a){for(var b=null;a&&(!a.getAttribute||!(b=a.getAttribute(\"leid\")));)a=a.parentNode;return b}\n",
    "function n(a,b,c,d,g){var e=\"\";c||-1!==b.search(\"&ei=\")||(e=\"&ei=\"+l(d),-1===b.search(\"&lei=\")&&(d=m(d))&&(e+=\"&lei=\"+d));d=\"\";!c&&f._cshid&&-1===b.search(\"&cshid=\")&&\"slh\"!==a&&(d=\"&cshid=\"+f._cshid);c=c||\"/\"+(g||\"gen_204\")+\"?atyp=i&ct=\"+a+\"&cad=\"+b+e+\"&zx=\"+Date.now()+d;/^http:/i.test(c)&&\"https:\"===window.location.protocol&&(google.ml&&google.ml(Error(\"a\"),!1,{src:c,glmm:1}),c=\"\");return c};h=google.kEI;google.getEI=l;google.getLEI=m;google.ml=function(){return null};google.log=function(a,b,c,d,g){if(c=n(a,b,c,d,g)){a=new Image;var e=k.length;k[e]=a;a.onerror=a.onload=a.onabort=function(){delete k[e]};a.src=c}};google.logUrl=n;}).call(this);(function(){\n",
    "google.y={};google.sy=[];google.x=function(a,b){if(a)var c=a.id;else{do c=Math.random();while(google.y[c])}google.y[c]=[a,b];return!1};google.sx=function(a){google.sy.push(a)};google.lm=[];google.plm=function(a){google.lm.push.apply(google.lm,a)};google.lq=[];google.load=function(a,b,c){google.lq.push([[a],b,c])};google.loadAll=function(a,b){google.lq.push([a,b])};google.bx=!1;google.lx=function(){};}).call(this);google.f={};(function(){\n",
    "document.documentElement.addEventListener(\"submit\",function(b){var a;if(a=b.target){var c=a.getAttribute(\"data-submitfalse\");a=\"1\"===c||\"q\"===c&&!a.elements.q.value?!0:!1}else a=!1;a&&(b.preventDefault(),b.stopPropagation())},!0);document.documentElement.addEventListener(\"click\",function(b){var a;a:{for(a=b.target;a&&a!==document.documentElement;a=a.parentElement)if(\"A\"===a.tagName){a=\"1\"===a.getAttribute(\"data-nohref\");break a}a=!1}a&&b.preventDefault()},!0);}).call(this);</script><style>#gbar,#guser{font-size:13px;padding-top:1px !important;}#gbar{height:22px}#guser{padding-bottom:7px !important;text-align:right}.gbh,.gbd{border-top:1px solid #c9d7f1;font-size:1px}.gbh{height:0;position:absolute;top:24px;width:100%}@media all{.gb1{height:22px;margin-right:.5em;vertical-align:top}#gbar{float:left}}a.gb1,a.gb4{text-decoration:underline !important}a.gb1,a.gb4{color:#00c !important}.gbi .gb4{color:#dd8e27 !important}.gbf .gb4{color:#900 !important}\n",
    "</style><style>body,td,a,p,.h{font-family:&#44404;&#47548;,&#46027;&#50880;,arial,sans-serif}.ko{font-size:9pt}body{margin:0;overflow-y:scroll}#gog{padding:3px 8px 0}td{line-height:.8em}.gac_m td{line-height:17px}form{margin-bottom:20px}.h{color:#1558d6}em{font-weight:bold;font-style:normal}.lst{height:25px;width:496px}.gsfi,.lst{font:18px arial,sans-serif}.gsfs{font:17px arial,sans-serif}.ds{display:inline-box;display:inline-block;margin:3px 0 4px;margin-left:4px}input{font-family:inherit}body{background:#fff;color:#000}a{color:#4b11a8;text-decoration:none}a:hover,a:active{text-decoration:underline}.fl a{color:#1558d6}a:visited{color:#4b11a8}.sblc{padding-top:5px}.sblc a{display:block;margin:2px 0;margin-left:13px;font-size:11px}.lsbb{background:#f8f9fa;border:solid 1px;border-color:#dadce0 #70757a #70757a #dadce0;height:30px}.lsbb{display:block}#WqQANb a{display:inline-block;margin:0 12px}.lsb{background:url(/images/nav_logo229.png) 0 -261px repeat-x;border:none;color:#000;cursor:pointer;height:30px;margin:0;outline:0;font:15px arial,sans-serif;vertical-align:top}.lsb:active{background:#dadce0}.lst:focus{outline:none}.tiah{width:458px}</style><script nonce=\"zQ6+sFs3keAf9puIfUaPcw==\">(function(){window.google.erd={sp:'hp',jsr:0,bv:46};\n",
    "var f=this||self;var g,h,k=null!==(g=f.mei)&&void 0!==g?g:1,l=null!==(h=f.sdo)&&void 0!==h?h:!0,n=0,p,q=google.erd,t=q.jsr;google.ml=function(a,b,e,m,d){d=void 0===d?2:d;b&&(p=a&&a.message);if(google.dl)return google.dl(a,d,e),null;if(0>t){window.console&&console.error(a,e);if(-2===t)throw a;b=!1}else b=!a||!a.message||\"Error loading script\"===a.message||n>=k&&!m?!1:!0;if(!b)return null;n++;e=e||{};b=encodeURIComponent;var c=\"/gen_204?atyp=i&ei=\"+b(google.kEI);google.kEXPI&&(c+=\"&jexpid=\"+b(google.kEXPI));c+=\"&srcpg=\"+b(q.sp)+\"&jsr=\"+b(q.jsr)+\"&bver=\"+b(q.bv)+(\"&jsel=\"+d);c+=\"&sn=\"+b(google.sn);for(var r in e)c+=\"&\",c+=b(r),c+=\"=\",c+=b(e[r]);c=c+\"&emsg=\"+b(a.name+\": \"+a.message);c=c+\"&jsst=\"+b(a.stack||\"N/A\");12288<=c.length&&(c=c.substr(0,12288));a=c;m||google.log(0,\"\",a);return a};window.onerror=function(a,b,e,m,d){p!==a&&google.ml(d instanceof Error?d:Error(a),!1,void 0,!1,google.dl?0:2);p=null;l&&n>=k&&(window.onerror=null)};})();</script></head><body bgcolor=\"#fff\"><script nonce=\"zQ6+sFs3keAf9puIfUaPcw==\">(function(){var src='/images/nav_logo229.png';var iesg=false;document.body.onload = function(){window.n && window.n();if (document.images){new Image().src=src;}\n",
    "if (!iesg){document.f&&document.f.q.focus();document.gbqf&&document.gbqf.q.focus();}\n",
    "}\n",
    "})();</script><div id=\"mngb\"><div id=gbar><nobr><b class=gb1>&#44160;&#49353;</b> <a class=gb1 href=\"http://www.google.co.kr/imghp?hl=ko&tab=wi\">&#51060;&#48120;&#51648;</a> <a class=gb1 href=\"http://maps.google.co.kr/maps?hl=ko&tab=wl\">&#51648;&#46020;</a> <a class=gb1 href=\"https://play.google.com/?hl=ko&tab=w8\">Play</a> <a class=gb1 href=\"http://www.youtube.com/?gl=KR&tab=w1\">YouTube</a> <a class=gb1 href=\"https://news.google.com/?tab=wn\">&#45684;&#49828;</a> <a class=gb1 href=\"https://mail.google.com/mail/?tab=wm\">Gmail</a> <a class=gb1 href=\"https://drive.google.com/?tab=wo\">&#46300;&#46972;&#51060;&#48652;</a> <a class=gb1 style=\"text-decoration:none\" href=\"https://www.google.co.kr/intl/ko/about/products?tab=wh\"><u>&#45908;&#48372;&#44592;</u> &raquo;</a></nobr></div><div id=guser width=100%><nobr><span id=gbn class=gbi></span><span id=gbf class=gbf></span><span id=gbe></span><a href=\"http://www.google.co.kr/history/optout?hl=ko\" class=gb4>&#50937; &#44592;&#47197;</a> | <a  href=\"/preferences?hl=ko\" class=gb4>&#49444;&#51221;</a> | <a target=_top id=gb_70 href=\"https://accounts.google.com/ServiceLogin?hl=ko&passive=true&continue=http://www.google.com/&ec=GAZAAQ\" class=gb4>&#47196;&#44536;&#51064;</a></nobr></div><div class=gbh style=left:0></div><div class=gbh style=right:0></div></div><center><br clear=\"all\" id=\"lgpd\"><div id=\"lga\"><a href=\"/search?ie=UTF-8&amp;q=Google+&amp;oi=ddle&amp;ct=174788361&amp;hl=ko&amp;si=AHuW2sTKkcygiABA_QY_APML0LA-zLeY72p7cWUnG9AtyAalP7HHY3dFtSWBqk8puNCUm6BnkheVtoD5vs0xVFaZgHy4zOVkJ0E9Wa5_cYARMoqWTiHqoWQ%3D&amp;sa=X&amp;ved=0ahUKEwjl9Nvigp7zAhVC4GEKHbOdCb0QPQgD\"><img alt=\"Google &#49444;&#47549; 23&#51452;&#45380;\" border=\"0\" height=\"210\" src=\"/logos/doodles/2021/googles-23rd-birthday-6753651837109087-law.gif\" title=\"Google &#49444;&#47549; 23&#51452;&#45380;\" width=\"369\" id=\"hplogo\"><br></a><br></div><form action=\"/search\" name=\"f\"><table cellpadding=\"0\" cellspacing=\"0\"><tr valign=\"top\"><td width=\"25%\">&nbsp;</td><td align=\"center\" nowrap=\"\"><input name=\"ie\" value=\"ISO-8859-1\" type=\"hidden\"><input value=\"ko\" name=\"hl\" type=\"hidden\"><input name=\"source\" type=\"hidden\" value=\"hp\"><input name=\"biw\" type=\"hidden\"><input name=\"bih\" type=\"hidden\"><div class=\"ds\" style=\"height:32px;margin:4px 0\"><div style=\"position:relative;zoom:1\"><input class=\"lst tiah\" style=\"margin:0;padding:5px 8px 0 6px;vertical-align:top;color:#000;padding-right:38px\" autocomplete=\"off\" value=\"\" title=\"Google &#44160;&#49353;\" maxlength=\"2048\" name=\"q\" size=\"57\"><img src=\"/textinputassistant/tia.png\" style=\"position:absolute;cursor:pointer;right:5px;top:4px;z-index:300\" data-script-url=\"/textinputassistant/11/ko_tia.js\" id=\"tsuid1\" alt=\"\" height=\"23\" width=\"27\"><script nonce=\"zQ6+sFs3keAf9puIfUaPcw==\">(function(){var id='tsuid1';document.getElementById(id).onclick = function(){var s = document.createElement('script');s.src = this.getAttribute('data-script-url');(document.getElementById('xjsc')||document.body).appendChild(s);};})();</script></div></div><br style=\"line-height:0\"><span class=\"ds\"><span class=\"lsbb\"><input class=\"lsb\" value=\"Google &#44160;&#49353;\" name=\"btnG\" type=\"submit\"></span></span><span class=\"ds\"><span class=\"lsbb\"><input class=\"lsb\" id=\"tsuid2\" value=\"I&#8217;m Feeling Lucky\" name=\"btnI\" type=\"submit\"><script nonce=\"zQ6+sFs3keAf9puIfUaPcw==\">(function(){var id='tsuid2';document.getElementById(id).onclick = function(){if (this.form.q.value){this.checked = 1;if (this.form.iflsig)this.form.iflsig.disabled = false;}\n",
    "else top.location='/doodles/';};})();</script><input value=\"ALs-wAMAAAAAYVEu98SXZfzu6s70NOpf7RcX-RBywKd2\" name=\"iflsig\" type=\"hidden\"></span></span></td><td class=\"fl sblc\" align=\"left\" nowrap=\"\" width=\"25%\"><a href=\"/advanced_search?hl=ko&amp;authuser=0\">&#44256;&#44553;&#44160;&#49353;</a></td></tr></table><input id=\"gbv\" name=\"gbv\" type=\"hidden\" value=\"1\"><script nonce=\"zQ6+sFs3keAf9puIfUaPcw==\">(function(){\n",
    "var a,b=\"1\";if(document&&document.getElementById)if(\"undefined\"!=typeof XMLHttpRequest)b=\"2\";else if(\"undefined\"!=typeof ActiveXObject){var c,d,e=[\"MSXML2.XMLHTTP.6.0\",\"MSXML2.XMLHTTP.3.0\",\"MSXML2.XMLHTTP\",\"Microsoft.XMLHTTP\"];for(c=0;d=e[c++];)try{new ActiveXObject(d),b=\"2\"}catch(h){}}a=b;if(\"2\"==a&&-1==location.search.indexOf(\"&gbv=2\")){var f=google.gbvu,g=document.getElementById(\"gbv\");g&&(g.value=a);f&&window.setTimeout(function(){location.href=f},0)};}).call(this);</script></form><div id=\"gac_scont\"></div><div style=\"font-size:83%;min-height:3.5em\"><br></div><span id=\"footer\"><div style=\"font-size:10pt\"><div style=\"margin:19px auto;text-align:center\" id=\"WqQANb\"><a href=\"/intl/ko/ads/\">&#44305;&#44256; &#54532;&#47196;&#44536;&#47016;</a><a href=\"http://www.google.co.kr/intl/ko/services/\">&#48708;&#51592;&#45768;&#49828; &#49556;&#47336;&#49496;</a><a href=\"/intl/ko/about.html\">Google &#51221;&#48372;</a><a href=\"http://www.google.com/setprefdomain?prefdom=KR&amp;prev=http://www.google.co.kr/&amp;sig=K_4EI3jAR89pAGkKND6HvLol07HBg%3D\">Google.co.kr</a></div></div><p style=\"font-size:8pt;color:#70757a\">&copy; 2021 - <a href=\"/intl/ko/policies/privacy/\">&#44060;&#51064;&#51221;&#48372;&#52376;&#47532;&#48169;&#52840;</a> - <a href=\"/intl/ko/policies/terms/\">&#50557;&#44288;</a></p></span></center><script nonce=\"zQ6+sFs3keAf9puIfUaPcw==\">(function(){window.google.cdo={height:757,width:1440};(function(){\n",
    "var a=window.innerWidth,b=window.innerHeight;if(!a||!b){var c=window.document,d=\"CSS1Compat\"==c.compatMode?c.documentElement:c.body;a=d.clientWidth;b=d.clientHeight}a&&b&&(a!=google.cdo.width||b!=google.cdo.height)&&google.log(\"\",\"\",\"/client_204?&atyp=i&biw=\"+a+\"&bih=\"+b+\"&ei=\"+google.kEI);}).call(this);})();</script> <script nonce=\"zQ6+sFs3keAf9puIfUaPcw==\">(function(){google.xjs={ck:'',cs:'',excm:[]};})();</script>  <script nonce=\"zQ6+sFs3keAf9puIfUaPcw==\">(function(){var u='/xjs/_/js/k\\x3dxjs.hp.en.3-3KfVctVSg.O/am\\x3dAPgEWA/d\\x3d1/ed\\x3d1/rs\\x3dACT90oFYtpgGNdnD55sATsmsQTnqOWDvYw/m\\x3dsb_he,d';\n",
    "var e=this||self,f=function(a){return a};var g;var l=function(a,b){this.g=b===h?a:\"\"};l.prototype.toString=function(){return this.g+\"\"};var h={};\n",
    "function m(){var a=u;google.lx=function(){n(a);google.lx=function(){}};google.bx||google.lx()}\n",
    "function n(a){google.timers&&google.timers.load&&google.tick&&google.tick(\"load\",\"xjsls\");var b=document;var c=\"SCRIPT\";\"application/xhtml+xml\"===b.contentType&&(c=c.toLowerCase());c=b.createElement(c);if(void 0===g){b=null;var k=e.trustedTypes;if(k&&k.createPolicy){try{b=k.createPolicy(\"goog#html\",{createHTML:f,createScript:f,createScriptURL:f})}catch(p){e.console&&e.console.error(p.message)}g=b}else g=b}a=(b=g)?b.createScriptURL(a):a;a=new l(a,h);c.src=a instanceof l&&a.constructor===l?a.g:\"type_error:TrustedResourceUrl\";var d;a=(c.ownerDocument&&c.ownerDocument.defaultView||window).document;(d=(b=null===(d=a.querySelector)||void 0===d?void 0:d.call(a,\"script[nonce]\"))?b.nonce||b.getAttribute(\"nonce\")||\"\":\"\")&&c.setAttribute(\"nonce\",d);document.body.appendChild(c);google.psa=!0};setTimeout(function(){m()},0);})();(function(){window.google.xjsu='/xjs/_/js/k\\x3dxjs.hp.en.3-3KfVctVSg.O/am\\x3dAPgEWA/d\\x3d1/ed\\x3d1/rs\\x3dACT90oFYtpgGNdnD55sATsmsQTnqOWDvYw/m\\x3dsb_he,d';})();function _DumpException(e){throw e;}\n",
    "function _F_installCss(c){}\n",
    "(function(){google.jl={attn:false,blt:'none',chnk:0,dw:false,dwu:false,emtn:0,end:0,ine:false,lls:'default',pdt:0,rep:0,snet:true,strt:0,ubm:false,uwp:true};})();(function(){var pmc='{\\x22d\\x22:{},\\x22sb_he\\x22:{\\x22agen\\x22:true,\\x22cgen\\x22:true,\\x22client\\x22:\\x22heirloom-hp\\x22,\\x22dh\\x22:true,\\x22dhqt\\x22:true,\\x22ds\\x22:\\x22\\x22,\\x22ffql\\x22:\\x22ko\\x22,\\x22fl\\x22:true,\\x22host\\x22:\\x22google.com\\x22,\\x22isbh\\x22:28,\\x22jsonp\\x22:true,\\x22msgs\\x22:{\\x22cibl\\x22:\\x22&#44160;&#49353;&#50612; &#51648;&#50864;&#44592;\\x22,\\x22dym\\x22:\\x22&#51060;&#44163;&#51012; &#52286;&#51004;&#49512;&#45208;&#50836;?\\x22,\\x22lcky\\x22:\\x22I&#8217;m Feeling Lucky\\x22,\\x22lml\\x22:\\x22&#51088;&#49464;&#55176; &#50508;&#50500;&#48372;&#44592;\\x22,\\x22oskt\\x22:\\x22&#51077;&#47141; &#46020;&#44396;\\x22,\\x22psrc\\x22:\\x22&#44160;&#49353;&#50612;&#44032; \\\\u003Ca href\\x3d\\\\\\x22/history\\\\\\x22\\\\u003E&#50937; &#44592;&#47197;\\\\u003C/a\\\\u003E&#50640;&#49436; &#49325;&#51228;&#46104;&#50632;&#49845;&#45768;&#45796;.\\x22,\\x22psrl\\x22:\\x22&#49325;&#51228;\\x22,\\x22sbit\\x22:\\x22&#51060;&#48120;&#51648;&#47196; &#44160;&#49353;\\x22,\\x22srch\\x22:\\x22Google &#44160;&#49353;\\x22},\\x22ovr\\x22:{},\\x22pq\\x22:\\x22\\x22,\\x22refpd\\x22:true,\\x22refspre\\x22:true,\\x22rfs\\x22:[],\\x22sbas\\x22:\\x220 3px 8px 0 rgba(0,0,0,0.2),0 0 0 1px rgba(0,0,0,0.08)\\x22,\\x22sbpl\\x22:16,\\x22sbpr\\x22:16,\\x22scd\\x22:10,\\x22stok\\x22:\\x22dEQ2Aylix5272EUCGPPv9jNRWVM\\x22,\\x22uhde\\x22:false}}';google.pmc=JSON.parse(pmc);})();</script>        </body></html>\n",
    "\"\"\"\n",
    "soup = BeautifulSoup(html, 'lxml')\n",
    "soup"
   ]
  },
  {
   "cell_type": "code",
   "execution_count": 2,
   "id": "83269e8e",
   "metadata": {},
   "outputs": [
    {
     "data": {
      "text/plain": [
       "bs4.BeautifulSoup"
      ]
     },
     "execution_count": 2,
     "metadata": {},
     "output_type": "execute_result"
    }
   ],
   "source": [
    "type(soup)"
   ]
  },
  {
   "cell_type": "code",
   "execution_count": 3,
   "id": "a316e959",
   "metadata": {},
   "outputs": [
    {
     "name": "stdout",
     "output_type": "stream",
     "text": [
      "<!DOCTYPE html>\n",
      "<html itemscope=\"\" itemtype=\"http://schema.org/WebPage\" lang=\"ko\">\n",
      " <head>\n",
      "  <meta content=\"text/html; charset=utf-8\" http-equiv=\"Content-Type\"/>\n",
      "  <meta content=\"/logos/doodles/2021/googles-23rd-birthday-6753651837109087-law.gif\" itemprop=\"image\"/>\n",
      "  <meta content=\"Google 설립 23주년\" property=\"twitter:title\"/>\n",
      "  <meta content=\"Google 설립 23주년 #Google기념일로고\" property=\"twitter:description\"/>\n",
      "  <meta content=\"Google 설립 23주년 #Google기념일로고\" property=\"og:description\"/>\n",
      "  <meta content=\"summary_large_image\" property=\"twitter:card\"/>\n",
      "  <meta content=\"@GoogleDoodles\" property=\"twitter:site\"/>\n",
      "  <meta content=\"https://www.google.com/logos/doodles/2021/googles-23rd-birthday-6753651837109087-2xa.gif\" property=\"twitter:image\"/>\n",
      "  <meta content=\"https://www.google.com/logos/doodles/2021/googles-23rd-birthday-6753651837109087-2xa.gif\" property=\"og:image\"/>\n",
      "  <meta content=\"735\" property=\"og:image:width\"/>\n",
      "  <meta content=\"440\" property=\"og:image:height\"/>\n",
      "  <meta content=\"https://www.google.com/logos/doodles/2021/googles-23rd-birthday-6753651837109087-2xa.gif\" property=\"og:url\"/>\n",
      "  <meta content=\"video.other\" property=\"og:type\"/>\n",
      "  <title>\n",
      "   Google\n",
      "  </title>\n",
      "  <script nonce=\"zQ6+sFs3keAf9puIfUaPcw==\">\n",
      "   (function(){window.google={kEI:'5yBRYaXlKMLAhwOzu6boCw',kEXPI:'0,1302536,56873,6059,206,4804,2316,383,246,5,1354,5250,1122516,1197751,650,328866,51223,16115,28684,17572,1325,3534,1361,284,9007,3027,4746,12835,4020,978,13228,3847,4192,6430,7432,11613,2777,919,5081,1593,1279,2214,529,148,1103,840,2196,4101,3514,606,2023,1777,520,14670,3227,2845,7,4773,826,6755,5096,11625,4695,908,2,940,2615,13142,3,346,230,6459,150,12313,1661,4,1252,276,2304,1236,5803,4684,2011,6576,11802,2658,4243,2458,656,30,11412,2216,1592,713,638,1494,16786,5800,2557,992,3102,3138,6,908,3,3541,1,11373,3337,1816,281,912,5992,16728,1715,2,10554,3468,1931,3911,1678,744,5852,2050,6824,1589,1160,1269,7811,749,1970,4545,3,4046,1427,4148,487,3604,2,6,7755,1932,2636,2577,3136,539,2075,400,503,1016,3,583,794,1264,85,182,630,2249,720,2,1517,2,869,760,653,4,2935,843,173,141,28,86,78,39,197,694,559,1401,2484,540,849,1503,244,1081,745,1080,39,41,462,1117,3,374,180,2,146,1636,635,323,729,370,1,301,227,754,798,4,191,1359,3304,3,2,275,88,9,677,13,34,2,213,133,274,484,550,1073,928,590,5564502,3904,99,347,72,88,45,1802684,95,4193884,2799374,1323,882,444,1,2,80,1,1797,2,7,2553,1,748,141,801,557,1,4265,1,1,2,1331,4142,2609,155,17,13,72,139,4,2,20,2,169,13,19,46,5,39,96,548,29,2,2,1,2,1,2,2,7,4,1,2,2,2,2,2,2,353,513,186,1,1,158,3,2,2,2,2,2,4,2,3,3,269,461,2,45,3,40,14,3,11,9,14,28,10,33,3,3,2,12,2,35,1,2,5,2,1,41,1,1,1,1,13,23953923,4041352,276,62,3,2414,448,2,1041,9,3239,678,858,883,636,221,775,806353',kBL:'lszj'};google.sn='webhp';google.kHL='ko';})();(function(){\n",
      "var f=this||self;var h,k=[];function l(a){for(var b;a&&(!a.getAttribute||!(b=a.getAttribute(\"eid\")));)a=a.parentNode;return b||h}function m(a){for(var b=null;a&&(!a.getAttribute||!(b=a.getAttribute(\"leid\")));)a=a.parentNode;return b}\n",
      "function n(a,b,c,d,g){var e=\"\";c||-1!==b.search(\"&ei=\")||(e=\"&ei=\"+l(d),-1===b.search(\"&lei=\")&&(d=m(d))&&(e+=\"&lei=\"+d));d=\"\";!c&&f._cshid&&-1===b.search(\"&cshid=\")&&\"slh\"!==a&&(d=\"&cshid=\"+f._cshid);c=c||\"/\"+(g||\"gen_204\")+\"?atyp=i&ct=\"+a+\"&cad=\"+b+e+\"&zx=\"+Date.now()+d;/^http:/i.test(c)&&\"https:\"===window.location.protocol&&(google.ml&&google.ml(Error(\"a\"),!1,{src:c,glmm:1}),c=\"\");return c};h=google.kEI;google.getEI=l;google.getLEI=m;google.ml=function(){return null};google.log=function(a,b,c,d,g){if(c=n(a,b,c,d,g)){a=new Image;var e=k.length;k[e]=a;a.onerror=a.onload=a.onabort=function(){delete k[e]};a.src=c}};google.logUrl=n;}).call(this);(function(){\n",
      "google.y={};google.sy=[];google.x=function(a,b){if(a)var c=a.id;else{do c=Math.random();while(google.y[c])}google.y[c]=[a,b];return!1};google.sx=function(a){google.sy.push(a)};google.lm=[];google.plm=function(a){google.lm.push.apply(google.lm,a)};google.lq=[];google.load=function(a,b,c){google.lq.push([[a],b,c])};google.loadAll=function(a,b){google.lq.push([a,b])};google.bx=!1;google.lx=function(){};}).call(this);google.f={};(function(){\n",
      "document.documentElement.addEventListener(\"submit\",function(b){var a;if(a=b.target){var c=a.getAttribute(\"data-submitfalse\");a=\"1\"===c||\"q\"===c&&!a.elements.q.value?!0:!1}else a=!1;a&&(b.preventDefault(),b.stopPropagation())},!0);document.documentElement.addEventListener(\"click\",function(b){var a;a:{for(a=b.target;a&&a!==document.documentElement;a=a.parentElement)if(\"A\"===a.tagName){a=\"1\"===a.getAttribute(\"data-nohref\");break a}a=!1}a&&b.preventDefault()},!0);}).call(this);\n",
      "  </script>\n",
      "  <style>\n",
      "   #gbar,#guser{font-size:13px;padding-top:1px !important;}#gbar{height:22px}#guser{padding-bottom:7px !important;text-align:right}.gbh,.gbd{border-top:1px solid #c9d7f1;font-size:1px}.gbh{height:0;position:absolute;top:24px;width:100%}@media all{.gb1{height:22px;margin-right:.5em;vertical-align:top}#gbar{float:left}}a.gb1,a.gb4{text-decoration:underline !important}a.gb1,a.gb4{color:#00c !important}.gbi .gb4{color:#dd8e27 !important}.gbf .gb4{color:#900 !important}\n",
      "  </style>\n",
      "  <style>\n",
      "   body,td,a,p,.h{font-family:&#44404;&#47548;,&#46027;&#50880;,arial,sans-serif}.ko{font-size:9pt}body{margin:0;overflow-y:scroll}#gog{padding:3px 8px 0}td{line-height:.8em}.gac_m td{line-height:17px}form{margin-bottom:20px}.h{color:#1558d6}em{font-weight:bold;font-style:normal}.lst{height:25px;width:496px}.gsfi,.lst{font:18px arial,sans-serif}.gsfs{font:17px arial,sans-serif}.ds{display:inline-box;display:inline-block;margin:3px 0 4px;margin-left:4px}input{font-family:inherit}body{background:#fff;color:#000}a{color:#4b11a8;text-decoration:none}a:hover,a:active{text-decoration:underline}.fl a{color:#1558d6}a:visited{color:#4b11a8}.sblc{padding-top:5px}.sblc a{display:block;margin:2px 0;margin-left:13px;font-size:11px}.lsbb{background:#f8f9fa;border:solid 1px;border-color:#dadce0 #70757a #70757a #dadce0;height:30px}.lsbb{display:block}#WqQANb a{display:inline-block;margin:0 12px}.lsb{background:url(/images/nav_logo229.png) 0 -261px repeat-x;border:none;color:#000;cursor:pointer;height:30px;margin:0;outline:0;font:15px arial,sans-serif;vertical-align:top}.lsb:active{background:#dadce0}.lst:focus{outline:none}.tiah{width:458px}\n",
      "  </style>\n",
      "  <script nonce=\"zQ6+sFs3keAf9puIfUaPcw==\">\n",
      "   (function(){window.google.erd={sp:'hp',jsr:0,bv:46};\n",
      "var f=this||self;var g,h,k=null!==(g=f.mei)&&void 0!==g?g:1,l=null!==(h=f.sdo)&&void 0!==h?h:!0,n=0,p,q=google.erd,t=q.jsr;google.ml=function(a,b,e,m,d){d=void 0===d?2:d;b&&(p=a&&a.message);if(google.dl)return google.dl(a,d,e),null;if(0>t){window.console&&console.error(a,e);if(-2===t)throw a;b=!1}else b=!a||!a.message||\"Error loading script\"===a.message||n>=k&&!m?!1:!0;if(!b)return null;n++;e=e||{};b=encodeURIComponent;var c=\"/gen_204?atyp=i&ei=\"+b(google.kEI);google.kEXPI&&(c+=\"&jexpid=\"+b(google.kEXPI));c+=\"&srcpg=\"+b(q.sp)+\"&jsr=\"+b(q.jsr)+\"&bver=\"+b(q.bv)+(\"&jsel=\"+d);c+=\"&sn=\"+b(google.sn);for(var r in e)c+=\"&\",c+=b(r),c+=\"=\",c+=b(e[r]);c=c+\"&emsg=\"+b(a.name+\": \"+a.message);c=c+\"&jsst=\"+b(a.stack||\"N/A\");12288<=c.length&&(c=c.substr(0,12288));a=c;m||google.log(0,\"\",a);return a};window.onerror=function(a,b,e,m,d){p!==a&&google.ml(d instanceof Error?d:Error(a),!1,void 0,!1,google.dl?0:2);p=null;l&&n>=k&&(window.onerror=null)};})();\n",
      "  </script>\n",
      " </head>\n",
      " <body bgcolor=\"#fff\">\n",
      "  <script nonce=\"zQ6+sFs3keAf9puIfUaPcw==\">\n",
      "   (function(){var src='/images/nav_logo229.png';var iesg=false;document.body.onload = function(){window.n && window.n();if (document.images){new Image().src=src;}\n",
      "if (!iesg){document.f&&document.f.q.focus();document.gbqf&&document.gbqf.q.focus();}\n",
      "}\n",
      "})();\n",
      "  </script>\n",
      "  <div id=\"mngb\">\n",
      "   <div id=\"gbar\">\n",
      "    <nobr>\n",
      "     <b class=\"gb1\">\n",
      "      검색\n",
      "     </b>\n",
      "     <a class=\"gb1\" href=\"http://www.google.co.kr/imghp?hl=ko&amp;tab=wi\">\n",
      "      이미지\n",
      "     </a>\n",
      "     <a class=\"gb1\" href=\"http://maps.google.co.kr/maps?hl=ko&amp;tab=wl\">\n",
      "      지도\n",
      "     </a>\n",
      "     <a class=\"gb1\" href=\"https://play.google.com/?hl=ko&amp;tab=w8\">\n",
      "      Play\n",
      "     </a>\n",
      "     <a class=\"gb1\" href=\"http://www.youtube.com/?gl=KR&amp;tab=w1\">\n",
      "      YouTube\n",
      "     </a>\n",
      "     <a class=\"gb1\" href=\"https://news.google.com/?tab=wn\">\n",
      "      뉴스\n",
      "     </a>\n",
      "     <a class=\"gb1\" href=\"https://mail.google.com/mail/?tab=wm\">\n",
      "      Gmail\n",
      "     </a>\n",
      "     <a class=\"gb1\" href=\"https://drive.google.com/?tab=wo\">\n",
      "      드라이브\n",
      "     </a>\n",
      "     <a class=\"gb1\" href=\"https://www.google.co.kr/intl/ko/about/products?tab=wh\" style=\"text-decoration:none\">\n",
      "      <u>\n",
      "       더보기\n",
      "      </u>\n",
      "      »\n",
      "     </a>\n",
      "    </nobr>\n",
      "   </div>\n",
      "   <div id=\"guser\" width=\"100%\">\n",
      "    <nobr>\n",
      "     <span class=\"gbi\" id=\"gbn\">\n",
      "     </span>\n",
      "     <span class=\"gbf\" id=\"gbf\">\n",
      "     </span>\n",
      "     <span id=\"gbe\">\n",
      "     </span>\n",
      "     <a class=\"gb4\" href=\"http://www.google.co.kr/history/optout?hl=ko\">\n",
      "      웹 기록\n",
      "     </a>\n",
      "     |\n",
      "     <a class=\"gb4\" href=\"/preferences?hl=ko\">\n",
      "      설정\n",
      "     </a>\n",
      "     |\n",
      "     <a class=\"gb4\" href=\"https://accounts.google.com/ServiceLogin?hl=ko&amp;passive=true&amp;continue=http://www.google.com/&amp;ec=GAZAAQ\" id=\"gb_70\" target=\"_top\">\n",
      "      로그인\n",
      "     </a>\n",
      "    </nobr>\n",
      "   </div>\n",
      "   <div class=\"gbh\" style=\"left:0\">\n",
      "   </div>\n",
      "   <div class=\"gbh\" style=\"right:0\">\n",
      "   </div>\n",
      "  </div>\n",
      "  <center>\n",
      "   <br clear=\"all\" id=\"lgpd\"/>\n",
      "   <div id=\"lga\">\n",
      "    <a href=\"/search?ie=UTF-8&amp;q=Google+&amp;oi=ddle&amp;ct=174788361&amp;hl=ko&amp;si=AHuW2sTKkcygiABA_QY_APML0LA-zLeY72p7cWUnG9AtyAalP7HHY3dFtSWBqk8puNCUm6BnkheVtoD5vs0xVFaZgHy4zOVkJ0E9Wa5_cYARMoqWTiHqoWQ%3D&amp;sa=X&amp;ved=0ahUKEwjl9Nvigp7zAhVC4GEKHbOdCb0QPQgD\">\n",
      "     <img alt=\"Google 설립 23주년\" border=\"0\" height=\"210\" id=\"hplogo\" src=\"/logos/doodles/2021/googles-23rd-birthday-6753651837109087-law.gif\" title=\"Google 설립 23주년\" width=\"369\"/>\n",
      "     <br/>\n",
      "    </a>\n",
      "    <br/>\n",
      "   </div>\n",
      "   <form action=\"/search\" name=\"f\">\n",
      "    <table cellpadding=\"0\" cellspacing=\"0\">\n",
      "     <tr valign=\"top\">\n",
      "      <td width=\"25%\">\n",
      "      </td>\n",
      "      <td align=\"center\" nowrap=\"\">\n",
      "       <input name=\"ie\" type=\"hidden\" value=\"ISO-8859-1\"/>\n",
      "       <input name=\"hl\" type=\"hidden\" value=\"ko\"/>\n",
      "       <input name=\"source\" type=\"hidden\" value=\"hp\"/>\n",
      "       <input name=\"biw\" type=\"hidden\"/>\n",
      "       <input name=\"bih\" type=\"hidden\"/>\n",
      "       <div class=\"ds\" style=\"height:32px;margin:4px 0\">\n",
      "        <div style=\"position:relative;zoom:1\">\n",
      "         <input autocomplete=\"off\" class=\"lst tiah\" maxlength=\"2048\" name=\"q\" size=\"57\" style=\"margin:0;padding:5px 8px 0 6px;vertical-align:top;color:#000;padding-right:38px\" title=\"Google 검색\" value=\"\"/>\n",
      "         <img alt=\"\" data-script-url=\"/textinputassistant/11/ko_tia.js\" height=\"23\" id=\"tsuid1\" src=\"/textinputassistant/tia.png\" style=\"position:absolute;cursor:pointer;right:5px;top:4px;z-index:300\" width=\"27\"/>\n",
      "         <script nonce=\"zQ6+sFs3keAf9puIfUaPcw==\">\n",
      "          (function(){var id='tsuid1';document.getElementById(id).onclick = function(){var s = document.createElement('script');s.src = this.getAttribute('data-script-url');(document.getElementById('xjsc')||document.body).appendChild(s);};})();\n",
      "         </script>\n",
      "        </div>\n",
      "       </div>\n",
      "       <br style=\"line-height:0\"/>\n",
      "       <span class=\"ds\">\n",
      "        <span class=\"lsbb\">\n",
      "         <input class=\"lsb\" name=\"btnG\" type=\"submit\" value=\"Google 검색\"/>\n",
      "        </span>\n",
      "       </span>\n",
      "       <span class=\"ds\">\n",
      "        <span class=\"lsbb\">\n",
      "         <input class=\"lsb\" id=\"tsuid2\" name=\"btnI\" type=\"submit\" value=\"I’m Feeling Lucky\"/>\n",
      "         <script nonce=\"zQ6+sFs3keAf9puIfUaPcw==\">\n",
      "          (function(){var id='tsuid2';document.getElementById(id).onclick = function(){if (this.form.q.value){this.checked = 1;if (this.form.iflsig)this.form.iflsig.disabled = false;}\n",
      "else top.location='/doodles/';};})();\n",
      "         </script>\n",
      "         <input name=\"iflsig\" type=\"hidden\" value=\"ALs-wAMAAAAAYVEu98SXZfzu6s70NOpf7RcX-RBywKd2\"/>\n",
      "        </span>\n",
      "       </span>\n",
      "      </td>\n",
      "      <td align=\"left\" class=\"fl sblc\" nowrap=\"\" width=\"25%\">\n",
      "       <a href=\"/advanced_search?hl=ko&amp;authuser=0\">\n",
      "        고급검색\n",
      "       </a>\n",
      "      </td>\n",
      "     </tr>\n",
      "    </table>\n",
      "    <input id=\"gbv\" name=\"gbv\" type=\"hidden\" value=\"1\"/>\n",
      "    <script nonce=\"zQ6+sFs3keAf9puIfUaPcw==\">\n",
      "     (function(){\n",
      "var a,b=\"1\";if(document&&document.getElementById)if(\"undefined\"!=typeof XMLHttpRequest)b=\"2\";else if(\"undefined\"!=typeof ActiveXObject){var c,d,e=[\"MSXML2.XMLHTTP.6.0\",\"MSXML2.XMLHTTP.3.0\",\"MSXML2.XMLHTTP\",\"Microsoft.XMLHTTP\"];for(c=0;d=e[c++];)try{new ActiveXObject(d),b=\"2\"}catch(h){}}a=b;if(\"2\"==a&&-1==location.search.indexOf(\"&gbv=2\")){var f=google.gbvu,g=document.getElementById(\"gbv\");g&&(g.value=a);f&&window.setTimeout(function(){location.href=f},0)};}).call(this);\n",
      "    </script>\n",
      "   </form>\n",
      "   <div id=\"gac_scont\">\n",
      "   </div>\n",
      "   <div style=\"font-size:83%;min-height:3.5em\">\n",
      "    <br/>\n",
      "   </div>\n",
      "   <span id=\"footer\">\n",
      "    <div style=\"font-size:10pt\">\n",
      "     <div id=\"WqQANb\" style=\"margin:19px auto;text-align:center\">\n",
      "      <a href=\"/intl/ko/ads/\">\n",
      "       광고 프로그램\n",
      "      </a>\n",
      "      <a href=\"http://www.google.co.kr/intl/ko/services/\">\n",
      "       비즈니스 솔루션\n",
      "      </a>\n",
      "      <a href=\"/intl/ko/about.html\">\n",
      "       Google 정보\n",
      "      </a>\n",
      "      <a href=\"http://www.google.com/setprefdomain?prefdom=KR&amp;prev=http://www.google.co.kr/&amp;sig=K_4EI3jAR89pAGkKND6HvLol07HBg%3D\">\n",
      "       Google.co.kr\n",
      "      </a>\n",
      "     </div>\n",
      "    </div>\n",
      "    <p style=\"font-size:8pt;color:#70757a\">\n",
      "     © 2021 -\n",
      "     <a href=\"/intl/ko/policies/privacy/\">\n",
      "      개인정보처리방침\n",
      "     </a>\n",
      "     -\n",
      "     <a href=\"/intl/ko/policies/terms/\">\n",
      "      약관\n",
      "     </a>\n",
      "    </p>\n",
      "   </span>\n",
      "  </center>\n",
      "  <script nonce=\"zQ6+sFs3keAf9puIfUaPcw==\">\n",
      "   (function(){window.google.cdo={height:757,width:1440};(function(){\n",
      "var a=window.innerWidth,b=window.innerHeight;if(!a||!b){var c=window.document,d=\"CSS1Compat\"==c.compatMode?c.documentElement:c.body;a=d.clientWidth;b=d.clientHeight}a&&b&&(a!=google.cdo.width||b!=google.cdo.height)&&google.log(\"\",\"\",\"/client_204?&atyp=i&biw=\"+a+\"&bih=\"+b+\"&ei=\"+google.kEI);}).call(this);})();\n",
      "  </script>\n",
      "  <script nonce=\"zQ6+sFs3keAf9puIfUaPcw==\">\n",
      "   (function(){google.xjs={ck:'',cs:'',excm:[]};})();\n",
      "  </script>\n",
      "  <script nonce=\"zQ6+sFs3keAf9puIfUaPcw==\">\n",
      "   (function(){var u='/xjs/_/js/k=xjs.hp.en.3-3KfVctVSg.O/am=APgEWA/d=1/ed=1/rs=ACT90oFYtpgGNdnD55sATsmsQTnqOWDvYw/m=sb_he,d';\n",
      "var e=this||self,f=function(a){return a};var g;var l=function(a,b){this.g=b===h?a:\"\"};l.prototype.toString=function(){return this.g+\"\"};var h={};\n",
      "function m(){var a=u;google.lx=function(){n(a);google.lx=function(){}};google.bx||google.lx()}\n",
      "function n(a){google.timers&&google.timers.load&&google.tick&&google.tick(\"load\",\"xjsls\");var b=document;var c=\"SCRIPT\";\"application/xhtml+xml\"===b.contentType&&(c=c.toLowerCase());c=b.createElement(c);if(void 0===g){b=null;var k=e.trustedTypes;if(k&&k.createPolicy){try{b=k.createPolicy(\"goog#html\",{createHTML:f,createScript:f,createScriptURL:f})}catch(p){e.console&&e.console.error(p.message)}g=b}else g=b}a=(b=g)?b.createScriptURL(a):a;a=new l(a,h);c.src=a instanceof l&&a.constructor===l?a.g:\"type_error:TrustedResourceUrl\";var d;a=(c.ownerDocument&&c.ownerDocument.defaultView||window).document;(d=(b=null===(d=a.querySelector)||void 0===d?void 0:d.call(a,\"script[nonce]\"))?b.nonce||b.getAttribute(\"nonce\")||\"\":\"\")&&c.setAttribute(\"nonce\",d);document.body.appendChild(c);google.psa=!0};setTimeout(function(){m()},0);})();(function(){window.google.xjsu='/xjs/_/js/k=xjs.hp.en.3-3KfVctVSg.O/am=APgEWA/d=1/ed=1/rs=ACT90oFYtpgGNdnD55sATsmsQTnqOWDvYw/m=sb_he,d';})();function _DumpException(e){throw e;}\n",
      "function _F_installCss(c){}\n",
      "(function(){google.jl={attn:false,blt:'none',chnk:0,dw:false,dwu:false,emtn:0,end:0,ine:false,lls:'default',pdt:0,rep:0,snet:true,strt:0,ubm:false,uwp:true};})();(function(){var pmc='{\"d\":{},\"sb_he\":{\"agen\":true,\"cgen\":true,\"client\":\"heirloom-hp\",\"dh\":true,\"dhqt\":true,\"ds\":\"\",\"ffql\":\"ko\",\"fl\":true,\"host\":\"google.com\",\"isbh\":28,\"jsonp\":true,\"msgs\":{\"cibl\":\"&#44160;&#49353;&#50612; &#51648;&#50864;&#44592;\",\"dym\":\"&#51060;&#44163;&#51012; &#52286;&#51004;&#49512;&#45208;&#50836;?\",\"lcky\":\"I&#8217;m Feeling Lucky\",\"lml\":\"&#51088;&#49464;&#55176; &#50508;&#50500;&#48372;&#44592;\",\"oskt\":\"&#51077;&#47141; &#46020;&#44396;\",\"psrc\":\"&#44160;&#49353;&#50612;&#44032; \\u003Ca href=\\\"/history\\\"\\u003E&#50937; &#44592;&#47197;\\u003C/a\\u003E&#50640;&#49436; &#49325;&#51228;&#46104;&#50632;&#49845;&#45768;&#45796;.\",\"psrl\":\"&#49325;&#51228;\",\"sbit\":\"&#51060;&#48120;&#51648;&#47196; &#44160;&#49353;\",\"srch\":\"Google &#44160;&#49353;\"},\"ovr\":{},\"pq\":\"\",\"refpd\":true,\"refspre\":true,\"rfs\":[],\"sbas\":\"0 3px 8px 0 rgba(0,0,0,0.2),0 0 0 1px rgba(0,0,0,0.08)\",\"sbpl\":16,\"sbpr\":16,\"scd\":10,\"stok\":\"dEQ2Aylix5272EUCGPPv9jNRWVM\",\"uhde\":false}}';google.pmc=JSON.parse(pmc);})();\n",
      "  </script>\n",
      " </body>\n",
      "</html>\n",
      "\n"
     ]
    }
   ],
   "source": [
    "print(soup.prettify())"
   ]
  },
  {
   "cell_type": "code",
   "execution_count": 4,
   "id": "9904befd",
   "metadata": {},
   "outputs": [
    {
     "data": {
      "text/plain": [
       "(<title>Google</title>, <title>Google</title>)"
      ]
     },
     "execution_count": 4,
     "metadata": {},
     "output_type": "execute_result"
    }
   ],
   "source": [
    "soup.html.head.title, soup.title"
   ]
  },
  {
   "cell_type": "code",
   "execution_count": 5,
   "id": "a39af098",
   "metadata": {},
   "outputs": [
    {
     "data": {
      "text/plain": [
       "<a class=\"gb1\" href=\"http://www.google.co.kr/imghp?hl=ko&amp;tab=wi\">이미지</a>"
      ]
     },
     "execution_count": 5,
     "metadata": {},
     "output_type": "execute_result"
    }
   ],
   "source": [
    "soup.a"
   ]
  },
  {
   "cell_type": "code",
   "execution_count": 7,
   "id": "4a2126a4",
   "metadata": {},
   "outputs": [
    {
     "name": "stdout",
     "output_type": "stream",
     "text": [
      "a\n",
      "['gb1']\n"
     ]
    }
   ],
   "source": [
    "tag = soup.a\n",
    "print(tag.name)\n",
    "print(tag.attrs['class'])"
   ]
  },
  {
   "cell_type": "code",
   "execution_count": 8,
   "id": "e70bfd83",
   "metadata": {},
   "outputs": [
    {
     "name": "stdout",
     "output_type": "stream",
     "text": [
      "이미지\n"
     ]
    }
   ],
   "source": [
    "print(tag.text)"
   ]
  },
  {
   "cell_type": "code",
   "execution_count": 10,
   "id": "161c1c2e",
   "metadata": {},
   "outputs": [
    {
     "name": "stdout",
     "output_type": "stream",
     "text": [
      "http://www.google.co.kr/imghp?hl=ko&tab=wi\n"
     ]
    }
   ],
   "source": [
    "print(tag.attrs['href'])"
   ]
  },
  {
   "cell_type": "code",
   "execution_count": 11,
   "id": "84f5d68d",
   "metadata": {},
   "outputs": [
    {
     "name": "stdout",
     "output_type": "stream",
     "text": [
      "{'class': ['gb1'], 'href': 'http://www.google.co.kr/imghp?hl=ko&tab=wi'}\n"
     ]
    }
   ],
   "source": [
    "print(tag.attrs)"
   ]
  },
  {
   "cell_type": "code",
   "execution_count": 12,
   "id": "795cf7e4",
   "metadata": {},
   "outputs": [
    {
     "data": {
      "text/plain": [
       "<a class=\"gb1\" href=\"http://maps.google.co.kr/maps?hl=ko&amp;tab=wl\">지도</a>"
      ]
     },
     "execution_count": 12,
     "metadata": {},
     "output_type": "execute_result"
    }
   ],
   "source": [
    "soup.a.find_next()"
   ]
  },
  {
   "cell_type": "code",
   "execution_count": 13,
   "id": "10c4c09f",
   "metadata": {},
   "outputs": [
    {
     "name": "stdout",
     "output_type": "stream",
     "text": [
      "{'class': ['gb1'], 'href': 'http://www.google.co.kr/imghp?hl=ko&tab=wi'}\n"
     ]
    }
   ],
   "source": [
    "print(soup.a.attrs)"
   ]
  },
  {
   "cell_type": "code",
   "execution_count": 15,
   "id": "a19d8b7e",
   "metadata": {},
   "outputs": [
    {
     "data": {
      "text/plain": [
       "<a class=\"gb1\" href=\"https://play.google.com/?hl=ko&amp;tab=w8\">Play</a>"
      ]
     },
     "execution_count": 15,
     "metadata": {},
     "output_type": "execute_result"
    }
   ],
   "source": [
    "soup.a.find_next().find_next()"
   ]
  },
  {
   "cell_type": "code",
   "execution_count": 16,
   "id": "3cebe0f4",
   "metadata": {},
   "outputs": [
    {
     "data": {
      "text/plain": [
       "<div id=\"mngb\"><div id=\"gbar\"><nobr><b class=\"gb1\">검색</b> <a class=\"gb1\" href=\"http://www.google.co.kr/imghp?hl=ko&amp;tab=wi\">이미지</a> <a class=\"gb1\" href=\"http://maps.google.co.kr/maps?hl=ko&amp;tab=wl\">지도</a> <a class=\"gb1\" href=\"https://play.google.com/?hl=ko&amp;tab=w8\">Play</a> <a class=\"gb1\" href=\"http://www.youtube.com/?gl=KR&amp;tab=w1\">YouTube</a> <a class=\"gb1\" href=\"https://news.google.com/?tab=wn\">뉴스</a> <a class=\"gb1\" href=\"https://mail.google.com/mail/?tab=wm\">Gmail</a> <a class=\"gb1\" href=\"https://drive.google.com/?tab=wo\">드라이브</a> <a class=\"gb1\" href=\"https://www.google.co.kr/intl/ko/about/products?tab=wh\" style=\"text-decoration:none\"><u>더보기</u> »</a></nobr></div><div id=\"guser\" width=\"100%\"><nobr><span class=\"gbi\" id=\"gbn\"></span><span class=\"gbf\" id=\"gbf\"></span><span id=\"gbe\"></span><a class=\"gb4\" href=\"http://www.google.co.kr/history/optout?hl=ko\">웹 기록</a> | <a class=\"gb4\" href=\"/preferences?hl=ko\">설정</a> | <a class=\"gb4\" href=\"https://accounts.google.com/ServiceLogin?hl=ko&amp;passive=true&amp;continue=http://www.google.com/&amp;ec=GAZAAQ\" id=\"gb_70\" target=\"_top\">로그인</a></nobr></div><div class=\"gbh\" style=\"left:0\"></div><div class=\"gbh\" style=\"right:0\"></div></div>"
      ]
     },
     "execution_count": 16,
     "metadata": {},
     "output_type": "execute_result"
    }
   ],
   "source": [
    "soup.find('div')"
   ]
  },
  {
   "cell_type": "code",
   "execution_count": 19,
   "id": "4556344c",
   "metadata": {},
   "outputs": [],
   "source": [
    "soup.find('img', 'alt')"
   ]
  },
  {
   "cell_type": "code",
   "execution_count": 23,
   "id": "0278bd9e",
   "metadata": {},
   "outputs": [
    {
     "data": {
      "text/plain": [
       "<title>Google</title>"
      ]
     },
     "execution_count": 23,
     "metadata": {},
     "output_type": "execute_result"
    }
   ],
   "source": [
    "import re\n",
    "soup.find('title', string=re.compile(\"^Google\"))"
   ]
  },
  {
   "cell_type": "code",
   "execution_count": 24,
   "id": "8286451e",
   "metadata": {},
   "outputs": [
    {
     "data": {
      "text/plain": [
       "['Google',\n",
       " 'Google 정보',\n",
       " 'Google.co.kr',\n",
       " '(function(){var u=\\'/xjs/_/js/k=xjs.hp.en.3-3KfVctVSg.O/am=APgEWA/d=1/ed=1/rs=ACT90oFYtpgGNdnD55sATsmsQTnqOWDvYw/m=sb_he,d\\';\\nvar e=this||self,f=function(a){return a};var g;var l=function(a,b){this.g=b===h?a:\"\"};l.prototype.toString=function(){return this.g+\"\"};var h={};\\nfunction m(){var a=u;google.lx=function(){n(a);google.lx=function(){}};google.bx||google.lx()}\\nfunction n(a){google.timers&&google.timers.load&&google.tick&&google.tick(\"load\",\"xjsls\");var b=document;var c=\"SCRIPT\";\"application/xhtml+xml\"===b.contentType&&(c=c.toLowerCase());c=b.createElement(c);if(void 0===g){b=null;var k=e.trustedTypes;if(k&&k.createPolicy){try{b=k.createPolicy(\"goog#html\",{createHTML:f,createScript:f,createScriptURL:f})}catch(p){e.console&&e.console.error(p.message)}g=b}else g=b}a=(b=g)?b.createScriptURL(a):a;a=new l(a,h);c.src=a instanceof l&&a.constructor===l?a.g:\"type_error:TrustedResourceUrl\";var d;a=(c.ownerDocument&&c.ownerDocument.defaultView||window).document;(d=(b=null===(d=a.querySelector)||void 0===d?void 0:d.call(a,\"script[nonce]\"))?b.nonce||b.getAttribute(\"nonce\")||\"\":\"\")&&c.setAttribute(\"nonce\",d);document.body.appendChild(c);google.psa=!0};setTimeout(function(){m()},0);})();(function(){window.google.xjsu=\\'/xjs/_/js/k=xjs.hp.en.3-3KfVctVSg.O/am=APgEWA/d=1/ed=1/rs=ACT90oFYtpgGNdnD55sATsmsQTnqOWDvYw/m=sb_he,d\\';})();function _DumpException(e){throw e;}\\nfunction _F_installCss(c){}\\n(function(){google.jl={attn:false,blt:\\'none\\',chnk:0,dw:false,dwu:false,emtn:0,end:0,ine:false,lls:\\'default\\',pdt:0,rep:0,snet:true,strt:0,ubm:false,uwp:true};})();(function(){var pmc=\\'{\"d\":{},\"sb_he\":{\"agen\":true,\"cgen\":true,\"client\":\"heirloom-hp\",\"dh\":true,\"dhqt\":true,\"ds\":\"\",\"ffql\":\"ko\",\"fl\":true,\"host\":\"google.com\",\"isbh\":28,\"jsonp\":true,\"msgs\":{\"cibl\":\"&#44160;&#49353;&#50612; &#51648;&#50864;&#44592;\",\"dym\":\"&#51060;&#44163;&#51012; &#52286;&#51004;&#49512;&#45208;&#50836;?\",\"lcky\":\"I&#8217;m Feeling Lucky\",\"lml\":\"&#51088;&#49464;&#55176; &#50508;&#50500;&#48372;&#44592;\",\"oskt\":\"&#51077;&#47141; &#46020;&#44396;\",\"psrc\":\"&#44160;&#49353;&#50612;&#44032; \\\\u003Ca href=\\\\\"/history\\\\\"\\\\u003E&#50937; &#44592;&#47197;\\\\u003C/a\\\\u003E&#50640;&#49436; &#49325;&#51228;&#46104;&#50632;&#49845;&#45768;&#45796;.\",\"psrl\":\"&#49325;&#51228;\",\"sbit\":\"&#51060;&#48120;&#51648;&#47196; &#44160;&#49353;\",\"srch\":\"Google &#44160;&#49353;\"},\"ovr\":{},\"pq\":\"\",\"refpd\":true,\"refspre\":true,\"rfs\":[],\"sbas\":\"0 3px 8px 0 rgba(0,0,0,0.2),0 0 0 1px rgba(0,0,0,0.08)\",\"sbpl\":16,\"sbpr\":16,\"scd\":10,\"stok\":\"dEQ2Aylix5272EUCGPPv9jNRWVM\",\"uhde\":false}}\\';google.pmc=JSON.parse(pmc);})();']"
      ]
     },
     "execution_count": 24,
     "metadata": {},
     "output_type": "execute_result"
    }
   ],
   "source": [
    "soup.find_all(string=re.compile(\"Google\"))"
   ]
  },
  {
   "cell_type": "code",
   "execution_count": 25,
   "id": "711a102e",
   "metadata": {},
   "outputs": [
    {
     "data": {
      "text/plain": [
       "[<a class=\"gb1\" href=\"http://www.google.co.kr/imghp?hl=ko&amp;tab=wi\">이미지</a>,\n",
       " <a class=\"gb1\" href=\"http://maps.google.co.kr/maps?hl=ko&amp;tab=wl\">지도</a>,\n",
       " <a class=\"gb1\" href=\"https://play.google.com/?hl=ko&amp;tab=w8\">Play</a>,\n",
       " <a class=\"gb1\" href=\"http://www.youtube.com/?gl=KR&amp;tab=w1\">YouTube</a>,\n",
       " <a class=\"gb1\" href=\"https://news.google.com/?tab=wn\">뉴스</a>,\n",
       " <a class=\"gb1\" href=\"https://mail.google.com/mail/?tab=wm\">Gmail</a>,\n",
       " <a class=\"gb1\" href=\"https://drive.google.com/?tab=wo\">드라이브</a>,\n",
       " <a class=\"gb1\" href=\"https://www.google.co.kr/intl/ko/about/products?tab=wh\" style=\"text-decoration:none\"><u>더보기</u> »</a>,\n",
       " <a class=\"gb4\" href=\"http://www.google.co.kr/history/optout?hl=ko\">웹 기록</a>,\n",
       " <a class=\"gb4\" href=\"/preferences?hl=ko\">설정</a>,\n",
       " <a class=\"gb4\" href=\"https://accounts.google.com/ServiceLogin?hl=ko&amp;passive=true&amp;continue=http://www.google.com/&amp;ec=GAZAAQ\" id=\"gb_70\" target=\"_top\">로그인</a>,\n",
       " <a href=\"/search?ie=UTF-8&amp;q=Google+&amp;oi=ddle&amp;ct=174788361&amp;hl=ko&amp;si=AHuW2sTKkcygiABA_QY_APML0LA-zLeY72p7cWUnG9AtyAalP7HHY3dFtSWBqk8puNCUm6BnkheVtoD5vs0xVFaZgHy4zOVkJ0E9Wa5_cYARMoqWTiHqoWQ%3D&amp;sa=X&amp;ved=0ahUKEwjl9Nvigp7zAhVC4GEKHbOdCb0QPQgD\"><img alt=\"Google 설립 23주년\" border=\"0\" height=\"210\" id=\"hplogo\" src=\"/logos/doodles/2021/googles-23rd-birthday-6753651837109087-law.gif\" title=\"Google 설립 23주년\" width=\"369\"/><br/></a>,\n",
       " <a href=\"/advanced_search?hl=ko&amp;authuser=0\">고급검색</a>,\n",
       " <a href=\"/intl/ko/ads/\">광고 프로그램</a>,\n",
       " <a href=\"http://www.google.co.kr/intl/ko/services/\">비즈니스 솔루션</a>,\n",
       " <a href=\"/intl/ko/about.html\">Google 정보</a>,\n",
       " <a href=\"http://www.google.com/setprefdomain?prefdom=KR&amp;prev=http://www.google.co.kr/&amp;sig=K_4EI3jAR89pAGkKND6HvLol07HBg%3D\">Google.co.kr</a>,\n",
       " <a href=\"/intl/ko/policies/privacy/\">개인정보처리방침</a>,\n",
       " <a href=\"/intl/ko/policies/terms/\">약관</a>]"
      ]
     },
     "execution_count": 25,
     "metadata": {},
     "output_type": "execute_result"
    }
   ],
   "source": [
    "soup.find_all('a')"
   ]
  },
  {
   "cell_type": "code",
   "execution_count": 26,
   "id": "cfbf3d33",
   "metadata": {},
   "outputs": [
    {
     "data": {
      "text/plain": [
       "[<a class=\"gb4\" href=\"http://www.google.co.kr/history/optout?hl=ko\">웹 기록</a>,\n",
       " <a class=\"gb4\" href=\"/preferences?hl=ko\">설정</a>,\n",
       " <a class=\"gb4\" href=\"https://accounts.google.com/ServiceLogin?hl=ko&amp;passive=true&amp;continue=http://www.google.com/&amp;ec=GAZAAQ\" id=\"gb_70\" target=\"_top\">로그인</a>]"
      ]
     },
     "execution_count": 26,
     "metadata": {},
     "output_type": "execute_result"
    }
   ],
   "source": [
    "soup.find_all('a', attrs={'class':'gb4'})"
   ]
  },
  {
   "cell_type": "code",
   "execution_count": 27,
   "id": "b3dbdd78",
   "metadata": {},
   "outputs": [
    {
     "data": {
      "text/plain": [
       "[<a class=\"gb1\" href=\"http://www.google.co.kr/imghp?hl=ko&amp;tab=wi\">이미지</a>,\n",
       " <a class=\"gb1\" href=\"http://maps.google.co.kr/maps?hl=ko&amp;tab=wl\">지도</a>,\n",
       " <a class=\"gb1\" href=\"https://play.google.com/?hl=ko&amp;tab=w8\">Play</a>,\n",
       " <a class=\"gb1\" href=\"http://www.youtube.com/?gl=KR&amp;tab=w1\">YouTube</a>,\n",
       " <a class=\"gb1\" href=\"https://news.google.com/?tab=wn\">뉴스</a>,\n",
       " <a class=\"gb1\" href=\"https://mail.google.com/mail/?tab=wm\">Gmail</a>,\n",
       " <a class=\"gb1\" href=\"https://drive.google.com/?tab=wo\">드라이브</a>,\n",
       " <a class=\"gb1\" href=\"https://www.google.co.kr/intl/ko/about/products?tab=wh\" style=\"text-decoration:none\"><u>더보기</u> »</a>,\n",
       " <a class=\"gb4\" href=\"http://www.google.co.kr/history/optout?hl=ko\">웹 기록</a>,\n",
       " <a class=\"gb4\" href=\"/preferences?hl=ko\">설정</a>,\n",
       " <a class=\"gb4\" href=\"https://accounts.google.com/ServiceLogin?hl=ko&amp;passive=true&amp;continue=http://www.google.com/&amp;ec=GAZAAQ\" id=\"gb_70\" target=\"_top\">로그인</a>,\n",
       " <a href=\"/search?ie=UTF-8&amp;q=Google+&amp;oi=ddle&amp;ct=174788361&amp;hl=ko&amp;si=AHuW2sTKkcygiABA_QY_APML0LA-zLeY72p7cWUnG9AtyAalP7HHY3dFtSWBqk8puNCUm6BnkheVtoD5vs0xVFaZgHy4zOVkJ0E9Wa5_cYARMoqWTiHqoWQ%3D&amp;sa=X&amp;ved=0ahUKEwjl9Nvigp7zAhVC4GEKHbOdCb0QPQgD\"><img alt=\"Google 설립 23주년\" border=\"0\" height=\"210\" id=\"hplogo\" src=\"/logos/doodles/2021/googles-23rd-birthday-6753651837109087-law.gif\" title=\"Google 설립 23주년\" width=\"369\"/><br/></a>,\n",
       " <img alt=\"Google 설립 23주년\" border=\"0\" height=\"210\" id=\"hplogo\" src=\"/logos/doodles/2021/googles-23rd-birthday-6753651837109087-law.gif\" title=\"Google 설립 23주년\" width=\"369\"/>,\n",
       " <img alt=\"\" data-script-url=\"/textinputassistant/11/ko_tia.js\" height=\"23\" id=\"tsuid1\" src=\"/textinputassistant/tia.png\" style=\"position:absolute;cursor:pointer;right:5px;top:4px;z-index:300\" width=\"27\"/>,\n",
       " <a href=\"/advanced_search?hl=ko&amp;authuser=0\">고급검색</a>,\n",
       " <a href=\"/intl/ko/ads/\">광고 프로그램</a>,\n",
       " <a href=\"http://www.google.co.kr/intl/ko/services/\">비즈니스 솔루션</a>,\n",
       " <a href=\"/intl/ko/about.html\">Google 정보</a>,\n",
       " <a href=\"http://www.google.com/setprefdomain?prefdom=KR&amp;prev=http://www.google.co.kr/&amp;sig=K_4EI3jAR89pAGkKND6HvLol07HBg%3D\">Google.co.kr</a>,\n",
       " <a href=\"/intl/ko/policies/privacy/\">개인정보처리방침</a>,\n",
       " <a href=\"/intl/ko/policies/terms/\">약관</a>]"
      ]
     },
     "execution_count": 27,
     "metadata": {},
     "output_type": "execute_result"
    }
   ],
   "source": [
    "soup.find_all(['a', 'img'])"
   ]
  },
  {
   "cell_type": "code",
   "execution_count": 28,
   "id": "121f693f",
   "metadata": {},
   "outputs": [
    {
     "data": {
      "text/plain": [
       "[<html itemscope=\"\" itemtype=\"http://schema.org/WebPage\" lang=\"ko\"><head><meta content=\"text/html; charset=utf-8\" http-equiv=\"Content-Type\"/><meta content=\"/logos/doodles/2021/googles-23rd-birthday-6753651837109087-law.gif\" itemprop=\"image\"/><meta content=\"Google 설립 23주년\" property=\"twitter:title\"/><meta content=\"Google 설립 23주년 #Google기념일로고\" property=\"twitter:description\"/><meta content=\"Google 설립 23주년 #Google기념일로고\" property=\"og:description\"/><meta content=\"summary_large_image\" property=\"twitter:card\"/><meta content=\"@GoogleDoodles\" property=\"twitter:site\"/><meta content=\"https://www.google.com/logos/doodles/2021/googles-23rd-birthday-6753651837109087-2xa.gif\" property=\"twitter:image\"/><meta content=\"https://www.google.com/logos/doodles/2021/googles-23rd-birthday-6753651837109087-2xa.gif\" property=\"og:image\"/><meta content=\"735\" property=\"og:image:width\"/><meta content=\"440\" property=\"og:image:height\"/><meta content=\"https://www.google.com/logos/doodles/2021/googles-23rd-birthday-6753651837109087-2xa.gif\" property=\"og:url\"/><meta content=\"video.other\" property=\"og:type\"/><title>Google</title><script nonce=\"zQ6+sFs3keAf9puIfUaPcw==\">(function(){window.google={kEI:'5yBRYaXlKMLAhwOzu6boCw',kEXPI:'0,1302536,56873,6059,206,4804,2316,383,246,5,1354,5250,1122516,1197751,650,328866,51223,16115,28684,17572,1325,3534,1361,284,9007,3027,4746,12835,4020,978,13228,3847,4192,6430,7432,11613,2777,919,5081,1593,1279,2214,529,148,1103,840,2196,4101,3514,606,2023,1777,520,14670,3227,2845,7,4773,826,6755,5096,11625,4695,908,2,940,2615,13142,3,346,230,6459,150,12313,1661,4,1252,276,2304,1236,5803,4684,2011,6576,11802,2658,4243,2458,656,30,11412,2216,1592,713,638,1494,16786,5800,2557,992,3102,3138,6,908,3,3541,1,11373,3337,1816,281,912,5992,16728,1715,2,10554,3468,1931,3911,1678,744,5852,2050,6824,1589,1160,1269,7811,749,1970,4545,3,4046,1427,4148,487,3604,2,6,7755,1932,2636,2577,3136,539,2075,400,503,1016,3,583,794,1264,85,182,630,2249,720,2,1517,2,869,760,653,4,2935,843,173,141,28,86,78,39,197,694,559,1401,2484,540,849,1503,244,1081,745,1080,39,41,462,1117,3,374,180,2,146,1636,635,323,729,370,1,301,227,754,798,4,191,1359,3304,3,2,275,88,9,677,13,34,2,213,133,274,484,550,1073,928,590,5564502,3904,99,347,72,88,45,1802684,95,4193884,2799374,1323,882,444,1,2,80,1,1797,2,7,2553,1,748,141,801,557,1,4265,1,1,2,1331,4142,2609,155,17,13,72,139,4,2,20,2,169,13,19,46,5,39,96,548,29,2,2,1,2,1,2,2,7,4,1,2,2,2,2,2,2,353,513,186,1,1,158,3,2,2,2,2,2,4,2,3,3,269,461,2,45,3,40,14,3,11,9,14,28,10,33,3,3,2,12,2,35,1,2,5,2,1,41,1,1,1,1,13,23953923,4041352,276,62,3,2414,448,2,1041,9,3239,678,858,883,636,221,775,806353',kBL:'lszj'};google.sn='webhp';google.kHL='ko';})();(function(){\n",
       " var f=this||self;var h,k=[];function l(a){for(var b;a&&(!a.getAttribute||!(b=a.getAttribute(\"eid\")));)a=a.parentNode;return b||h}function m(a){for(var b=null;a&&(!a.getAttribute||!(b=a.getAttribute(\"leid\")));)a=a.parentNode;return b}\n",
       " function n(a,b,c,d,g){var e=\"\";c||-1!==b.search(\"&ei=\")||(e=\"&ei=\"+l(d),-1===b.search(\"&lei=\")&&(d=m(d))&&(e+=\"&lei=\"+d));d=\"\";!c&&f._cshid&&-1===b.search(\"&cshid=\")&&\"slh\"!==a&&(d=\"&cshid=\"+f._cshid);c=c||\"/\"+(g||\"gen_204\")+\"?atyp=i&ct=\"+a+\"&cad=\"+b+e+\"&zx=\"+Date.now()+d;/^http:/i.test(c)&&\"https:\"===window.location.protocol&&(google.ml&&google.ml(Error(\"a\"),!1,{src:c,glmm:1}),c=\"\");return c};h=google.kEI;google.getEI=l;google.getLEI=m;google.ml=function(){return null};google.log=function(a,b,c,d,g){if(c=n(a,b,c,d,g)){a=new Image;var e=k.length;k[e]=a;a.onerror=a.onload=a.onabort=function(){delete k[e]};a.src=c}};google.logUrl=n;}).call(this);(function(){\n",
       " google.y={};google.sy=[];google.x=function(a,b){if(a)var c=a.id;else{do c=Math.random();while(google.y[c])}google.y[c]=[a,b];return!1};google.sx=function(a){google.sy.push(a)};google.lm=[];google.plm=function(a){google.lm.push.apply(google.lm,a)};google.lq=[];google.load=function(a,b,c){google.lq.push([[a],b,c])};google.loadAll=function(a,b){google.lq.push([a,b])};google.bx=!1;google.lx=function(){};}).call(this);google.f={};(function(){\n",
       " document.documentElement.addEventListener(\"submit\",function(b){var a;if(a=b.target){var c=a.getAttribute(\"data-submitfalse\");a=\"1\"===c||\"q\"===c&&!a.elements.q.value?!0:!1}else a=!1;a&&(b.preventDefault(),b.stopPropagation())},!0);document.documentElement.addEventListener(\"click\",function(b){var a;a:{for(a=b.target;a&&a!==document.documentElement;a=a.parentElement)if(\"A\"===a.tagName){a=\"1\"===a.getAttribute(\"data-nohref\");break a}a=!1}a&&b.preventDefault()},!0);}).call(this);</script><style>#gbar,#guser{font-size:13px;padding-top:1px !important;}#gbar{height:22px}#guser{padding-bottom:7px !important;text-align:right}.gbh,.gbd{border-top:1px solid #c9d7f1;font-size:1px}.gbh{height:0;position:absolute;top:24px;width:100%}@media all{.gb1{height:22px;margin-right:.5em;vertical-align:top}#gbar{float:left}}a.gb1,a.gb4{text-decoration:underline !important}a.gb1,a.gb4{color:#00c !important}.gbi .gb4{color:#dd8e27 !important}.gbf .gb4{color:#900 !important}\n",
       " </style><style>body,td,a,p,.h{font-family:&#44404;&#47548;,&#46027;&#50880;,arial,sans-serif}.ko{font-size:9pt}body{margin:0;overflow-y:scroll}#gog{padding:3px 8px 0}td{line-height:.8em}.gac_m td{line-height:17px}form{margin-bottom:20px}.h{color:#1558d6}em{font-weight:bold;font-style:normal}.lst{height:25px;width:496px}.gsfi,.lst{font:18px arial,sans-serif}.gsfs{font:17px arial,sans-serif}.ds{display:inline-box;display:inline-block;margin:3px 0 4px;margin-left:4px}input{font-family:inherit}body{background:#fff;color:#000}a{color:#4b11a8;text-decoration:none}a:hover,a:active{text-decoration:underline}.fl a{color:#1558d6}a:visited{color:#4b11a8}.sblc{padding-top:5px}.sblc a{display:block;margin:2px 0;margin-left:13px;font-size:11px}.lsbb{background:#f8f9fa;border:solid 1px;border-color:#dadce0 #70757a #70757a #dadce0;height:30px}.lsbb{display:block}#WqQANb a{display:inline-block;margin:0 12px}.lsb{background:url(/images/nav_logo229.png) 0 -261px repeat-x;border:none;color:#000;cursor:pointer;height:30px;margin:0;outline:0;font:15px arial,sans-serif;vertical-align:top}.lsb:active{background:#dadce0}.lst:focus{outline:none}.tiah{width:458px}</style><script nonce=\"zQ6+sFs3keAf9puIfUaPcw==\">(function(){window.google.erd={sp:'hp',jsr:0,bv:46};\n",
       " var f=this||self;var g,h,k=null!==(g=f.mei)&&void 0!==g?g:1,l=null!==(h=f.sdo)&&void 0!==h?h:!0,n=0,p,q=google.erd,t=q.jsr;google.ml=function(a,b,e,m,d){d=void 0===d?2:d;b&&(p=a&&a.message);if(google.dl)return google.dl(a,d,e),null;if(0>t){window.console&&console.error(a,e);if(-2===t)throw a;b=!1}else b=!a||!a.message||\"Error loading script\"===a.message||n>=k&&!m?!1:!0;if(!b)return null;n++;e=e||{};b=encodeURIComponent;var c=\"/gen_204?atyp=i&ei=\"+b(google.kEI);google.kEXPI&&(c+=\"&jexpid=\"+b(google.kEXPI));c+=\"&srcpg=\"+b(q.sp)+\"&jsr=\"+b(q.jsr)+\"&bver=\"+b(q.bv)+(\"&jsel=\"+d);c+=\"&sn=\"+b(google.sn);for(var r in e)c+=\"&\",c+=b(r),c+=\"=\",c+=b(e[r]);c=c+\"&emsg=\"+b(a.name+\": \"+a.message);c=c+\"&jsst=\"+b(a.stack||\"N/A\");12288<=c.length&&(c=c.substr(0,12288));a=c;m||google.log(0,\"\",a);return a};window.onerror=function(a,b,e,m,d){p!==a&&google.ml(d instanceof Error?d:Error(a),!1,void 0,!1,google.dl?0:2);p=null;l&&n>=k&&(window.onerror=null)};})();</script></head><body bgcolor=\"#fff\"><script nonce=\"zQ6+sFs3keAf9puIfUaPcw==\">(function(){var src='/images/nav_logo229.png';var iesg=false;document.body.onload = function(){window.n && window.n();if (document.images){new Image().src=src;}\n",
       " if (!iesg){document.f&&document.f.q.focus();document.gbqf&&document.gbqf.q.focus();}\n",
       " }\n",
       " })();</script><div id=\"mngb\"><div id=\"gbar\"><nobr><b class=\"gb1\">검색</b> <a class=\"gb1\" href=\"http://www.google.co.kr/imghp?hl=ko&amp;tab=wi\">이미지</a> <a class=\"gb1\" href=\"http://maps.google.co.kr/maps?hl=ko&amp;tab=wl\">지도</a> <a class=\"gb1\" href=\"https://play.google.com/?hl=ko&amp;tab=w8\">Play</a> <a class=\"gb1\" href=\"http://www.youtube.com/?gl=KR&amp;tab=w1\">YouTube</a> <a class=\"gb1\" href=\"https://news.google.com/?tab=wn\">뉴스</a> <a class=\"gb1\" href=\"https://mail.google.com/mail/?tab=wm\">Gmail</a> <a class=\"gb1\" href=\"https://drive.google.com/?tab=wo\">드라이브</a> <a class=\"gb1\" href=\"https://www.google.co.kr/intl/ko/about/products?tab=wh\" style=\"text-decoration:none\"><u>더보기</u> »</a></nobr></div><div id=\"guser\" width=\"100%\"><nobr><span class=\"gbi\" id=\"gbn\"></span><span class=\"gbf\" id=\"gbf\"></span><span id=\"gbe\"></span><a class=\"gb4\" href=\"http://www.google.co.kr/history/optout?hl=ko\">웹 기록</a> | <a class=\"gb4\" href=\"/preferences?hl=ko\">설정</a> | <a class=\"gb4\" href=\"https://accounts.google.com/ServiceLogin?hl=ko&amp;passive=true&amp;continue=http://www.google.com/&amp;ec=GAZAAQ\" id=\"gb_70\" target=\"_top\">로그인</a></nobr></div><div class=\"gbh\" style=\"left:0\"></div><div class=\"gbh\" style=\"right:0\"></div></div><center><br clear=\"all\" id=\"lgpd\"/><div id=\"lga\"><a href=\"/search?ie=UTF-8&amp;q=Google+&amp;oi=ddle&amp;ct=174788361&amp;hl=ko&amp;si=AHuW2sTKkcygiABA_QY_APML0LA-zLeY72p7cWUnG9AtyAalP7HHY3dFtSWBqk8puNCUm6BnkheVtoD5vs0xVFaZgHy4zOVkJ0E9Wa5_cYARMoqWTiHqoWQ%3D&amp;sa=X&amp;ved=0ahUKEwjl9Nvigp7zAhVC4GEKHbOdCb0QPQgD\"><img alt=\"Google 설립 23주년\" border=\"0\" height=\"210\" id=\"hplogo\" src=\"/logos/doodles/2021/googles-23rd-birthday-6753651837109087-law.gif\" title=\"Google 설립 23주년\" width=\"369\"/><br/></a><br/></div><form action=\"/search\" name=\"f\"><table cellpadding=\"0\" cellspacing=\"0\"><tr valign=\"top\"><td width=\"25%\"> </td><td align=\"center\" nowrap=\"\"><input name=\"ie\" type=\"hidden\" value=\"ISO-8859-1\"/><input name=\"hl\" type=\"hidden\" value=\"ko\"/><input name=\"source\" type=\"hidden\" value=\"hp\"/><input name=\"biw\" type=\"hidden\"/><input name=\"bih\" type=\"hidden\"/><div class=\"ds\" style=\"height:32px;margin:4px 0\"><div style=\"position:relative;zoom:1\"><input autocomplete=\"off\" class=\"lst tiah\" maxlength=\"2048\" name=\"q\" size=\"57\" style=\"margin:0;padding:5px 8px 0 6px;vertical-align:top;color:#000;padding-right:38px\" title=\"Google 검색\" value=\"\"/><img alt=\"\" data-script-url=\"/textinputassistant/11/ko_tia.js\" height=\"23\" id=\"tsuid1\" src=\"/textinputassistant/tia.png\" style=\"position:absolute;cursor:pointer;right:5px;top:4px;z-index:300\" width=\"27\"/><script nonce=\"zQ6+sFs3keAf9puIfUaPcw==\">(function(){var id='tsuid1';document.getElementById(id).onclick = function(){var s = document.createElement('script');s.src = this.getAttribute('data-script-url');(document.getElementById('xjsc')||document.body).appendChild(s);};})();</script></div></div><br style=\"line-height:0\"/><span class=\"ds\"><span class=\"lsbb\"><input class=\"lsb\" name=\"btnG\" type=\"submit\" value=\"Google 검색\"/></span></span><span class=\"ds\"><span class=\"lsbb\"><input class=\"lsb\" id=\"tsuid2\" name=\"btnI\" type=\"submit\" value=\"I’m Feeling Lucky\"/><script nonce=\"zQ6+sFs3keAf9puIfUaPcw==\">(function(){var id='tsuid2';document.getElementById(id).onclick = function(){if (this.form.q.value){this.checked = 1;if (this.form.iflsig)this.form.iflsig.disabled = false;}\n",
       " else top.location='/doodles/';};})();</script><input name=\"iflsig\" type=\"hidden\" value=\"ALs-wAMAAAAAYVEu98SXZfzu6s70NOpf7RcX-RBywKd2\"/></span></span></td><td align=\"left\" class=\"fl sblc\" nowrap=\"\" width=\"25%\"><a href=\"/advanced_search?hl=ko&amp;authuser=0\">고급검색</a></td></tr></table><input id=\"gbv\" name=\"gbv\" type=\"hidden\" value=\"1\"/><script nonce=\"zQ6+sFs3keAf9puIfUaPcw==\">(function(){\n",
       " var a,b=\"1\";if(document&&document.getElementById)if(\"undefined\"!=typeof XMLHttpRequest)b=\"2\";else if(\"undefined\"!=typeof ActiveXObject){var c,d,e=[\"MSXML2.XMLHTTP.6.0\",\"MSXML2.XMLHTTP.3.0\",\"MSXML2.XMLHTTP\",\"Microsoft.XMLHTTP\"];for(c=0;d=e[c++];)try{new ActiveXObject(d),b=\"2\"}catch(h){}}a=b;if(\"2\"==a&&-1==location.search.indexOf(\"&gbv=2\")){var f=google.gbvu,g=document.getElementById(\"gbv\");g&&(g.value=a);f&&window.setTimeout(function(){location.href=f},0)};}).call(this);</script></form><div id=\"gac_scont\"></div><div style=\"font-size:83%;min-height:3.5em\"><br/></div><span id=\"footer\"><div style=\"font-size:10pt\"><div id=\"WqQANb\" style=\"margin:19px auto;text-align:center\"><a href=\"/intl/ko/ads/\">광고 프로그램</a><a href=\"http://www.google.co.kr/intl/ko/services/\">비즈니스 솔루션</a><a href=\"/intl/ko/about.html\">Google 정보</a><a href=\"http://www.google.com/setprefdomain?prefdom=KR&amp;prev=http://www.google.co.kr/&amp;sig=K_4EI3jAR89pAGkKND6HvLol07HBg%3D\">Google.co.kr</a></div></div><p style=\"font-size:8pt;color:#70757a\">© 2021 - <a href=\"/intl/ko/policies/privacy/\">개인정보처리방침</a> - <a href=\"/intl/ko/policies/terms/\">약관</a></p></span></center><script nonce=\"zQ6+sFs3keAf9puIfUaPcw==\">(function(){window.google.cdo={height:757,width:1440};(function(){\n",
       " var a=window.innerWidth,b=window.innerHeight;if(!a||!b){var c=window.document,d=\"CSS1Compat\"==c.compatMode?c.documentElement:c.body;a=d.clientWidth;b=d.clientHeight}a&&b&&(a!=google.cdo.width||b!=google.cdo.height)&&google.log(\"\",\"\",\"/client_204?&atyp=i&biw=\"+a+\"&bih=\"+b+\"&ei=\"+google.kEI);}).call(this);})();</script> <script nonce=\"zQ6+sFs3keAf9puIfUaPcw==\">(function(){google.xjs={ck:'',cs:'',excm:[]};})();</script> <script nonce=\"zQ6+sFs3keAf9puIfUaPcw==\">(function(){var u='/xjs/_/js/k=xjs.hp.en.3-3KfVctVSg.O/am=APgEWA/d=1/ed=1/rs=ACT90oFYtpgGNdnD55sATsmsQTnqOWDvYw/m=sb_he,d';\n",
       " var e=this||self,f=function(a){return a};var g;var l=function(a,b){this.g=b===h?a:\"\"};l.prototype.toString=function(){return this.g+\"\"};var h={};\n",
       " function m(){var a=u;google.lx=function(){n(a);google.lx=function(){}};google.bx||google.lx()}\n",
       " function n(a){google.timers&&google.timers.load&&google.tick&&google.tick(\"load\",\"xjsls\");var b=document;var c=\"SCRIPT\";\"application/xhtml+xml\"===b.contentType&&(c=c.toLowerCase());c=b.createElement(c);if(void 0===g){b=null;var k=e.trustedTypes;if(k&&k.createPolicy){try{b=k.createPolicy(\"goog#html\",{createHTML:f,createScript:f,createScriptURL:f})}catch(p){e.console&&e.console.error(p.message)}g=b}else g=b}a=(b=g)?b.createScriptURL(a):a;a=new l(a,h);c.src=a instanceof l&&a.constructor===l?a.g:\"type_error:TrustedResourceUrl\";var d;a=(c.ownerDocument&&c.ownerDocument.defaultView||window).document;(d=(b=null===(d=a.querySelector)||void 0===d?void 0:d.call(a,\"script[nonce]\"))?b.nonce||b.getAttribute(\"nonce\")||\"\":\"\")&&c.setAttribute(\"nonce\",d);document.body.appendChild(c);google.psa=!0};setTimeout(function(){m()},0);})();(function(){window.google.xjsu='/xjs/_/js/k=xjs.hp.en.3-3KfVctVSg.O/am=APgEWA/d=1/ed=1/rs=ACT90oFYtpgGNdnD55sATsmsQTnqOWDvYw/m=sb_he,d';})();function _DumpException(e){throw e;}\n",
       " function _F_installCss(c){}\n",
       " (function(){google.jl={attn:false,blt:'none',chnk:0,dw:false,dwu:false,emtn:0,end:0,ine:false,lls:'default',pdt:0,rep:0,snet:true,strt:0,ubm:false,uwp:true};})();(function(){var pmc='{\"d\":{},\"sb_he\":{\"agen\":true,\"cgen\":true,\"client\":\"heirloom-hp\",\"dh\":true,\"dhqt\":true,\"ds\":\"\",\"ffql\":\"ko\",\"fl\":true,\"host\":\"google.com\",\"isbh\":28,\"jsonp\":true,\"msgs\":{\"cibl\":\"&#44160;&#49353;&#50612; &#51648;&#50864;&#44592;\",\"dym\":\"&#51060;&#44163;&#51012; &#52286;&#51004;&#49512;&#45208;&#50836;?\",\"lcky\":\"I&#8217;m Feeling Lucky\",\"lml\":\"&#51088;&#49464;&#55176; &#50508;&#50500;&#48372;&#44592;\",\"oskt\":\"&#51077;&#47141; &#46020;&#44396;\",\"psrc\":\"&#44160;&#49353;&#50612;&#44032; \\u003Ca href=\\\"/history\\\"\\u003E&#50937; &#44592;&#47197;\\u003C/a\\u003E&#50640;&#49436; &#49325;&#51228;&#46104;&#50632;&#49845;&#45768;&#45796;.\",\"psrl\":\"&#49325;&#51228;\",\"sbit\":\"&#51060;&#48120;&#51648;&#47196; &#44160;&#49353;\",\"srch\":\"Google &#44160;&#49353;\"},\"ovr\":{},\"pq\":\"\",\"refpd\":true,\"refspre\":true,\"rfs\":[],\"sbas\":\"0 3px 8px 0 rgba(0,0,0,0.2),0 0 0 1px rgba(0,0,0,0.08)\",\"sbpl\":16,\"sbpr\":16,\"scd\":10,\"stok\":\"dEQ2Aylix5272EUCGPPv9jNRWVM\",\"uhde\":false}}';google.pmc=JSON.parse(pmc);})();</script> </body></html>,\n",
       " <head><meta content=\"text/html; charset=utf-8\" http-equiv=\"Content-Type\"/><meta content=\"/logos/doodles/2021/googles-23rd-birthday-6753651837109087-law.gif\" itemprop=\"image\"/><meta content=\"Google 설립 23주년\" property=\"twitter:title\"/><meta content=\"Google 설립 23주년 #Google기념일로고\" property=\"twitter:description\"/><meta content=\"Google 설립 23주년 #Google기념일로고\" property=\"og:description\"/><meta content=\"summary_large_image\" property=\"twitter:card\"/><meta content=\"@GoogleDoodles\" property=\"twitter:site\"/><meta content=\"https://www.google.com/logos/doodles/2021/googles-23rd-birthday-6753651837109087-2xa.gif\" property=\"twitter:image\"/><meta content=\"https://www.google.com/logos/doodles/2021/googles-23rd-birthday-6753651837109087-2xa.gif\" property=\"og:image\"/><meta content=\"735\" property=\"og:image:width\"/><meta content=\"440\" property=\"og:image:height\"/><meta content=\"https://www.google.com/logos/doodles/2021/googles-23rd-birthday-6753651837109087-2xa.gif\" property=\"og:url\"/><meta content=\"video.other\" property=\"og:type\"/><title>Google</title><script nonce=\"zQ6+sFs3keAf9puIfUaPcw==\">(function(){window.google={kEI:'5yBRYaXlKMLAhwOzu6boCw',kEXPI:'0,1302536,56873,6059,206,4804,2316,383,246,5,1354,5250,1122516,1197751,650,328866,51223,16115,28684,17572,1325,3534,1361,284,9007,3027,4746,12835,4020,978,13228,3847,4192,6430,7432,11613,2777,919,5081,1593,1279,2214,529,148,1103,840,2196,4101,3514,606,2023,1777,520,14670,3227,2845,7,4773,826,6755,5096,11625,4695,908,2,940,2615,13142,3,346,230,6459,150,12313,1661,4,1252,276,2304,1236,5803,4684,2011,6576,11802,2658,4243,2458,656,30,11412,2216,1592,713,638,1494,16786,5800,2557,992,3102,3138,6,908,3,3541,1,11373,3337,1816,281,912,5992,16728,1715,2,10554,3468,1931,3911,1678,744,5852,2050,6824,1589,1160,1269,7811,749,1970,4545,3,4046,1427,4148,487,3604,2,6,7755,1932,2636,2577,3136,539,2075,400,503,1016,3,583,794,1264,85,182,630,2249,720,2,1517,2,869,760,653,4,2935,843,173,141,28,86,78,39,197,694,559,1401,2484,540,849,1503,244,1081,745,1080,39,41,462,1117,3,374,180,2,146,1636,635,323,729,370,1,301,227,754,798,4,191,1359,3304,3,2,275,88,9,677,13,34,2,213,133,274,484,550,1073,928,590,5564502,3904,99,347,72,88,45,1802684,95,4193884,2799374,1323,882,444,1,2,80,1,1797,2,7,2553,1,748,141,801,557,1,4265,1,1,2,1331,4142,2609,155,17,13,72,139,4,2,20,2,169,13,19,46,5,39,96,548,29,2,2,1,2,1,2,2,7,4,1,2,2,2,2,2,2,353,513,186,1,1,158,3,2,2,2,2,2,4,2,3,3,269,461,2,45,3,40,14,3,11,9,14,28,10,33,3,3,2,12,2,35,1,2,5,2,1,41,1,1,1,1,13,23953923,4041352,276,62,3,2414,448,2,1041,9,3239,678,858,883,636,221,775,806353',kBL:'lszj'};google.sn='webhp';google.kHL='ko';})();(function(){\n",
       " var f=this||self;var h,k=[];function l(a){for(var b;a&&(!a.getAttribute||!(b=a.getAttribute(\"eid\")));)a=a.parentNode;return b||h}function m(a){for(var b=null;a&&(!a.getAttribute||!(b=a.getAttribute(\"leid\")));)a=a.parentNode;return b}\n",
       " function n(a,b,c,d,g){var e=\"\";c||-1!==b.search(\"&ei=\")||(e=\"&ei=\"+l(d),-1===b.search(\"&lei=\")&&(d=m(d))&&(e+=\"&lei=\"+d));d=\"\";!c&&f._cshid&&-1===b.search(\"&cshid=\")&&\"slh\"!==a&&(d=\"&cshid=\"+f._cshid);c=c||\"/\"+(g||\"gen_204\")+\"?atyp=i&ct=\"+a+\"&cad=\"+b+e+\"&zx=\"+Date.now()+d;/^http:/i.test(c)&&\"https:\"===window.location.protocol&&(google.ml&&google.ml(Error(\"a\"),!1,{src:c,glmm:1}),c=\"\");return c};h=google.kEI;google.getEI=l;google.getLEI=m;google.ml=function(){return null};google.log=function(a,b,c,d,g){if(c=n(a,b,c,d,g)){a=new Image;var e=k.length;k[e]=a;a.onerror=a.onload=a.onabort=function(){delete k[e]};a.src=c}};google.logUrl=n;}).call(this);(function(){\n",
       " google.y={};google.sy=[];google.x=function(a,b){if(a)var c=a.id;else{do c=Math.random();while(google.y[c])}google.y[c]=[a,b];return!1};google.sx=function(a){google.sy.push(a)};google.lm=[];google.plm=function(a){google.lm.push.apply(google.lm,a)};google.lq=[];google.load=function(a,b,c){google.lq.push([[a],b,c])};google.loadAll=function(a,b){google.lq.push([a,b])};google.bx=!1;google.lx=function(){};}).call(this);google.f={};(function(){\n",
       " document.documentElement.addEventListener(\"submit\",function(b){var a;if(a=b.target){var c=a.getAttribute(\"data-submitfalse\");a=\"1\"===c||\"q\"===c&&!a.elements.q.value?!0:!1}else a=!1;a&&(b.preventDefault(),b.stopPropagation())},!0);document.documentElement.addEventListener(\"click\",function(b){var a;a:{for(a=b.target;a&&a!==document.documentElement;a=a.parentElement)if(\"A\"===a.tagName){a=\"1\"===a.getAttribute(\"data-nohref\");break a}a=!1}a&&b.preventDefault()},!0);}).call(this);</script><style>#gbar,#guser{font-size:13px;padding-top:1px !important;}#gbar{height:22px}#guser{padding-bottom:7px !important;text-align:right}.gbh,.gbd{border-top:1px solid #c9d7f1;font-size:1px}.gbh{height:0;position:absolute;top:24px;width:100%}@media all{.gb1{height:22px;margin-right:.5em;vertical-align:top}#gbar{float:left}}a.gb1,a.gb4{text-decoration:underline !important}a.gb1,a.gb4{color:#00c !important}.gbi .gb4{color:#dd8e27 !important}.gbf .gb4{color:#900 !important}\n",
       " </style><style>body,td,a,p,.h{font-family:&#44404;&#47548;,&#46027;&#50880;,arial,sans-serif}.ko{font-size:9pt}body{margin:0;overflow-y:scroll}#gog{padding:3px 8px 0}td{line-height:.8em}.gac_m td{line-height:17px}form{margin-bottom:20px}.h{color:#1558d6}em{font-weight:bold;font-style:normal}.lst{height:25px;width:496px}.gsfi,.lst{font:18px arial,sans-serif}.gsfs{font:17px arial,sans-serif}.ds{display:inline-box;display:inline-block;margin:3px 0 4px;margin-left:4px}input{font-family:inherit}body{background:#fff;color:#000}a{color:#4b11a8;text-decoration:none}a:hover,a:active{text-decoration:underline}.fl a{color:#1558d6}a:visited{color:#4b11a8}.sblc{padding-top:5px}.sblc a{display:block;margin:2px 0;margin-left:13px;font-size:11px}.lsbb{background:#f8f9fa;border:solid 1px;border-color:#dadce0 #70757a #70757a #dadce0;height:30px}.lsbb{display:block}#WqQANb a{display:inline-block;margin:0 12px}.lsb{background:url(/images/nav_logo229.png) 0 -261px repeat-x;border:none;color:#000;cursor:pointer;height:30px;margin:0;outline:0;font:15px arial,sans-serif;vertical-align:top}.lsb:active{background:#dadce0}.lst:focus{outline:none}.tiah{width:458px}</style><script nonce=\"zQ6+sFs3keAf9puIfUaPcw==\">(function(){window.google.erd={sp:'hp',jsr:0,bv:46};\n",
       " var f=this||self;var g,h,k=null!==(g=f.mei)&&void 0!==g?g:1,l=null!==(h=f.sdo)&&void 0!==h?h:!0,n=0,p,q=google.erd,t=q.jsr;google.ml=function(a,b,e,m,d){d=void 0===d?2:d;b&&(p=a&&a.message);if(google.dl)return google.dl(a,d,e),null;if(0>t){window.console&&console.error(a,e);if(-2===t)throw a;b=!1}else b=!a||!a.message||\"Error loading script\"===a.message||n>=k&&!m?!1:!0;if(!b)return null;n++;e=e||{};b=encodeURIComponent;var c=\"/gen_204?atyp=i&ei=\"+b(google.kEI);google.kEXPI&&(c+=\"&jexpid=\"+b(google.kEXPI));c+=\"&srcpg=\"+b(q.sp)+\"&jsr=\"+b(q.jsr)+\"&bver=\"+b(q.bv)+(\"&jsel=\"+d);c+=\"&sn=\"+b(google.sn);for(var r in e)c+=\"&\",c+=b(r),c+=\"=\",c+=b(e[r]);c=c+\"&emsg=\"+b(a.name+\": \"+a.message);c=c+\"&jsst=\"+b(a.stack||\"N/A\");12288<=c.length&&(c=c.substr(0,12288));a=c;m||google.log(0,\"\",a);return a};window.onerror=function(a,b,e,m,d){p!==a&&google.ml(d instanceof Error?d:Error(a),!1,void 0,!1,google.dl?0:2);p=null;l&&n>=k&&(window.onerror=null)};})();</script></head>,\n",
       " <meta content=\"text/html; charset=utf-8\" http-equiv=\"Content-Type\"/>,\n",
       " <meta content=\"/logos/doodles/2021/googles-23rd-birthday-6753651837109087-law.gif\" itemprop=\"image\"/>,\n",
       " <meta content=\"Google 설립 23주년\" property=\"twitter:title\"/>,\n",
       " <meta content=\"Google 설립 23주년 #Google기념일로고\" property=\"twitter:description\"/>,\n",
       " <meta content=\"Google 설립 23주년 #Google기념일로고\" property=\"og:description\"/>,\n",
       " <meta content=\"summary_large_image\" property=\"twitter:card\"/>,\n",
       " <meta content=\"@GoogleDoodles\" property=\"twitter:site\"/>,\n",
       " <meta content=\"https://www.google.com/logos/doodles/2021/googles-23rd-birthday-6753651837109087-2xa.gif\" property=\"twitter:image\"/>,\n",
       " <meta content=\"https://www.google.com/logos/doodles/2021/googles-23rd-birthday-6753651837109087-2xa.gif\" property=\"og:image\"/>,\n",
       " <meta content=\"735\" property=\"og:image:width\"/>,\n",
       " <meta content=\"440\" property=\"og:image:height\"/>,\n",
       " <meta content=\"https://www.google.com/logos/doodles/2021/googles-23rd-birthday-6753651837109087-2xa.gif\" property=\"og:url\"/>,\n",
       " <meta content=\"video.other\" property=\"og:type\"/>,\n",
       " <title>Google</title>,\n",
       " <script nonce=\"zQ6+sFs3keAf9puIfUaPcw==\">(function(){window.google={kEI:'5yBRYaXlKMLAhwOzu6boCw',kEXPI:'0,1302536,56873,6059,206,4804,2316,383,246,5,1354,5250,1122516,1197751,650,328866,51223,16115,28684,17572,1325,3534,1361,284,9007,3027,4746,12835,4020,978,13228,3847,4192,6430,7432,11613,2777,919,5081,1593,1279,2214,529,148,1103,840,2196,4101,3514,606,2023,1777,520,14670,3227,2845,7,4773,826,6755,5096,11625,4695,908,2,940,2615,13142,3,346,230,6459,150,12313,1661,4,1252,276,2304,1236,5803,4684,2011,6576,11802,2658,4243,2458,656,30,11412,2216,1592,713,638,1494,16786,5800,2557,992,3102,3138,6,908,3,3541,1,11373,3337,1816,281,912,5992,16728,1715,2,10554,3468,1931,3911,1678,744,5852,2050,6824,1589,1160,1269,7811,749,1970,4545,3,4046,1427,4148,487,3604,2,6,7755,1932,2636,2577,3136,539,2075,400,503,1016,3,583,794,1264,85,182,630,2249,720,2,1517,2,869,760,653,4,2935,843,173,141,28,86,78,39,197,694,559,1401,2484,540,849,1503,244,1081,745,1080,39,41,462,1117,3,374,180,2,146,1636,635,323,729,370,1,301,227,754,798,4,191,1359,3304,3,2,275,88,9,677,13,34,2,213,133,274,484,550,1073,928,590,5564502,3904,99,347,72,88,45,1802684,95,4193884,2799374,1323,882,444,1,2,80,1,1797,2,7,2553,1,748,141,801,557,1,4265,1,1,2,1331,4142,2609,155,17,13,72,139,4,2,20,2,169,13,19,46,5,39,96,548,29,2,2,1,2,1,2,2,7,4,1,2,2,2,2,2,2,353,513,186,1,1,158,3,2,2,2,2,2,4,2,3,3,269,461,2,45,3,40,14,3,11,9,14,28,10,33,3,3,2,12,2,35,1,2,5,2,1,41,1,1,1,1,13,23953923,4041352,276,62,3,2414,448,2,1041,9,3239,678,858,883,636,221,775,806353',kBL:'lszj'};google.sn='webhp';google.kHL='ko';})();(function(){\n",
       " var f=this||self;var h,k=[];function l(a){for(var b;a&&(!a.getAttribute||!(b=a.getAttribute(\"eid\")));)a=a.parentNode;return b||h}function m(a){for(var b=null;a&&(!a.getAttribute||!(b=a.getAttribute(\"leid\")));)a=a.parentNode;return b}\n",
       " function n(a,b,c,d,g){var e=\"\";c||-1!==b.search(\"&ei=\")||(e=\"&ei=\"+l(d),-1===b.search(\"&lei=\")&&(d=m(d))&&(e+=\"&lei=\"+d));d=\"\";!c&&f._cshid&&-1===b.search(\"&cshid=\")&&\"slh\"!==a&&(d=\"&cshid=\"+f._cshid);c=c||\"/\"+(g||\"gen_204\")+\"?atyp=i&ct=\"+a+\"&cad=\"+b+e+\"&zx=\"+Date.now()+d;/^http:/i.test(c)&&\"https:\"===window.location.protocol&&(google.ml&&google.ml(Error(\"a\"),!1,{src:c,glmm:1}),c=\"\");return c};h=google.kEI;google.getEI=l;google.getLEI=m;google.ml=function(){return null};google.log=function(a,b,c,d,g){if(c=n(a,b,c,d,g)){a=new Image;var e=k.length;k[e]=a;a.onerror=a.onload=a.onabort=function(){delete k[e]};a.src=c}};google.logUrl=n;}).call(this);(function(){\n",
       " google.y={};google.sy=[];google.x=function(a,b){if(a)var c=a.id;else{do c=Math.random();while(google.y[c])}google.y[c]=[a,b];return!1};google.sx=function(a){google.sy.push(a)};google.lm=[];google.plm=function(a){google.lm.push.apply(google.lm,a)};google.lq=[];google.load=function(a,b,c){google.lq.push([[a],b,c])};google.loadAll=function(a,b){google.lq.push([a,b])};google.bx=!1;google.lx=function(){};}).call(this);google.f={};(function(){\n",
       " document.documentElement.addEventListener(\"submit\",function(b){var a;if(a=b.target){var c=a.getAttribute(\"data-submitfalse\");a=\"1\"===c||\"q\"===c&&!a.elements.q.value?!0:!1}else a=!1;a&&(b.preventDefault(),b.stopPropagation())},!0);document.documentElement.addEventListener(\"click\",function(b){var a;a:{for(a=b.target;a&&a!==document.documentElement;a=a.parentElement)if(\"A\"===a.tagName){a=\"1\"===a.getAttribute(\"data-nohref\");break a}a=!1}a&&b.preventDefault()},!0);}).call(this);</script>,\n",
       " <style>#gbar,#guser{font-size:13px;padding-top:1px !important;}#gbar{height:22px}#guser{padding-bottom:7px !important;text-align:right}.gbh,.gbd{border-top:1px solid #c9d7f1;font-size:1px}.gbh{height:0;position:absolute;top:24px;width:100%}@media all{.gb1{height:22px;margin-right:.5em;vertical-align:top}#gbar{float:left}}a.gb1,a.gb4{text-decoration:underline !important}a.gb1,a.gb4{color:#00c !important}.gbi .gb4{color:#dd8e27 !important}.gbf .gb4{color:#900 !important}\n",
       " </style>,\n",
       " <style>body,td,a,p,.h{font-family:&#44404;&#47548;,&#46027;&#50880;,arial,sans-serif}.ko{font-size:9pt}body{margin:0;overflow-y:scroll}#gog{padding:3px 8px 0}td{line-height:.8em}.gac_m td{line-height:17px}form{margin-bottom:20px}.h{color:#1558d6}em{font-weight:bold;font-style:normal}.lst{height:25px;width:496px}.gsfi,.lst{font:18px arial,sans-serif}.gsfs{font:17px arial,sans-serif}.ds{display:inline-box;display:inline-block;margin:3px 0 4px;margin-left:4px}input{font-family:inherit}body{background:#fff;color:#000}a{color:#4b11a8;text-decoration:none}a:hover,a:active{text-decoration:underline}.fl a{color:#1558d6}a:visited{color:#4b11a8}.sblc{padding-top:5px}.sblc a{display:block;margin:2px 0;margin-left:13px;font-size:11px}.lsbb{background:#f8f9fa;border:solid 1px;border-color:#dadce0 #70757a #70757a #dadce0;height:30px}.lsbb{display:block}#WqQANb a{display:inline-block;margin:0 12px}.lsb{background:url(/images/nav_logo229.png) 0 -261px repeat-x;border:none;color:#000;cursor:pointer;height:30px;margin:0;outline:0;font:15px arial,sans-serif;vertical-align:top}.lsb:active{background:#dadce0}.lst:focus{outline:none}.tiah{width:458px}</style>,\n",
       " <script nonce=\"zQ6+sFs3keAf9puIfUaPcw==\">(function(){window.google.erd={sp:'hp',jsr:0,bv:46};\n",
       " var f=this||self;var g,h,k=null!==(g=f.mei)&&void 0!==g?g:1,l=null!==(h=f.sdo)&&void 0!==h?h:!0,n=0,p,q=google.erd,t=q.jsr;google.ml=function(a,b,e,m,d){d=void 0===d?2:d;b&&(p=a&&a.message);if(google.dl)return google.dl(a,d,e),null;if(0>t){window.console&&console.error(a,e);if(-2===t)throw a;b=!1}else b=!a||!a.message||\"Error loading script\"===a.message||n>=k&&!m?!1:!0;if(!b)return null;n++;e=e||{};b=encodeURIComponent;var c=\"/gen_204?atyp=i&ei=\"+b(google.kEI);google.kEXPI&&(c+=\"&jexpid=\"+b(google.kEXPI));c+=\"&srcpg=\"+b(q.sp)+\"&jsr=\"+b(q.jsr)+\"&bver=\"+b(q.bv)+(\"&jsel=\"+d);c+=\"&sn=\"+b(google.sn);for(var r in e)c+=\"&\",c+=b(r),c+=\"=\",c+=b(e[r]);c=c+\"&emsg=\"+b(a.name+\": \"+a.message);c=c+\"&jsst=\"+b(a.stack||\"N/A\");12288<=c.length&&(c=c.substr(0,12288));a=c;m||google.log(0,\"\",a);return a};window.onerror=function(a,b,e,m,d){p!==a&&google.ml(d instanceof Error?d:Error(a),!1,void 0,!1,google.dl?0:2);p=null;l&&n>=k&&(window.onerror=null)};})();</script>,\n",
       " <body bgcolor=\"#fff\"><script nonce=\"zQ6+sFs3keAf9puIfUaPcw==\">(function(){var src='/images/nav_logo229.png';var iesg=false;document.body.onload = function(){window.n && window.n();if (document.images){new Image().src=src;}\n",
       " if (!iesg){document.f&&document.f.q.focus();document.gbqf&&document.gbqf.q.focus();}\n",
       " }\n",
       " })();</script><div id=\"mngb\"><div id=\"gbar\"><nobr><b class=\"gb1\">검색</b> <a class=\"gb1\" href=\"http://www.google.co.kr/imghp?hl=ko&amp;tab=wi\">이미지</a> <a class=\"gb1\" href=\"http://maps.google.co.kr/maps?hl=ko&amp;tab=wl\">지도</a> <a class=\"gb1\" href=\"https://play.google.com/?hl=ko&amp;tab=w8\">Play</a> <a class=\"gb1\" href=\"http://www.youtube.com/?gl=KR&amp;tab=w1\">YouTube</a> <a class=\"gb1\" href=\"https://news.google.com/?tab=wn\">뉴스</a> <a class=\"gb1\" href=\"https://mail.google.com/mail/?tab=wm\">Gmail</a> <a class=\"gb1\" href=\"https://drive.google.com/?tab=wo\">드라이브</a> <a class=\"gb1\" href=\"https://www.google.co.kr/intl/ko/about/products?tab=wh\" style=\"text-decoration:none\"><u>더보기</u> »</a></nobr></div><div id=\"guser\" width=\"100%\"><nobr><span class=\"gbi\" id=\"gbn\"></span><span class=\"gbf\" id=\"gbf\"></span><span id=\"gbe\"></span><a class=\"gb4\" href=\"http://www.google.co.kr/history/optout?hl=ko\">웹 기록</a> | <a class=\"gb4\" href=\"/preferences?hl=ko\">설정</a> | <a class=\"gb4\" href=\"https://accounts.google.com/ServiceLogin?hl=ko&amp;passive=true&amp;continue=http://www.google.com/&amp;ec=GAZAAQ\" id=\"gb_70\" target=\"_top\">로그인</a></nobr></div><div class=\"gbh\" style=\"left:0\"></div><div class=\"gbh\" style=\"right:0\"></div></div><center><br clear=\"all\" id=\"lgpd\"/><div id=\"lga\"><a href=\"/search?ie=UTF-8&amp;q=Google+&amp;oi=ddle&amp;ct=174788361&amp;hl=ko&amp;si=AHuW2sTKkcygiABA_QY_APML0LA-zLeY72p7cWUnG9AtyAalP7HHY3dFtSWBqk8puNCUm6BnkheVtoD5vs0xVFaZgHy4zOVkJ0E9Wa5_cYARMoqWTiHqoWQ%3D&amp;sa=X&amp;ved=0ahUKEwjl9Nvigp7zAhVC4GEKHbOdCb0QPQgD\"><img alt=\"Google 설립 23주년\" border=\"0\" height=\"210\" id=\"hplogo\" src=\"/logos/doodles/2021/googles-23rd-birthday-6753651837109087-law.gif\" title=\"Google 설립 23주년\" width=\"369\"/><br/></a><br/></div><form action=\"/search\" name=\"f\"><table cellpadding=\"0\" cellspacing=\"0\"><tr valign=\"top\"><td width=\"25%\"> </td><td align=\"center\" nowrap=\"\"><input name=\"ie\" type=\"hidden\" value=\"ISO-8859-1\"/><input name=\"hl\" type=\"hidden\" value=\"ko\"/><input name=\"source\" type=\"hidden\" value=\"hp\"/><input name=\"biw\" type=\"hidden\"/><input name=\"bih\" type=\"hidden\"/><div class=\"ds\" style=\"height:32px;margin:4px 0\"><div style=\"position:relative;zoom:1\"><input autocomplete=\"off\" class=\"lst tiah\" maxlength=\"2048\" name=\"q\" size=\"57\" style=\"margin:0;padding:5px 8px 0 6px;vertical-align:top;color:#000;padding-right:38px\" title=\"Google 검색\" value=\"\"/><img alt=\"\" data-script-url=\"/textinputassistant/11/ko_tia.js\" height=\"23\" id=\"tsuid1\" src=\"/textinputassistant/tia.png\" style=\"position:absolute;cursor:pointer;right:5px;top:4px;z-index:300\" width=\"27\"/><script nonce=\"zQ6+sFs3keAf9puIfUaPcw==\">(function(){var id='tsuid1';document.getElementById(id).onclick = function(){var s = document.createElement('script');s.src = this.getAttribute('data-script-url');(document.getElementById('xjsc')||document.body).appendChild(s);};})();</script></div></div><br style=\"line-height:0\"/><span class=\"ds\"><span class=\"lsbb\"><input class=\"lsb\" name=\"btnG\" type=\"submit\" value=\"Google 검색\"/></span></span><span class=\"ds\"><span class=\"lsbb\"><input class=\"lsb\" id=\"tsuid2\" name=\"btnI\" type=\"submit\" value=\"I’m Feeling Lucky\"/><script nonce=\"zQ6+sFs3keAf9puIfUaPcw==\">(function(){var id='tsuid2';document.getElementById(id).onclick = function(){if (this.form.q.value){this.checked = 1;if (this.form.iflsig)this.form.iflsig.disabled = false;}\n",
       " else top.location='/doodles/';};})();</script><input name=\"iflsig\" type=\"hidden\" value=\"ALs-wAMAAAAAYVEu98SXZfzu6s70NOpf7RcX-RBywKd2\"/></span></span></td><td align=\"left\" class=\"fl sblc\" nowrap=\"\" width=\"25%\"><a href=\"/advanced_search?hl=ko&amp;authuser=0\">고급검색</a></td></tr></table><input id=\"gbv\" name=\"gbv\" type=\"hidden\" value=\"1\"/><script nonce=\"zQ6+sFs3keAf9puIfUaPcw==\">(function(){\n",
       " var a,b=\"1\";if(document&&document.getElementById)if(\"undefined\"!=typeof XMLHttpRequest)b=\"2\";else if(\"undefined\"!=typeof ActiveXObject){var c,d,e=[\"MSXML2.XMLHTTP.6.0\",\"MSXML2.XMLHTTP.3.0\",\"MSXML2.XMLHTTP\",\"Microsoft.XMLHTTP\"];for(c=0;d=e[c++];)try{new ActiveXObject(d),b=\"2\"}catch(h){}}a=b;if(\"2\"==a&&-1==location.search.indexOf(\"&gbv=2\")){var f=google.gbvu,g=document.getElementById(\"gbv\");g&&(g.value=a);f&&window.setTimeout(function(){location.href=f},0)};}).call(this);</script></form><div id=\"gac_scont\"></div><div style=\"font-size:83%;min-height:3.5em\"><br/></div><span id=\"footer\"><div style=\"font-size:10pt\"><div id=\"WqQANb\" style=\"margin:19px auto;text-align:center\"><a href=\"/intl/ko/ads/\">광고 프로그램</a><a href=\"http://www.google.co.kr/intl/ko/services/\">비즈니스 솔루션</a><a href=\"/intl/ko/about.html\">Google 정보</a><a href=\"http://www.google.com/setprefdomain?prefdom=KR&amp;prev=http://www.google.co.kr/&amp;sig=K_4EI3jAR89pAGkKND6HvLol07HBg%3D\">Google.co.kr</a></div></div><p style=\"font-size:8pt;color:#70757a\">© 2021 - <a href=\"/intl/ko/policies/privacy/\">개인정보처리방침</a> - <a href=\"/intl/ko/policies/terms/\">약관</a></p></span></center><script nonce=\"zQ6+sFs3keAf9puIfUaPcw==\">(function(){window.google.cdo={height:757,width:1440};(function(){\n",
       " var a=window.innerWidth,b=window.innerHeight;if(!a||!b){var c=window.document,d=\"CSS1Compat\"==c.compatMode?c.documentElement:c.body;a=d.clientWidth;b=d.clientHeight}a&&b&&(a!=google.cdo.width||b!=google.cdo.height)&&google.log(\"\",\"\",\"/client_204?&atyp=i&biw=\"+a+\"&bih=\"+b+\"&ei=\"+google.kEI);}).call(this);})();</script> <script nonce=\"zQ6+sFs3keAf9puIfUaPcw==\">(function(){google.xjs={ck:'',cs:'',excm:[]};})();</script> <script nonce=\"zQ6+sFs3keAf9puIfUaPcw==\">(function(){var u='/xjs/_/js/k=xjs.hp.en.3-3KfVctVSg.O/am=APgEWA/d=1/ed=1/rs=ACT90oFYtpgGNdnD55sATsmsQTnqOWDvYw/m=sb_he,d';\n",
       " var e=this||self,f=function(a){return a};var g;var l=function(a,b){this.g=b===h?a:\"\"};l.prototype.toString=function(){return this.g+\"\"};var h={};\n",
       " function m(){var a=u;google.lx=function(){n(a);google.lx=function(){}};google.bx||google.lx()}\n",
       " function n(a){google.timers&&google.timers.load&&google.tick&&google.tick(\"load\",\"xjsls\");var b=document;var c=\"SCRIPT\";\"application/xhtml+xml\"===b.contentType&&(c=c.toLowerCase());c=b.createElement(c);if(void 0===g){b=null;var k=e.trustedTypes;if(k&&k.createPolicy){try{b=k.createPolicy(\"goog#html\",{createHTML:f,createScript:f,createScriptURL:f})}catch(p){e.console&&e.console.error(p.message)}g=b}else g=b}a=(b=g)?b.createScriptURL(a):a;a=new l(a,h);c.src=a instanceof l&&a.constructor===l?a.g:\"type_error:TrustedResourceUrl\";var d;a=(c.ownerDocument&&c.ownerDocument.defaultView||window).document;(d=(b=null===(d=a.querySelector)||void 0===d?void 0:d.call(a,\"script[nonce]\"))?b.nonce||b.getAttribute(\"nonce\")||\"\":\"\")&&c.setAttribute(\"nonce\",d);document.body.appendChild(c);google.psa=!0};setTimeout(function(){m()},0);})();(function(){window.google.xjsu='/xjs/_/js/k=xjs.hp.en.3-3KfVctVSg.O/am=APgEWA/d=1/ed=1/rs=ACT90oFYtpgGNdnD55sATsmsQTnqOWDvYw/m=sb_he,d';})();function _DumpException(e){throw e;}\n",
       " function _F_installCss(c){}\n",
       " (function(){google.jl={attn:false,blt:'none',chnk:0,dw:false,dwu:false,emtn:0,end:0,ine:false,lls:'default',pdt:0,rep:0,snet:true,strt:0,ubm:false,uwp:true};})();(function(){var pmc='{\"d\":{},\"sb_he\":{\"agen\":true,\"cgen\":true,\"client\":\"heirloom-hp\",\"dh\":true,\"dhqt\":true,\"ds\":\"\",\"ffql\":\"ko\",\"fl\":true,\"host\":\"google.com\",\"isbh\":28,\"jsonp\":true,\"msgs\":{\"cibl\":\"&#44160;&#49353;&#50612; &#51648;&#50864;&#44592;\",\"dym\":\"&#51060;&#44163;&#51012; &#52286;&#51004;&#49512;&#45208;&#50836;?\",\"lcky\":\"I&#8217;m Feeling Lucky\",\"lml\":\"&#51088;&#49464;&#55176; &#50508;&#50500;&#48372;&#44592;\",\"oskt\":\"&#51077;&#47141; &#46020;&#44396;\",\"psrc\":\"&#44160;&#49353;&#50612;&#44032; \\u003Ca href=\\\"/history\\\"\\u003E&#50937; &#44592;&#47197;\\u003C/a\\u003E&#50640;&#49436; &#49325;&#51228;&#46104;&#50632;&#49845;&#45768;&#45796;.\",\"psrl\":\"&#49325;&#51228;\",\"sbit\":\"&#51060;&#48120;&#51648;&#47196; &#44160;&#49353;\",\"srch\":\"Google &#44160;&#49353;\"},\"ovr\":{},\"pq\":\"\",\"refpd\":true,\"refspre\":true,\"rfs\":[],\"sbas\":\"0 3px 8px 0 rgba(0,0,0,0.2),0 0 0 1px rgba(0,0,0,0.08)\",\"sbpl\":16,\"sbpr\":16,\"scd\":10,\"stok\":\"dEQ2Aylix5272EUCGPPv9jNRWVM\",\"uhde\":false}}';google.pmc=JSON.parse(pmc);})();</script> </body>,\n",
       " <script nonce=\"zQ6+sFs3keAf9puIfUaPcw==\">(function(){var src='/images/nav_logo229.png';var iesg=false;document.body.onload = function(){window.n && window.n();if (document.images){new Image().src=src;}\n",
       " if (!iesg){document.f&&document.f.q.focus();document.gbqf&&document.gbqf.q.focus();}\n",
       " }\n",
       " })();</script>,\n",
       " <div id=\"mngb\"><div id=\"gbar\"><nobr><b class=\"gb1\">검색</b> <a class=\"gb1\" href=\"http://www.google.co.kr/imghp?hl=ko&amp;tab=wi\">이미지</a> <a class=\"gb1\" href=\"http://maps.google.co.kr/maps?hl=ko&amp;tab=wl\">지도</a> <a class=\"gb1\" href=\"https://play.google.com/?hl=ko&amp;tab=w8\">Play</a> <a class=\"gb1\" href=\"http://www.youtube.com/?gl=KR&amp;tab=w1\">YouTube</a> <a class=\"gb1\" href=\"https://news.google.com/?tab=wn\">뉴스</a> <a class=\"gb1\" href=\"https://mail.google.com/mail/?tab=wm\">Gmail</a> <a class=\"gb1\" href=\"https://drive.google.com/?tab=wo\">드라이브</a> <a class=\"gb1\" href=\"https://www.google.co.kr/intl/ko/about/products?tab=wh\" style=\"text-decoration:none\"><u>더보기</u> »</a></nobr></div><div id=\"guser\" width=\"100%\"><nobr><span class=\"gbi\" id=\"gbn\"></span><span class=\"gbf\" id=\"gbf\"></span><span id=\"gbe\"></span><a class=\"gb4\" href=\"http://www.google.co.kr/history/optout?hl=ko\">웹 기록</a> | <a class=\"gb4\" href=\"/preferences?hl=ko\">설정</a> | <a class=\"gb4\" href=\"https://accounts.google.com/ServiceLogin?hl=ko&amp;passive=true&amp;continue=http://www.google.com/&amp;ec=GAZAAQ\" id=\"gb_70\" target=\"_top\">로그인</a></nobr></div><div class=\"gbh\" style=\"left:0\"></div><div class=\"gbh\" style=\"right:0\"></div></div>,\n",
       " <div id=\"gbar\"><nobr><b class=\"gb1\">검색</b> <a class=\"gb1\" href=\"http://www.google.co.kr/imghp?hl=ko&amp;tab=wi\">이미지</a> <a class=\"gb1\" href=\"http://maps.google.co.kr/maps?hl=ko&amp;tab=wl\">지도</a> <a class=\"gb1\" href=\"https://play.google.com/?hl=ko&amp;tab=w8\">Play</a> <a class=\"gb1\" href=\"http://www.youtube.com/?gl=KR&amp;tab=w1\">YouTube</a> <a class=\"gb1\" href=\"https://news.google.com/?tab=wn\">뉴스</a> <a class=\"gb1\" href=\"https://mail.google.com/mail/?tab=wm\">Gmail</a> <a class=\"gb1\" href=\"https://drive.google.com/?tab=wo\">드라이브</a> <a class=\"gb1\" href=\"https://www.google.co.kr/intl/ko/about/products?tab=wh\" style=\"text-decoration:none\"><u>더보기</u> »</a></nobr></div>,\n",
       " <nobr><b class=\"gb1\">검색</b> <a class=\"gb1\" href=\"http://www.google.co.kr/imghp?hl=ko&amp;tab=wi\">이미지</a> <a class=\"gb1\" href=\"http://maps.google.co.kr/maps?hl=ko&amp;tab=wl\">지도</a> <a class=\"gb1\" href=\"https://play.google.com/?hl=ko&amp;tab=w8\">Play</a> <a class=\"gb1\" href=\"http://www.youtube.com/?gl=KR&amp;tab=w1\">YouTube</a> <a class=\"gb1\" href=\"https://news.google.com/?tab=wn\">뉴스</a> <a class=\"gb1\" href=\"https://mail.google.com/mail/?tab=wm\">Gmail</a> <a class=\"gb1\" href=\"https://drive.google.com/?tab=wo\">드라이브</a> <a class=\"gb1\" href=\"https://www.google.co.kr/intl/ko/about/products?tab=wh\" style=\"text-decoration:none\"><u>더보기</u> »</a></nobr>,\n",
       " <b class=\"gb1\">검색</b>,\n",
       " <a class=\"gb1\" href=\"http://www.google.co.kr/imghp?hl=ko&amp;tab=wi\">이미지</a>,\n",
       " <a class=\"gb1\" href=\"http://maps.google.co.kr/maps?hl=ko&amp;tab=wl\">지도</a>,\n",
       " <a class=\"gb1\" href=\"https://play.google.com/?hl=ko&amp;tab=w8\">Play</a>,\n",
       " <a class=\"gb1\" href=\"http://www.youtube.com/?gl=KR&amp;tab=w1\">YouTube</a>,\n",
       " <a class=\"gb1\" href=\"https://news.google.com/?tab=wn\">뉴스</a>,\n",
       " <a class=\"gb1\" href=\"https://mail.google.com/mail/?tab=wm\">Gmail</a>,\n",
       " <a class=\"gb1\" href=\"https://drive.google.com/?tab=wo\">드라이브</a>,\n",
       " <a class=\"gb1\" href=\"https://www.google.co.kr/intl/ko/about/products?tab=wh\" style=\"text-decoration:none\"><u>더보기</u> »</a>,\n",
       " <u>더보기</u>,\n",
       " <div id=\"guser\" width=\"100%\"><nobr><span class=\"gbi\" id=\"gbn\"></span><span class=\"gbf\" id=\"gbf\"></span><span id=\"gbe\"></span><a class=\"gb4\" href=\"http://www.google.co.kr/history/optout?hl=ko\">웹 기록</a> | <a class=\"gb4\" href=\"/preferences?hl=ko\">설정</a> | <a class=\"gb4\" href=\"https://accounts.google.com/ServiceLogin?hl=ko&amp;passive=true&amp;continue=http://www.google.com/&amp;ec=GAZAAQ\" id=\"gb_70\" target=\"_top\">로그인</a></nobr></div>,\n",
       " <nobr><span class=\"gbi\" id=\"gbn\"></span><span class=\"gbf\" id=\"gbf\"></span><span id=\"gbe\"></span><a class=\"gb4\" href=\"http://www.google.co.kr/history/optout?hl=ko\">웹 기록</a> | <a class=\"gb4\" href=\"/preferences?hl=ko\">설정</a> | <a class=\"gb4\" href=\"https://accounts.google.com/ServiceLogin?hl=ko&amp;passive=true&amp;continue=http://www.google.com/&amp;ec=GAZAAQ\" id=\"gb_70\" target=\"_top\">로그인</a></nobr>,\n",
       " <span class=\"gbi\" id=\"gbn\"></span>,\n",
       " <span class=\"gbf\" id=\"gbf\"></span>,\n",
       " <span id=\"gbe\"></span>,\n",
       " <a class=\"gb4\" href=\"http://www.google.co.kr/history/optout?hl=ko\">웹 기록</a>,\n",
       " <a class=\"gb4\" href=\"/preferences?hl=ko\">설정</a>,\n",
       " <a class=\"gb4\" href=\"https://accounts.google.com/ServiceLogin?hl=ko&amp;passive=true&amp;continue=http://www.google.com/&amp;ec=GAZAAQ\" id=\"gb_70\" target=\"_top\">로그인</a>,\n",
       " <div class=\"gbh\" style=\"left:0\"></div>,\n",
       " <div class=\"gbh\" style=\"right:0\"></div>,\n",
       " <center><br clear=\"all\" id=\"lgpd\"/><div id=\"lga\"><a href=\"/search?ie=UTF-8&amp;q=Google+&amp;oi=ddle&amp;ct=174788361&amp;hl=ko&amp;si=AHuW2sTKkcygiABA_QY_APML0LA-zLeY72p7cWUnG9AtyAalP7HHY3dFtSWBqk8puNCUm6BnkheVtoD5vs0xVFaZgHy4zOVkJ0E9Wa5_cYARMoqWTiHqoWQ%3D&amp;sa=X&amp;ved=0ahUKEwjl9Nvigp7zAhVC4GEKHbOdCb0QPQgD\"><img alt=\"Google 설립 23주년\" border=\"0\" height=\"210\" id=\"hplogo\" src=\"/logos/doodles/2021/googles-23rd-birthday-6753651837109087-law.gif\" title=\"Google 설립 23주년\" width=\"369\"/><br/></a><br/></div><form action=\"/search\" name=\"f\"><table cellpadding=\"0\" cellspacing=\"0\"><tr valign=\"top\"><td width=\"25%\"> </td><td align=\"center\" nowrap=\"\"><input name=\"ie\" type=\"hidden\" value=\"ISO-8859-1\"/><input name=\"hl\" type=\"hidden\" value=\"ko\"/><input name=\"source\" type=\"hidden\" value=\"hp\"/><input name=\"biw\" type=\"hidden\"/><input name=\"bih\" type=\"hidden\"/><div class=\"ds\" style=\"height:32px;margin:4px 0\"><div style=\"position:relative;zoom:1\"><input autocomplete=\"off\" class=\"lst tiah\" maxlength=\"2048\" name=\"q\" size=\"57\" style=\"margin:0;padding:5px 8px 0 6px;vertical-align:top;color:#000;padding-right:38px\" title=\"Google 검색\" value=\"\"/><img alt=\"\" data-script-url=\"/textinputassistant/11/ko_tia.js\" height=\"23\" id=\"tsuid1\" src=\"/textinputassistant/tia.png\" style=\"position:absolute;cursor:pointer;right:5px;top:4px;z-index:300\" width=\"27\"/><script nonce=\"zQ6+sFs3keAf9puIfUaPcw==\">(function(){var id='tsuid1';document.getElementById(id).onclick = function(){var s = document.createElement('script');s.src = this.getAttribute('data-script-url');(document.getElementById('xjsc')||document.body).appendChild(s);};})();</script></div></div><br style=\"line-height:0\"/><span class=\"ds\"><span class=\"lsbb\"><input class=\"lsb\" name=\"btnG\" type=\"submit\" value=\"Google 검색\"/></span></span><span class=\"ds\"><span class=\"lsbb\"><input class=\"lsb\" id=\"tsuid2\" name=\"btnI\" type=\"submit\" value=\"I’m Feeling Lucky\"/><script nonce=\"zQ6+sFs3keAf9puIfUaPcw==\">(function(){var id='tsuid2';document.getElementById(id).onclick = function(){if (this.form.q.value){this.checked = 1;if (this.form.iflsig)this.form.iflsig.disabled = false;}\n",
       " else top.location='/doodles/';};})();</script><input name=\"iflsig\" type=\"hidden\" value=\"ALs-wAMAAAAAYVEu98SXZfzu6s70NOpf7RcX-RBywKd2\"/></span></span></td><td align=\"left\" class=\"fl sblc\" nowrap=\"\" width=\"25%\"><a href=\"/advanced_search?hl=ko&amp;authuser=0\">고급검색</a></td></tr></table><input id=\"gbv\" name=\"gbv\" type=\"hidden\" value=\"1\"/><script nonce=\"zQ6+sFs3keAf9puIfUaPcw==\">(function(){\n",
       " var a,b=\"1\";if(document&&document.getElementById)if(\"undefined\"!=typeof XMLHttpRequest)b=\"2\";else if(\"undefined\"!=typeof ActiveXObject){var c,d,e=[\"MSXML2.XMLHTTP.6.0\",\"MSXML2.XMLHTTP.3.0\",\"MSXML2.XMLHTTP\",\"Microsoft.XMLHTTP\"];for(c=0;d=e[c++];)try{new ActiveXObject(d),b=\"2\"}catch(h){}}a=b;if(\"2\"==a&&-1==location.search.indexOf(\"&gbv=2\")){var f=google.gbvu,g=document.getElementById(\"gbv\");g&&(g.value=a);f&&window.setTimeout(function(){location.href=f},0)};}).call(this);</script></form><div id=\"gac_scont\"></div><div style=\"font-size:83%;min-height:3.5em\"><br/></div><span id=\"footer\"><div style=\"font-size:10pt\"><div id=\"WqQANb\" style=\"margin:19px auto;text-align:center\"><a href=\"/intl/ko/ads/\">광고 프로그램</a><a href=\"http://www.google.co.kr/intl/ko/services/\">비즈니스 솔루션</a><a href=\"/intl/ko/about.html\">Google 정보</a><a href=\"http://www.google.com/setprefdomain?prefdom=KR&amp;prev=http://www.google.co.kr/&amp;sig=K_4EI3jAR89pAGkKND6HvLol07HBg%3D\">Google.co.kr</a></div></div><p style=\"font-size:8pt;color:#70757a\">© 2021 - <a href=\"/intl/ko/policies/privacy/\">개인정보처리방침</a> - <a href=\"/intl/ko/policies/terms/\">약관</a></p></span></center>,\n",
       " <br clear=\"all\" id=\"lgpd\"/>,\n",
       " <div id=\"lga\"><a href=\"/search?ie=UTF-8&amp;q=Google+&amp;oi=ddle&amp;ct=174788361&amp;hl=ko&amp;si=AHuW2sTKkcygiABA_QY_APML0LA-zLeY72p7cWUnG9AtyAalP7HHY3dFtSWBqk8puNCUm6BnkheVtoD5vs0xVFaZgHy4zOVkJ0E9Wa5_cYARMoqWTiHqoWQ%3D&amp;sa=X&amp;ved=0ahUKEwjl9Nvigp7zAhVC4GEKHbOdCb0QPQgD\"><img alt=\"Google 설립 23주년\" border=\"0\" height=\"210\" id=\"hplogo\" src=\"/logos/doodles/2021/googles-23rd-birthday-6753651837109087-law.gif\" title=\"Google 설립 23주년\" width=\"369\"/><br/></a><br/></div>,\n",
       " <a href=\"/search?ie=UTF-8&amp;q=Google+&amp;oi=ddle&amp;ct=174788361&amp;hl=ko&amp;si=AHuW2sTKkcygiABA_QY_APML0LA-zLeY72p7cWUnG9AtyAalP7HHY3dFtSWBqk8puNCUm6BnkheVtoD5vs0xVFaZgHy4zOVkJ0E9Wa5_cYARMoqWTiHqoWQ%3D&amp;sa=X&amp;ved=0ahUKEwjl9Nvigp7zAhVC4GEKHbOdCb0QPQgD\"><img alt=\"Google 설립 23주년\" border=\"0\" height=\"210\" id=\"hplogo\" src=\"/logos/doodles/2021/googles-23rd-birthday-6753651837109087-law.gif\" title=\"Google 설립 23주년\" width=\"369\"/><br/></a>,\n",
       " <img alt=\"Google 설립 23주년\" border=\"0\" height=\"210\" id=\"hplogo\" src=\"/logos/doodles/2021/googles-23rd-birthday-6753651837109087-law.gif\" title=\"Google 설립 23주년\" width=\"369\"/>,\n",
       " <br/>,\n",
       " <br/>,\n",
       " <form action=\"/search\" name=\"f\"><table cellpadding=\"0\" cellspacing=\"0\"><tr valign=\"top\"><td width=\"25%\"> </td><td align=\"center\" nowrap=\"\"><input name=\"ie\" type=\"hidden\" value=\"ISO-8859-1\"/><input name=\"hl\" type=\"hidden\" value=\"ko\"/><input name=\"source\" type=\"hidden\" value=\"hp\"/><input name=\"biw\" type=\"hidden\"/><input name=\"bih\" type=\"hidden\"/><div class=\"ds\" style=\"height:32px;margin:4px 0\"><div style=\"position:relative;zoom:1\"><input autocomplete=\"off\" class=\"lst tiah\" maxlength=\"2048\" name=\"q\" size=\"57\" style=\"margin:0;padding:5px 8px 0 6px;vertical-align:top;color:#000;padding-right:38px\" title=\"Google 검색\" value=\"\"/><img alt=\"\" data-script-url=\"/textinputassistant/11/ko_tia.js\" height=\"23\" id=\"tsuid1\" src=\"/textinputassistant/tia.png\" style=\"position:absolute;cursor:pointer;right:5px;top:4px;z-index:300\" width=\"27\"/><script nonce=\"zQ6+sFs3keAf9puIfUaPcw==\">(function(){var id='tsuid1';document.getElementById(id).onclick = function(){var s = document.createElement('script');s.src = this.getAttribute('data-script-url');(document.getElementById('xjsc')||document.body).appendChild(s);};})();</script></div></div><br style=\"line-height:0\"/><span class=\"ds\"><span class=\"lsbb\"><input class=\"lsb\" name=\"btnG\" type=\"submit\" value=\"Google 검색\"/></span></span><span class=\"ds\"><span class=\"lsbb\"><input class=\"lsb\" id=\"tsuid2\" name=\"btnI\" type=\"submit\" value=\"I’m Feeling Lucky\"/><script nonce=\"zQ6+sFs3keAf9puIfUaPcw==\">(function(){var id='tsuid2';document.getElementById(id).onclick = function(){if (this.form.q.value){this.checked = 1;if (this.form.iflsig)this.form.iflsig.disabled = false;}\n",
       " else top.location='/doodles/';};})();</script><input name=\"iflsig\" type=\"hidden\" value=\"ALs-wAMAAAAAYVEu98SXZfzu6s70NOpf7RcX-RBywKd2\"/></span></span></td><td align=\"left\" class=\"fl sblc\" nowrap=\"\" width=\"25%\"><a href=\"/advanced_search?hl=ko&amp;authuser=0\">고급검색</a></td></tr></table><input id=\"gbv\" name=\"gbv\" type=\"hidden\" value=\"1\"/><script nonce=\"zQ6+sFs3keAf9puIfUaPcw==\">(function(){\n",
       " var a,b=\"1\";if(document&&document.getElementById)if(\"undefined\"!=typeof XMLHttpRequest)b=\"2\";else if(\"undefined\"!=typeof ActiveXObject){var c,d,e=[\"MSXML2.XMLHTTP.6.0\",\"MSXML2.XMLHTTP.3.0\",\"MSXML2.XMLHTTP\",\"Microsoft.XMLHTTP\"];for(c=0;d=e[c++];)try{new ActiveXObject(d),b=\"2\"}catch(h){}}a=b;if(\"2\"==a&&-1==location.search.indexOf(\"&gbv=2\")){var f=google.gbvu,g=document.getElementById(\"gbv\");g&&(g.value=a);f&&window.setTimeout(function(){location.href=f},0)};}).call(this);</script></form>,\n",
       " <table cellpadding=\"0\" cellspacing=\"0\"><tr valign=\"top\"><td width=\"25%\"> </td><td align=\"center\" nowrap=\"\"><input name=\"ie\" type=\"hidden\" value=\"ISO-8859-1\"/><input name=\"hl\" type=\"hidden\" value=\"ko\"/><input name=\"source\" type=\"hidden\" value=\"hp\"/><input name=\"biw\" type=\"hidden\"/><input name=\"bih\" type=\"hidden\"/><div class=\"ds\" style=\"height:32px;margin:4px 0\"><div style=\"position:relative;zoom:1\"><input autocomplete=\"off\" class=\"lst tiah\" maxlength=\"2048\" name=\"q\" size=\"57\" style=\"margin:0;padding:5px 8px 0 6px;vertical-align:top;color:#000;padding-right:38px\" title=\"Google 검색\" value=\"\"/><img alt=\"\" data-script-url=\"/textinputassistant/11/ko_tia.js\" height=\"23\" id=\"tsuid1\" src=\"/textinputassistant/tia.png\" style=\"position:absolute;cursor:pointer;right:5px;top:4px;z-index:300\" width=\"27\"/><script nonce=\"zQ6+sFs3keAf9puIfUaPcw==\">(function(){var id='tsuid1';document.getElementById(id).onclick = function(){var s = document.createElement('script');s.src = this.getAttribute('data-script-url');(document.getElementById('xjsc')||document.body).appendChild(s);};})();</script></div></div><br style=\"line-height:0\"/><span class=\"ds\"><span class=\"lsbb\"><input class=\"lsb\" name=\"btnG\" type=\"submit\" value=\"Google 검색\"/></span></span><span class=\"ds\"><span class=\"lsbb\"><input class=\"lsb\" id=\"tsuid2\" name=\"btnI\" type=\"submit\" value=\"I’m Feeling Lucky\"/><script nonce=\"zQ6+sFs3keAf9puIfUaPcw==\">(function(){var id='tsuid2';document.getElementById(id).onclick = function(){if (this.form.q.value){this.checked = 1;if (this.form.iflsig)this.form.iflsig.disabled = false;}\n",
       " else top.location='/doodles/';};})();</script><input name=\"iflsig\" type=\"hidden\" value=\"ALs-wAMAAAAAYVEu98SXZfzu6s70NOpf7RcX-RBywKd2\"/></span></span></td><td align=\"left\" class=\"fl sblc\" nowrap=\"\" width=\"25%\"><a href=\"/advanced_search?hl=ko&amp;authuser=0\">고급검색</a></td></tr></table>,\n",
       " <tr valign=\"top\"><td width=\"25%\"> </td><td align=\"center\" nowrap=\"\"><input name=\"ie\" type=\"hidden\" value=\"ISO-8859-1\"/><input name=\"hl\" type=\"hidden\" value=\"ko\"/><input name=\"source\" type=\"hidden\" value=\"hp\"/><input name=\"biw\" type=\"hidden\"/><input name=\"bih\" type=\"hidden\"/><div class=\"ds\" style=\"height:32px;margin:4px 0\"><div style=\"position:relative;zoom:1\"><input autocomplete=\"off\" class=\"lst tiah\" maxlength=\"2048\" name=\"q\" size=\"57\" style=\"margin:0;padding:5px 8px 0 6px;vertical-align:top;color:#000;padding-right:38px\" title=\"Google 검색\" value=\"\"/><img alt=\"\" data-script-url=\"/textinputassistant/11/ko_tia.js\" height=\"23\" id=\"tsuid1\" src=\"/textinputassistant/tia.png\" style=\"position:absolute;cursor:pointer;right:5px;top:4px;z-index:300\" width=\"27\"/><script nonce=\"zQ6+sFs3keAf9puIfUaPcw==\">(function(){var id='tsuid1';document.getElementById(id).onclick = function(){var s = document.createElement('script');s.src = this.getAttribute('data-script-url');(document.getElementById('xjsc')||document.body).appendChild(s);};})();</script></div></div><br style=\"line-height:0\"/><span class=\"ds\"><span class=\"lsbb\"><input class=\"lsb\" name=\"btnG\" type=\"submit\" value=\"Google 검색\"/></span></span><span class=\"ds\"><span class=\"lsbb\"><input class=\"lsb\" id=\"tsuid2\" name=\"btnI\" type=\"submit\" value=\"I’m Feeling Lucky\"/><script nonce=\"zQ6+sFs3keAf9puIfUaPcw==\">(function(){var id='tsuid2';document.getElementById(id).onclick = function(){if (this.form.q.value){this.checked = 1;if (this.form.iflsig)this.form.iflsig.disabled = false;}\n",
       " else top.location='/doodles/';};})();</script><input name=\"iflsig\" type=\"hidden\" value=\"ALs-wAMAAAAAYVEu98SXZfzu6s70NOpf7RcX-RBywKd2\"/></span></span></td><td align=\"left\" class=\"fl sblc\" nowrap=\"\" width=\"25%\"><a href=\"/advanced_search?hl=ko&amp;authuser=0\">고급검색</a></td></tr>,\n",
       " <td width=\"25%\"> </td>,\n",
       " <td align=\"center\" nowrap=\"\"><input name=\"ie\" type=\"hidden\" value=\"ISO-8859-1\"/><input name=\"hl\" type=\"hidden\" value=\"ko\"/><input name=\"source\" type=\"hidden\" value=\"hp\"/><input name=\"biw\" type=\"hidden\"/><input name=\"bih\" type=\"hidden\"/><div class=\"ds\" style=\"height:32px;margin:4px 0\"><div style=\"position:relative;zoom:1\"><input autocomplete=\"off\" class=\"lst tiah\" maxlength=\"2048\" name=\"q\" size=\"57\" style=\"margin:0;padding:5px 8px 0 6px;vertical-align:top;color:#000;padding-right:38px\" title=\"Google 검색\" value=\"\"/><img alt=\"\" data-script-url=\"/textinputassistant/11/ko_tia.js\" height=\"23\" id=\"tsuid1\" src=\"/textinputassistant/tia.png\" style=\"position:absolute;cursor:pointer;right:5px;top:4px;z-index:300\" width=\"27\"/><script nonce=\"zQ6+sFs3keAf9puIfUaPcw==\">(function(){var id='tsuid1';document.getElementById(id).onclick = function(){var s = document.createElement('script');s.src = this.getAttribute('data-script-url');(document.getElementById('xjsc')||document.body).appendChild(s);};})();</script></div></div><br style=\"line-height:0\"/><span class=\"ds\"><span class=\"lsbb\"><input class=\"lsb\" name=\"btnG\" type=\"submit\" value=\"Google 검색\"/></span></span><span class=\"ds\"><span class=\"lsbb\"><input class=\"lsb\" id=\"tsuid2\" name=\"btnI\" type=\"submit\" value=\"I’m Feeling Lucky\"/><script nonce=\"zQ6+sFs3keAf9puIfUaPcw==\">(function(){var id='tsuid2';document.getElementById(id).onclick = function(){if (this.form.q.value){this.checked = 1;if (this.form.iflsig)this.form.iflsig.disabled = false;}\n",
       " else top.location='/doodles/';};})();</script><input name=\"iflsig\" type=\"hidden\" value=\"ALs-wAMAAAAAYVEu98SXZfzu6s70NOpf7RcX-RBywKd2\"/></span></span></td>,\n",
       " <input name=\"ie\" type=\"hidden\" value=\"ISO-8859-1\"/>,\n",
       " <input name=\"hl\" type=\"hidden\" value=\"ko\"/>,\n",
       " <input name=\"source\" type=\"hidden\" value=\"hp\"/>,\n",
       " <input name=\"biw\" type=\"hidden\"/>,\n",
       " <input name=\"bih\" type=\"hidden\"/>,\n",
       " <div class=\"ds\" style=\"height:32px;margin:4px 0\"><div style=\"position:relative;zoom:1\"><input autocomplete=\"off\" class=\"lst tiah\" maxlength=\"2048\" name=\"q\" size=\"57\" style=\"margin:0;padding:5px 8px 0 6px;vertical-align:top;color:#000;padding-right:38px\" title=\"Google 검색\" value=\"\"/><img alt=\"\" data-script-url=\"/textinputassistant/11/ko_tia.js\" height=\"23\" id=\"tsuid1\" src=\"/textinputassistant/tia.png\" style=\"position:absolute;cursor:pointer;right:5px;top:4px;z-index:300\" width=\"27\"/><script nonce=\"zQ6+sFs3keAf9puIfUaPcw==\">(function(){var id='tsuid1';document.getElementById(id).onclick = function(){var s = document.createElement('script');s.src = this.getAttribute('data-script-url');(document.getElementById('xjsc')||document.body).appendChild(s);};})();</script></div></div>,\n",
       " <div style=\"position:relative;zoom:1\"><input autocomplete=\"off\" class=\"lst tiah\" maxlength=\"2048\" name=\"q\" size=\"57\" style=\"margin:0;padding:5px 8px 0 6px;vertical-align:top;color:#000;padding-right:38px\" title=\"Google 검색\" value=\"\"/><img alt=\"\" data-script-url=\"/textinputassistant/11/ko_tia.js\" height=\"23\" id=\"tsuid1\" src=\"/textinputassistant/tia.png\" style=\"position:absolute;cursor:pointer;right:5px;top:4px;z-index:300\" width=\"27\"/><script nonce=\"zQ6+sFs3keAf9puIfUaPcw==\">(function(){var id='tsuid1';document.getElementById(id).onclick = function(){var s = document.createElement('script');s.src = this.getAttribute('data-script-url');(document.getElementById('xjsc')||document.body).appendChild(s);};})();</script></div>,\n",
       " <input autocomplete=\"off\" class=\"lst tiah\" maxlength=\"2048\" name=\"q\" size=\"57\" style=\"margin:0;padding:5px 8px 0 6px;vertical-align:top;color:#000;padding-right:38px\" title=\"Google 검색\" value=\"\"/>,\n",
       " <img alt=\"\" data-script-url=\"/textinputassistant/11/ko_tia.js\" height=\"23\" id=\"tsuid1\" src=\"/textinputassistant/tia.png\" style=\"position:absolute;cursor:pointer;right:5px;top:4px;z-index:300\" width=\"27\"/>,\n",
       " <script nonce=\"zQ6+sFs3keAf9puIfUaPcw==\">(function(){var id='tsuid1';document.getElementById(id).onclick = function(){var s = document.createElement('script');s.src = this.getAttribute('data-script-url');(document.getElementById('xjsc')||document.body).appendChild(s);};})();</script>,\n",
       " <br style=\"line-height:0\"/>,\n",
       " <span class=\"ds\"><span class=\"lsbb\"><input class=\"lsb\" name=\"btnG\" type=\"submit\" value=\"Google 검색\"/></span></span>,\n",
       " <span class=\"lsbb\"><input class=\"lsb\" name=\"btnG\" type=\"submit\" value=\"Google 검색\"/></span>,\n",
       " <input class=\"lsb\" name=\"btnG\" type=\"submit\" value=\"Google 검색\"/>,\n",
       " <span class=\"ds\"><span class=\"lsbb\"><input class=\"lsb\" id=\"tsuid2\" name=\"btnI\" type=\"submit\" value=\"I’m Feeling Lucky\"/><script nonce=\"zQ6+sFs3keAf9puIfUaPcw==\">(function(){var id='tsuid2';document.getElementById(id).onclick = function(){if (this.form.q.value){this.checked = 1;if (this.form.iflsig)this.form.iflsig.disabled = false;}\n",
       " else top.location='/doodles/';};})();</script><input name=\"iflsig\" type=\"hidden\" value=\"ALs-wAMAAAAAYVEu98SXZfzu6s70NOpf7RcX-RBywKd2\"/></span></span>,\n",
       " <span class=\"lsbb\"><input class=\"lsb\" id=\"tsuid2\" name=\"btnI\" type=\"submit\" value=\"I’m Feeling Lucky\"/><script nonce=\"zQ6+sFs3keAf9puIfUaPcw==\">(function(){var id='tsuid2';document.getElementById(id).onclick = function(){if (this.form.q.value){this.checked = 1;if (this.form.iflsig)this.form.iflsig.disabled = false;}\n",
       " else top.location='/doodles/';};})();</script><input name=\"iflsig\" type=\"hidden\" value=\"ALs-wAMAAAAAYVEu98SXZfzu6s70NOpf7RcX-RBywKd2\"/></span>,\n",
       " <input class=\"lsb\" id=\"tsuid2\" name=\"btnI\" type=\"submit\" value=\"I’m Feeling Lucky\"/>,\n",
       " <script nonce=\"zQ6+sFs3keAf9puIfUaPcw==\">(function(){var id='tsuid2';document.getElementById(id).onclick = function(){if (this.form.q.value){this.checked = 1;if (this.form.iflsig)this.form.iflsig.disabled = false;}\n",
       " else top.location='/doodles/';};})();</script>,\n",
       " <input name=\"iflsig\" type=\"hidden\" value=\"ALs-wAMAAAAAYVEu98SXZfzu6s70NOpf7RcX-RBywKd2\"/>,\n",
       " <td align=\"left\" class=\"fl sblc\" nowrap=\"\" width=\"25%\"><a href=\"/advanced_search?hl=ko&amp;authuser=0\">고급검색</a></td>,\n",
       " <a href=\"/advanced_search?hl=ko&amp;authuser=0\">고급검색</a>,\n",
       " <input id=\"gbv\" name=\"gbv\" type=\"hidden\" value=\"1\"/>,\n",
       " <script nonce=\"zQ6+sFs3keAf9puIfUaPcw==\">(function(){\n",
       " var a,b=\"1\";if(document&&document.getElementById)if(\"undefined\"!=typeof XMLHttpRequest)b=\"2\";else if(\"undefined\"!=typeof ActiveXObject){var c,d,e=[\"MSXML2.XMLHTTP.6.0\",\"MSXML2.XMLHTTP.3.0\",\"MSXML2.XMLHTTP\",\"Microsoft.XMLHTTP\"];for(c=0;d=e[c++];)try{new ActiveXObject(d),b=\"2\"}catch(h){}}a=b;if(\"2\"==a&&-1==location.search.indexOf(\"&gbv=2\")){var f=google.gbvu,g=document.getElementById(\"gbv\");g&&(g.value=a);f&&window.setTimeout(function(){location.href=f},0)};}).call(this);</script>,\n",
       " <div id=\"gac_scont\"></div>,\n",
       " <div style=\"font-size:83%;min-height:3.5em\"><br/></div>,\n",
       " <br/>,\n",
       " <span id=\"footer\"><div style=\"font-size:10pt\"><div id=\"WqQANb\" style=\"margin:19px auto;text-align:center\"><a href=\"/intl/ko/ads/\">광고 프로그램</a><a href=\"http://www.google.co.kr/intl/ko/services/\">비즈니스 솔루션</a><a href=\"/intl/ko/about.html\">Google 정보</a><a href=\"http://www.google.com/setprefdomain?prefdom=KR&amp;prev=http://www.google.co.kr/&amp;sig=K_4EI3jAR89pAGkKND6HvLol07HBg%3D\">Google.co.kr</a></div></div><p style=\"font-size:8pt;color:#70757a\">© 2021 - <a href=\"/intl/ko/policies/privacy/\">개인정보처리방침</a> - <a href=\"/intl/ko/policies/terms/\">약관</a></p></span>,\n",
       " <div style=\"font-size:10pt\"><div id=\"WqQANb\" style=\"margin:19px auto;text-align:center\"><a href=\"/intl/ko/ads/\">광고 프로그램</a><a href=\"http://www.google.co.kr/intl/ko/services/\">비즈니스 솔루션</a><a href=\"/intl/ko/about.html\">Google 정보</a><a href=\"http://www.google.com/setprefdomain?prefdom=KR&amp;prev=http://www.google.co.kr/&amp;sig=K_4EI3jAR89pAGkKND6HvLol07HBg%3D\">Google.co.kr</a></div></div>,\n",
       " <div id=\"WqQANb\" style=\"margin:19px auto;text-align:center\"><a href=\"/intl/ko/ads/\">광고 프로그램</a><a href=\"http://www.google.co.kr/intl/ko/services/\">비즈니스 솔루션</a><a href=\"/intl/ko/about.html\">Google 정보</a><a href=\"http://www.google.com/setprefdomain?prefdom=KR&amp;prev=http://www.google.co.kr/&amp;sig=K_4EI3jAR89pAGkKND6HvLol07HBg%3D\">Google.co.kr</a></div>,\n",
       " <a href=\"/intl/ko/ads/\">광고 프로그램</a>,\n",
       " <a href=\"http://www.google.co.kr/intl/ko/services/\">비즈니스 솔루션</a>,\n",
       " <a href=\"/intl/ko/about.html\">Google 정보</a>,\n",
       " <a href=\"http://www.google.com/setprefdomain?prefdom=KR&amp;prev=http://www.google.co.kr/&amp;sig=K_4EI3jAR89pAGkKND6HvLol07HBg%3D\">Google.co.kr</a>,\n",
       " <p style=\"font-size:8pt;color:#70757a\">© 2021 - <a href=\"/intl/ko/policies/privacy/\">개인정보처리방침</a> - <a href=\"/intl/ko/policies/terms/\">약관</a></p>,\n",
       " <a href=\"/intl/ko/policies/privacy/\">개인정보처리방침</a>,\n",
       " <a href=\"/intl/ko/policies/terms/\">약관</a>,\n",
       " <script nonce=\"zQ6+sFs3keAf9puIfUaPcw==\">(function(){window.google.cdo={height:757,width:1440};(function(){\n",
       " var a=window.innerWidth,b=window.innerHeight;if(!a||!b){var c=window.document,d=\"CSS1Compat\"==c.compatMode?c.documentElement:c.body;a=d.clientWidth;b=d.clientHeight}a&&b&&(a!=google.cdo.width||b!=google.cdo.height)&&google.log(\"\",\"\",\"/client_204?&atyp=i&biw=\"+a+\"&bih=\"+b+\"&ei=\"+google.kEI);}).call(this);})();</script>,\n",
       " <script nonce=\"zQ6+sFs3keAf9puIfUaPcw==\">(function(){google.xjs={ck:'',cs:'',excm:[]};})();</script>,\n",
       " <script nonce=\"zQ6+sFs3keAf9puIfUaPcw==\">(function(){var u='/xjs/_/js/k=xjs.hp.en.3-3KfVctVSg.O/am=APgEWA/d=1/ed=1/rs=ACT90oFYtpgGNdnD55sATsmsQTnqOWDvYw/m=sb_he,d';\n",
       " var e=this||self,f=function(a){return a};var g;var l=function(a,b){this.g=b===h?a:\"\"};l.prototype.toString=function(){return this.g+\"\"};var h={};\n",
       " function m(){var a=u;google.lx=function(){n(a);google.lx=function(){}};google.bx||google.lx()}\n",
       " function n(a){google.timers&&google.timers.load&&google.tick&&google.tick(\"load\",\"xjsls\");var b=document;var c=\"SCRIPT\";\"application/xhtml+xml\"===b.contentType&&(c=c.toLowerCase());c=b.createElement(c);if(void 0===g){b=null;var k=e.trustedTypes;if(k&&k.createPolicy){try{b=k.createPolicy(\"goog#html\",{createHTML:f,createScript:f,createScriptURL:f})}catch(p){e.console&&e.console.error(p.message)}g=b}else g=b}a=(b=g)?b.createScriptURL(a):a;a=new l(a,h);c.src=a instanceof l&&a.constructor===l?a.g:\"type_error:TrustedResourceUrl\";var d;a=(c.ownerDocument&&c.ownerDocument.defaultView||window).document;(d=(b=null===(d=a.querySelector)||void 0===d?void 0:d.call(a,\"script[nonce]\"))?b.nonce||b.getAttribute(\"nonce\")||\"\":\"\")&&c.setAttribute(\"nonce\",d);document.body.appendChild(c);google.psa=!0};setTimeout(function(){m()},0);})();(function(){window.google.xjsu='/xjs/_/js/k=xjs.hp.en.3-3KfVctVSg.O/am=APgEWA/d=1/ed=1/rs=ACT90oFYtpgGNdnD55sATsmsQTnqOWDvYw/m=sb_he,d';})();function _DumpException(e){throw e;}\n",
       " function _F_installCss(c){}\n",
       " (function(){google.jl={attn:false,blt:'none',chnk:0,dw:false,dwu:false,emtn:0,end:0,ine:false,lls:'default',pdt:0,rep:0,snet:true,strt:0,ubm:false,uwp:true};})();(function(){var pmc='{\"d\":{},\"sb_he\":{\"agen\":true,\"cgen\":true,\"client\":\"heirloom-hp\",\"dh\":true,\"dhqt\":true,\"ds\":\"\",\"ffql\":\"ko\",\"fl\":true,\"host\":\"google.com\",\"isbh\":28,\"jsonp\":true,\"msgs\":{\"cibl\":\"&#44160;&#49353;&#50612; &#51648;&#50864;&#44592;\",\"dym\":\"&#51060;&#44163;&#51012; &#52286;&#51004;&#49512;&#45208;&#50836;?\",\"lcky\":\"I&#8217;m Feeling Lucky\",\"lml\":\"&#51088;&#49464;&#55176; &#50508;&#50500;&#48372;&#44592;\",\"oskt\":\"&#51077;&#47141; &#46020;&#44396;\",\"psrc\":\"&#44160;&#49353;&#50612;&#44032; \\u003Ca href=\\\"/history\\\"\\u003E&#50937; &#44592;&#47197;\\u003C/a\\u003E&#50640;&#49436; &#49325;&#51228;&#46104;&#50632;&#49845;&#45768;&#45796;.\",\"psrl\":\"&#49325;&#51228;\",\"sbit\":\"&#51060;&#48120;&#51648;&#47196; &#44160;&#49353;\",\"srch\":\"Google &#44160;&#49353;\"},\"ovr\":{},\"pq\":\"\",\"refpd\":true,\"refspre\":true,\"rfs\":[],\"sbas\":\"0 3px 8px 0 rgba(0,0,0,0.2),0 0 0 1px rgba(0,0,0,0.08)\",\"sbpl\":16,\"sbpr\":16,\"scd\":10,\"stok\":\"dEQ2Aylix5272EUCGPPv9jNRWVM\",\"uhde\":false}}';google.pmc=JSON.parse(pmc);})();</script>]"
      ]
     },
     "execution_count": 28,
     "metadata": {},
     "output_type": "execute_result"
    }
   ],
   "source": [
    "soup.find_all()"
   ]
  },
  {
   "cell_type": "code",
   "execution_count": 29,
   "id": "24f5142d",
   "metadata": {},
   "outputs": [
    {
     "data": {
      "text/plain": [
       "[]"
      ]
     },
     "execution_count": 29,
     "metadata": {},
     "output_type": "execute_result"
    }
   ],
   "source": [
    "soup.select('#link1')"
   ]
  },
  {
   "cell_type": "code",
   "execution_count": null,
   "id": "36b1a4cf",
   "metadata": {},
   "outputs": [],
   "source": []
  }
 ],
 "metadata": {
  "kernelspec": {
   "display_name": "Python 3",
   "language": "python",
   "name": "python3"
  },
  "language_info": {
   "codemirror_mode": {
    "name": "ipython",
    "version": 3
   },
   "file_extension": ".py",
   "mimetype": "text/x-python",
   "name": "python",
   "nbconvert_exporter": "python",
   "pygments_lexer": "ipython3",
   "version": "3.8.8"
  }
 },
 "nbformat": 4,
 "nbformat_minor": 5
}
