{
 "cells": [
  {
   "cell_type": "code",
   "execution_count": 1,
   "id": "ee8ce599",
   "metadata": {},
   "outputs": [
    {
     "data": {
      "text/plain": [
       "Size(width=1920, height=1080)"
      ]
     },
     "execution_count": 1,
     "metadata": {},
     "output_type": "execute_result"
    }
   ],
   "source": [
    "import pyautogui\n",
    "pyautogui.size()"
   ]
  },
  {
   "cell_type": "code",
   "execution_count": 2,
   "id": "09c67f47",
   "metadata": {},
   "outputs": [],
   "source": [
    "pyautogui.moveTo(500, 500, duration=1)"
   ]
  },
  {
   "cell_type": "code",
   "execution_count": 5,
   "id": "fef6ec8d",
   "metadata": {},
   "outputs": [],
   "source": [
    "pyautogui.moveTo(-100, -100)"
   ]
  },
  {
   "cell_type": "code",
   "execution_count": 4,
   "id": "1f66f729",
   "metadata": {},
   "outputs": [],
   "source": [
    "pyautogui.FAILSAFE = False"
   ]
  },
  {
   "cell_type": "code",
   "execution_count": 6,
   "id": "172ece27",
   "metadata": {},
   "outputs": [],
   "source": [
    "pyautogui.moveTo(400, 500, duration=1)\n",
    "pyautogui.click()"
   ]
  },
  {
   "cell_type": "code",
   "execution_count": null,
   "id": "ef5dfb1e",
   "metadata": {},
   "outputs": [],
   "source": []
  }
 ],
 "metadata": {
  "kernelspec": {
   "display_name": "Python 3",
   "language": "python",
   "name": "python3"
  },
  "language_info": {
   "codemirror_mode": {
    "name": "ipython",
    "version": 3
   },
   "file_extension": ".py",
   "mimetype": "text/x-python",
   "name": "python",
   "nbconvert_exporter": "python",
   "pygments_lexer": "ipython3",
   "version": "3.8.8"
  }
 },
 "nbformat": 4,
 "nbformat_minor": 5
}
