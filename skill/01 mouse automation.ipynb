{
 "cells": [
  {
   "cell_type": "code",
   "execution_count": 2,
   "id": "2859570e",
   "metadata": {},
   "outputs": [
    {
     "data": {
      "text/plain": [
       "Size(width=1920, height=1080)"
      ]
     },
     "execution_count": 2,
     "metadata": {},
     "output_type": "execute_result"
    }
   ],
   "source": [
    "import pyautogui\n",
    "pyautogui.size()"
   ]
  },
  {
   "cell_type": "code",
   "execution_count": 3,
   "id": "4b85fdc2",
   "metadata": {},
   "outputs": [],
   "source": [
    "pyautogui.moveTo(500, 500, duration=1)"
   ]
  },
  {
   "cell_type": "code",
   "execution_count": 4,
   "id": "03c35c0e",
   "metadata": {},
   "outputs": [],
   "source": [
    "pyautogui.FAILSAFE = False"
   ]
  },
  {
   "cell_type": "code",
   "execution_count": 6,
   "id": "5111f3af",
   "metadata": {},
   "outputs": [],
   "source": [
    "pyautogui.moveTo(400, 500, duration=1)\n",
    "pyautogui.click()"
   ]
  },
  {
   "cell_type": "code",
   "execution_count": 7,
   "id": "bd6bc2d2",
   "metadata": {},
   "outputs": [],
   "source": [
    "pyautogui.moveTo(400, 500, duration=1)\n",
    "pyautogui.dragTo(600, 900, duration=1)"
   ]
  },
  {
   "cell_type": "code",
   "execution_count": 8,
   "id": "b49e0aea",
   "metadata": {},
   "outputs": [],
   "source": [
    "pyautogui.locateOnScreen('img/1.png')"
   ]
  },
  {
   "cell_type": "code",
   "execution_count": 13,
   "id": "37971708",
   "metadata": {},
   "outputs": [],
   "source": [
    "buttons = {'1': (40, 520), '2': (90, 520), '3': (140, 520)}\n",
    "x, y = buttons['1']\n",
    "pyautogui.click(x, y)\n",
    "x, y = buttons['3']\n",
    "pyautogui.click(x, y)"
   ]
  },
  {
   "cell_type": "code",
   "execution_count": 14,
   "id": "72b77149",
   "metadata": {},
   "outputs": [],
   "source": [
    "x, y = buttons['2']\n",
    "pyautogui.click(x, y)"
   ]
  },
  {
   "cell_type": "code",
   "execution_count": null,
   "id": "62ddb269",
   "metadata": {},
   "outputs": [],
   "source": []
  },
  {
   "cell_type": "code",
   "execution_count": null,
   "id": "f7e47991",
   "metadata": {},
   "outputs": [],
   "source": []
  },
  {
   "cell_type": "code",
   "execution_count": null,
   "id": "49d6ac50",
   "metadata": {},
   "outputs": [],
   "source": []
  }
 ],
 "metadata": {
  "kernelspec": {
   "display_name": "Python 3",
   "language": "python",
   "name": "python3"
  },
  "language_info": {
   "codemirror_mode": {
    "name": "ipython",
    "version": 3
   },
   "file_extension": ".py",
   "mimetype": "text/x-python",
   "name": "python",
   "nbconvert_exporter": "python",
   "pygments_lexer": "ipython3",
   "version": "3.8.8"
  }
 },
 "nbformat": 4,
 "nbformat_minor": 5
}
