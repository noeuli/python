{
 "cells": [
  {
   "cell_type": "code",
   "execution_count": 1,
   "metadata": {
    "collapsed": true
   },
   "outputs": [],
   "source": [
    "from docx import Document\n",
    "from docx.enum.text import WD_ALIGN_PARAGRAPH\n",
    "from docx.shared import Mm\n",
    "\n",
    "\n",
    "doc = Document()\n",
    "\n",
    "p = doc.add_heading('왕방산 국제 MTB대회', 0)\n",
    "\n",
    "p = doc.add_paragraph('왕방산에 만들어진 산악자전거 도로를 돌아보는자전거 경주대회인 ', style='Normal')\n",
    "p.add_run('‘왕방산 국제 MTB대회’').bold = True\n",
    "p.add_run('는 명실상부한 최고의 산악자전거 대회로 자리매김하였습니다. ')\n",
    "p.add_run('천혜의 자연경관').italic = True\n",
    "p.add_run('과 함께 왕방산의 정취를 느껴보시기 바랍니다.')\n",
    "\n",
    "doc.add_heading('대회소개', level=1)\n",
    "doc.add_paragraph('산악스포츠의 메카로 알려진 동두천시에서 매년 10월 셋째주에 개최되는 “왕방산 국제 MTB대회는 9월 경 참가신청을 받는다...', style='Intense Quote')\n",
    "\n",
    "doc.add_heading('대회 상세 안내', level=1)\n",
    "doc.add_paragraph('접수처: 대한자전거연맹', style='List Bullet')\n",
    "doc.add_paragraph('문의사항: 문의사항 : ☎02-420-4247', style='List Bullet')\n",
    "\n",
    "my_image = doc.add_picture('img/mtb1.png', width=Mm(100))\n",
    "last_paragraph = doc.paragraphs[-1] \n",
    "last_paragraph.alignment = WD_ALIGN_PARAGRAPH.CENTER\n",
    "\n",
    "doc.add_page_break()\n",
    "\n",
    "my_image = doc.add_picture('img/mtb2.png', width=Mm(100))\n",
    "last_paragraph = doc.paragraphs[-1] \n",
    "last_paragraph.alignment = WD_ALIGN_PARAGRAPH.CENTER\n",
    "\n",
    "records = (\n",
    "    ('XC10', '690,000', '14.5kg'),\n",
    "    ('XC20', '790,000', '13.5kg'),\n",
    "    ('XC30', '890,000', '14.5kg')\n",
    ")\n",
    "\n",
    "table = doc.add_table(rows=1, cols=3)\n",
    "table.style = 'Table Grid'\n",
    "hdr_cells = table.rows[0].cells\n",
    "hdr_cells[0].text = '모델명'\n",
    "hdr_cells[0].paragraphs[0].runs[0].font.bold = True\n",
    "hdr_cells[1].text = '가격'\n",
    "hdr_cells[1].paragraphs[0].runs[0].font.bold = True\n",
    "hdr_cells[2].text = '무게'\n",
    "hdr_cells[2].paragraphs[0].runs[0].font.bold = True\n",
    "for qty, id, desc in records:\n",
    "    row_cells = table.add_row().cells\n",
    "    row_cells[0].text = str(qty)\n",
    "    row_cells[1].text = id\n",
    "    row_cells[2].text = desc\n",
    "\n",
    "doc.save('demo1.docx')"
   ]
  },
  {
   "cell_type": "code",
   "execution_count": 2,
   "metadata": {
    "collapsed": true
   },
   "outputs": [],
   "source": [
    "from docx import Document\n",
    "from docx.enum.text import WD_ALIGN_PARAGRAPH\n",
    "from docx.shared import Mm, Pt\n",
    "from docx.oxml.shared import qn\n",
    "from docx.enum.style import WD_STYLE_TYPE\n",
    "\n",
    "\n",
    "doc = Document()\n",
    "\n",
    "# Normal 스타일 변경\n",
    "style = doc.styles['Normal']\n",
    "style.font.name = '나눔고딕'\n",
    "style.element.rPr.rFonts.set(qn('w:eastAsia'), '나눔고딕')\n",
    "style.font.size = Pt(10)\n",
    "\n",
    "# MyTitle 스타일 생성\n",
    "styles = doc.styles\n",
    "new_style = styles.add_style('MyTitle', WD_STYLE_TYPE.PARAGRAPH)\n",
    "new_style.base_style = styles['Title']\n",
    "font = new_style.font\n",
    "font.name = '나눔고딕'\n",
    "new_style.element.rPr.rFonts.set(qn('w:eastAsia'), '나눔고딕')\n",
    "# font.size = Pt(26)\n",
    "\n",
    "# MyHeading 1 스타일 생성\n",
    "new_style = styles.add_style('MyHeading 1', WD_STYLE_TYPE.PARAGRAPH)\n",
    "new_style.base_style = styles['Heading 1']\n",
    "new_style.font.name = '나눔고딕'\n",
    "new_style.element.rPr.rFonts.set(qn('w:eastAsia'), '나눔고딕')\n",
    "\n",
    "\n",
    "p = doc.add_paragraph('왕방산 국제 MTB대회', 'MyTitle')\n",
    "\n",
    "p = doc.add_paragraph('왕방산에 만들어진 산악자전거 도로를 돌아보는자전거 경주대회인 ', style='Normal')\n",
    "p.add_run('‘왕방산 국제 MTB대회’').bold = True\n",
    "p.add_run('는 명실상부한 최고의 산악자전거 대회로 자리매김하였습니다. ')\n",
    "p.add_run('천혜의 자연경관').italic = True\n",
    "p.add_run('과 함께 왕방산의 정취를 느껴보시기 바랍니다.')\n",
    "\n",
    "doc.add_paragraph('대회 소개', style='MyHeading 1')\n",
    "doc.add_paragraph('산악스포츠의 메카로 알려진 동두천시에서 매년 10월 셋째주에 개최되는 “왕방산 국제 MTB대회는 9월 경 참가신청을 받는다...', style='Intense Quote')\n",
    "\n",
    "doc.add_paragraph('대회 상세 안내', style='MyHeading 1')\n",
    "doc.add_paragraph('접수처: 대한자전거연맹', style='List Bullet')\n",
    "doc.add_paragraph('문의사항: 문의사항 : ☎02-420-4247', style='List Bullet')\n",
    "\n",
    "my_image = doc.add_picture('img/mtb1.png', width=Mm(100))\n",
    "last_paragraph = doc.paragraphs[-1] \n",
    "last_paragraph.alignment = WD_ALIGN_PARAGRAPH.CENTER\n",
    "\n",
    "doc.add_page_break()\n",
    "\n",
    "my_image = doc.add_picture('img/mtb2.png', width=Mm(100))\n",
    "last_paragraph = doc.paragraphs[-1] \n",
    "last_paragraph.alignment = WD_ALIGN_PARAGRAPH.CENTER\n",
    "\n",
    "records = (\n",
    "    ('XC10', '690,000', '14.5kg'),\n",
    "    ('XC20', '790,000', '13.5kg'),\n",
    "    ('XC30', '890,000', '14.5kg')\n",
    ")\n",
    "\n",
    "table = doc.add_table(rows=1, cols=3)\n",
    "table.style = 'Table Grid'\n",
    "hdr_cells = table.rows[0].cells\n",
    "hdr_cells[0].text = '모델명'\n",
    "hdr_cells[0].paragraphs[0].runs[0].font.bold = True\n",
    "hdr_cells[1].text = '가격'\n",
    "hdr_cells[1].paragraphs[0].runs[0].font.bold = True\n",
    "hdr_cells[2].text = '무게'\n",
    "hdr_cells[2].paragraphs[0].runs[0].font.bold = True\n",
    "for qty, id, desc in records:\n",
    "    row_cells = table.add_row().cells\n",
    "    row_cells[0].text = str(qty)\n",
    "    row_cells[1].text = id\n",
    "    row_cells[2].text = desc\n",
    "\n",
    "doc.save('demo2.docx')"
   ]
  },
  {
   "cell_type": "code",
   "execution_count": 3,
   "metadata": {
    "collapsed": true
   },
   "outputs": [],
   "source": [
    "import os\n",
    "\n",
    "template_file = os.path.join(os.getcwd(), \"test-output-table.docx\") # 문서 파일 경로\n",
    "os.startfile(template_file, \"print\")"
   ]
  },
  {
   "cell_type": "markdown",
   "metadata": {},
   "source": [
    "## 메일 병합(mail-merge)을 이용한 개인별 문서 생성하기\n"
   ]
  },
  {
   "cell_type": "code",
   "execution_count": 4,
   "metadata": {
    "collapsed": true
   },
   "outputs": [],
   "source": [
    "from mailmerge import MailMerge\n",
    "\n",
    "template = \"data/mailmerge_template.docx\"\n",
    "document = MailMerge(template)"
   ]
  },
  {
   "cell_type": "code",
   "execution_count": 5,
   "metadata": {},
   "outputs": [
    {
     "name": "stdout",
     "output_type": "stream",
     "text": [
      "{'title', 'familyname', 'reg_id', 'givenname'}\n"
     ]
    }
   ],
   "source": [
    "print(document.get_merge_fields())"
   ]
  },
  {
   "cell_type": "code",
   "execution_count": 6,
   "metadata": {
    "collapsed": true
   },
   "outputs": [],
   "source": [
    "document.merge(\n",
    "    title='Mr.',\n",
    "    reg_id='5555',\n",
    "    familyname='Solovchuk',\n",
    "    givenname='Maxim',\n",
    "    )\n",
    "\n",
    "document.write('test-output.docx')"
   ]
  },
  {
   "cell_type": "code",
   "execution_count": 7,
   "metadata": {
    "collapsed": true
   },
   "outputs": [],
   "source": [
    "from mailmerge import MailMerge\n",
    "from datetime import date\n",
    "\n",
    "template = \"data/table_template.docx\"\n",
    "document = MailMerge(template)\n",
    "\n",
    "sales_history = [{\n",
    "    'prod_desc': '밤색구두',\n",
    "    'price': '$10.00',\n",
    "    'quantity': '2500',\n",
    "    'total_purchases': '$25,000.00'\n",
    "}, {\n",
    "    'prod_desc': '흰티셔츠',\n",
    "    'price': '$20.00',\n",
    "    'quantity': '10000',\n",
    "    'total_purchases': '$200,000.00'\n",
    "}, {\n",
    "    'prod_desc': '검은벨트',\n",
    "    'price': '$5.00',\n",
    "    'quantity': '5000',\n",
    "    'total_purchases': '$25,000.00'\n",
    "}]\n",
    "\n",
    "document.merge(name='진영화학')\n",
    "\n",
    "document.merge_rows('prod_desc', sales_history)\n",
    "document.write('test-output-table.docx')"
   ]
  },
  {
   "cell_type": "markdown",
   "metadata": {},
   "source": [
    "## 워드를 PDF 문서로 저장하기"
   ]
  },
  {
   "cell_type": "code",
   "execution_count": 8,
   "metadata": {
    "collapsed": true
   },
   "outputs": [],
   "source": [
    "import os\n",
    "from win32com.client import Dispatch\n",
    "\n",
    "wordapp = Dispatch(\"Word.Application\")\n",
    "\n",
    "fpath = os.path.join(os.getcwd(), \"test-output-table.docx\")  # 파일 경로\n",
    "myDoc = wordapp.Documents.Open(FileName=fpath)\n",
    "\n",
    "pdf_path = os.path.join(os.getcwd(), \"test_saved.pdf\")  # PDF로 저장\n",
    "myDoc.SaveAs(pdf_path, FileFormat=17)\n",
    "\n",
    "myDoc.Close()\n",
    "wordapp.Quit()"
   ]
  },
  {
   "cell_type": "code",
   "execution_count": 9,
   "metadata": {},
   "outputs": [
    {
     "data": {
      "text/plain": [
       "<subprocess.Popen at 0x2a0944164a8>"
      ]
     },
     "execution_count": 9,
     "metadata": {},
     "output_type": "execute_result"
    }
   ],
   "source": [
    "from subprocess import Popen\n",
    "\n",
    "pdf_without_pass = \"test_saved.pdf\"\n",
    "pdf_with_pass = \"test_saved2.pdf\"\n",
    "password = \"1234\"\n",
    "\n",
    "Popen(r\"qpdf-8.2.1\\bin\\qpdf.exe --encrypt {0} {0} 128 -- {1} {2}\".format(\n",
    "    password, pdf_without_pass, pdf_with_pass).split())"
   ]
  },
  {
   "cell_type": "code",
   "execution_count": 10,
   "metadata": {
    "collapsed": true
   },
   "outputs": [],
   "source": [
    "import pandas as pd\n",
    "\n",
    "registrants = pd.read_excel(\"data/registrants.xlsx\")"
   ]
  },
  {
   "cell_type": "markdown",
   "metadata": {},
   "source": [
    "읽은 자료를 확인해보자."
   ]
  },
  {
   "cell_type": "code",
   "execution_count": 11,
   "metadata": {
    "scrolled": true
   },
   "outputs": [
    {
     "data": {
      "text/html": [
       "<div>\n",
       "<style scoped>\n",
       "    .dataframe tbody tr th:only-of-type {\n",
       "        vertical-align: middle;\n",
       "    }\n",
       "\n",
       "    .dataframe tbody tr th {\n",
       "        vertical-align: top;\n",
       "    }\n",
       "\n",
       "    .dataframe thead th {\n",
       "        text-align: right;\n",
       "    }\n",
       "</style>\n",
       "<table border=\"1\" class=\"dataframe\">\n",
       "  <thead>\n",
       "    <tr style=\"text-align: right;\">\n",
       "      <th></th>\n",
       "      <th>reg_id</th>\n",
       "      <th>title</th>\n",
       "      <th>familyname</th>\n",
       "      <th>givenname</th>\n",
       "      <th>email</th>\n",
       "    </tr>\n",
       "  </thead>\n",
       "  <tbody>\n",
       "    <tr>\n",
       "      <th>0</th>\n",
       "      <td>226</td>\n",
       "      <td>Mr.</td>\n",
       "      <td>Solovchuk</td>\n",
       "      <td>Maxim</td>\n",
       "      <td>abc@hotmail.com</td>\n",
       "    </tr>\n",
       "    <tr>\n",
       "      <th>1</th>\n",
       "      <td>239</td>\n",
       "      <td>Mr.</td>\n",
       "      <td>TARIQ</td>\n",
       "      <td>MALIK</td>\n",
       "      <td>tariq@gmail.com</td>\n",
       "    </tr>\n",
       "    <tr>\n",
       "      <th>2</th>\n",
       "      <td>242</td>\n",
       "      <td>Prof.</td>\n",
       "      <td>Nishimura</td>\n",
       "      <td>Tsuyoshi</td>\n",
       "      <td>nishimura@yahoo.com</td>\n",
       "    </tr>\n",
       "    <tr>\n",
       "      <th>3</th>\n",
       "      <td>253</td>\n",
       "      <td>Prof.</td>\n",
       "      <td>Blamey</td>\n",
       "      <td>Peter</td>\n",
       "      <td>peter@outlook.com</td>\n",
       "    </tr>\n",
       "    <tr>\n",
       "      <th>4</th>\n",
       "      <td>271</td>\n",
       "      <td>Prof.</td>\n",
       "      <td>Chin</td>\n",
       "      <td>Ken</td>\n",
       "      <td>chin@gmail.com</td>\n",
       "    </tr>\n",
       "    <tr>\n",
       "      <th>5</th>\n",
       "      <td>249</td>\n",
       "      <td>Prof.</td>\n",
       "      <td>Park</td>\n",
       "      <td>sang kyu</td>\n",
       "      <td>park@naver.com</td>\n",
       "    </tr>\n",
       "  </tbody>\n",
       "</table>\n",
       "</div>"
      ],
      "text/plain": [
       "   reg_id  title familyname givenname                email\n",
       "0     226    Mr.  Solovchuk     Maxim      abc@hotmail.com\n",
       "1     239    Mr.      TARIQ     MALIK      tariq@gmail.com\n",
       "2     242  Prof.  Nishimura  Tsuyoshi  nishimura@yahoo.com\n",
       "3     253  Prof.     Blamey     Peter    peter@outlook.com\n",
       "4     271  Prof.       Chin       Ken       chin@gmail.com\n",
       "5     249  Prof.       Park  sang kyu       park@naver.com"
      ]
     },
     "execution_count": 11,
     "metadata": {},
     "output_type": "execute_result"
    }
   ],
   "source": [
    "registrants"
   ]
  },
  {
   "cell_type": "code",
   "execution_count": 12,
   "metadata": {
    "collapsed": true
   },
   "outputs": [],
   "source": [
    "registrants.fillna('', inplace=True)"
   ]
  },
  {
   "cell_type": "code",
   "execution_count": 13,
   "metadata": {
    "collapsed": true
   },
   "outputs": [],
   "source": [
    "registrants['reg_id'] = registrants['reg_id'].apply(str)"
   ]
  },
  {
   "cell_type": "code",
   "execution_count": 14,
   "metadata": {},
   "outputs": [
    {
     "data": {
      "text/plain": [
       "[{'reg_id': '226',\n",
       "  'title': 'Mr.',\n",
       "  'familyname': 'Solovchuk',\n",
       "  'givenname': 'Maxim',\n",
       "  'email': 'abc@hotmail.com'},\n",
       " {'reg_id': '239',\n",
       "  'title': 'Mr.',\n",
       "  'familyname': 'TARIQ',\n",
       "  'givenname': 'MALIK',\n",
       "  'email': 'tariq@gmail.com'},\n",
       " {'reg_id': '242',\n",
       "  'title': 'Prof.',\n",
       "  'familyname': 'Nishimura',\n",
       "  'givenname': 'Tsuyoshi',\n",
       "  'email': 'nishimura@yahoo.com'},\n",
       " {'reg_id': '253',\n",
       "  'title': 'Prof.',\n",
       "  'familyname': 'Blamey',\n",
       "  'givenname': 'Peter',\n",
       "  'email': 'peter@outlook.com'},\n",
       " {'reg_id': '271',\n",
       "  'title': 'Prof.',\n",
       "  'familyname': 'Chin',\n",
       "  'givenname': 'Ken',\n",
       "  'email': 'chin@gmail.com'},\n",
       " {'reg_id': '249',\n",
       "  'title': 'Prof.',\n",
       "  'familyname': 'Park',\n",
       "  'givenname': 'sang kyu',\n",
       "  'email': 'park@naver.com'}]"
      ]
     },
     "execution_count": 14,
     "metadata": {},
     "output_type": "execute_result"
    }
   ],
   "source": [
    "data = [dict(row) for index, row in registrants.iterrows()]\n",
    "data"
   ]
  },
  {
   "cell_type": "code",
   "execution_count": 15,
   "metadata": {
    "collapsed": true
   },
   "outputs": [],
   "source": [
    "from mailmerge import MailMerge\n",
    "\n",
    "template = \"data/mailmerge_template.docx\"\n",
    "\n",
    "fpaths = []\n",
    "for ele in data:\n",
    "    document = MailMerge(template)\n",
    "    document.merge(**ele)\n",
    "    fpath = 'message_{}.docx'.format(ele['reg_id'])\n",
    "    document.write(fpath)\n",
    "    fpaths.append(fpath)"
   ]
  },
  {
   "cell_type": "code",
   "execution_count": 16,
   "metadata": {
    "collapsed": true
   },
   "outputs": [],
   "source": [
    "import os\n",
    "from win32com.client import Dispatch\n",
    "\n",
    "wordapp = Dispatch(\"Word.Application\")\n",
    "\n",
    "pdf_paths = []\n",
    "for fpath in fpaths:\n",
    "    fpath = os.path.abspath(fpath)\n",
    "    mydoc = wordapp.Documents.Open(FileName=fpath)\n",
    "    \n",
    "    pdf_path = os.path.join(os.path.splitext(fpath)[0] + '.pdf')\n",
    "    pdf_paths.append(pdf_path)\n",
    "    mydoc.SaveAs(pdf_path, FileFormat=17)\n",
    "    mydoc.Close()\n",
    "    \n",
    "wordapp.Quit()"
   ]
  },
  {
   "cell_type": "code",
   "execution_count": 17,
   "metadata": {
    "collapsed": true
   },
   "outputs": [],
   "source": [
    "from subprocess import Popen\n",
    "\n",
    "pdf_paths_pw = []\n",
    "for pdf_without_pass in pdf_paths:\n",
    "    pdf_with_pass = os.path.splitext(pdf_without_pass)[0] + '_pw.pdf'\n",
    "    pdf_paths_pw.append(pdf_with_pass)\n",
    "    password = \"1234\"  # 적절하게 변경해야 한다\n",
    "\n",
    "    Popen(r\"qpdf-8.2.1\\bin\\qpdf.exe --encrypt {0} {0} 128 -- {1} {2}\".format(\n",
    "        password, pdf_without_pass, pdf_with_pass).split())"
   ]
  },
  {
   "cell_type": "code",
   "execution_count": 18,
   "metadata": {
    "collapsed": true
   },
   "outputs": [],
   "source": [
    "for fpath in fpaths + pdf_paths:\n",
    "    os.remove(fpath)"
   ]
  },
  {
   "cell_type": "code",
   "execution_count": 19,
   "metadata": {},
   "outputs": [
    {
     "data": {
      "text/plain": [
       "'226'"
      ]
     },
     "execution_count": 19,
     "metadata": {},
     "output_type": "execute_result"
    }
   ],
   "source": [
    "fpath = pdf_paths_pw[0]\n",
    "os.path.splitext(fpath)[0].rsplit('_', 2)[1]"
   ]
  },
  {
   "cell_type": "code",
   "execution_count": 20,
   "metadata": {},
   "outputs": [
    {
     "data": {
      "text/html": [
       "<div>\n",
       "<style scoped>\n",
       "    .dataframe tbody tr th:only-of-type {\n",
       "        vertical-align: middle;\n",
       "    }\n",
       "\n",
       "    .dataframe tbody tr th {\n",
       "        vertical-align: top;\n",
       "    }\n",
       "\n",
       "    .dataframe thead th {\n",
       "        text-align: right;\n",
       "    }\n",
       "</style>\n",
       "<table border=\"1\" class=\"dataframe\">\n",
       "  <thead>\n",
       "    <tr style=\"text-align: right;\">\n",
       "      <th></th>\n",
       "      <th>reg_id</th>\n",
       "      <th>title</th>\n",
       "      <th>familyname</th>\n",
       "      <th>givenname</th>\n",
       "      <th>email</th>\n",
       "    </tr>\n",
       "  </thead>\n",
       "  <tbody>\n",
       "    <tr>\n",
       "      <th>0</th>\n",
       "      <td>226</td>\n",
       "      <td>Mr.</td>\n",
       "      <td>Solovchuk</td>\n",
       "      <td>Maxim</td>\n",
       "      <td>abc@hotmail.com</td>\n",
       "    </tr>\n",
       "  </tbody>\n",
       "</table>\n",
       "</div>"
      ],
      "text/plain": [
       "  reg_id title familyname givenname            email\n",
       "0    226   Mr.  Solovchuk     Maxim  abc@hotmail.com"
      ]
     },
     "execution_count": 20,
     "metadata": {},
     "output_type": "execute_result"
    }
   ],
   "source": [
    "registrants[registrants['reg_id'] == '226']"
   ]
  },
  {
   "cell_type": "code",
   "execution_count": 21,
   "metadata": {},
   "outputs": [
    {
     "data": {
      "text/plain": [
       "'abc@hotmail.com'"
      ]
     },
     "execution_count": 21,
     "metadata": {},
     "output_type": "execute_result"
    }
   ],
   "source": [
    "registrants[registrants['reg_id'] == '226'].iloc[0]['email']"
   ]
  },
  {
   "cell_type": "code",
   "execution_count": 22,
   "metadata": {},
   "outputs": [
    {
     "name": "stdout",
     "output_type": "stream",
     "text": [
      "send mail to abc@hotmail.com 226\n",
      "send mail to tariq@gmail.com 239\n",
      "send mail to nishimura@yahoo.com 242\n",
      "send mail to peter@outlook.com 253\n",
      "send mail to chin@gmail.com 271\n",
      "send mail to park@naver.com 249\n"
     ]
    }
   ],
   "source": [
    "import os\n",
    "from subprocess import Popen\n",
    "from win32com.client import Dispatch\n",
    "from mailmerge import MailMerge\n",
    "import pandas as pd\n",
    "import time\n",
    "\n",
    "\n",
    "# 단계 1\n",
    "registrants = pd.read_excel(\"data/registrants.xlsx\")\n",
    "registrants.fillna('', inplace=True)\n",
    "registrants['reg_id'] = registrants['reg_id'].apply(str)\n",
    "data = [dict(row) for index, row in registrants.iterrows()]\n",
    "\n",
    "# 단계 2\n",
    "template = \"data/mailmerge_template.docx\"\n",
    "\n",
    "fpaths = []\n",
    "for ele in data:\n",
    "    document = MailMerge(template)\n",
    "    document.merge(**ele)\n",
    "    fpath = 'message_{}.docx'.format(ele['reg_id'])\n",
    "    document.write(fpath)\n",
    "    fpaths.append(fpath)\n",
    "    \n",
    "# 단계 3\n",
    "wordapp = Dispatch(\"Word.Application\")\n",
    "\n",
    "pdf_paths = []\n",
    "for fpath in fpaths:\n",
    "    fpath = os.path.abspath(fpath)\n",
    "    mydoc = wordapp.Documents.Open(FileName=fpath)\n",
    "    \n",
    "    pdf_path = os.path.join(os.path.splitext(fpath)[0] + '.pdf')\n",
    "    pdf_paths.append(pdf_path)\n",
    "    mydoc.SaveAs(pdf_path, FileFormat=17)\n",
    "    mydoc.Close()\n",
    "    \n",
    "wordapp.Quit()\n",
    "\n",
    "# 단계 4\n",
    "pdf_paths_pw = []\n",
    "for pdf_without_pass in pdf_paths:\n",
    "    pdf_with_pass = os.path.splitext(pdf_without_pass)[0] + '_pw.pdf'\n",
    "    pdf_paths_pw.append(pdf_with_pass)\n",
    "    password = \"1234\"                 # 적절하게 변경해야 한다\n",
    "\n",
    "    Popen(r\"qpdf-8.2.1\\bin\\qpdf.exe --encrypt {0} {0} 128 -- {1} {2}\".format(\n",
    "        password, pdf_without_pass, pdf_with_pass).split())\n",
    "    \n",
    "# 단계 5\n",
    "time.sleep(5)\n",
    "for fpath in fpaths + pdf_paths:\n",
    "    os.remove(fpath)\n",
    "    \n",
    "# 단계 6\n",
    "for fpath in pdf_paths:\n",
    "    reg_id = os.path.splitext(fpath)[0].rsplit('_', 2)[1]\n",
    "    email = registrants[registrants['reg_id'] == reg_id].iloc[0]['email']\n",
    "    # 메일 보내기... 생략\n",
    "    print('send mail to', email, reg_id)"
   ]
  }
 ],
 "metadata": {
  "kernelspec": {
   "display_name": "Python 3",
   "language": "python",
   "name": "python3"
  },
  "language_info": {
   "codemirror_mode": {
    "name": "ipython",
    "version": 3
   },
   "file_extension": ".py",
   "mimetype": "text/x-python",
   "name": "python",
   "nbconvert_exporter": "python",
   "pygments_lexer": "ipython3",
   "version": "3.6.3"
  }
 },
 "nbformat": 4,
 "nbformat_minor": 1
}
