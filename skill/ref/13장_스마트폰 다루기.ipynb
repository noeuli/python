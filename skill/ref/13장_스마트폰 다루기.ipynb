{
 "cells": [
  {
   "cell_type": "code",
   "execution_count": 1,
   "metadata": {},
   "outputs": [
    {
     "name": "stdout",
     "output_type": "stream",
     "text": [
      "40\n"
     ]
    }
   ],
   "source": [
    "from ppadb.client import Client as AdbClient\n",
    "\n",
    "# Default is \"127.0.0.1\" and 5037\n",
    "client = AdbClient(host=\"127.0.0.1\", port=5037)\n",
    "print(client.version())"
   ]
  },
  {
   "cell_type": "markdown",
   "metadata": {},
   "source": [
    "파이썬에서 연결된 장치들을 확인해보자."
   ]
  },
  {
   "cell_type": "code",
   "execution_count": 2,
   "metadata": {},
   "outputs": [
    {
     "data": {
      "text/plain": [
       "[<ppadb.device.Device at 0x23165af7a58>]"
      ]
     },
     "execution_count": 2,
     "metadata": {},
     "output_type": "execute_result"
    }
   ],
   "source": [
    "client.devices()"
   ]
  },
  {
   "cell_type": "markdown",
   "metadata": {},
   "source": [
    "하나의 장치가 연결된 것이 확인된다. 이 장치를 변수에 저장한다."
   ]
  },
  {
   "cell_type": "code",
   "execution_count": 3,
   "metadata": {
    "collapsed": true
   },
   "outputs": [],
   "source": [
    "device = client.devices()[0]"
   ]
  },
  {
   "cell_type": "markdown",
   "metadata": {},
   "source": [
    "이제 이 장치로 모든 작업을 실행하게 된다.\n",
    "프로그래밍 언어의 `\"Hello World\"`에 해당하는 쉘 기능 테스트를 해보자.\n",
    "쉘 명령은 `shell()` 메서드로 실행한다."
   ]
  },
  {
   "cell_type": "code",
   "execution_count": 4,
   "metadata": {},
   "outputs": [
    {
     "data": {
      "text/plain": [
       "'hello world !\\n'"
      ]
     },
     "execution_count": 4,
     "metadata": {},
     "output_type": "execute_result"
    }
   ],
   "source": [
    "device.shell(\"echo hello world !\")"
   ]
  },
  {
   "cell_type": "markdown",
   "metadata": {},
   "source": [
    "위 명령은 명령행(도스창)에서의 다음 명령과 동일하다.\n",
    "\n",
    "    adb shell echo hello world !"
   ]
  },
  {
   "cell_type": "code",
   "execution_count": 5,
   "metadata": {
    "collapsed": true
   },
   "outputs": [],
   "source": [
    "device.shell('input keyevent 3');  # Home event"
   ]
  },
  {
   "cell_type": "markdown",
   "metadata": {},
   "source": [
    "키보드 이벤트의 종류는 다음과 같다.\n",
    "\n",
    "| 값 | 심볼 |\n",
    "|---| ---- |\n",
    "| 0 | KEYCODE_0 |\n",
    "| 1 | KEYCODE_MENU |\n",
    "| 2 | KEYCODE_SOFT_RIGHT |\n",
    "| 3 | KEYCODE_HOME |\n",
    "| 4 | KEYCODE_BACK |\n",
    "| 5 | KEYCODE_CALL |\n",
    "| 6 | KEYCODE_ENDCALL |\n",
    "| 7 | KEYCODE_0 |\n",
    "| 8 | KEYCODE_1 |\n",
    "| 9 | KEYCODE_2 |\n",
    "| 10 | KEYCODE_3 |\n",
    "| 11 | KEYCODE_4 |\n",
    "| 12 | KEYCODE_5 |\n",
    "| 13 | KEYCODE_6 |\n",
    "| 14 | KEYCODE_7 |\n",
    "| 15 | KEYCODE_8 |\n",
    "| 16 | KEYCODE_9 |\n",
    "| 17 | KEYCODE_STAR |\n",
    "| 18 | KEYCODE_POUND |\n",
    "| 19 | KEYCODE_DPAD_UP |\n",
    "| 20 | KEYCODE_DPAD_DOWN |\n",
    "| 21 | KEYCODE_DPAD_LEFT |\n",
    "| 22 | KEYCODE_DPAD_RIGHT |\n",
    "| 23 | KEYCODE_DPAD_CENTER |\n",
    "| 24 | KEYCODE_VOLUME_UP |\n",
    "| 25 | KEYCODE_VOLUME_DOWN |\n",
    "| 26 | KEYCODE_POWER |\n",
    "| 27 | KEYCODE_CAMERA |\n",
    "| 28 | KEYCODE_CLEAR |\n",
    "| 29 | KEYCODE_A |\n",
    "| 30 | KEYCODE_B |\n",
    "| 31 | KEYCODE_C |\n",
    "| 32 | KEYCODE_D |\n",
    "| 33 | KEYCODE_E |\n",
    "| 34 | KEYCODE_F |\n",
    "| 35 | KEYCODE_G |\n",
    "| 36 | KEYCODE_H |\n",
    "| 37 | KEYCODE_I |\n",
    "| 38 | KEYCODE_J |\n",
    "| 39 | KEYCODE_K |\n",
    "| 40 | KEYCODE_L |\n",
    "| 41 | KEYCODE_M |\n",
    "| 42 | KEYCODE_N |\n",
    "| 43 | KEYCODE_O |\n",
    "| 44 | KEYCODE_P |\n",
    "| 45 | KEYCODE_Q |\n",
    "| 46 | KEYCODE_R |\n",
    "| 47 | KEYCODE_S |\n",
    "| 48 | KEYCODE_T |\n",
    "| 49 | KEYCODE_U |\n",
    "| 50 | KEYCODE_V |\n",
    "| 51 | KEYCODE_W |\n",
    "| 52 | KEYCODE_X |\n",
    "| 53 | KEYCODE_Y |\n",
    "| 54 | KEYCODE_Z |\n",
    "| 55 | KEYCODE_COMMA |\n",
    "| 56 | KEYCODE_PERIOD |\n",
    "| 57 | KEYCODE_ALT_LEFT |\n",
    "| 58 | KEYCODE_ALT_RIGHT |\n",
    "| 59 | KEYCODE_SHIFT_LEFT |\n",
    "| 60 | KEYCODE_SHIFT_RIGHT |\n",
    "| 61 | KEYCODE_TAB |\n",
    "| 62 | KEYCODE_SPACE |\n",
    "| 63 | KEYCODE_SYM |\n",
    "| 64 | KEYCODE_EXPLORER |\n",
    "| 65 | KEYCODE_ENVELOPE |\n",
    "| 66 | KEYCODE_ENTER |\n",
    "| 67 | KEYCODE_DEL |\n",
    "| 68 | KEYCODE_GRAVE |\n",
    "| 69 | KEYCODE_MINUS |\n",
    "| 70 | KEYCODE_EQUALS |\n",
    "| 71 | KEYCODE_LEFT_BRACKET |\n",
    "| 72 | KEYCODE_RIGHT_BRACKET |\n",
    "| 73 | KEYCODE_BACKSLASH |\n",
    "| 74 | KEYCODE_SEMICOLON |\n",
    "| 75 | KEYCODE_APOSTROPHE |\n",
    "| 76 | KEYCODE_SLASH |\n",
    "| 77 | KEYCODE_AT |\n",
    "| 78 | KEYCODE_NUM |\n",
    "| 79 | KEYCODE_HEADSETHOOK |\n",
    "| 80 | KEYCODE_FOCUS |\n",
    "| 81 | KEYCODE_PLUS |\n",
    "| 82 | KEYCODE_MENU |\n",
    "| 83 | KEYCODE_NOTIFICATION |\n",
    "| 84 | KEYCODE_SEARCH |\n",
    "| 85 | KEYCODE_MEDIA_PLAY_PAUSE |\n",
    "| 86 | KEYCODE_MEDIA_STOP |\n",
    "| 87 | KEYCODE_MEDIA_NEXT |\n",
    "| 88 | KEYCODE_MEDIA_PREVIOUS |\n",
    "| 89 | KEYCODE_MEDIA_REWIND |\n",
    "| 90 | KEYCODE_MEDIA_FAST_FORWARD |\n",
    "| 91 | KEYCODE_MUTE |\n",
    "| 92 | KEYCODE_PAGE_UP |\n",
    "| 93 | KEYCODE_PAGE_DOWN |\n",
    "| 94 | KEYCODE_PICTSYMBOLS |\n",
    "| 122 | KEYCODE_MOVE_HOME |\n",
    "| 123 | KEYCODE_MOVE_END |"
   ]
  },
  {
   "cell_type": "code",
   "execution_count": 6,
   "metadata": {
    "collapsed": true
   },
   "outputs": [],
   "source": [
    "device.shell('input keyevent 26');  # KEYCODE_POWER"
   ]
  },
  {
   "cell_type": "code",
   "execution_count": 7,
   "metadata": {},
   "outputs": [
    {
     "data": {
      "text/plain": [
       "'Starting: Intent { act=android.intent.action.CALL dat=tel:xxxxxxxxx }\\n'"
      ]
     },
     "execution_count": 7,
     "metadata": {},
     "output_type": "execute_result"
    }
   ],
   "source": [
    "phone_number = '025551111'\n",
    "device.shell('am start -a android.intent.action.CALL -d tel:'+phone_number)"
   ]
  },
  {
   "cell_type": "code",
   "execution_count": 8,
   "metadata": {},
   "outputs": [
    {
     "data": {
      "text/plain": [
       "192387"
      ]
     },
     "execution_count": 8,
     "metadata": {},
     "output_type": "execute_result"
    }
   ],
   "source": [
    "open(\"screen.png\", \"wb\").write(device.screencap())"
   ]
  },
  {
   "cell_type": "code",
   "execution_count": 9,
   "metadata": {},
   "outputs": [
    {
     "data": {
      "text/plain": [
       "(1080, 2220)"
      ]
     },
     "execution_count": 9,
     "metadata": {},
     "output_type": "execute_result"
    }
   ],
   "source": [
    "from PIL import Image\n",
    "\n",
    "open(\"screen.png\", \"wb\").write(device.screencap())\n",
    "im = Image.open('screen.png')\n",
    "im.size"
   ]
  },
  {
   "cell_type": "code",
   "execution_count": 10,
   "metadata": {},
   "outputs": [
    {
     "data": {
      "text/plain": [
       "'Starting: Intent { act=android.intent.action.VIEW dat=http://freelec.co.kr/... }\\n'"
      ]
     },
     "execution_count": 10,
     "metadata": {},
     "output_type": "execute_result"
    }
   ],
   "source": [
    "url = 'http://freelec.co.kr'\n",
    "device.shell('am start -a android.intent.action.VIEW -d '+url)"
   ]
  },
  {
   "cell_type": "code",
   "execution_count": 11,
   "metadata": {
    "collapsed": true
   },
   "outputs": [],
   "source": [
    "device.push(\"screen.png\", \"/sdcard/screen.png\")"
   ]
  },
  {
   "cell_type": "code",
   "execution_count": 12,
   "metadata": {
    "collapsed": true
   },
   "outputs": [],
   "source": [
    "device.pull(\"/sdcard/screen.png\", \"screen.png\")"
   ]
  },
  {
   "cell_type": "code",
   "execution_count": 13,
   "metadata": {},
   "outputs": [
    {
     "data": {
      "text/plain": [
       "''"
      ]
     },
     "execution_count": 13,
     "metadata": {},
     "output_type": "execute_result"
    }
   ],
   "source": [
    "device.shell('rm /sdcard/screen.png')"
   ]
  },
  {
   "cell_type": "code",
   "execution_count": 14,
   "metadata": {},
   "outputs": [
    {
     "data": {
      "text/plain": [
       "True"
      ]
     },
     "execution_count": 14,
     "metadata": {},
     "output_type": "execute_result"
    }
   ],
   "source": [
    "apk_path = \"data/keyboardservice-debug.apk\"\n",
    "\n",
    "device.install(apk_path)"
   ]
  },
  {
   "cell_type": "code",
   "execution_count": 15,
   "metadata": {
    "collapsed": true
   },
   "outputs": [],
   "source": [
    "device.uninstall(package_path)  # com.example.app.name 형식"
   ]
  },
  {
   "cell_type": "markdown",
   "metadata": {},
   "source": [
    "계산기 실행"
   ]
  },
  {
   "cell_type": "code",
   "execution_count": 16,
   "metadata": {},
   "outputs": [
    {
     "data": {
      "text/plain": [
       "'Starting: Intent { cmp=com.sec.android.app.popupcalculator/.Calculator }\\n'"
      ]
     },
     "execution_count": 16,
     "metadata": {},
     "output_type": "execute_result"
    }
   ],
   "source": [
    "device.shell('am start -n com.sec.android.app.popupcalculator/.Calculator')"
   ]
  },
  {
   "cell_type": "code",
   "execution_count": 17,
   "metadata": {
    "collapsed": true
   },
   "outputs": [],
   "source": [
    "# pass"
   ]
  },
  {
   "cell_type": "code",
   "execution_count": 18,
   "metadata": {
    "scrolled": true
   },
   "outputs": [
    {
     "name": "stdout",
     "output_type": "stream",
     "text": [
      "package:/system/app/FilterProvider/FilterProvider.apk=com.samsung.android.provider.filterprovider\n",
      "package:/system/app/AutomationTest_FB/AutomationTest_FB.apk=com.sec.android.app.DataCreate\n",
      "package:/system/priv-app/LedCoverAppStar/LedCoverAppStar.apk=com.samsung.android.app.ledcoverdream\n",
      "package:/system/priv-app/CtsShimPrivPrebuilt/CtsShimPrivPrebuilt.apk=com.android.cts.priv.ctsshim\n",
      "package:/data/app/com.samsung.android.gearoplugin-QICIM5zOYa7FHVYklRIjtg==/base.apk=com.samsung.android.gearoplugin\n",
      "package:/system/app/RootPA/RootPA.apk=com.gd.mobicore.pa\n",
      "package:/system/priv-app/GalaxyAppsWidget_Phone_Dream/GalaxyAppsWidget_Phone_Dream.apk=com.sec.android.widgetapp.samsungapps\n",
      "package:/system/priv-app/SmartSwitchAssistant/SmartSwitchAssistant.apk=com.samsung.android.smartswitchassistant\n",
      "package:/system/priv-app/NSDSWebApp/NSDSWebApp.apk=com.sec.vsim.ericssonnsds.webapp\n",
      "package:/system/app/SetupWizardLegalProvider/SetupWizardLegalProvider.apk=com.sec.android.app.setupwizardlegalprovider\n",
      "package:/data/app/com.google.android.youtube-pAOw2ysj5XxQdmkcERtNIQ==/base.apk=com.google.android.youtube\n",
      "package:/data/app/com.chbreeze.jikbang4a-hjA-SUDjWvjzUTSj_rqPNw==/base.apk=com.chbreeze.jikbang4a\n",
      "package:/system/priv-app/Finder/Finder.apk=com.samsung.android.app.galaxyfinder\n",
      "package:/system/priv-app/NSFusedLocation_v3.5/NSFusedLocation_v3.5.apk=com.sec.location.nsflp2\n",
      "package:/data/app/com.samsung.android.themestore-lgCbB5d-eRFc_7pXDID6iw==/base.apk=com.samsung.android.themestore\n",
      "package:/system/app/ChromeCustomizations/ChromeCustomizations.apk=com.sec.android.app.chromecustomizations\n",
      "package:/data/app/com.samsung.android.app.aodservice-9Izr6mv48GyJGLHg6xWnVw==/base.apk=com.samsung.android.app.aodservice\n",
      "package:/data/app/com.samsung.android.app.cocktailbarservice-pvsrgHfFV-c7xAOq3C05dw==/base.apk=com.samsung.android.app.cocktailbarservice\n",
      "package:/vendor/overlay/DisplayCutoutEmulationCorner/DisplayCutoutEmulationCornerOverlay.apk=com.android.internal.display.cutout.emulation.corner\n",
      "package:/system/priv-app/GoogleExtServices/GoogleExtServices.apk=com.google.android.ext.services\n",
      "package:/system/priv-app/SuwScriptPlayer/SuwScriptPlayer.apk=com.sec.android.app.suwscriptplayer\n",
      "package:/vendor/overlay/DisplayCutoutEmulationDouble/DisplayCutoutEmulationDoubleOverlay.apk=com.android.internal.display.cutout.emulation.double\n",
      "package:/system/priv-app/SecTelephonyProvider/SecTelephonyProvider.apk=com.android.providers.telephony\n",
      "package:/system/app/DRParser/DRParser.apk=com.sec.android.app.parser\n",
      "package:/system/priv-app/SVoicePLM/SVoicePLM.apk=com.samsung.svoice.sync\n",
      "package:/data/app/com.google.android.googlequicksearchbox-5r7OmgJmWvbFf7wz6kZl7w==/base.apk=com.google.android.googlequicksearchbox\n",
      "package:/data/app/com.samsung.android.calendar-mxCcBzO5Kq6pirfcUGYt4Q==/base.apk=com.samsung.android.calendar\n",
      "package:/system/priv-app/SamsungTimeZoneUpdater/SamsungTimeZoneUpdater.apk=com.samsung.android.timezone.updater\n",
      "package:/system/priv-app/SamsungCalendarProvider/SamsungCalendarProvider.apk=com.android.providers.calendar\n",
      "package:/data/app/com.alibaba.aliexpresshd-HxLqp2NtgrttbpSbRpqJIg==/base.apk=com.alibaba.aliexpresshd\n",
      "package:/system/priv-app/SamsungAccount_Star/SamsungAccount_Star.apk=com.osp.app.signin\n",
      "package:/system/priv-app/AREmoji/AREmoji.apk=com.samsung.android.aremoji\n",
      "package:/system/app/ClipboardSaveService/ClipboardSaveService.apk=com.samsung.clipboardsaveservice\n",
      "package:/system/app/TetheringAutomation/TetheringAutomation.apk=com.sec.automation\n",
      "package:/system/priv-app/SecMediaProvider/SecMediaProvider.apk=com.android.providers.media\n",
      "package:/system/priv-app/SamsungSocial/SamsungSocial.apk=com.samsung.android.app.social\n",
      "package:/data/app/com.google.android.apps.docs.editors.docs-KKMARyYPHUwgAFU50n1_pg==/base.apk=com.google.android.apps.docs.editors.docs\n",
      "package:/system/priv-app/GoogleOneTimeInitializer/GoogleOneTimeInitializer.apk=com.google.android.onetimeinitializer\n",
      "package:/system/priv-app/Gear360Editor_Beyond/Gear360Editor_Beyond.apk=com.sec.android.mimage.gear360editor\n",
      "package:/system/app/GoogleExtShared/GoogleExtShared.apk=com.google.android.ext.shared\n",
      "package:/system/priv-app/SPDClient/SPDClient.apk=com.samsung.android.spdclient\n",
      "package:/system/priv-app/WallpaperCropper/WallpaperCropper.apk=com.android.wallpapercropper\n",
      "package:/system/priv-app/wallpaper-res/wallpaper-res.apk=com.samsung.android.wallpaper.res\n",
      "package:/system/app/SmartMirroring/SmartMirroring.apk=com.samsung.android.smartmirroring\n",
      "package:/system/priv-app/SKMSAgent/SKMSAgent.apk=com.skms.android.agent\n",
      "package:/system/priv-app/DexCommunity/DexCommunity.apk=com.sec.android.desktopcommunity\n",
      "package:/data/app/kr.co.samsungcard.mpocket-7IGnUwZhNy5sGcPfdVn7uQ==/base.apk=kr.co.samsungcard.mpocket\n",
      "package:/data/app/com.hogangnono.hogangnono-yIJINjpFpmcyNiaJraf22g==/base.apk=com.hogangnono.hogangnono\n",
      "package:/system/priv-app/SendHelpMessage/SendHelpMessage.apk=com.sec.android.app.safetyassurance\n",
      "package:/system/priv-app/SamsungInCallUI/SamsungInCallUI.apk=com.samsung.android.incallui\n",
      "package:/system/priv-app/KnoxCore/KnoxCore.apk=com.samsung.android.knox.containercore\n",
      "package:/system/app/KidsHome_Installer/KidsHome_Installer.apk=com.samsung.android.kidsinstaller\n",
      "package:/system/app/FactoryCameraFB/FactoryCameraFB.apk=com.sec.factory.camera\n",
      "package:/system/app/vsimservice/vsimservice.apk=com.sec.vsimservice\n",
      "package:/system/app/USBSettings/USBSettings.apk=com.sec.usbsettings\n",
      "package:/system/priv-app/EasySetup/EasySetup.apk=com.samsung.android.easysetup\n",
      "package:/system/priv-app/DocumentsUI/DocumentsUI.apk=com.android.documentsui\n",
      "package:/data/app/com.miraeasset.smartasset-xnUn7p2Q3fx_uSZy_vDdHw==/base.apk=com.miraeasset.smartasset\n",
      "package:/vendor/overlay/framework-res__auto_generated_rro.apk=android.auto_generated_rro__\n",
      "package:/system/priv-app/ExternalStorageProvider/ExternalStorageProvider.apk=com.android.externalstorage\n",
      "package:/system/app/EasyOneHand3/EasyOneHand3.apk=com.sec.android.easyonehand\n",
      "package:/system/priv-app/DeviceTest/DeviceTest.apk=com.sec.factory\n",
      "package:/system/app/SecHTMLViewer/SecHTMLViewer.apk=com.android.htmlviewer\n",
      "package:/data/app/com.lgeha.nuts-qoTKP3X0UylkDJyQR8S3xQ==/base.apk=com.lgeha.nuts\n",
      "package:/data/app/com.samsung.android.app.panel.naver.v--T2k3xh5hnBlIfJBQLSj5Q==/base.apk=com.samsung.android.app.panel.naver.v\n",
      "package:/system/app/SBrowserEdge/SBrowserEdge.apk=com.samsung.android.app.sbrowseredge\n",
      "package:/system/app/CompanionDeviceManager/CompanionDeviceManager.apk=com.android.companiondevicemanager\n",
      "package:/system/priv-app/MmsService/MmsService.apk=com.android.mms.service\n",
      "package:/system/priv-app/RubinVersion23/RubinVersion23.apk=com.samsung.android.rubin.app\n",
      "package:/system/priv-app/WallpaperCropper2/WallpaperCropper2.apk=com.sec.android.wallpapercropper2\n",
      "package:/system/priv-app/SecDownloadProvider/SecDownloadProvider.apk=com.android.providers.downloads\n",
      "package:/system/app/DictDiotekForSec/DictDiotekForSec.apk=com.diotek.sec.lookup.dictionary\n",
      "package:/data/app/net.slideshare.mobile-A6hqU06hynuc16Wo31I8IQ==/base.apk=net.slideshare.mobile\n",
      "package:/system/priv-app/LedCoverService/LedCoverService.apk=com.sec.android.cover.ledcover\n",
      "package:/system/app/SmartSwitchAgent/SmartSwitchAgent.apk=com.sec.android.easyMover.Agent\n",
      "package:/system/app/bootagent/bootagent.apk=com.samsung.ucs.agent.boot\n",
      "package:/system/priv-app/OmaCP/OmaCP.apk=com.wsomacp\n",
      "package:/system/priv-app/FaceService/FaceService.apk=com.samsung.faceservice\n",
      "package:/data/app/com.nhn.android.naverdic-zJ9_C7QCJugegVN0MhF7lg==/base.apk=com.nhn.android.naverdic\n",
      "package:/data/app/com.wooribank.smart.npib-B9jLlUuE6ZqLMgOIlxUhZw==/base.apk=com.wooribank.smart.npib\n",
      "package:/data/app/com.sec.android.app.voicenote-9hFwEYMnYIQ1HQtX_Ja_-Q==/base.apk=com.sec.android.app.voicenote\n",
      "package:/data/app/idoit.slpck.kwangwoon-j0eywDmEjrHt3lt2fNGT-A==/base.apk=idoit.slpck.kwangwoon\n",
      "package:/data/app/egovframework.tcpotal.mobile.lur-yMmgrcr_PWPo8opujaXm-w==/base.apk=egovframework.tcpotal.mobile.lur\n",
      "package:/data/app/com.ahnlab.v3mobileplus-U7DqkLEk5D41NO7oP6kGyQ==/base.apk=com.ahnlab.v3mobileplus\n",
      "package:/data/app/com.yes24.commerce-xKDx8K9UOy3bBbwzTNug1g==/base.apk=com.yes24.commerce\n",
      "package:/system/app/Foundation/Foundation.apk=com.monotype.android.font.foundation\n",
      "package:/system/app/EasymodeContactsWidget81/EasymodeContactsWidget81.apk=com.sec.android.widgetapp.easymodecontactswidget\n",
      "package:/system/priv-app/MtpApplication/MtpApplication.apk=com.samsung.android.MtpApplication\n",
      "package:/system/priv-app/DeviceKeystring/DeviceKeystring.apk=com.sec.android.app.factorykeystring\n",
      "package:/data/app/com.sec.android.app.samsungapps-oZTZK9ID7QXLuZhEFSBZew==/base.apk=com.sec.android.app.samsungapps\n",
      "package:/system/app/EmergencyModeService/EmergencyModeService.apk=com.sec.android.emergencymode.service\n",
      "package:/data/app/com.skp.seio-UBchfnAwjUN0naofW5cIgg==/base.apk=com.skp.seio\n",
      "package:/system/priv-app/ConfigUpdater/ConfigUpdater.apk=com.google.android.configupdater\n",
      "package:/system/app/WlanTest/WlanTest.apk=com.sec.android.app.wlantest\n",
      "package:/data/app/com.microsoft.office.excel-EKbohuOKcURotdLWUh3MJg==/base.apk=com.microsoft.office.excel\n",
      "package:/system/priv-app/StickerFaceAR3/StickerFaceAR3.apk=com.samsung.android.app.camera.sticker.facear.preload\n",
      "package:/system/priv-app/SettingsBixby/SettingsBixby.apk=com.samsung.android.app.settings.bixby\n",
      "package:/data/app/com.sec.android.app.billing-cMDyN3ZSgDfIazWOXwlI9Q==/base.apk=com.sec.android.app.billing\n",
      "package:/system/priv-app/HPSClient/HPSClient.apk=com.skt.hps20client\n",
      "package:/data/app/com.kbstar.kbbank-Pp8CIIo93Q8DZGWbWI_GEw==/base.apk=com.kbstar.kbbank\n",
      "package:/system/app/SelfMotionPanoramaViewer/SelfMotionPanoramaViewer.apk=com.samsung.android.app.selfmotionpanoramaviewer\n",
      "package:/system/priv-app/SmartEpdgTestApp/SmartEpdgTestApp.apk=com.sec.epdgtestapp\n",
      "package:/data/app/com.samsung.android.timezone.data_P-q1PW2W5N8Hvc4WSOyreaCg==/base.apk=com.samsung.android.timezone.data_P\n",
      "package:/data/app/com.naver.labs.translator-kCUTytT6l2BQF9FJwoHbpQ==/base.apk=com.naver.labs.translator\n",
      "package:/system/priv-app/GameHome/GameHome.apk=com.samsung.android.game.gamehome\n",
      "package:/system/priv-app/KnoxDesktopLauncher/KnoxDesktopLauncher.apk=com.sec.android.app.desktoplauncher\n",
      "package:/system/priv-app/DefaultContainerService/DefaultContainerService.apk=com.android.defcontainer\n",
      "package:/system/app/AppleMint/AppleMint.apk=com.monotype.android.font.applemint\n",
      "package:/data/app/com.sec.android.daemonapp-hLfzSec4zezX48i4XuP6Rg==/base.apk=com.sec.android.daemonapp\n",
      "package:/system/priv-app/GoogleDaydreamCustomization/GoogleDaydreamCustomization.apk=com.samsung.daydream.customization\n",
      "package:/data/app/udk.android.reader-Ng5xhQoVu8U_GQ4GO2CnvQ==/base.apk=udk.android.reader\n",
      "package:/system/app/ARCore/ARCore.apk=com.google.ar.core\n",
      "package:/data/app/com.google.ar.lens-4w5N0SUP041rmHRGDaR1ug==/base.apk=com.google.ar.lens\n",
      "package:/system/priv-app/ImsTelephonyService/ImsTelephonyService.apk=com.sec.ims\n",
      "package:/system/app/sveservice/sveservice.apk=com.sec.sve\n",
      "package:/system/app/KnoxAttestationAgent/KnoxAttestationAgent.apk=com.sec.enterprise.knox.attestation\n",
      "package:/system/priv-app/DownloadProviderUi/DownloadProviderUi.apk=com.android.providers.downloads.ui\n",
      "package:/data/app/com.android.vending-VN8pCnPmOBK21qa4JZ_7kA==/base.apk=com.android.vending\n",
      "package:/system/app/PacProcessor/PacProcessor.apk=com.android.pacprocessor\n",
      "package:/system/app/SimAppDialog/SimAppDialog.apk=com.android.simappdialog\n",
      "package:/system/priv-app/SystemUIBixby2/SystemUIBixby2.apk=com.samsung.systemui.bixby2\n",
      "package:/system/priv-app/ANTRadioService/ANTRadioService.apk=com.dsi.ant.service.socket\n",
      "package:/data/app/kr.co.captv.pooqV2-iMHzU29qgrJBTDUUaTZjvA==/base.apk=kr.co.captv.pooqV2\n",
      "package:/system/priv-app/AutoPreconfig/AutoPreconfig.apk=com.sec.android.AutoPreconfig\n",
      "package:/data/app/com.microsoft.skydrive-o21Y70X3oFWy6vKL3gs4PA==/base.apk=com.microsoft.skydrive\n",
      "package:/system/priv-app/SettingsReceiver/SettingsReceiver.apk=com.samsung.android.SettingsReceiver\n",
      "package:/data/app/com.csdroid.pkg-RzuQBudZ86d4aVmKYfXBGg==/base.apk=com.csdroid.pkg\n",
      "package:/data/app/com.samsung.android.widgetapp.daumedge.sports-8z74hIeCvNA4X1fPYcEGtA==/base.apk=com.samsung.android.widgetapp.daumedge.sports\n",
      "package:/vendor/overlay/DisplayCutoutEmulationTall/DisplayCutoutEmulationTallOverlay.apk=com.android.internal.display.cutout.emulation.tall\n",
      "package:/system/priv-app/SoundAlive_54/SoundAlive_54.apk=com.sec.android.app.soundalive\n",
      "package:/data/app/net.daum.android.map-sKer38iCj93XHdpjTmpfpQ==/base.apk=net.daum.android.map\n",
      "package:/system/app/SecurityProviderSEC/SecurityProviderSEC.apk=com.sec.android.providers.security\n",
      "package:/data/app/gov.gyeonggi.ggcard-nDASAwCuCP7vp5RP3uDFLg==/base.apk=gov.gyeonggi.ggcard\n",
      "package:/system/priv-app/BadgeProvider_N/BadgeProvider_N.apk=com.sec.android.provider.badge\n",
      "package:/system/app/CertInstaller/CertInstaller.apk=com.android.certinstaller\n",
      "package:/system/app/SecurityLogAgent/SecurityLogAgent.apk=com.samsung.android.securitylogagent\n",
      "package:/system/priv-app/CarrierConfig/CarrierConfig.apk=com.android.carrierconfig\n",
      "package:/data/app/com.samsung.android.app.watchmanager-VxFBbXkhFiuizh9st4bVww==/base.apk=com.samsung.android.app.watchmanager\n",
      "package:/system/priv-app/ContainerAgent3/ContainerAgent3.apk=com.samsung.android.knox.containeragent\n",
      "package:/system/priv-app/AssistantMenu_N/AssistantMenu_N.apk=com.samsung.android.app.assistantmenu\n",
      "package:/data/app/us.zoom.videomeetings-3LGneYWzRLT_BOs8e4ireA==/base.apk=us.zoom.videomeetings\n",
      "package:/system/app/SamsungTTS/SamsungTTS.apk=com.samsung.SMT\n",
      "package:/system/priv-app/CMHProvider/CMHProvider.apk=com.samsung.cmh\n",
      "package:/system/priv-app/MediaLearningPlatform/MediaLearningPlatform.apk=com.samsung.mlp\n",
      "package:/system/priv-app/SelectiveFocusViewer/SelectiveFocusViewer.apk=com.sec.android.ofviewer\n",
      "package:/system/priv-app/IrisUserTest/IrisUserTest.apk=com.sec.factory.iris.usercamera\n",
      "package:/system/app/CarmodeStub/CarmodeStub.apk=com.samsung.android.drivelink.stub\n",
      "package:/system/framework/framework-res.apk=android\n",
      "package:/system/priv-app/HotwordEnrollmentXGoogleCORTEXM4/HotwordEnrollmentXGoogleCORTEXM4.apk=com.android.hotwordenrollment.xgoogle\n",
      "package:/system/app/KnoxKeyChain/KnoxKeyChain.apk=com.samsung.knox.keychain\n",
      "package:/system/priv-app/SmartManager_v6_DeviceSecurity/SmartManager_v6_DeviceSecurity.apk=com.samsung.android.sm.devicesecurity\n",
      "package:/system/priv-app/StickerFaceARFrame/StickerFaceARFrame.apk=com.samsung.android.app.camera.sticker.facearframe.preload\n",
      "package:/system/app/ANTPlusTest/ANTPlusTest.apk=com.dsi.ant.sample.acquirechannels\n",
      "package:/system/app/FactoryAirCommandManager/FactoryAirCommandManager.apk=com.samsung.android.aircommandmanager\n",
      "package:/data/app/com.samsung.android.net.wifi.wifiguider-6dizP7lyndZrNhVIQG-_qA==/base.apk=com.samsung.android.net.wifi.wifiguider\n",
      "package:/data/app/com.samsung.android.bixby.service-RGT7z9pVq8AK6cqaKm2z1Q==/base.apk=com.samsung.android.bixby.service\n",
      "package:/system/priv-app/smartfaceservice/smartfaceservice.apk=com.samsung.android.smartface\n",
      "package:/system/app/EasterEgg/EasterEgg.apk=com.android.egg\n",
      "package:/system/priv-app/MtpDocumentsProvider/MtpDocumentsProvider.apk=com.android.mtp\n",
      "package:/system/app/NfcNci/NfcNci.apk=com.android.nfc\n",
      "package:/system/app/Stk/Stk.apk=com.android.stk\n",
      "package:/data/app/com.samsung.android.messaging-tzWSjyB7Fd4lnRydNSUw9w==/base.apk=com.samsung.android.messaging\n",
      "package:/system/priv-app/EmojiUpdater/EmojiUpdater.apk=com.samsung.android.emojiupdater\n",
      "package:/data/app/com.hanafn.push.agent-4LpwN15EN_T1Wp890G82ww==/base.apk=com.hanafn.push.agent\n",
      "package:/system/priv-app/BackupRestoreConfirmation/BackupRestoreConfirmation.apk=com.android.backupconfirm\n",
      "package:/system/priv-app/KLMSAgent/KLMSAgent.apk=com.samsung.klmsagent\n",
      "package:/data/app/com.samsung.android.app.panel.naver.tv-Pm4YD9WVLm7A442JfYeDNg==/base.apk=com.samsung.android.app.panel.naver.tv\n",
      "package:/system/app/SmartFittingService/SmartFittingService.apk=com.samsung.android.smartfitting\n",
      "package:/system/priv-app/SecSetupWizard_Global/SecSetupWizard_Global.apk=com.sec.android.app.SecSetupWizard\n",
      "package:/data/app/com.skt.prod.dialer--79-DegV7bn6qlwbdtaw5g==/base.apk=com.skt.prod.dialer\n",
      "package:/data/app/com.pinterest-fFmXdE_4T70-AMdqNmwQtQ==/base.apk=com.pinterest\n",
      "package:/system/priv-app/TelephonyUI/TelephonyUI.apk=com.samsung.android.app.telephonyui\n",
      "package:/system/app/PreloadAppDownload/PreloadAppDownload.apk=com.samsung.preloadapp\n",
      "package:/data/app/com.samsung.android.samsungpositioning-gFT7kAUzlnszwkq0Z_c5Zw==/base.apk=com.samsung.android.samsungpositioning\n",
      "package:/system/priv-app/StatementService/StatementService.apk=com.android.statementservice\n",
      "package:/data/app/com.google.android.gm-uKswGhCT0N7vtTKp7rMsLg==/base.apk=com.google.android.gm\n",
      "package:/data/app/com.samsung.android.bixby.agent-WzjeBeNIqD6nKWF2drY4tA==/base.apk=com.samsung.android.bixby.agent\n",
      "package:/data/app/com.miraeasset.trade-8ITQ7gJJuyHuMX3GG3nY9Q==/base.apk=com.miraeasset.trade\n",
      "package:/data/app/com.vaultmicro.camerafi2-HyzeS2LPT4Nb4je37JRN-Q==/base.apk=com.vaultmicro.camerafi2\n",
      "package:/data/app/com.google.android.apps.tachyon-B-mH0HmrLc6ieMNizTrevg==/base.apk=com.google.android.apps.tachyon\n",
      "package:/system/priv-app/UsimRegistrationKOR/UsimRegistrationKOR.apk=com.sec.android.UsimRegistrationKOR\n",
      "package:/system/priv-app/HwModuleTest/HwModuleTest.apk=com.sec.android.app.hwmoduletest\n",
      "package:/system/priv-app/SecSettingsIntelligence/SecSettingsIntelligence.apk=com.android.settings.intelligence\n",
      "package:/system/app/BCService/BCService.apk=com.sec.bcservice\n",
      "package:/data/app/com.dencreak.spbook-47swaf7Uvcp8e3197FJcvw==/base.apk=com.dencreak.spbook\n",
      "package:/system/app/SilentLog/SilentLog.apk=com.sec.modem.settings\n",
      "package:/system/priv-app/SecIrisService/SecIrisService.apk=com.samsung.android.server.iris\n",
      "package:/system/app/SKTHiddenMenu/SKTHiddenMenu.apk=com.samsung.hidden.SKT\n",
      "package:/vendor/overlay/SysuiDarkTheme/SysuiDarkThemeOverlay.apk=com.android.systemui.theme.dark\n",
      "package:/system/priv-app/ContextProvider/ContextProvider.apk=com.samsung.android.providers.context\n",
      "package:/system/priv-app/serviceModeApp_FB/serviceModeApp_FB.apk=com.sec.android.app.servicemodeapp\n",
      "package:/system/priv-app/PreloadInstaller/PreloadInstaller.apk=com.sec.android.preloadinstaller\n",
      "package:/data/app/com.sirma.mobile.bible.android-jEfTJhIL2Yga1U5PM-_Eug==/base.apk=com.sirma.mobile.bible.android\n",
      "package:/system/priv-app/UIBCVirtualSoftkey/UIBCVirtualSoftkey.apk=com.sec.android.uibcvirtualsoftkey\n",
      "package:/system/priv-app/SetupWizard/SetupWizard.apk=com.google.android.setupwizard\n",
      "package:/data/app/com.frograms.wplay-fpz-e5W2xYCEOxZbGKJQhA==/base.apk=com.frograms.wplay\n",
      "package:/data/app/com.sec.android.gallery3d-IVX78cZKeB39tU3LqcjGUg==/base.apk=com.sec.android.gallery3d\n",
      "package:/system/priv-app/SettingsProvider/SettingsProvider.apk=com.android.providers.settings\n",
      "package:/system/priv-app/Accessibility/Accessibility.apk=com.samsung.accessibility\n",
      "package:/system/priv-app/imsservice/imsservice.apk=com.sec.imsservice\n",
      "package:/system/priv-app/SharedStorageBackup/SharedStorageBackup.apk=com.android.sharedstoragebackup\n",
      "package:/data/app/com.google.android.music-9MZom0NDXr2bsYJBT_UD1g==/base.apk=com.google.android.music\n",
      "package:/data/app/com.samsung.android.mobileservice-vDbkuWF2xE1UP8mqO2AjHA==/base.apk=com.samsung.android.mobileservice\n",
      "package:/system/app/SPrintSpooler/SPrintSpooler.apk=com.android.printspooler\n",
      "package:/system/priv-app/HotwordEnrollmentOKGoogleCORTEXM4/HotwordEnrollmentOKGoogleCORTEXM4.apk=com.android.hotwordenrollment.okgoogle\n",
      "package:/system/priv-app/GearVRService/GearVRService.apk=com.samsung.android.hmt.vrsvc\n",
      "package:/data/app/com.locnall.KimGiSa-dncvFv_xHM55lTHITcittw==/base.apk=com.locnall.KimGiSa\n",
      "package:/system/priv-app/StoryService/StoryService.apk=com.samsung.storyservice\n",
      "package:/system/app/BasicDreams/BasicDreams.apk=com.android.dreams.basic\n",
      "package:/data/app/com.sec.android.app.music-QfKFFM6-O22AUfTpesbLyg==/base.apk=com.sec.android.app.music\n",
      "package:/data/app/com.sktelecom.tauth-CR5tk-A9KgfTp6h0t2jayw==/base.apk=com.sktelecom.tauth\n",
      "package:/system/priv-app/ONEstoreSetupwizard/ONEstoreSetupwizard.apk=com.skp.tstore.startup\n",
      "package:/data/app/teamDoppelGanger.SmarterSubway-BE-Ad32_E-d_GLBjCakcOA==/base.apk=teamDoppelGanger.SmarterSubway\n",
      "package:/system/app/SecureElement/SecureElement.apk=com.android.se\n",
      "package:/system/priv-app/InputDevices/InputDevices.apk=com.android.inputdevices\n",
      "package:/data/app/com.samsung.android.widgetapp.daumedge.news-DFB6innN0Tuy6bFktblw1Q==/base.apk=com.samsung.android.widgetapp.daumedge.news\n",
      "package:/system/priv-app/KnoxGuard/KnoxGuard.apk=com.samsung.android.kgclient\n",
      "package:/system/priv-app/SecureFolder/SecureFolder.apk=com.samsung.knox.securefolder\n",
      "package:/data/app/com.socialnmobile.dictapps.notepad.color.note-YwMO09eCwD6sYdIgm1ZGhg==/base.apk=com.socialnmobile.dictapps.notepad.color.note\n",
      "package:/system/app/STalkback/STalkback.apk=com.samsung.android.app.talkback\n",
      "package:/system/app/BuiltInPrintService/BuiltInPrintService.apk=com.android.bips\n",
      "package:/data/app/com.samsung.android.game.gametools-fi0450iOzspOEgWNLcS97A==/base.apk=com.samsung.android.game.gametools\n",
      "package:/system/priv-app/SystemUIDesktop/SystemUIDesktop.apk=com.samsung.desktopsystemui\n",
      "package:/system/app/LinkSharing_v10/LinkSharing_v10.apk=com.samsung.android.app.simplesharing\n",
      "package:/system/priv-app/HiddenNetworkSetting/HiddenNetworkSetting.apk=com.samsung.hiddennetworksetting\n",
      "package:/system/priv-app/PeopleStripe/PeopleStripe.apk=com.samsung.android.service.peoplestripe\n",
      "package:/system/app/Panorama360Viewer/Panorama360Viewer.apk=com.sec.android.gallery3d.panorama360view\n",
      "package:/system/app/DAAgent/DAAgent.apk=com.samsung.android.da.daagent\n",
      "package:/data/app/com.kakaopay.app-qFkoUASp-hUQ2tc2RysRrA==/base.apk=com.kakaopay.app\n",
      "package:/data/app/com.samsung.android.app.reminder-5xzqqV_lGneve6Kt9hdjTw==/base.apk=com.samsung.android.app.reminder\n",
      "package:/system/app/SlowMotionVideoEditor/SlowMotionVideoEditor.apk=com.samsung.app.slowmotion\n",
      "package:/data/app/com.hanaskcard.paycla-19d1ezAgjuEjTYBdzBqgug==/base.apk=com.hanaskcard.paycla\n",
      "package:/system/priv-app/SmartCallProvider/SmartCallProvider.apk=com.samsung.android.smartcallprovider\n",
      "package:/system/app/SmartCapture/SmartCapture.apk=com.samsung.android.app.smartcapture\n",
      "package:/system/priv-app/DesktopModeUiService/DesktopModeUiService.apk=com.sec.android.desktopmode.uiservice\n",
      "package:/data/app/com.google.android.apps.docs-DtloXsJ1brSkwU-NlmDNJg==/base.apk=com.google.android.apps.docs\n",
      "package:/data/app/com.google.android.apps.maps-qqIrGd9xq8N-a7Ub8L7rRw==/base.apk=com.google.android.apps.maps\n",
      "package:/system/app/ANTPlusPlugins/ANTPlusPlugins.apk=com.dsi.ant.plugins.antplus\n",
      "package:/system/priv-app/TaskEdgePanel_v3.2/TaskEdgePanel_v3.2.apk=com.samsung.android.app.taskedge\n",
      "package:/data/app/com.microsoft.office.word-kWw2U8BhunsMTyvMzkzqMw==/base.apk=com.microsoft.office.word\n",
      "package:/system/app/ImsSettings/ImsSettings.apk=com.samsung.advp.imssettings\n",
      "package:/system/app/SLocation/SLocation.apk=com.samsung.android.location\n",
      "package:/system/app/SamsungIMEv3.3/SamsungIMEv3.3.apk=com.sec.android.inputmethod\n",
      "package:/system/app/AdvSoundDetector2015/AdvSoundDetector2015.apk=com.samsung.android.app.advsounddetector\n",
      "package:/data/app/com.sec.android.app.clockpackage--WaU3dIt1YJL7hyBT9OcPg==/base.apk=com.sec.android.app.clockpackage\n",
      "package:/system/priv-app/ModemServiceMode/ModemServiceMode.apk=com.sec.android.RilServiceModeApp\n",
      "package:/system/app/WebViewStub/WebViewStub.apk=com.google.android.webview\n",
      "package:/data/app/com.samsung.android.mdecservice-REIlA6HZ6PaxjlYr7pYQ4A==/base.apk=com.samsung.android.mdecservice\n",
      "package:/system/priv-app/SimSettingMgr/SimSettingMgr.apk=com.sec.android.app.simsettingmgr\n",
      "package:/data/app/com.microsoft.office.powerpoint-7XkF6yw2V1GmpjadDxfh6w==/base.apk=com.microsoft.office.powerpoint\n",
      "package:/data/app/com.nhn.android.band-QOu6x0qJ467Sv9ktEC54cw==/base.apk=com.nhn.android.band\n",
      "package:/data/app/com.nhn.android.nmap-yyjL2HhWhD0twPKm16J9Cw==/base.apk=com.nhn.android.nmap\n",
      "package:/system/app/MirrorLink/MirrorLink.apk=com.samsung.android.app.mirrorlink\n",
      "package:/system/priv-app/Telecom/Telecom.apk=com.android.server.telecom\n",
      "package:/system/app/GoogleContactsSyncAdapter/GoogleContactsSyncAdapter.apk=com.google.android.syncadapters.contacts\n",
      "package:/data/app/com.trivago-OHVnBRkq77PHWp1ptAbx3g==/base.apk=com.trivago\n",
      "package:/system/priv-app/ImsLogger/ImsLogger.apk=com.sec.imslogger\n",
      "package:/system/app/ClipboardUIService/ClipboardUIService.apk=com.samsung.android.clipboarduiservice\n",
      "package:/data/app/com.estsoft.alsong-tZzNaVo3q8_k8EOCdk0hnw==/base.apk=com.estsoft.alsong\n",
      "package:/system/app/KeyChain/KeyChain.apk=com.android.keychain\n",
      "package:/data/app/kr.sira.level-kxtB5UkwkTgOgSv9nPCseg==/base.apk=kr.sira.level\n",
      "package:/data/app/com.android.chrome-CyV4AdSl3Zh1Ct1rU-W8KQ==/base.apk=com.android.chrome\n",
      "package:/data/app/com.samsung.android.ipsgeofence-QayT2LVvpklI8LxF2G-70w==/base.apk=com.samsung.android.ipsgeofence\n",
      "package:/data/app/tw.mobileapp.qrcode.banner-OF3qE0vrlRrJyVyiXw_Ggg==/base.apk=tw.mobileapp.qrcode.banner\n",
      "package:/system/priv-app/ThemeCenter/ThemeCenter.apk=com.samsung.android.themecenter\n",
      "package:/system/priv-app/GooglePackageInstaller/GooglePackageInstaller.apk=com.google.android.packageinstaller\n",
      "package:/data/app/com.kakaobank.channel-V6AMmmUvaqX4LL0LnBetJA==/base.apk=com.kakaobank.channel\n",
      "package:/data/app/com.google.android.gms-RewneyOgEdz7eqyG8tOaMA==/base.apk=com.google.android.gms\n",
      "package:/system/priv-app/GoogleServicesFramework/GoogleServicesFramework.apk=com.google.android.gsf\n",
      "package:/data/app/com.google.android.tts-4YQoN8nw4_7TEtSdgZ6VWw==/base.apk=com.google.android.tts\n",
      "package:/data/app/android.autoinstalls.config.samsung-_5G6wkXuhiPoGEyI03TpWw==/base.apk=android.autoinstalls.config.samsung\n",
      "package:/system/priv-app/CallLogBackup/CallLogBackup.apk=com.android.calllogbackup\n",
      "package:/system/priv-app/GooglePartnerSetup/GooglePartnerSetup.apk=com.google.android.partnersetup\n",
      "package:/data/app/com.narae.keyboard.palbangmigeul-hG_BKRCMuH7htuqySKB7Aw==/base.apk=com.narae.keyboard.palbangmigeul\n",
      "package:/system/priv-app/DiagMonAgent/DiagMonAgent.apk=com.sec.android.diagmonagent\n",
      "package:/system/priv-app/KnoxContainerDesktop/KnoxContainerDesktop.apk=com.samsung.android.knox.containerdesktop\n",
      "package:/data/app/com.google.android.videos-xw6WmzcbETs8_1Iis1HN-Q==/base.apk=com.google.android.videos\n",
      "package:/data/app/kr.co.alba.webappalba.m-IcqJ76Te1Nurgxer5ueDhw==/base.apk=kr.co.alba.webappalba.m\n",
      "package:/system/priv-app/SPPPushClient/SPPPushClient.apk=com.sec.spp.push\n",
      "package:/system/app/CarrierDefaultApp/CarrierDefaultApp.apk=com.android.carrierdefaultapp\n",
      "package:/system/app/AntHalService/AntHalService.apk=com.dsi.ant.server\n",
      "package:/system/priv-app/IntelligentBiometricsService/IntelligentBiometricsService.apk=com.samsung.android.biometrics.service\n",
      "package:/data/app/com.sec.android.app.myfiles-sjzPn9BScqoVgCxenu448w==/base.apk=com.sec.android.app.myfiles\n",
      "package:/system/priv-app/ProxyHandler/ProxyHandler.apk=com.android.proxyhandler\n",
      "package:/system/priv-app/SingleOutFocusViewer/SingleOutFocusViewer.apk=com.samsung.android.app.siofviewer\n",
      "package:/data/app/com.tf.thinkdroid.viewer-FEMxOdRZYXd26ZTPFd4tMA==/base.apk=com.tf.thinkdroid.viewer\n",
      "package:/system/app/AllshareFileShare/AllshareFileShare.apk=com.samsung.android.allshare.service.fileshare\n",
      "package:/data/app/com.netflix.mediaclient-F1ThQd2NkGfxEatNiy06hQ==/base.apk=com.netflix.mediaclient\n",
      "package:/system/priv-app/SafetyCleaner/SafetyCleaner.apk=com.skt.t_smart_charge\n",
      "package:/data/app/com.samsung.android.widgetapp.daumedge.kakao-jJs1-_C9YT0e20M4EAl0Bg==/base.apk=com.samsung.android.widgetapp.daumedge.kakao\n",
      "package:/system/priv-app/PhotoStudio_Beyond/PhotoStudio_Beyond.apk=com.sec.android.mimage.photoretouching\n",
      "package:/system/priv-app/TouchWizHome_2017/TouchWizHome_2017.apk=com.sec.android.app.launcher\n",
      "package:/system/app/UniversalSwitch/UniversalSwitch.apk=com.samsung.android.universalswitch\n",
      "package:/system/app/ApexService/ApexService.apk=com.sec.android.app.apex\n",
      "package:/data/app/flipboard.boxer.app-Mx_dtWJEET20G3BSfAxbrQ==/base.apk=flipboard.boxer.app\n",
      "package:/data/app/com.kebhana.hanapush-m-C622oxRQymMoQ9Z6WALg==/base.apk=com.kebhana.hanapush\n",
      "package:/system/priv-app/GoogleFeedback/GoogleFeedback.apk=com.google.android.feedback\n",
      "package:/system/app/GooglePrintRecommendationService/GooglePrintRecommendationService.apk=com.google.android.printservice.recommendation\n",
      "package:/data/app/com.google.android.apps.photos-suo-7EOK75QlnBQCasc-Hg==/base.apk=com.google.android.apps.photos\n",
      "package:/system/app/Tinker/Tinker.apk=com.monotype.android.font.tinkerbell\n",
      "package:/system/app/GoogleCalendarSyncAdapter/GoogleCalendarSyncAdapter.apk=com.google.android.syncadapters.calendar\n",
      "package:/system/priv-app/ManagedProvisioning/ManagedProvisioning.apk=com.android.managedprovisioning\n",
      "package:/system/priv-app/MultiSoundSetting/MultiSoundSetting.apk=com.samsung.android.setting.multisound\n",
      "package:/system/priv-app/VisionProvider/VisionProvider.apk=com.samsung.visionprovider\n",
      "package:/data/app/net.daum.android.cafe-srpf8i9dFD4fotvRMPFzzw==/base.apk=net.daum.android.cafe\n",
      "package:/data/app/net.daum.android.daum-t2C_E6jzBCudhwvplDUXkQ==/base.apk=net.daum.android.daum\n",
      "package:/data/app/com.samsung.android.authfw-MBX16i6gDFOfIXUAnW9tuA==/base.apk=com.samsung.android.authfw\n",
      "package:/system/app/ChocoEUKor/ChocoEUKor.apk=com.monotype.android.font.chococooky\n",
      "package:/data/app/com.softwise.dictiontext-34A6QRHPjjKDmuPeSWo4Ow==/base.apk=com.softwise.dictiontext\n",
      "package:/data/app/com.shcard.smartpay-cZ_ZFUCcBOHm3eqVkw_1eA==/base.apk=com.shcard.smartpay\n",
      "package:/system/app/PhotoTable/PhotoTable.apk=com.android.dreams.phototable\n",
      "package:/system/priv-app/BixbyVisionFramework/BixbyVisionFramework.apk=com.samsung.android.bixbyvision.framework\n",
      "package:/system/priv-app/HealthService/HealthService.apk=com.sec.android.service.health\n",
      "package:/system/app/SafetyInformation/SafetyInformation.apk=com.samsung.safetyinformation\n",
      "package:/system/priv-app/SamsungDialer/SamsungDialer.apk=com.samsung.android.dialer\n",
      "package:/system/priv-app/DeviceQualityAgent/DeviceQualityAgent.apk=com.samsung.android.dqagent\n",
      "package:/system/app/StoryEditor_Dream_N/StoryEditor_Dream_N.apk=com.samsung.app.highlightplayer\n",
      "package:/data/app/com.towneers.www-JRIKYmxTP-AOerLnsdAeHQ==/base.apk=com.towneers.www\n",
      "package:/system/priv-app/ringtoneBR/ringtoneBR.apk=com.sec.android.app.ringtoneBR\n",
      "package:/data/app/com.samsung.android.game.gos-gayv9J7ztSDUo3PvdomWbA==/base.apk=com.samsung.android.game.gos\n",
      "package:/data/app/com.skt.tmap.ku-K7yfFphfn9vKIrxDF0KpyQ==/base.apk=com.skt.tmap.ku\n",
      "package:/data/app/com.skt.tmaphot-n2_CIdU8tZlfTBJa6TFZUA==/base.apk=com.skt.tmaphot\n",
      "package:/system/app/VideoEditorLite_Dream_N/VideoEditorLite_Dream_N.apk=com.sec.android.app.vepreload\n",
      "package:/system/priv-app/GPUDriver-S9MaliG72_90/GPUDriver-S9MaliG72_90.apk=com.samsung.gpudriver.S9MaliG72_90\n",
      "package:/system/app/PartnerBookmarksProvider/PartnerBookmarksProvider.apk=com.android.providers.partnerbookmarks\n",
      "package:/system/priv-app/SEMFactoryApp/SEMFactoryApp.apk=com.sem.factoryapp\n",
      "package:/system/priv-app/KeyguardWallpaperUpdator/KeyguardWallpaperUpdator.apk=com.samsung.android.keyguardwallpaperupdator\n",
      "package:/system/priv-app/StickerFaceARAvatar/StickerFaceARAvatar.apk=com.samsung.android.app.camera.sticker.facearavatar.preload\n",
      "package:/system/priv-app/TeeService/TeeService.apk=com.trustonic.teeservice\n",
      "package:/data/app/com.andymstone.metronome-WWMmL7S6b4zFdv1LuU4pZA==/base.apk=com.andymstone.metronome\n",
      "package:/system/priv-app/SecLiveWallpapersPicker/SecLiveWallpapersPicker.apk=com.android.wallpaper.livepicker\n",
      "package:/system/priv-app/BeaconManager/BeaconManager.apk=com.samsung.android.beaconmanager\n",
      "package:/data/app/net.bookjam.dramabible-d50YUrTY2MzyMcrWQCrfPw==/base.apk=net.bookjam.dramabible\n",
      "package:/data/app/com.airbnb.android-SE3qh0NKimjdK4MXvOSaUg==/base.apk=com.airbnb.android\n",
      "package:/system/app/EdmSimPinService/EdmSimPinService.apk=com.sec.enterprise.mdm.services.simpin\n",
      "package:/system/priv-app/Tag/Tag.apk=com.android.apps.tag\n",
      "package:/system/priv-app/TPhoneSetup/TPhoneSetup.apk=com.skt.prod.phone.phonemodesetupwizard\n",
      "package:/system/priv-app/OpenImsDm/OpenImsDm.apk=com.ims.dm\n",
      "package:/data/app/com.tms-NV8os2LEXpIz_FwFN2TFoQ==/base.apk=com.tms\n",
      "package:/data/app/com.navigation.AIM-KpdxBIJ4cOCUotyC3Z950g==/base.apk=com.navigation.AIM\n",
      "package:/system/priv-app/StickerCenter/StickerCenter.apk=com.samsung.android.stickercenter\n",
      "package:/data/app/com.samsung.android.oneconnect-oIXkScf05LMdvFL3rrfJNA==/base.apk=com.samsung.android.oneconnect\n",
      "package:/data/app/com.sec.android.app.popupcalculator-UOXUP5NxYD90GOZuC_Wirg==/base.apk=com.sec.android.app.popupcalculator\n",
      "package:/system/priv-app/SOAgent/SOAgent.apk=com.sec.android.soagent\n",
      "package:/system/priv-app/AndroidPlatformServices/AndroidPlatformServices.apk=com.google.android.gms.policy_sidecar_aps\n",
      "package:/data/app/com.kt.otv-nceQ6oKP12w_b1NdiQSLxQ==/base.apk=com.kt.otv\n",
      "package:/data/app/com.hpapp-YAEi2Zvl6mdPlYvz0pkw3w==/base.apk=com.hpapp\n",
      "package:/system/app/CocktailQuickTool/CocktailQuickTool.apk=com.sec.android.app.quicktool\n",
      "package:/data/app/com.samsung.android.fmm-m4BTWmvGLT2_7SQLqinfHg==/base.apk=com.samsung.android.fmm\n",
      "package:/system/app/MDMApp/MDMApp.apk=com.samsung.android.mdm\n",
      "package:/data/app/com.sec.android.app.shealth-3JFaHQnJ9lRWZzr28KMV5A==/base.apk=com.sec.android.app.shealth\n",
      "package:/system/app/UnifiedWFC/UnifiedWFC.apk=com.sec.unifiedwfc\n",
      "package:/system/app/SecFactoryPhoneTest/SecFactoryPhoneTest.apk=com.sec.phone\n",
      "package:/data/app/com.voyagerx.scanner-dtwyl0pWtpMLlAZOrUtodg==/base.apk=com.voyagerx.scanner\n",
      "package:/system/app/mldapchecker/mldapchecker.apk=com.sec.mldapchecker\n",
      "package:/data/app/Com.sktelecom.minit-8UTgrFGBWkyIt721K3UGkA==/base.apk=Com.sktelecom.minit\n",
      "package:/data/app/com.cxinventor.file.explorer-f-TONcVYyx51FtVuvtqjRw==/base.apk=com.cxinventor.file.explorer\n",
      "package:/data/app/com.samsung.android.bixby.wakeup-vWb1bnGiNHzZR-pgaZeFdw==/base.apk=com.samsung.android.bixby.wakeup\n",
      "package:/data/app/com.samsung.accessory-CjAShXMTdfUJYML4hHGDgA==/base.apk=com.samsung.accessory\n",
      "package:/data/app/com.adobe.reader-mDHHBpjdBDdf8iMKfD1RZA==/base.apk=com.adobe.reader\n",
      "package:/system/priv-app/GoogleBackupTransport/GoogleBackupTransport.apk=com.google.android.backuptransport\n",
      "package:/data/app/com.ffsmultimedia.osccontroller-bv6JWKd0d-Jbl3JjALpHJQ==/base.apk=com.ffsmultimedia.osccontroller\n",
      "package:/data/app/com.samsung.android.samsungpass-I1JLJBW9FEdZWvBn0HfWow==/base.apk=com.samsung.android.samsungpass\n",
      "package:/system/priv-app/StorageManager/StorageManager.apk=com.android.storagemanager\n",
      "package:/data/app/com.samsung.android.scloud-momoVdTK6vHFA4NnMzkvUw==/base.apk=com.samsung.android.scloud\n",
      "package:/system/app/SMusicPicker/SMusicPicker.apk=com.samsung.android.app.soundpicker\n",
      "package:/system/priv-app/PhoneErrService/PhoneErrService.apk=com.sec.app.RilErrorNotifier\n",
      "package:/system/priv-app/PaymentFramework/PaymentFramework.apk=com.samsung.android.spayfw\n",
      "package:/system/app/BookmarkProvider/BookmarkProvider.apk=com.android.bookmarkprovider\n",
      "package:/system/priv-app/SecSettings/SecSettings.apk=com.android.settings\n",
      "package:/system/app/VideoTrimmer/VideoTrimmer.apk=com.samsung.app.newtrim\n",
      "package:/system/app/DsmsAPK/DsmsAPK.apk=com.samsung.android.dsms\n",
      "package:/data/app/com.samsung.android.lool-1koSwV7Uf4QNQWyTHi6EDA==/base.apk=com.samsung.android.lool\n",
      "package:/data/app/com.samsung.android.spay-fP8pic-tpYP2UPMhBZ-1pw==/base.apk=com.samsung.android.spay\n",
      "package:/system/app/BluetoothTest/BluetoothTest.apk=com.sec.android.app.bluetoothtest\n",
      "package:/system/priv-app/SamsungDeviceHealthManagerService/SamsungDeviceHealthManagerService.apk=com.sec.android.sdhms\n",
      "package:/data/app/com.samsung.android.app.spage-cwD-IR0j36b-L4qvs51GVQ==/base.apk=com.samsung.android.app.spage\n",
      "package:/data/app/com.hanabank.ebk.channel.android.hananbank-Nhk_HfublmhlBo8ckb7ByQ==/base.apk=com.hanabank.ebk.channel.android.hananbank\n",
      "package:/system/priv-app/knoxanalyticsagent/knoxanalyticsagent.apk=com.samsung.android.knox.analytics.uploader\n",
      "package:/system/app/SCPMClient_N/SCPMClient_N.apk=com.samsung.android.sm.policy\n",
      "package:/system/app/EmergencyLauncher/EmergencyLauncher.apk=com.sec.android.emergencylauncher\n",
      "package:/data/app/com.kakao.talk-7jLmb2gl7fLP5QMRQRiLAQ==/base.apk=com.kakao.talk\n",
      "package:/data/app/com.kakao.taxi-uyRssPTLn_mdBn9Fsnaoiw==/base.apk=com.kakao.taxi\n",
      "package:/data/app/com.nhn.land.android-3WiufcXqAkzUraYbZY9tfw==/base.apk=com.nhn.land.android\n",
      "package:/data/app/com.ttimes-y4c-GbBO595KGxKXcOCEyQ==/base.apk=com.ttimes\n",
      "package:/data/app/com.orux.oruxmaps-orJwDGZh-fRbKifZRdJ-_A==/base.apk=com.orux.oruxmaps\n",
      "package:/system/priv-app/Hearingdro_V7_P/Hearingdro_V7_P.apk=com.sec.hearingadjust\n",
      "package:/data/app/com.sec.android.easyMover-M8DpVRdCe3rCPEE_QlklHw==/base.apk=com.sec.android.easyMover\n",
      "package:/data/app/com.google.android.apps.turbo-3xhfVvb8cWpaETPCsaldEQ==/base.apk=com.google.android.apps.turbo\n",
      "package:/system/priv-app/BlueLightFilter/BlueLightFilter.apk=com.samsung.android.bluelightfilter\n",
      "package:/system/app/BBCAgent/BBCAgent.apk=com.samsung.android.bbc.bbcagent\n",
      "package:/data/app/com.samsung.android.visionintelligence-VZr6dhDlbE8r__HlzilGKg==/base.apk=com.samsung.android.visionintelligence\n",
      "package:/data/app/com.hyundai.myhyundai-0Pzb9CJ9yIVkClvJtbgowg==/base.apk=com.hyundai.myhyundai\n",
      "package:/data/app/net.cj.cjhv.gs.tving-12OB-Nmz_kyxoyJLiz-_vg==/base.apk=net.cj.cjhv.gs.tving\n",
      "package:/system/priv-app/knoxvpnproxyhandler/knoxvpnproxyhandler.apk=com.knox.vpn.proxyhandler\n",
      "package:/data/app/com.google.android.apps.chromecast.app-9-My9puvMs2ARc8IjZ3OaQ==/base.apk=com.google.android.apps.chromecast.app\n",
      "package:/data/app/org.cohortor.gstringsng-EpNMzo2SpPeRr8VR8dEdwA==/base.apk=org.cohortor.gstringsng\n",
      "package:/system/app/CtsShimPrebuilt/CtsShimPrebuilt.apk=com.android.cts.ctsshim\n",
      "package:/data/app/com.nhn.android.navercafe-X9KWI1imAsk6Am8kewLbDA==/base.apk=com.nhn.android.navercafe\n",
      "package:/system/priv-app/Messaging_sticker_plugin/Messaging_sticker_plugin.apk=com.samsung.android.stickerplugin\n",
      "package:/system/app/SplitSoundService/SplitSoundService.apk=com.sec.android.splitsound\n",
      "package:/data/app/com.booking-oZo5ru_b-qkWMAwFc0mljw==/base.apk=com.booking\n",
      "package:/system/app/GearManagerStub/GearManagerStub.apk=com.samsung.android.app.watchmanagerstub\n",
      "package:/data/app/kr.co.openit.openrider-3yJ3qCxFm74MHh_1lH0WZg==/base.apk=kr.co.openit.openrider\n",
      "package:/system/priv-app/SVCAgent/SVCAgent.apk=com.samsung.android.svcagent\n",
      "package:/data/app/com.nhn.android.ndrive-DBfwGZnYR1A0v7cqzU11Jw==/base.apk=com.nhn.android.ndrive\n",
      "package:/system/priv-app/SVoiceIME/SVoiceIME.apk=com.samsung.android.svoiceime\n",
      "package:/data/app/com.mojas.player-dUzZ8LilfB_XzcpRhFJb6w==/base.apk=com.mojas.player\n",
      "package:/data/app/com.atsolutions.smartonepass-L_tI26LtKw14FEYbeefd1g==/base.apk=com.atsolutions.smartonepass\n",
      "package:/system/priv-app/MateAgent/MateAgent.apk=com.samsung.android.mateagent\n",
      "package:/system/priv-app/NetworkDiagnostic/NetworkDiagnostic.apk=com.samsung.android.networkdiagnostic\n",
      "package:/system/app/GameOptimizer/GameOptimizer.apk=com.enhance.gameservice\n",
      "package:/system/app/ShortcutBackupService/ShortcutBackupService.apk=com.samsung.android.shortcutbackupservice\n",
      "package:/system/priv-app/VpnDialogs/VpnDialogs.apk=com.android.vpndialogs\n",
      "package:/system/app/ESEServiceAgent/ESEServiceAgent.apk=com.samsung.ucs.agent.ese\n",
      "package:/system/priv-app/StickerFaceARExp/StickerFaceARExp.apk=com.samsung.android.app.camera.sticker.facearexpression.preload\n",
      "package:/data/app/com.nhn.android.search-_ppM-9lEO_mpTY3AaqAGmg==/base.apk=com.nhn.android.search\n",
      "package:/system/priv-app/SamsungContactsProvider100/SamsungContactsProvider100.apk=com.samsung.android.providers.contacts\n",
      "package:/data/app/com.skt.skaf.OA00018282-zDg-CQ-fOdPkFjas7csM5w==/base.apk=com.skt.skaf.OA00018282\n",
      "package:/data/app/com.skt.skaf.OA00026910-WbuSD8XpjgD2b3-pszUVzA==/base.apk=com.skt.skaf.OA00026910\n",
      "package:/system/priv-app/TeleService/TeleService.apk=com.android.phone\n",
      "package:/system/app/GoogleVrServices/GoogleVrServices.apk=com.google.vr.vrcore\n",
      "package:/system/priv-app/Shell/Shell.apk=com.android.shell\n",
      "package:/data/app/com.enuri.android-vGzSfLJznl9GsG1HZkPvWA==/base.apk=com.enuri.android\n",
      "package:/system/app/WallpaperBackup/WallpaperBackup.apk=com.android.wallpaperbackup\n",
      "package:/system/priv-app/BlockedNumberProvider/BlockedNumberProvider.apk=com.android.providers.blockednumber\n",
      "package:/system/priv-app/OMCAgent5/OMCAgent5.apk=com.samsung.android.app.omcagent\n",
      "package:/system/priv-app/SmartPush/SmartPush.apk=com.skt.skaf.OA00199800\n",
      "package:/system/priv-app/UserDictionaryProvider/UserDictionaryProvider.apk=com.android.providers.userdictionary\n",
      "package:/system/app/Tdmb/Tdmb.apk=com.samsung.android.app.dtv.dmb\n",
      "package:/system/app/UniversalMDMClient/UniversalMDMClient.apk=com.sec.enterprise.knox.cloudmdm.smdms\n",
      "package:/system/priv-app/StickerStamp/StickerStamp.apk=com.samsung.android.app.camera.sticker.stamp.preload\n",
      "package:/system/priv-app/EmergencyInfo/EmergencyInfo.apk=com.android.emergency\n",
      "package:/system/priv-app/FotaAgent/FotaAgent.apk=com.wssyncmldm\n",
      "package:/data/app/com.mictale.gpsessentials-oKPvlIJEw1SWamUGqsrSbg==/base.apk=com.mictale.gpsessentials\n",
      "package:/system/app/SKTFindLostPhone/SKTFindLostPhone.apk=com.skt.skaf.OA00412131\n",
      "package:/system/priv-app/FusedLocation/FusedLocation.apk=com.android.location.fused\n",
      "package:/system/priv-app/AppsEdgePanel_v3.2/AppsEdgePanel_v3.2.apk=com.samsung.android.app.appsedge\n",
      "package:/data/app/com.samsung.android.samsungpassautofill-OXnPswhYBGhp4Xwtk9y1RQ==/base.apk=com.samsung.android.samsungpassautofill\n",
      "package:/system/priv-app/EpdgService/EpdgService.apk=com.sec.epdg\n",
      "package:/system/priv-app/SystemUI/SystemUI.apk=com.android.systemui\n",
      "package:/system/app/Personalization/Personalization.apk=com.sec.android.app.personalization\n",
      "package:/system/app/BluetoothMidiService/BluetoothMidiService.apk=com.android.bluetoothmidiservice\n",
      "package:/system/app/HandwritingService/HandwritingService.apk=com.samsung.android.sdk.handwriting\n",
      "package:/system/app/AASAservice/AASAservice.apk=com.samsung.aasaservice\n",
      "package:/data/app/com.simplestairs.stairscalculator-tRyCcxFPwBnBA_dGRgdUOA==/base.apk=com.simplestairs.stairscalculator\n",
      "package:/system/app/Traceur/Traceur.apk=com.android.traceur\n",
      "package:/system/app/AllshareMediaShare/AllshareMediaShare.apk=com.samsung.android.allshare.service.mediashare\n",
      "package:/data/app/com.skt.skaf.A000Z00040-afa2nMx1IxPkDwz1VMaWRw==/base.apk=com.skt.skaf.A000Z00040\n",
      "package:/data/app/com.netcompss_gh.wifidirect-2UEmUudhR0PtLmBsFPy1bg==/base.apk=com.netcompss_gh.wifidirect\n",
      "package:/system/priv-app/HybridRadio_P/HybridRadio_P.apk=com.sec.android.app.fm\n",
      "package:/data/app/com.xiaomi.smarthome-GfJVrllk2SRyef50xn_3BQ==/base.apk=com.xiaomi.smarthome\n",
      "package:/system/priv-app/IrisFactoryCamera/IrisFactoryCamera.apk=com.sec.factory.iris.camera\n",
      "package:/system/app/EmergencyProvider/EmergencyProvider.apk=com.sec.android.provider.emergencymode\n",
      "package:/data/app/com.incube.newepub-VNSMdW9nUac7rS2UwElp1w==/base.apk=com.incube.newepub\n",
      "package:/system/app/AppLinker/AppLinker.apk=com.sec.android.app.applinker\n",
      "package:/system/app/SktUsimService/SktUsimService.apk=com.sktelecom.smartcard.SmartcardService\n",
      "package:/system/priv-app/SamsungCamera/SamsungCamera.apk=com.sec.android.app.camera\n",
      "package:/data/app/kr.co.quicket-lyYQ_2MuQ083dTZPQFOlzw==/base.apk=kr.co.quicket\n",
      "package:/data/app/com.droid.artes-7w2sUrpPxBmcKslPNNBhxA==/base.apk=com.droid.artes\n",
      "package:/system/app/Bluetooth/Bluetooth.apk=com.android.bluetooth\n",
      "package:/system/priv-app/SamsungContacts/SamsungContacts.apk=com.samsung.android.contacts\n",
      "package:/system/app/ClipboardEdge/ClipboardEdge.apk=com.samsung.android.app.clipboardedge\n",
      "package:/system/priv-app/IPService/IPService.apk=com.samsung.ipservice\n",
      "package:/system/priv-app/QRreader/QRreader.apk=com.sec.android.QRreader\n",
      "package:/system/priv-app/SamsungMagnifier3/SamsungMagnifier3.apk=com.sec.android.app.magnifier\n",
      "package:/system/app/WebManual/WebManual.apk=com.sec.android.widgetapp.webmanual\n",
      "package:/system/priv-app/CSC/CSC.apk=com.samsung.sec.android.application.csc\n",
      "package:/system/app/CaptivePortalLogin/CaptivePortalLogin.apk=com.android.captiveportallogin\n",
      "package:/system/priv-app/SDMConfig/SDMConfig.apk=com.samsung.android.sdm.config\n",
      "package:/data/app/kr.co.anyline.ch_kileum1-jlFONv0xmrGFoVcGG8Fq4g==/base.apk=kr.co.anyline.ch_kileum1\n",
      "package:/system/app/MotionPanoramaViewer/MotionPanoramaViewer.apk=com.samsung.android.app.motionpanoramaviewer\n",
      "package:/system/priv-app/DualOutFocusViewer_Effect/DualOutFocusViewer_Effect.apk=com.samsung.android.app.dofviewer\n",
      "package:/data/app/com.mysmilepay.app-3TRWQiqoQ1NHlj5kjf8uAQ==/base.apk=com.mysmilepay.app\n",
      "package:/system/priv-app/BioFaceService/BioFaceService.apk=com.samsung.android.bio.face.service\n",
      "package:/system/priv-app/BixbyAgentStub/BixbyAgentStub.apk=com.samsung.android.bixby.agent.dummy\n",
      "package:/data/app/com.zoommaok.customer-R4yYhH7bIEtMcKTYhV_Mrg==/base.apk=com.zoommaok.customer\n",
      "package:/system/priv-app/SamsungVideoPlayer2016/SamsungVideoPlayer2016.apk=com.samsung.android.video\n",
      "package:/data/app/com.amazon.kindle-cIf123aLwyiLLOV2MSFgpg==/base.apk=com.amazon.kindle\n",
      "package:/system/priv-app/GoogleRestore/GoogleRestore.apk=com.google.android.apps.restore\n",
      "\n"
     ]
    }
   ],
   "source": [
    "print(device.shell(\"pm list packages -f\"))"
   ]
  },
  {
   "cell_type": "code",
   "execution_count": 19,
   "metadata": {},
   "outputs": [
    {
     "name": "stdout",
     "output_type": "stream",
     "text": [
      "      realActivity=com.sec.android.app.popupcalculator/.Calculator\n",
      "          realActivity=com.sec.android.app.popupcalculator/.Calculator\n"
     ]
    }
   ],
   "source": [
    "res = device.shell('dumpsys activity activities')\n",
    "\n",
    "for line in res.splitlines():\n",
    "    if 'calculator' in line and 'realActivity' in line:\n",
    "        print(line)"
   ]
  },
  {
   "cell_type": "code",
   "execution_count": 20,
   "metadata": {},
   "outputs": [
    {
     "name": "stdout",
     "output_type": "stream",
     "text": [
      "      realActivity=com.android.chrome/org.chromium.chrome.browser.ChromeTabbedActivity\n",
      "          realActivity=com.android.chrome/org.chromium.chrome.browser.ChromeTabbedActivity\n"
     ]
    }
   ],
   "source": [
    "res = device.shell('dumpsys activity activities')\n",
    "\n",
    "for line in res.splitlines():\n",
    "    if 'chrome' in line and 'realActivity' in line:\n",
    "        print(line)"
   ]
  },
  {
   "cell_type": "markdown",
   "metadata": {},
   "source": [
    "여기서 계산기 앱의 메인 액티비티는 `.Calculator`임을 알 수 있다.\n",
    "같은 방법으로 패키지 이름과 액티비티 이름을 찾을 수 있다. 카메라 앱을 실행시키려면 다음과 같다."
   ]
  },
  {
   "cell_type": "markdown",
   "metadata": {},
   "source": [
    "카메라"
   ]
  },
  {
   "cell_type": "code",
   "execution_count": 21,
   "metadata": {
    "scrolled": true
   },
   "outputs": [
    {
     "data": {
      "text/plain": [
       "'Starting: Intent { cmp=com.sec.android.app.camera/.Camera }\\n'"
      ]
     },
     "execution_count": 21,
     "metadata": {},
     "output_type": "execute_result"
    }
   ],
   "source": [
    "device.shell('am start -n com.sec.android.app.camera/.Camera')"
   ]
  },
  {
   "cell_type": "markdown",
   "metadata": {},
   "source": [
    "gmail"
   ]
  },
  {
   "cell_type": "code",
   "execution_count": 22,
   "metadata": {
    "scrolled": true
   },
   "outputs": [
    {
     "data": {
      "text/plain": [
       "'Starting: Intent { cmp=com.google.android.gm/.ui.MailActivityGmail }\\n'"
      ]
     },
     "execution_count": 22,
     "metadata": {},
     "output_type": "execute_result"
    }
   ],
   "source": [
    "device.shell('am start -n com.google.android.gm/.ui.MailActivityGmail')"
   ]
  },
  {
   "cell_type": "markdown",
   "metadata": {},
   "source": [
    "youtube"
   ]
  },
  {
   "cell_type": "code",
   "execution_count": 23,
   "metadata": {
    "scrolled": true
   },
   "outputs": [
    {
     "data": {
      "text/plain": [
       "'Starting: Intent { cmp=com.google.android.youtube/com.google.android.apps.youtube.app.WatchWhileActivity }\\nWarning: Activity not started, its current task has been brought to the front\\n'"
      ]
     },
     "execution_count": 23,
     "metadata": {},
     "output_type": "execute_result"
    }
   ],
   "source": [
    "device.shell('am start -n com.google.android.youtube/com.google.android.apps.youtube.app.WatchWhileActivity')"
   ]
  },
  {
   "cell_type": "markdown",
   "metadata": {},
   "source": [
    "녹음기"
   ]
  },
  {
   "cell_type": "code",
   "execution_count": 24,
   "metadata": {
    "scrolled": false
   },
   "outputs": [
    {
     "data": {
      "text/plain": [
       "'Starting: Intent { cmp=com.sec.android.app.voicenote/.main.VNMainActivity }\\n'"
      ]
     },
     "execution_count": 24,
     "metadata": {},
     "output_type": "execute_result"
    }
   ],
   "source": [
    "device.shell('am start -n com.sec.android.app.voicenote/.main.VNMainActivity')"
   ]
  },
  {
   "cell_type": "markdown",
   "metadata": {},
   "source": [
    "SMS"
   ]
  },
  {
   "cell_type": "code",
   "execution_count": 25,
   "metadata": {
    "scrolled": false
   },
   "outputs": [
    {
     "data": {
      "text/plain": [
       "'Starting: Intent { cmp=com.samsung.android.messaging/com.android.mms.ui.ConversationComposer }\\nWarning: Activity not started, its current task has been brought to the front\\n'"
      ]
     },
     "execution_count": 25,
     "metadata": {},
     "output_type": "execute_result"
    }
   ],
   "source": [
    "device.shell('am start -n com.samsung.android.messaging/com.android.mms.ui.ConversationComposer')"
   ]
  },
  {
   "cell_type": "markdown",
   "metadata": {},
   "source": [
    "KakaoTalk"
   ]
  },
  {
   "cell_type": "code",
   "execution_count": 26,
   "metadata": {
    "scrolled": true
   },
   "outputs": [
    {
     "data": {
      "text/plain": [
       "'Starting: Intent { cmp=com.kakao.talk/.activity.SplashActivity }\\n'"
      ]
     },
     "execution_count": 26,
     "metadata": {},
     "output_type": "execute_result"
    }
   ],
   "source": [
    "device.shell('am start -n com.kakao.talk/.activity.SplashActivity')"
   ]
  },
  {
   "cell_type": "markdown",
   "metadata": {},
   "source": [
    "캘린더"
   ]
  },
  {
   "cell_type": "code",
   "execution_count": 27,
   "metadata": {
    "scrolled": true
   },
   "outputs": [
    {
     "data": {
      "text/plain": [
       "'Starting: Intent { cmp=com.samsung.android.calendar/com.samsung.android.app.calendar.activity.MainActivity }\\nWarning: Activity not started, its current task has been brought to the front\\n'"
      ]
     },
     "execution_count": 27,
     "metadata": {},
     "output_type": "execute_result"
    }
   ],
   "source": [
    "device.shell('am start -n com.samsung.android.calendar/com.samsung.android.app.calendar.activity.MainActivity')"
   ]
  },
  {
   "cell_type": "markdown",
   "metadata": {},
   "source": [
    "갤러리"
   ]
  },
  {
   "cell_type": "code",
   "execution_count": 28,
   "metadata": {
    "scrolled": true
   },
   "outputs": [
    {
     "data": {
      "text/plain": [
       "'Starting: Intent { cmp=com.sec.android.gallery3d/com.samsung.android.gallery.app.activity.GalleryActivity }\\nWarning: Activity not started, its current task has been brought to the front\\n'"
      ]
     },
     "execution_count": 28,
     "metadata": {},
     "output_type": "execute_result"
    }
   ],
   "source": [
    "device.shell('am start -n com.sec.android.gallery3d/com.samsung.android.gallery.app.activity.GalleryActivity')"
   ]
  },
  {
   "cell_type": "markdown",
   "metadata": {},
   "source": [
    "구글 지도"
   ]
  },
  {
   "cell_type": "code",
   "execution_count": 29,
   "metadata": {
    "scrolled": true
   },
   "outputs": [
    {
     "data": {
      "text/plain": [
       "'Starting: Intent { cmp=com.google.android.apps.maps/com.google.android.maps.MapsActivity }\\nWarning: Activity not started, its current task has been brought to the front\\n'"
      ]
     },
     "execution_count": 29,
     "metadata": {},
     "output_type": "execute_result"
    }
   ],
   "source": [
    "device.shell('am start -n com.google.android.apps.maps/com.google.android.maps.MapsActivity')"
   ]
  },
  {
   "cell_type": "markdown",
   "metadata": {},
   "source": [
    "카카오 지도"
   ]
  },
  {
   "cell_type": "code",
   "execution_count": 30,
   "metadata": {
    "scrolled": true
   },
   "outputs": [
    {
     "data": {
      "text/plain": [
       "'Starting: Intent { cmp=net.daum.android.map/com.kakao.map.main.view.IntroActivity }\\n'"
      ]
     },
     "execution_count": 30,
     "metadata": {},
     "output_type": "execute_result"
    }
   ],
   "source": [
    "device.shell('am start -n net.daum.android.map/com.kakao.map.main.view.IntroActivity')"
   ]
  },
  {
   "cell_type": "markdown",
   "metadata": {},
   "source": [
    "Tmap"
   ]
  },
  {
   "cell_type": "code",
   "execution_count": 31,
   "metadata": {
    "scrolled": true
   },
   "outputs": [
    {
     "data": {
      "text/plain": [
       "'Starting: Intent { cmp=com.skt.tmap.ku/com.skt.tmap.activity.TmapIntroActivity }\\n'"
      ]
     },
     "execution_count": 31,
     "metadata": {},
     "output_type": "execute_result"
    }
   ],
   "source": [
    "device.shell('am start -n com.skt.tmap.ku/com.skt.tmap.activity.TmapIntroActivity')"
   ]
  },
  {
   "cell_type": "markdown",
   "metadata": {},
   "source": [
    "컬러 노트"
   ]
  },
  {
   "cell_type": "code",
   "execution_count": 32,
   "metadata": {
    "scrolled": true
   },
   "outputs": [
    {
     "data": {
      "text/plain": [
       "'Starting: Intent { cmp=com.socialnmobile.dictapps.notepad.color.note/com.socialnmobile.colornote.activity.Main }\\n'"
      ]
     },
     "execution_count": 32,
     "metadata": {},
     "output_type": "execute_result"
    }
   ],
   "source": [
    "# color note\n",
    "device.shell('am start -n com.socialnmobile.dictapps.notepad.color.note/com.socialnmobile.colornote.activity.Main')"
   ]
  },
  {
   "cell_type": "code",
   "execution_count": 33,
   "metadata": {
    "scrolled": true
   },
   "outputs": [
    {
     "data": {
      "text/plain": [
       "'Starting: Intent { cmp=com.sec.android.app.clockpackage/.ClockPackage }\\nWarning: Activity not started, its current task has been brought to the front\\n'"
      ]
     },
     "execution_count": 33,
     "metadata": {},
     "output_type": "execute_result"
    }
   ],
   "source": [
    "# 시계\n",
    "device.shell('am start -n com.sec.android.app.clockpackage/.ClockPackage')"
   ]
  },
  {
   "cell_type": "code",
   "execution_count": 34,
   "metadata": {
    "scrolled": true
   },
   "outputs": [
    {
     "data": {
      "text/plain": [
       "'Starting: Intent { cmp=com.google.android.apps.docs/.drive.startup.StartupActivity }\\n'"
      ]
     },
     "execution_count": 34,
     "metadata": {},
     "output_type": "execute_result"
    }
   ],
   "source": [
    "# 구글 드라이브\n",
    "device.shell('am start -n com.google.android.apps.docs/.drive.startup.StartupActivity')"
   ]
  },
  {
   "cell_type": "code",
   "execution_count": 35,
   "metadata": {
    "scrolled": true
   },
   "outputs": [
    {
     "data": {
      "text/plain": [
       "'Starting: Intent { cmp=com.sec.android.app.myfiles/.external.ui.MainActivity }\\nWarning: Activity not started, its current task has been brought to the front\\n'"
      ]
     },
     "execution_count": 35,
     "metadata": {},
     "output_type": "execute_result"
    }
   ],
   "source": [
    "# 내 파일\n",
    "device.shell('am start -n com.sec.android.app.myfiles/.external.ui.MainActivity')"
   ]
  },
  {
   "cell_type": "code",
   "execution_count": 36,
   "metadata": {
    "scrolled": true
   },
   "outputs": [
    {
     "data": {
      "text/plain": [
       "'Starting: Intent { cmp=com.android.vending/com.google.android.finsky.activities.MainActivity }\\nWarning: Activity not started, its current task has been brought to the front\\n'"
      ]
     },
     "execution_count": 36,
     "metadata": {},
     "output_type": "execute_result"
    }
   ],
   "source": [
    "# play store\n",
    "device.shell('am start -n com.android.vending/com.google.android.finsky.activities.MainActivity')"
   ]
  },
  {
   "cell_type": "code",
   "execution_count": 37,
   "metadata": {
    "scrolled": true
   },
   "outputs": [
    {
     "data": {
      "text/plain": [
       "'Starting: Intent { cmp=com.android.chrome/org.chromium.chrome.browser.ChromeTabbedActivity }\\nWarning: Activity not started, its current task has been brought to the front\\n'"
      ]
     },
     "execution_count": 37,
     "metadata": {},
     "output_type": "execute_result"
    }
   ],
   "source": [
    "# google chrome\n",
    "device.shell('am start -n com.android.chrome/org.chromium.chrome.browser.ChromeTabbedActivity')"
   ]
  },
  {
   "cell_type": "markdown",
   "metadata": {},
   "source": [
    "### 키보드 입력\n"
   ]
  },
  {
   "cell_type": "code",
   "execution_count": 38,
   "metadata": {
    "collapsed": true
   },
   "outputs": [],
   "source": [
    "device.shell('am start -n com.sec.android.app.popupcalculator/.Calculator')\n",
    "device.shell('input text \"123*456\"');"
   ]
  },
  {
   "cell_type": "markdown",
   "metadata": {},
   "source": [
    "한글 입력인 경우는 ADBKeyBoard(https://github.com/senzhk/ADBKeyBoard) 를 이용하면 가능하나 당장 설치할 수 있는 apk를 배포하지 않고 있어 소스를 컴파일 해야 하나, 컴파일 된 패키지를 data 폴더에 담아두었다. 여기서 자세한 설명하기는 범위를 넘어선다.\n",
    "만일 ADBKeyBoard를 설치하고 기본 키보드로 선택했다면 다음과 같은 명령으로 한글 입력이 가능하다."
   ]
  },
  {
   "cell_type": "code",
   "execution_count": 39,
   "metadata": {},
   "outputs": [
    {
     "data": {
      "text/plain": [
       "'Broadcasting: Intent { act=ADB_INPUT_TEXT flg=0x400000 (has extras) }\\nBroadcast completed: result=0\\n'"
      ]
     },
     "execution_count": 39,
     "metadata": {},
     "output_type": "execute_result"
    }
   ],
   "source": [
    "device.shell('am start -n com.socialnmobile.dictapps.notepad.color.note/com.socialnmobile.colornote.activity.Main')\n",
    "device.shell('am broadcast -a ADB_INPUT_TEXT --es msg \"이강성\"')"
   ]
  },
  {
   "cell_type": "markdown",
   "metadata": {},
   "source": [
    "### 탭 입력\n",
    "\n",
    "탭 입력인 경우는 `input tap`으로 시뮬레이션 할 수 있다. x, y 좌표를 제공한다."
   ]
  },
  {
   "cell_type": "code",
   "execution_count": 40,
   "metadata": {
    "collapsed": true
   },
   "outputs": [],
   "source": [
    "device.shell('input tap 900 1900');"
   ]
  },
  {
   "cell_type": "markdown",
   "metadata": {},
   "source": [
    "### 스와이프 입력\n",
    "\n",
    "스와이프(swipe) 입력은 `input swipe`를 이용하며 인수는 X1 Y1 X2 Y2 duration(ms)]이다.\n"
   ]
  },
  {
   "cell_type": "code",
   "execution_count": 41,
   "metadata": {
    "collapsed": true
   },
   "outputs": [],
   "source": [
    "device.shell('input swipe 100 200 800 1600 500');"
   ]
  },
  {
   "cell_type": "markdown",
   "metadata": {},
   "source": [
    "###  롱프레스\n",
    "\n",
    "롱 프레스는 스위이프를 활용할 수 있다. 시작과 끝 위치가 갖고 duration 값을 충분히 길게 주면 된다."
   ]
  },
  {
   "cell_type": "code",
   "execution_count": 42,
   "metadata": {
    "collapsed": true
   },
   "outputs": [],
   "source": [
    "device.shell('input swipe 200 1880 200 1880 1000');"
   ]
  },
  {
   "cell_type": "markdown",
   "metadata": {
    "collapsed": true
   },
   "source": [
    "## 스마트폰 화면 UI 구조 가져오기\n",
    "\n",
    "`uiautomator dump` 명령을 이용하면 현재 화면의 GUI 구조를 얻어낼 수 있다."
   ]
  },
  {
   "cell_type": "code",
   "execution_count": 43,
   "metadata": {
    "scrolled": true
   },
   "outputs": [
    {
     "data": {
      "text/plain": [
       "''"
      ]
     },
     "execution_count": 43,
     "metadata": {},
     "output_type": "execute_result"
    }
   ],
   "source": [
    "device.shell('uiautomator dump')\n",
    "device.pull('/sdcard/window_dump.xml', 'window_dump.xml')\n",
    "device.shell('rm /sdcard/window_dump.xml')"
   ]
  },
  {
   "cell_type": "code",
   "execution_count": 44,
   "metadata": {
    "scrolled": true
   },
   "outputs": [
    {
     "data": {
      "text/plain": [
       "'UI hierchary dumped to: /sdcard/window_dump.xml\\n'"
      ]
     },
     "execution_count": 44,
     "metadata": {},
     "output_type": "execute_result"
    }
   ],
   "source": [
    "device.shell('uiautomator dump')"
   ]
  },
  {
   "cell_type": "code",
   "execution_count": 45,
   "metadata": {
    "scrolled": true
   },
   "outputs": [
    {
     "data": {
      "text/plain": [
       "'UI hierchary dumped to: /sdcard/layout_result.xml\\n'"
      ]
     },
     "execution_count": 45,
     "metadata": {},
     "output_type": "execute_result"
    }
   ],
   "source": [
    "device.shell('uiautomator dump /sdcard/layout_result.xml')"
   ]
  },
  {
   "cell_type": "markdown",
   "metadata": {},
   "source": [
    "이 구조를 분석하면 화면상의 위젯과 그 위치 및 텍스트 내용등을 확인할 수 있다. 유용한 정보이다.\n",
    "이 XML 문서에서의 정보 추출은 3장에서 학습한 `BeautifulSoup` 모듈을 이용하면 된다."
   ]
  },
  {
   "cell_type": "code",
   "execution_count": 46,
   "metadata": {},
   "outputs": [
    {
     "data": {
      "text/plain": [
       "<node bounds=\"[58,1007][273,1186]\" checkable=\"false\" checked=\"false\" class=\"android.widget.Button\" clickable=\"true\" content-desc=\"초기화\" enabled=\"true\" focusable=\"true\" focused=\"false\" index=\"0\" long-clickable=\"false\" package=\"com.sec.android.app.popupcalculator\" password=\"false\" resource-id=\"com.sec.android.app.popupcalculator:id/calc_keypad_btn_clear\" scrollable=\"false\" selected=\"false\" text=\"C\"></node>"
      ]
     },
     "execution_count": 46,
     "metadata": {},
     "output_type": "execute_result"
    }
   ],
   "source": [
    "from bs4 import BeautifulSoup\n",
    "\n",
    "soup = BeautifulSoup(open('window_dump.xml', encoding='utf-8').read(), \"lxml\")\n",
    "soup.find('node',  {'content-desc': '초기화'})"
   ]
  },
  {
   "cell_type": "code",
   "execution_count": 47,
   "metadata": {},
   "outputs": [
    {
     "data": {
      "text/plain": [
       "'[58,1007][273,1186]'"
      ]
     },
     "execution_count": 47,
     "metadata": {},
     "output_type": "execute_result"
    }
   ],
   "source": [
    "ele = soup.find('node',  {'content-desc': '초기화'})\n",
    "ele.get('bounds')"
   ]
  },
  {
   "cell_type": "code",
   "execution_count": 48,
   "metadata": {},
   "outputs": [
    {
     "data": {
      "text/plain": [
       "(58, 1007, 273, 1186)"
      ]
     },
     "execution_count": 48,
     "metadata": {},
     "output_type": "execute_result"
    }
   ],
   "source": [
    "import re\n",
    "\n",
    "tuple(map(int, re.findall('\\d+', ele.get('bounds'))))"
   ]
  },
  {
   "cell_type": "code",
   "execution_count": 49,
   "metadata": {},
   "outputs": [
    {
     "data": {
      "text/plain": [
       "(165, 1096)"
      ]
     },
     "execution_count": 49,
     "metadata": {},
     "output_type": "execute_result"
    }
   ],
   "source": [
    "import re\n",
    "\n",
    "x1, y1, x2, y2 = tuple(map(int, re.findall('\\d+', ele.get('bounds'))))\n",
    "cx = (x1 + x2) // 2\n",
    "cy = (y1 + y2) // 2\n",
    "cx, cy"
   ]
  },
  {
   "cell_type": "code",
   "execution_count": 50,
   "metadata": {
    "collapsed": true
   },
   "outputs": [],
   "source": [
    "device.shell('am start -n com.sec.android.app.popupcalculator/.Calculator')\n",
    "device.shell('input text \"123*456\"');\n",
    "device.shell('input tap 912 1940');  # 찾아낸 좌표를 이용하여 '=' 버튼을 탭한다"
   ]
  },
  {
   "cell_type": "markdown",
   "metadata": {},
   "source": [
    "## 도전 과제 - 잠금 화면 풀기\n",
    "\n",
    "스마트폰 갤럭시 S9+ 에 설정된 화면을 푸는 방법은 다음과 같다.\n",
    "\n",
    "1. 홈 버튼(혹은 파워 버튼)을 누른다.\n",
    "1. 스와이프 한다.\n",
    "1. 생채 인식 화면이라면 PIN 입력 화면으로 전환한다.\n",
    "1. 암호코드를 입력한다.\n",
    "\n",
    "이 과정을 자동 실행하는 스크립트를 만들어보자.\n",
    "\n",
    "우선은 장치를 연결한다."
   ]
  },
  {
   "cell_type": "code",
   "execution_count": 51,
   "metadata": {
    "collapsed": true
   },
   "outputs": [],
   "source": [
    "from adb.client import Client as AdbClient\n",
    "\n",
    "# Default is \"127.0.0.1\" and 5037\n",
    "client = AdbClient(host=\"127.0.0.1\", port=5037)\n",
    "device = client.devices()[0]"
   ]
  },
  {
   "cell_type": "markdown",
   "metadata": {},
   "source": [
    "파워 버튼을 누른다."
   ]
  },
  {
   "cell_type": "code",
   "execution_count": 52,
   "metadata": {
    "collapsed": true
   },
   "outputs": [],
   "source": [
    "device.shell('input keyevent 26');  # KEYCODE_POWER"
   ]
  },
  {
   "cell_type": "markdown",
   "metadata": {},
   "source": [
    "화면 해상도에 맞추어 설정한 두 지점(100,1200)-(1080,1200)을 500ms 동안 스와이프 하여 암호코드 화면으로 진입한다."
   ]
  },
  {
   "cell_type": "code",
   "execution_count": 53,
   "metadata": {
    "collapsed": true
   },
   "outputs": [],
   "source": [
    "device.shell('input swipe 100 1200 1080 1200 500');"
   ]
  },
  {
   "cell_type": "markdown",
   "metadata": {},
   "source": [
    "혹은 다음과 같은 키 이벤트를 보내도 암호코드 화면으로 진입할 수 있다."
   ]
  },
  {
   "cell_type": "code",
   "execution_count": 54,
   "metadata": {
    "collapsed": true
   },
   "outputs": [],
   "source": [
    "device.shell('input keyevent 82');  # KEYCODE_MENU"
   ]
  },
  {
   "cell_type": "markdown",
   "metadata": {},
   "source": [
    "이제 화면에 버튼이 나타나는데, 버튼의 위치를 파악하기 위해서 화면의 UI 구조 XML 문서를 가져온다."
   ]
  },
  {
   "cell_type": "code",
   "execution_count": 55,
   "metadata": {},
   "outputs": [
    {
     "data": {
      "text/plain": [
       "''"
      ]
     },
     "execution_count": 55,
     "metadata": {},
     "output_type": "execute_result"
    }
   ],
   "source": [
    "device.shell('uiautomator dump')\n",
    "device.pull('/sdcard/window_dump.xml', 'window_dump.xml')\n",
    "device.shell('rm /sdcard/window_dump.xml')"
   ]
  },
  {
   "cell_type": "markdown",
   "metadata": {},
   "source": [
    "`window_dump.xml` 파일을 분석하여 각 숫자 단추의 위치를 파악한다. 파악한 결과는 `pos_table` 사전에 저장해두었다.\n",
    "`get_center()` 함수는 요소(element)에서 위젯의 영역을 나타내는 `bounds` 속성을 찾아서 그 중심값을 리턴한다. `bounds` 속성은 다음과 같은 형식이다.\n",
    "\n",
    "    bounds=\"[100,1153][980,1258]\""
   ]
  },
  {
   "cell_type": "code",
   "execution_count": 56,
   "metadata": {
    "collapsed": true
   },
   "outputs": [],
   "source": [
    "from bs4 import BeautifulSoup\n",
    "import re\n",
    "\n",
    "def get_center(tag):\n",
    "    x1, y1, x2, y2 = tuple(map(int, re.findall('\\d+', ele.get('bounds'))))\n",
    "    cx = (x1 + x2) // 2\n",
    "    cy = (y1 + y2) // 2\n",
    "    return cx, cy"
   ]
  },
  {
   "cell_type": "code",
   "execution_count": 57,
   "metadata": {},
   "outputs": [
    {
     "name": "stdout",
     "output_type": "stream",
     "text": [
      "생체 인식 화면\n",
      "<node bounds=\"[2,1776][1078,1888]\" checkable=\"false\" checked=\"false\" class=\"android.widget.EditText\" clickable=\"true\" content-desc=\"입력창\" enabled=\"true\" focusable=\"true\" focused=\"true\" index=\"0\" long-clickable=\"true\" package=\"com.android.systemui\" password=\"true\" resource-id=\"com.android.systemui:id/pinEntry\" scrollable=\"false\" selected=\"true\" text=\"\"></node>\n",
      "540 1832\n"
     ]
    }
   ],
   "source": [
    "soup = BeautifulSoup(open('window_dump.xml', encoding='utf-8').read(), \"lxml\")\n",
    "ele = soup.find('node',  {'text': '생체 인식을 사용하거나 PIN을 입력하세요'})\n",
    "if ele:\n",
    "    print('생체 인식 화면')\n",
    "    ele = soup.find('node',  {'content-desc': '입력창'})\n",
    "    x, y = get_center(ele)  # 요소의 중심 위치 찾기\n",
    "    device.shell(f'input tap {x} {y}');"
   ]
  },
  {
   "cell_type": "code",
   "execution_count": 58,
   "metadata": {
    "collapsed": true
   },
   "outputs": [],
   "source": [
    "soup = BeautifulSoup(open('window_dump.xml', encoding='utf-8').read(), \"lxml\")\n",
    "pos_table = {}\n",
    "for i in range(10):\n",
    "    tag = soup.find('node',  {'text': str(i)})\n",
    "    x, y = get_center(tag)  # 요소의 중심 위치 찾기\n",
    "    pos_table[str(i)] = x, y"
   ]
  },
  {
   "cell_type": "markdown",
   "metadata": {},
   "source": [
    "이제 패스워드에 따라 화면을 탭하면 락이 풀리고 화면이 나타난다."
   ]
  },
  {
   "cell_type": "code",
   "execution_count": 59,
   "metadata": {
    "collapsed": true
   },
   "outputs": [],
   "source": [
    "password = 'PIN숫자'\n",
    "for c in password:\n",
    "    x, y = pos_table[c]\n",
    "    device.shell(f'input tap {x} {y}');"
   ]
  },
  {
   "cell_type": "markdown",
   "metadata": {},
   "source": [
    "전체 코드를 아래에 다시 정리해둔다.\n",
    "화면이 꺼지고 잠금 모드에 있을 경우 동작하는 코드이다.\n",
    "다양한 경우의 수는 특별히 고려하지 않았으므로 실전에서는 추가적인 조건 코드를 삽입해야 한다."
   ]
  },
  {
   "cell_type": "code",
   "execution_count": 60,
   "metadata": {
    "collapsed": true
   },
   "outputs": [],
   "source": [
    "from bs4 import BeautifulSoup\n",
    "import re\n",
    "from ppadb.client import Client as AdbClient\n",
    "\n",
    "def get_center(tag):\n",
    "    x1, y1, x2, y2 = tuple(map(int, re.findall('\\d+', ele.get('bounds'))))\n",
    "    cx = (x1 + x2) // 2\n",
    "    cy = (y1 + y2) // 2\n",
    "    return cx, cy\n",
    "\n",
    "def get_window_xml():\n",
    "    '화면 UI를 가져온다'\n",
    "    device.shell('uiautomator dump')\n",
    "    device.pull('/sdcard/window_dump.xml', 'window_dump.xml')\n",
    "    device.shell('rm /sdcard/window_dump.xml')\n",
    "    \n",
    "def unlock_screen(device, password):\n",
    "    device.shell('input keyevent 26');  # KEYCODE_POWER\n",
    "    device.shell('input keyevent 82');  # KEYCODE_MENU\n",
    "    # device.shell('input swipe 100 1200 1080 1200 500')\n",
    "\n",
    "    get_window_xml()\n",
    "    soup = BeautifulSoup(open('window_dump.xml', encoding='utf-8').read(), \"lxml\")\n",
    "    ele = soup.find('node',  {'text': '생체 인식을 사용하거나 PIN을 입력하세요'})\n",
    "    if ele:\n",
    "        print('생체 인식 화면')\n",
    "        ele = soup.find('node',  {'content-desc': '입력창'})\n",
    "        x, y = get_center(ele)  \n",
    "        device.shell(f'input tap {x} {y}'); # PIN 입력 화면으로 전환한다\n",
    "\n",
    "        # 전환된 화면 UI를 다시 가져온다\n",
    "        get_window_xml()\n",
    "        soup = BeautifulSoup(open('window_dump.xml', encoding='utf-8').read(), \"lxml\")\n",
    "        \n",
    "    ele = soup.find('node',  {'text': '지문을 사용하거나 PIN을 입력하세요'})\n",
    "    if ele:\n",
    "        print('PIN 입력 화면')\n",
    "        # 버튼 좌표 찾기\n",
    "        pos_table = {}\n",
    "        for i in range(10):\n",
    "            tag = soup.find('node',  {'text': str(i)})\n",
    "            x, y = get_center(tag)  # 요소의 중심 위치 찾기\n",
    "            pos_table[str(i)] = x, y\n",
    "        tag = soup.find('node',  {'text': 'OK'})\n",
    "        x, y = get_center(tag)\n",
    "        pos_table['OK'] = x, y\n",
    "\n",
    "        # 패스워드 입력\n",
    "        for c in password:\n",
    "            x, y = pos_table[c]\n",
    "            device.shell(f'input tap {x} {y}');   \n",
    "        x, y = pos_table['OK']\n",
    "        # 마지막 OK 버튼 탭\n",
    "        device.shell(f'input tap {x} {y}');\n",
    "    \n",
    "# Default is \"127.0.0.1\" and 5037\n",
    "client = AdbClient(host=\"127.0.0.1\", port=5037)\n",
    "device = client.devices()[0]\n",
    "unlock_screen(device, '내PIN숫자')   # 비밀 번호 변경 필수\n",
    "device.shell('input keyevent 3');  # 홈 화면으로 전환"
   ]
  },
  {
   "cell_type": "markdown",
   "metadata": {},
   "source": [
    "## 도전 과제 -  그룹 SMS 발송\n",
    "\n",
    "업무를 하다보면 단체 문자를 발송해야 할 경우가 종종 생기는데, 이 업무를 서비스 해주는 다양한 서비스도 성업중이다.\n",
    "요즘 스마트폰 문자가 무제한으로 제공되는 경우가 많은데 파이썬과 스마트폰을 직접 이용하면 추가의 비용을 들이지 않고 단체 문제를 발송할 수 있다.\n",
    "여러 사람에게 한 번에 문자 메시지를 보내 보도록 하자. 다음과 같은 과정으로 처리된다.\n",
    "\n",
    "1. 문자 앱을 실행한다\n",
    "1. 수신자와 메시지를 입력한다\n",
    "1. 화면 구조를 읽어와서 '보내기' 버튼 위치를 찾는다\n",
    "1. 버튼을 누른다\n",
    "\n",
    "단계2의 수신자와 메시지는 앱의 형식에 맞춰 입력하면 된다. 한글 전송에도 문제가 없으며, 여러 수신인인 경우에는 스마트폰 기종에 따라서 01054565525,01065898854 와 같이 콤마로 구분하거나 혹은 세미콜론(;)으로 구분해서 입력해주면 된다.\n"
   ]
  },
  {
   "cell_type": "markdown",
   "metadata": {},
   "source": [
    "`window_dump.xml` 파일을 분석해보면 보내기 버튼은 다음의 요소로 표현된다.\n",
    "\n",
    "    <node index=\"0\" text=\"보내기\" resource-id=\"com.samsung.android.messaging:id/send_button\" class=\"android.widget.Button\" package=\"com.samsung.android.messaging\" content-desc=\"보내기\" checkable=\"false\" checked=\"false\" clickable=\"true\" enabled=\"true\" focusable=\"true\" focused=\"false\" scrollable=\"false\" long-clickable=\"false\" password=\"false\" selected=\"false\" bounds=\"[925,1987][1054,2076]\"/>\n",
    "    \n",
    "보내기 버튼의 위치는 `bounds=\"[925,1987][1054,2076]\"`이다.\n",
    "따라서 `BeautifulSoup`에서 다음의 명령으로 위의 요소를 찾아낼 수 있다.\n",
    "\n",
    "    tag = soup.find('node',  {'content-desc': \"보내기\"})"
   ]
  },
  {
   "cell_type": "code",
   "execution_count": 61,
   "metadata": {
    "collapsed": true
   },
   "outputs": [],
   "source": [
    "from bs4 import BeautifulSoup\n",
    "import re\n",
    "\n",
    "def get_center(tag):\n",
    "    x1, y1, x2, y2 = tuple(map(int, re.findall('\\d+', ele.get('bounds'))))\n",
    "    cx = (x1 + x2) // 2\n",
    "    cy = (y1 + y2) // 2\n",
    "    return cx, cy\n",
    "\n",
    "\n",
    "msg = '''여러줄 문자 보내기 테스트 중\n",
    "둘째줄\n",
    "셋째줄'''\n",
    "numbers = ['029405284', '0109998888']  # 수신자 전화번호 리스트\n",
    "\n",
    "# 단계 1-2\n",
    "device.shell('am start -a android.intent.action.SENDTO -d sms:{} \\\n",
    "--es  sms_body \"{}\" --ez exit_on_sent false'.format(','.join(numbers), msg))\n",
    "\n",
    "# 단계 3\n",
    "# 화면 UI 구조를 가져온다\n",
    "device.shell('uiautomator dump')\n",
    "device.pull('/sdcard/window_dump.xml', 'window_dump.xml')\n",
    "# BeautifulSoup로 분석\n",
    "soup = BeautifulSoup(open('window_dump.xml', encoding='utf-8').read(), \"lxml\")\n",
    "tag = soup.find('node',  {'content-desc': \"보내기\"})  # 요소 찾기\n",
    "x, y = get_center(tag)  # 요소의 중심 위치 찾기\n",
    "\n",
    "# 단계 4\n",
    "device.shell(f'input tap {x} {y}');"
   ]
  },
  {
   "cell_type": "markdown",
   "metadata": {},
   "source": [
    "## 도전과제 - 사진 자동 촬영\n",
    "\n",
    "핸드폰을 감시카메라로 놓고 일정 장소에서 사진을 주기적으로 촬영하고 싶다고 하자. 물론 스마트폰이 컴퓨터와 USB로 연결되어 있어야 하기 때문에 한계가 있고, 이런 경우라면 차라리 앱을 만드는 것도 좋긴하겠지만 여건상 누구나가 그렇게 할 수 있는 것은 아니므로 주어진 제약 조건하에서도 동작시킬 수 있는 파이썬 코드를 이용해서 활용해보기로 하자. 다음과 같은 과정으로 처리된다.\n",
    "\n",
    "1. 카메라 앱 실행\n",
    "1. 화면 UI 구조를 읽어온다\n",
    "1. '셔터' 위치를 찾는다\n",
    "1. '셔터'를 누른다\n",
    "1. 카메라 앱을 종료한다.\n",
    "\n",
    "여기서 카메라 앵글은 고정되어 있다고 가정하자.\n",
    "그냥 카메라 앱만 실행하고 사진을 찍는다.\n",
    "화면이 잠겨 있는 경우 해제하는 코드는 위의 도전 과제를 참조하기 바란다.\n",
    "주기적인 코드의 실행은 9장을 참조한다.\n",
    "\n",
    "\n"
   ]
  },
  {
   "cell_type": "code",
   "execution_count": 62,
   "metadata": {},
   "outputs": [
    {
     "name": "stdout",
     "output_type": "stream",
     "text": [
      "540 1961\n"
     ]
    }
   ],
   "source": [
    "import time\n",
    "from bs4 import BeautifulSoup\n",
    "import re\n",
    "\n",
    "def get_center(tag):\n",
    "    bounds = tag.get('bounds')\n",
    "    xys = re.findall('\\[(\\d+),(\\d+)\\]', bounds)\n",
    "    ps = [tuple(map(int, xy)) for xy in xys]\n",
    "    xs, ys = zip(*ps)\n",
    "    return sum(xs)//2, sum(ys)//2\n",
    "\n",
    "def take_a_picture():\n",
    "    # 단계 1 - 카메라 앱 실행\n",
    "    device.shell('am start -n com.sec.android.app.camera/.Camera')\n",
    "\n",
    "    # 단계 2 - 화면 UI 구조를 가져온다\n",
    "    device.shell('uiautomator dump')\n",
    "    device.pull('/sdcard/window_dump.xml', 'window_dump.xml')\n",
    "\n",
    "    # 단계 3\n",
    "    soup = BeautifulSoup(open('window_dump.xml', encoding='utf-8').read(), \"lxml\")\n",
    "    tag = soup.find('node',  {'text': \"셔터\"})  # 요소 찾기\n",
    "    x, y = get_center(tag)\n",
    "    print(x, y)\n",
    "\n",
    "    # 단계 4\n",
    "    device.shell(f'input tap {x} {y}');\n",
    "\n",
    "    time.sleep(1)\n",
    "\n",
    "    # 단계 5\n",
    "    device.shell('am force-stop com.sec.android.app.camera')\n",
    "    \n",
    "take_a_picture()"
   ]
  }
 ],
 "metadata": {
  "kernelspec": {
   "display_name": "Python 3",
   "language": "python",
   "name": "python3"
  },
  "language_info": {
   "codemirror_mode": {
    "name": "ipython",
    "version": 3
   },
   "file_extension": ".py",
   "mimetype": "text/x-python",
   "name": "python",
   "nbconvert_exporter": "python",
   "pygments_lexer": "ipython3",
   "version": "3.6.3"
  }
 },
 "nbformat": 4,
 "nbformat_minor": 2
}
