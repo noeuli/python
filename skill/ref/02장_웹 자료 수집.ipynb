{
 "cells": [
  {
   "cell_type": "code",
   "execution_count": 1,
   "metadata": {
    "collapsed": true
   },
   "outputs": [],
   "source": [
    "import requests"
   ]
  },
  {
   "cell_type": "code",
   "execution_count": 2,
   "metadata": {
    "collapsed": true
   },
   "outputs": [],
   "source": [
    "url = 'http://naver.com'\n",
    "r = requests.get(url)"
   ]
  },
  {
   "cell_type": "code",
   "execution_count": 3,
   "metadata": {},
   "outputs": [
    {
     "data": {
      "text/plain": [
       "requests.models.Response"
      ]
     },
     "execution_count": 3,
     "metadata": {},
     "output_type": "execute_result"
    }
   ],
   "source": [
    "type(r)"
   ]
  },
  {
   "cell_type": "code",
   "execution_count": 4,
   "metadata": {},
   "outputs": [
    {
     "data": {
      "text/plain": [
       "200"
      ]
     },
     "execution_count": 4,
     "metadata": {},
     "output_type": "execute_result"
    }
   ],
   "source": [
    "r.status_code"
   ]
  },
  {
   "cell_type": "code",
   "execution_count": 5,
   "metadata": {},
   "outputs": [
    {
     "data": {
      "text/plain": [
       "'UTF-8'"
      ]
     },
     "execution_count": 5,
     "metadata": {},
     "output_type": "execute_result"
    }
   ],
   "source": [
    "r.encoding"
   ]
  },
  {
   "cell_type": "code",
   "execution_count": 6,
   "metadata": {
    "collapsed": true
   },
   "outputs": [],
   "source": [
    "r.encoding = 'utf-8'  # 필요한 인코딩으로 설정 가능(utf-8, euc-kr)"
   ]
  },
  {
   "cell_type": "code",
   "execution_count": 7,
   "metadata": {},
   "outputs": [
    {
     "data": {
      "text/plain": [
       "'<!doctype html>\\n\\n\\n\\n\\n\\n\\n\\n\\n\\n\\n\\n\\n\\n\\n\\n\\n<html lang=\"ko\">\\n<head>\\n<meta charset=\"utf-8\">\\n<meta name=\"Referrer\" content=\"origin\">\\n<meta http-equiv=\"Content-Script-Type\" content=\"text/javascript\">\\n<meta http-equiv=\"Content-Style-Type\" content=\"text/css\">\\n<meta http-equiv=\"X-UA-Compatible\" content=\"IE=edge\">\\n<me'"
      ]
     },
     "execution_count": 7,
     "metadata": {},
     "output_type": "execute_result"
    }
   ],
   "source": [
    "r.text[:300]  # 지면 관계상 일부만 확인해본다"
   ]
  },
  {
   "cell_type": "code",
   "execution_count": 8,
   "metadata": {},
   "outputs": [
    {
     "data": {
      "text/plain": [
       "165901"
      ]
     },
     "execution_count": 8,
     "metadata": {},
     "output_type": "execute_result"
    }
   ],
   "source": [
    "html = r.text\n",
    "open('naver.html', 'w', encoding='utf-8').write(html)"
   ]
  },
  {
   "cell_type": "code",
   "execution_count": 9,
   "metadata": {},
   "outputs": [
    {
     "data": {
      "text/plain": [
       "13984"
      ]
     },
     "execution_count": 9,
     "metadata": {},
     "output_type": "execute_result"
    }
   ],
   "source": [
    "import requests\n",
    "\n",
    "url = 'https://abi-laboratory.pro/images/opensource1.png'\n",
    "r = requests.get(url)\n",
    "open('opensource.png', 'wb').write(r.content)"
   ]
  },
  {
   "cell_type": "code",
   "execution_count": 10,
   "metadata": {},
   "outputs": [
    {
     "data": {
      "text/plain": [
       "370559"
      ]
     },
     "execution_count": 10,
     "metadata": {},
     "output_type": "execute_result"
    }
   ],
   "source": [
    "import requests\n",
    "\n",
    "url = 'http://elearning.kocw.net/document/lec/2011/Kicu/ChaJungSub/01.pdf'\n",
    "r = requests.get(url)\n",
    "open('01.pdf', 'wb').write(r.content)"
   ]
  },
  {
   "cell_type": "code",
   "execution_count": 11,
   "metadata": {},
   "outputs": [
    {
     "data": {
      "text/plain": [
       "12033448"
      ]
     },
     "execution_count": 11,
     "metadata": {},
     "output_type": "execute_result"
    }
   ],
   "source": [
    "import requests\n",
    "\n",
    "url = 'http://jubil2018.cafe24.com/2018/mp3/jubil36/01.mp3'\n",
    "r = requests.get(url)\n",
    "open('jubil36_01.mp3', 'wb').write(r.content)"
   ]
  },
  {
   "cell_type": "code",
   "execution_count": 12,
   "metadata": {},
   "outputs": [
    {
     "name": "stdout",
     "output_type": "stream",
     "text": [
      "........................................................\n"
     ]
    }
   ],
   "source": [
    "import requests\n",
    "\n",
    "r = requests.get('http://releases.ubuntu.com/18.04.1/ubuntu-18.04.1-desktop-amd64.iso', stream=True)\n",
    "\n",
    "with open('ubuntu-18.04.1-desktop-amd64.iso', 'wb') as f:\n",
    "    for chunk in r.iter_content(100000):  # 100k 바이트 단위로 처리한다\n",
    "        f.write(chunk)\n",
    "        print('.', end='', flush=True)    # 진행상황을 화면에 표시한다\n",
    "    print()"
   ]
  },
  {
   "cell_type": "code",
   "execution_count": 27,
   "metadata": {},
   "outputs": [
    {
     "name": "stdout",
     "output_type": "stream",
     "text": [
      "w_108_2008_1.html saved\n",
      "w_108_2008_2.html saved\n",
      "w_108_2008_3.html saved\n",
      "w_108_2008_4.html saved\n",
      "w_108_2008_5.html saved\n",
      "w_108_2008_6.html saved\n",
      "w_108_2008_7.html saved\n",
      "w_108_2008_8.html saved\n",
      "w_108_2008_9.html saved\n",
      "w_108_2008_10.html saved\n",
      "w_108_2008_11.html saved\n",
      "w_108_2008_12.html saved\n"
     ]
    }
   ],
   "source": [
    "import requests\n",
    "\n",
    "\n",
    "def get_page(stn, yy, mm):\n",
    "    url = f'http://www.weather.go.kr/weather/climate/past_cal.jsp?stn={stn}&yy={yy}&mm={mm}'  # 단계 2\n",
    "    res = requests.get(url)  # 단계 3\n",
    "    return res.text\n",
    "\n",
    "stn = 108  # 단계 1\n",
    "yy = 2008  # 단계 1\n",
    "for mm in range(1, 13):  # 단계 1\n",
    "    html = get_page(stn, yy, mm) # 단계 2-3\n",
    "    fpath = f'w_{stn}_{yy}_{mm}.html'  # 단계 4\n",
    "    open(fpath, 'w', encoding='euc-kr').write(html)  # 단계 5\n",
    "    print(fpath, 'saved')"
   ]
  },
  {
   "cell_type": "code",
   "execution_count": 34,
   "metadata": {
    "collapsed": true
   },
   "outputs": [],
   "source": [
    "import feedparser\n",
    "\n",
    "d = feedparser.parse('http://file.mk.co.kr/news/rss/rss_30100041.xml') # 경제 RSS"
   ]
  },
  {
   "cell_type": "code",
   "execution_count": 35,
   "metadata": {},
   "outputs": [
    {
     "data": {
      "text/plain": [
       "dict_keys(['feed', 'entries', 'bozo', 'headers', 'etag', 'updated', 'updated_parsed', 'href', 'status', 'encoding', 'bozo_exception', 'version', 'namespaces'])"
      ]
     },
     "execution_count": 35,
     "metadata": {},
     "output_type": "execute_result"
    }
   ],
   "source": [
    "d.keys()"
   ]
  },
  {
   "cell_type": "code",
   "execution_count": 36,
   "metadata": {},
   "outputs": [
    {
     "data": {
      "text/plain": [
       "'http://file.mk.co.kr/news/rss/rss_30100041.xml'"
      ]
     },
     "execution_count": 36,
     "metadata": {},
     "output_type": "execute_result"
    }
   ],
   "source": [
    "d['href']"
   ]
  },
  {
   "cell_type": "code",
   "execution_count": 37,
   "metadata": {},
   "outputs": [
    {
     "data": {
      "text/plain": [
       "'http://file.mk.co.kr/news/rss/rss_30100041.xml'"
      ]
     },
     "execution_count": 37,
     "metadata": {},
     "output_type": "execute_result"
    }
   ],
   "source": [
    "d.href"
   ]
  },
  {
   "cell_type": "code",
   "execution_count": 38,
   "metadata": {},
   "outputs": [
    {
     "data": {
      "text/plain": [
       "'MK:경제·금융 신문기사'"
      ]
     },
     "execution_count": 38,
     "metadata": {},
     "output_type": "execute_result"
    }
   ],
   "source": [
    "d.feed.title"
   ]
  },
  {
   "cell_type": "code",
   "execution_count": 39,
   "metadata": {},
   "outputs": [
    {
     "data": {
      "text/plain": [
       "50"
      ]
     },
     "execution_count": 39,
     "metadata": {},
     "output_type": "execute_result"
    }
   ],
   "source": [
    "len(d.entries)"
   ]
  },
  {
   "cell_type": "code",
   "execution_count": 40,
   "metadata": {},
   "outputs": [
    {
     "data": {
      "text/plain": [
       "'반도체마저 안팔린다…삼성전자, 재고 조절 나서'"
      ]
     },
     "execution_count": 40,
     "metadata": {},
     "output_type": "execute_result"
    }
   ],
   "source": [
    "entry = d.entries[0]\n",
    "entry['title']"
   ]
  },
  {
   "cell_type": "code",
   "execution_count": 41,
   "metadata": {},
   "outputs": [
    {
     "data": {
      "text/plain": [
       "'http://news.mk.co.kr/newsRead.php?no=3762&year=2019'"
      ]
     },
     "execution_count": 41,
     "metadata": {},
     "output_type": "execute_result"
    }
   ],
   "source": [
    "entry['link']"
   ]
  },
  {
   "cell_type": "code",
   "execution_count": 42,
   "metadata": {},
   "outputs": [
    {
     "data": {
      "text/plain": [
       "'삼성전자가 D램·낸드플래시 등 반도체 재고를 대폭 축소한다. 작년 3분기까지 초호황 수요에 탄력적으로 대비하기 위해 1.5~3개월 정도치 재고를 보유했지만, 4분기부터 공급과잉으로 메모리 경기가 크게 둔화하자 재고량 축소에 나선 것이다.2일 복수의 삼성전자 관계..'"
      ]
     },
     "execution_count": 42,
     "metadata": {},
     "output_type": "execute_result"
    }
   ],
   "source": [
    "entry['summary']"
   ]
  },
  {
   "cell_type": "code",
   "execution_count": 43,
   "metadata": {},
   "outputs": [
    {
     "data": {
      "text/plain": [
       "'Wed, 02 Jan 2019 17:52:49 +0900'"
      ]
     },
     "execution_count": 43,
     "metadata": {},
     "output_type": "execute_result"
    }
   ],
   "source": [
    "entry['published']"
   ]
  },
  {
   "cell_type": "code",
   "execution_count": 44,
   "metadata": {},
   "outputs": [
    {
     "name": "stdout",
     "output_type": "stream",
     "text": [
      "* 국민은행, 금융상담 특화점 'KB디지털금융점' 오픈 http://news.mk.co.kr/newsRead.php?no=4748&year=2019\n",
      "* 김도진 기업은행장, 새해 첫 일정 내륙 최남단 영업현장 방문 http://news.mk.co.kr/newsRead.php?no=4716&year=2019\n",
      "* KEB하나은행, 새해 특판 '황금드림 정기예금' 한시판매 http://news.mk.co.kr/newsRead.php?no=4524&year=2019\n",
      "* [신년사] 박진회 씨티은행장 \"지속가능한 성장 이뤄내야\" http://news.mk.co.kr/newsRead.php?no=3473&year=2019\n",
      "* [신년사] 이순우 저축은행중앙회장 \"업계에 대한 믿음 한 단계 더 회복하자\" http://news.mk.co.kr/newsRead.php?no=3298&year=2019\n",
      "* [신년사] 윤종규 KB금융 회장 \"M&A 추진 등으로 사업 확장할 터\" http://news.mk.co.kr/newsRead.php?no=3214&year=2019\n",
      "* 이주열 한은 총재 올해는 금리 '인상'보다는 '동결' 시사 http://news.mk.co.kr/newsRead.php?no=3213&year=2019\n",
      "* [신년사] 허인 KB국민은행장 \"초격차 KB의 확고한 초석 다질 터\" http://news.mk.co.kr/newsRead.php?no=3071&year=2019\n",
      "* 산은, \"기업 세대교체, 혁신성장 지원에 올인\" http://news.mk.co.kr/newsRead.php?no=3043&year=2019\n",
      "* [신년사] 위성호 신한은행장 \"52시간 근로제 본격시행…'관점의 대전환' 실천해야\" http://news.mk.co.kr/newsRead.php?no=2929&year=2019\n",
      "* [신년사] 김도진 기업은행장 \"소상공인·자영업자의 동반자 돼야\" http://news.mk.co.kr/newsRead.php?no=2847&year=2019\n",
      "* Sh수협은행, 2019 맞이 위안화 송금이벤트 실시 http://news.mk.co.kr/newsRead.php?no=2707&year=2019\n"
     ]
    }
   ],
   "source": [
    "import feedparser\n",
    "\n",
    "d = feedparser.parse('http://file.mk.co.kr/news/rss/rss_30100041.xml') # 경제 RSS\n",
    "for entry in d.entries:\n",
    "    if '은행' in entry['title'] or '은행' in entry['summary']:\n",
    "        print('*', entry['title'], entry['link'])"
   ]
  }
 ],
 "metadata": {
  "kernelspec": {
   "display_name": "Python 3",
   "language": "python",
   "name": "python3"
  },
  "language_info": {
   "codemirror_mode": {
    "name": "ipython",
    "version": 3
   },
   "file_extension": ".py",
   "mimetype": "text/x-python",
   "name": "python",
   "nbconvert_exporter": "python",
   "pygments_lexer": "ipython3",
   "version": "3.6.3"
  }
 },
 "nbformat": 4,
 "nbformat_minor": 1
}
