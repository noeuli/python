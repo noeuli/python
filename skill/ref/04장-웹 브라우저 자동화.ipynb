{
 "cells": [
  {
   "cell_type": "code",
   "execution_count": 1,
   "metadata": {
    "collapsed": true
   },
   "outputs": [],
   "source": [
    "from selenium import webdriver\n",
    "from selenium.webdriver.common.keys import Keys\n",
    "\n",
    "driver = webdriver.Chrome()  # 크롬 브라우저를 실행한다"
   ]
  },
  {
   "cell_type": "markdown",
   "metadata": {},
   "source": [
    "브라우저에 따른 구동 방법은 다음과 같다.\n",
    "\n",
    "    driver = webdriver.Chrome()\n",
    "    driver = webdriver.Ie()\n",
    "    driver = webdriver.Firefox()\n",
    "    driver = webdriver.Safari()\n",
    "    driver = webdriver.Opera()\n",
    "    \n",
    "브라우저가 구동되려면 실행 탐색 경로에 웹 드라이버가 있어야 한다. 만일 위 명령이 실패한다면 다음과 같이 해당 웹 드라이버의 경로를 정확하게 기술해 준다."
   ]
  },
  {
   "cell_type": "code",
   "execution_count": 2,
   "metadata": {
    "collapsed": true
   },
   "outputs": [],
   "source": [
    "driver = webdriver.Chrome('data/chromedriver.exe')"
   ]
  },
  {
   "cell_type": "code",
   "execution_count": 3,
   "metadata": {
    "collapsed": true
   },
   "outputs": [],
   "source": [
    "driver.close()"
   ]
  },
  {
   "cell_type": "code",
   "execution_count": 4,
   "metadata": {
    "collapsed": true
   },
   "outputs": [],
   "source": [
    "from selenium import webdriver\n",
    "\n",
    "options = webdriver.ChromeOptions()\n",
    "options.add_argument('--disable-extensions')\n",
    "options.add_argument(\"--start-maximized\")       # 최대 크기 윈도우로 시작\n",
    "# options.add_argument('window-size=1200x600') # 윈도우 크기 지정\n",
    "# options.headless = True # 윈도우가 눈에 보이지 않게 실행\n",
    "# 실행 파일이 현재 경로에 없다면 executable_path로 지정해줘야 한다.\n",
    "driver = webdriver.Chrome(options=options, executable_path='c:\\\\chromedriver.exe') "
   ]
  },
  {
   "cell_type": "code",
   "execution_count": 5,
   "metadata": {
    "collapsed": true
   },
   "outputs": [],
   "source": [
    "from selenium import webdriver\n",
    "from selenium.webdriver.common.keys import Keys\n",
    "\n",
    "driver = webdriver.Chrome() \n",
    "\n",
    "driver.get(\"http://www.python.org\")"
   ]
  },
  {
   "cell_type": "code",
   "execution_count": 6,
   "metadata": {},
   "outputs": [
    {
     "data": {
      "text/plain": [
       "'Welcome to Python.org'"
      ]
     },
     "execution_count": 6,
     "metadata": {},
     "output_type": "execute_result"
    }
   ],
   "source": [
    "driver.title"
   ]
  },
  {
   "cell_type": "code",
   "execution_count": 7,
   "metadata": {},
   "outputs": [
    {
     "data": {
      "text/plain": [
       "<selenium.webdriver.remote.webelement.WebElement (session=\"8516e437b47afaff279395a9868fd722\", element=\"0.026697098424059096-1\")>"
      ]
     },
     "execution_count": 7,
     "metadata": {},
     "output_type": "execute_result"
    }
   ],
   "source": [
    "elem = driver.find_element_by_name(\"q\")\n",
    "elem"
   ]
  },
  {
   "cell_type": "code",
   "execution_count": 8,
   "metadata": {},
   "outputs": [
    {
     "data": {
      "text/plain": [
       "('id-search-field', 'q', 'search-field placeholder')"
      ]
     },
     "execution_count": 8,
     "metadata": {},
     "output_type": "execute_result"
    }
   ],
   "source": [
    "elem.get_attribute('id'), elem.get_attribute('name'), elem.get_attribute('class')"
   ]
  },
  {
   "cell_type": "code",
   "execution_count": 9,
   "metadata": {},
   "outputs": [
    {
     "data": {
      "text/plain": [
       "'input'"
      ]
     },
     "execution_count": 9,
     "metadata": {},
     "output_type": "execute_result"
    }
   ],
   "source": [
    "elem.tag_name  # 태그 이름"
   ]
  },
  {
   "cell_type": "code",
   "execution_count": 10,
   "metadata": {},
   "outputs": [
    {
     "data": {
      "text/plain": [
       "''"
      ]
     },
     "execution_count": 10,
     "metadata": {},
     "output_type": "execute_result"
    }
   ],
   "source": [
    "elem.text  # 태그의 텍스트"
   ]
  },
  {
   "cell_type": "code",
   "execution_count": 11,
   "metadata": {
    "collapsed": true
   },
   "outputs": [],
   "source": [
    "elem.send_keys(\"pycon\" + Keys.RETURN)"
   ]
  },
  {
   "cell_type": "code",
   "execution_count": 12,
   "metadata": {},
   "outputs": [
    {
     "data": {
      "text/plain": [
       "'<!DOCTYPE html><!--[if lt IE 7]>   <html class=\"no-js ie6 lt-ie7 lt-ie8 lt-ie9\">   <![endif]--><!--['"
      ]
     },
     "execution_count": 12,
     "metadata": {},
     "output_type": "execute_result"
    }
   ],
   "source": [
    "html = driver.page_source\n",
    "html[:100]  # 일부 내용만 확인"
   ]
  },
  {
   "cell_type": "code",
   "execution_count": 13,
   "metadata": {},
   "outputs": [
    {
     "data": {
      "text/plain": [
       "[<selenium.webdriver.remote.webelement.WebElement (session=\"73049dc76a5e794477ede4902f44511b\", element=\"0.7070760803732417-1\")>]"
      ]
     },
     "execution_count": 13,
     "metadata": {},
     "output_type": "execute_result"
    }
   ],
   "source": [
    "driver.find_elements_by_css_selector('.list-recent-events')"
   ]
  },
  {
   "cell_type": "code",
   "execution_count": 14,
   "metadata": {},
   "outputs": [
    {
     "data": {
      "text/plain": [
       "[<selenium.webdriver.remote.webelement.WebElement (session=\"73049dc76a5e794477ede4902f44511b\", element=\"0.7070760803732417-22\")>,\n",
       " <selenium.webdriver.remote.webelement.WebElement (session=\"73049dc76a5e794477ede4902f44511b\", element=\"0.7070760803732417-23\")>,\n",
       " <selenium.webdriver.remote.webelement.WebElement (session=\"73049dc76a5e794477ede4902f44511b\", element=\"0.7070760803732417-24\")>,\n",
       " <selenium.webdriver.remote.webelement.WebElement (session=\"73049dc76a5e794477ede4902f44511b\", element=\"0.7070760803732417-25\")>,\n",
       " <selenium.webdriver.remote.webelement.WebElement (session=\"73049dc76a5e794477ede4902f44511b\", element=\"0.7070760803732417-26\")>,\n",
       " <selenium.webdriver.remote.webelement.WebElement (session=\"73049dc76a5e794477ede4902f44511b\", element=\"0.7070760803732417-27\")>,\n",
       " <selenium.webdriver.remote.webelement.WebElement (session=\"73049dc76a5e794477ede4902f44511b\", element=\"0.7070760803732417-28\")>,\n",
       " <selenium.webdriver.remote.webelement.WebElement (session=\"73049dc76a5e794477ede4902f44511b\", element=\"0.7070760803732417-29\")>,\n",
       " <selenium.webdriver.remote.webelement.WebElement (session=\"73049dc76a5e794477ede4902f44511b\", element=\"0.7070760803732417-30\")>,\n",
       " <selenium.webdriver.remote.webelement.WebElement (session=\"73049dc76a5e794477ede4902f44511b\", element=\"0.7070760803732417-31\")>,\n",
       " <selenium.webdriver.remote.webelement.WebElement (session=\"73049dc76a5e794477ede4902f44511b\", element=\"0.7070760803732417-32\")>,\n",
       " <selenium.webdriver.remote.webelement.WebElement (session=\"73049dc76a5e794477ede4902f44511b\", element=\"0.7070760803732417-33\")>,\n",
       " <selenium.webdriver.remote.webelement.WebElement (session=\"73049dc76a5e794477ede4902f44511b\", element=\"0.7070760803732417-34\")>,\n",
       " <selenium.webdriver.remote.webelement.WebElement (session=\"73049dc76a5e794477ede4902f44511b\", element=\"0.7070760803732417-35\")>,\n",
       " <selenium.webdriver.remote.webelement.WebElement (session=\"73049dc76a5e794477ede4902f44511b\", element=\"0.7070760803732417-36\")>,\n",
       " <selenium.webdriver.remote.webelement.WebElement (session=\"73049dc76a5e794477ede4902f44511b\", element=\"0.7070760803732417-37\")>,\n",
       " <selenium.webdriver.remote.webelement.WebElement (session=\"73049dc76a5e794477ede4902f44511b\", element=\"0.7070760803732417-38\")>,\n",
       " <selenium.webdriver.remote.webelement.WebElement (session=\"73049dc76a5e794477ede4902f44511b\", element=\"0.7070760803732417-39\")>,\n",
       " <selenium.webdriver.remote.webelement.WebElement (session=\"73049dc76a5e794477ede4902f44511b\", element=\"0.7070760803732417-40\")>,\n",
       " <selenium.webdriver.remote.webelement.WebElement (session=\"73049dc76a5e794477ede4902f44511b\", element=\"0.7070760803732417-41\")>]"
      ]
     },
     "execution_count": 14,
     "metadata": {},
     "output_type": "execute_result"
    }
   ],
   "source": [
    "driver.find_elements_by_css_selector('.list-recent-events li h3')"
   ]
  },
  {
   "cell_type": "code",
   "execution_count": 15,
   "metadata": {},
   "outputs": [
    {
     "name": "stdout",
     "output_type": "stream",
     "text": [
      "Event – PyCon AU 2019 - https://www.python.org/events/python-events/776/\n",
      "Event – PyCon DE 2019 - https://www.python.org/events/python-events/781/\n",
      "Event – PyCon Namibia 2019 - https://www.python.org/events/python-events/790/\n",
      "Event – PyCon Ireland 2016 - https://www.python.org/events/python-events/429/\n",
      "Event – PyCon Australia 2013 - https://www.python.org/events/python-events/57/\n",
      "Event – PyCon Ireland 2012 - https://www.python.org/events/python-events/76/\n",
      "Event – PyCon UK 2013 - https://www.python.org/events/python-events/29/\n",
      "Event – PyCon Italia 5 - https://www.python.org/events/python-events/152/\n",
      "Event – PyCon CZ 2017 - https://www.python.org/events/python-events/513/\n",
      "Event – PyCon Nigeria 2017 - https://www.python.org/events/python-events/551/\n",
      "Event – PyCon Pakistan - https://www.python.org/events/python-events/563/\n",
      "Event – PyCon AU 2018 - https://www.python.org/events/python-events/696/\n",
      "Event – PyCon Uruguay 2013 - https://www.python.org/events/python-events/21/\n",
      "Event – PyCon US 2014 - https://www.python.org/events/python-events/26/\n",
      "Event – PyCon Ukraine 2016 - https://www.python.org/events/python-events/394/\n",
      "Event – Kiwi PyCon 2016 - https://www.python.org/events/python-events/402/\n",
      "Event – PyCon US 2019 - https://www.python.org/events/python-events/591/\n",
      "Event – PyCon Canada 2017 - https://www.python.org/events/python-events/609/\n",
      "Event – PyCon Kyrgyzstan 2018 - https://www.python.org/events/python-events/767/\n",
      "Event – PyCon Sweden - https://www.python.org/events/python-events/779/\n"
     ]
    }
   ],
   "source": [
    "for tag in driver.find_elements_by_css_selector('.list-recent-events li h3'):\n",
    "    print(tag.text, '-', tag.find_element_by_tag_name('a').get_attribute('href'))"
   ]
  },
  {
   "cell_type": "code",
   "execution_count": 16,
   "metadata": {},
   "outputs": [
    {
     "name": "stdout",
     "output_type": "stream",
     "text": [
      "Event – PyCon AU 2019 - https://www.python.org/events/python-events/776/\n",
      "Event – PyCon DE 2019 - https://www.python.org/events/python-events/781/\n",
      "Event – PyCon Namibia 2019 - https://www.python.org/events/python-events/790/\n",
      "Event – PyCon Ireland 2016 - https://www.python.org/events/python-events/429/\n",
      "Event – PyCon UK 2013 - https://www.python.org/events/python-events/29/\n",
      "Event – PyCon Italia 5 - https://www.python.org/events/python-events/152/\n",
      "Event – PyCon CZ 2017 - https://www.python.org/events/python-events/513/\n",
      "Event – PyCon Nigeria 2017 - https://www.python.org/events/python-events/551/\n",
      "Event – PyCon Pakistan - https://www.python.org/events/python-events/563/\n",
      "Event – PyCon Australia 2013 - https://www.python.org/events/python-events/57/\n",
      "Event – PyCon Ireland 2012 - https://www.python.org/events/python-events/76/\n",
      "Event – PyCon AU 2018 - https://www.python.org/events/python-events/696/\n",
      "Event – PyCon Uruguay 2013 - https://www.python.org/events/python-events/21/\n",
      "Event – PyCon US 2014 - https://www.python.org/events/python-events/26/\n",
      "Event – PyCon Ukraine 2016 - https://www.python.org/events/python-events/394/\n",
      "Event – Kiwi PyCon 2016 - https://www.python.org/events/python-events/402/\n",
      "Event – PyCon US 2019 - https://www.python.org/events/python-events/591/\n",
      "Event – PyCon Canada 2017 - https://www.python.org/events/python-events/609/\n",
      "Event – PyCon Kyrgyzstan 2018 - https://www.python.org/events/python-events/767/\n",
      "Event – PyCon Sweden - https://www.python.org/events/python-events/779/\n"
     ]
    }
   ],
   "source": [
    "for tag in driver.find_elements_by_xpath('//form/ul/li/h3'):\n",
    "    print(tag.text, '-', tag.find_element_by_tag_name('a').get_attribute('href'))\n",
    "    "
   ]
  },
  {
   "cell_type": "code",
   "execution_count": 17,
   "metadata": {},
   "outputs": [
    {
     "name": "stdout",
     "output_type": "stream",
     "text": [
      "html\n",
      "body\n",
      "div\n",
      "div\n",
      "div\n",
      "section\n",
      "form\n",
      "ul\n",
      "li\n",
      "h3\n"
     ]
    }
   ],
   "source": [
    "elem = driver.find_element_by_xpath('//li/h3')  # 어떤 조건으로 검색한 노드를 얻는다\n",
    "for tag in elem.find_elements_by_xpath('ancestor-or-self::*'):  # 조상 노드들을 출력한다\n",
    "    print(tag.tag_name)"
   ]
  },
  {
   "cell_type": "code",
   "execution_count": 18,
   "metadata": {},
   "outputs": [
    {
     "data": {
      "text/plain": [
       "131062"
      ]
     },
     "execution_count": 18,
     "metadata": {},
     "output_type": "execute_result"
    }
   ],
   "source": [
    "png = driver.get_screenshot_as_png()\n",
    "open('screen_capture.png', 'wb').write(png)"
   ]
  },
  {
   "cell_type": "code",
   "execution_count": 19,
   "metadata": {
    "collapsed": true
   },
   "outputs": [],
   "source": [
    "driver.get('http://comic.naver.com/webtoon/detail.nhn?titleId=644112&no=10')\n",
    "\n",
    "driver.execute_script(\"window.scrollTo(0, document.body.scrollHeight);\")"
   ]
  },
  {
   "cell_type": "code",
   "execution_count": 20,
   "metadata": {
    "collapsed": true
   },
   "outputs": [],
   "source": [
    "for i in range(0, 10000, 10):\n",
    "    driver.execute_script(\"window.scrollTo(0, {})\".format(i))"
   ]
  },
  {
   "cell_type": "code",
   "execution_count": 21,
   "metadata": {
    "collapsed": true
   },
   "outputs": [],
   "source": [
    "from selenium import webdriver\n",
    "from selenium.webdriver.common.keys import Keys\n",
    "\n",
    "driver = webdriver.Chrome()\n",
    "main_window = driver.window_handles[0]\n",
    "driver.get(\"http://www.kw.ac.kr\")\n",
    "\n",
    "for handle in driver.window_handles:\n",
    "    if handle != main_window:\n",
    "        driver.switch_to.window(handle)\n",
    "        driver.close()"
   ]
  },
  {
   "cell_type": "code",
   "execution_count": 22,
   "metadata": {
    "collapsed": true
   },
   "outputs": [],
   "source": [
    "alert = driver.switch_to_alert()\n",
    "try:\n",
    "    alert.accept()\n",
    "except:\n",
    "    print('no alert to close')"
   ]
  },
  {
   "cell_type": "code",
   "execution_count": 23,
   "metadata": {
    "collapsed": true
   },
   "outputs": [],
   "source": [
    "from selenium import webdriver\n",
    "from selenium.webdriver.common.keys import Keys\n",
    "\n",
    "driver = webdriver.Chrome()\n",
    "url = 'https://www.w3schools.com/html/tryit.asp?filename=tryhtml_styles_intro'\n",
    "driver.get(url)"
   ]
  },
  {
   "cell_type": "code",
   "execution_count": 24,
   "metadata": {},
   "outputs": [
    {
     "data": {
      "text/plain": [
       "11"
      ]
     },
     "execution_count": 24,
     "metadata": {},
     "output_type": "execute_result"
    }
   ],
   "source": [
    "len(driver.find_elements_by_tag_name(\"iframe\"))"
   ]
  },
  {
   "cell_type": "code",
   "execution_count": 25,
   "metadata": {
    "collapsed": true
   },
   "outputs": [],
   "source": [
    "driver.switch_to.frame(driver.find_element_by_id(\"iframeResult\"))"
   ]
  },
  {
   "cell_type": "code",
   "execution_count": 26,
   "metadata": {},
   "outputs": [
    {
     "name": "stdout",
     "output_type": "stream",
     "text": [
      "I am normal\n",
      "I am red\n",
      "I am blue\n",
      "I am big\n"
     ]
    }
   ],
   "source": [
    "elem = driver.find_element_by_tag_name('body')\n",
    "print(elem.text)"
   ]
  },
  {
   "cell_type": "code",
   "execution_count": 29,
   "metadata": {
    "collapsed": true
   },
   "outputs": [],
   "source": [
    "from selenium import webdriver\n",
    "from selenium.webdriver.common.keys import Keys\n",
    "\n",
    "driver = webdriver.Chrome()\n",
    "driver.get(\"http://gmarket.co.kr\")"
   ]
  },
  {
   "cell_type": "code",
   "execution_count": 31,
   "metadata": {
    "collapsed": true
   },
   "outputs": [],
   "source": [
    "ele = driver.find_element_by_link_text('로그인')\n",
    "ele.click()"
   ]
  },
  {
   "cell_type": "code",
   "execution_count": 32,
   "metadata": {
    "collapsed": true,
    "scrolled": true
   },
   "outputs": [],
   "source": [
    "import getpass\n",
    "\n",
    "uid = ''\n",
    "pw = ''\n",
    "\n",
    "driver.find_element_by_name('id').send_keys(uid)\n",
    "driver.find_element_by_id('pwd').send_keys(pw)     "
   ]
  },
  {
   "cell_type": "code",
   "execution_count": 33,
   "metadata": {
    "collapsed": true
   },
   "outputs": [],
   "source": [
    "driver.find_element_by_class_name('btn-login').click()"
   ]
  },
  {
   "cell_type": "code",
   "execution_count": 34,
   "metadata": {
    "collapsed": true
   },
   "outputs": [],
   "source": [
    "elem = driver.find_element_by_name('keyword')\n",
    "elem.send_keys('컴퓨터')\n",
    "elem.send_keys(Keys.RETURN)"
   ]
  },
  {
   "cell_type": "code",
   "execution_count": 35,
   "metadata": {
    "collapsed": true
   },
   "outputs": [],
   "source": [
    "cur_url = driver.current_url"
   ]
  },
  {
   "cell_type": "code",
   "execution_count": 36,
   "metadata": {
    "collapsed": true
   },
   "outputs": [],
   "source": [
    "html = driver.page_source"
   ]
  },
  {
   "cell_type": "code",
   "execution_count": 37,
   "metadata": {},
   "outputs": [
    {
     "name": "stdout",
     "output_type": "stream",
     "text": [
      "Stand By Me, Ben E King, 1961\n",
      "https://www.youtube.com/watch?v=hwZNL7QVJjE\n"
     ]
    }
   ],
   "source": [
    "from selenium import webdriver\n",
    "from selenium.webdriver.common.keys import Keys\n",
    "import requests\n",
    "import time\n",
    "\n",
    "qstr = 'stand by me'  # 검색 질의어\n",
    "\n",
    "# headless chrome 실행\n",
    "options = webdriver.ChromeOptions()\n",
    "options.headless = True\n",
    "driver = webdriver.Chrome(options=options) \n",
    "\n",
    "driver.get('https://www.youtube.com/')\n",
    "\n",
    "driver.find_element_by_id('search').send_keys(qstr)  # 질의어 입력\n",
    "driver.find_element_by_id('search-icon-legacy').click()  # 검색 버튼 클릭\n",
    "time.sleep(3)    # 검색 결과가 나올 때 까지 약간 대기\n",
    "for elem in driver.find_elements_by_css_selector('a#video-title'):\n",
    "    if qstr in elem.text.lower():\n",
    "        print(elem.text)\n",
    "        break\n",
    "url = elem.get_attribute('href')  # 결과 중에서 처음 것의 url만 얻는다.\n",
    "driver.close()  # 헤드리스 크롬을 종료한다\n",
    "print(url)"
   ]
  },
  {
   "cell_type": "markdown",
   "metadata": {},
   "source": [
    "## 연습 과제 6 - YouTube 동영상 MP3 저장\n",
    "\n",
    "간혹은 유튜브 음악을 오프라인에서 듣고 싶을 때가 있다. 이럴 경우에는 유튜브 동영상에서 mp3를 추출해주는 여러 다른 사이트를 대신 활용하면 된다. 그 중에서도 여기서는 https://ytmp3.cc/ 를 이용해보기로 한다.\n",
    "\n",
    "ytmp3에서는 유튜브 동영상 링크를 입력 받아 mp3로 변환해준다. ytmp3 홈페이지의 `<input>` 요소에 url을 입력해주고 'Convert' 버튼을 눌러주면 변환이 이루어지며, 그 이후에 'Download' 버튼을 눌러주면 웹브라우저 기본 다운로드 폴더에 mp3 파일이 다운로드 된다."
   ]
  },
  {
   "cell_type": "code",
   "execution_count": 38,
   "metadata": {
    "collapsed": true
   },
   "outputs": [],
   "source": [
    "from selenium import webdriver\n",
    "from selenium.webdriver.common.keys import Keys\n",
    "import time\n",
    "\n",
    "url = 'https://www.youtube.com/watch?v=yEjrABoskIQ'  # 도전 과제 3의 결과 \n",
    "\n",
    "driver = webdriver.Chrome() \n",
    "driver.get('https://ytmp3.cc/')\n",
    "elem = driver.find_element_by_id(\"input\")\n",
    "elem.send_keys(url)\n",
    "driver.find_element_by_id(\"submit\").click()\n",
    "while True:\n",
    "    try:\n",
    "        elem = driver.find_element_by_xpath(\"//*[text()='Download']\")\n",
    "    except:\n",
    "        time.sleep(1)\n",
    "    break\n",
    "    \n",
    "while True:\n",
    "    try:\n",
    "        elem.click()\n",
    "        break\n",
    "    except:\n",
    "        print('retry')\n",
    "        time.sleep(3)"
   ]
  },
  {
   "cell_type": "markdown",
   "metadata": {},
   "source": [
    "다운로드가 완료될 때 까지 충분히 기다린다. 대기시간을 프로그램에서 정확하게 알기는 어렵다."
   ]
  },
  {
   "cell_type": "code",
   "execution_count": 39,
   "metadata": {
    "collapsed": true
   },
   "outputs": [],
   "source": [
    "driver.close()"
   ]
  },
  {
   "cell_type": "markdown",
   "metadata": {},
   "source": [
    "## 연습 과제 7 - YouTube 동영상 저장\n",
    "\n",
    "이번에는 유튜브 동영상을 저장해보자. 이것도 물론 유튜브 동영상을 저장해주는 다른 사이트를 이용한다. 다양한 사이트가 있는데 여기서는 http://www.ssyoutube.com 을 이용해보자. 앞서 얻은 동영상 url에서 `www.youtube.com`을 `www.ssyoutube.com`으로만 변경해주면 곧바로 해당 동영상에 대한 변환 페이지로 접근할 수 있다. 거기서 'Download' 버튼의 URL을 가져오면 파일 경로를 얻어낼 수 있다."
   ]
  },
  {
   "cell_type": "code",
   "execution_count": 40,
   "metadata": {},
   "outputs": [
    {
     "data": {
      "text/plain": [
       "4033783"
      ]
     },
     "execution_count": 40,
     "metadata": {},
     "output_type": "execute_result"
    }
   ],
   "source": [
    "from selenium import webdriver\n",
    "from selenium.webdriver.common.keys import Keys\n",
    "import requests\n",
    "import time\n",
    "\n",
    "url = 'https://www.youtube.com/watch?v=hwZNL7QVJjE'\n",
    "\n",
    "driver = webdriver.Chrome() \n",
    "\n",
    "new_url = url.replace('www.youtube.com', 'www.ssyoutube.com')\n",
    "driver.get(new_url)\n",
    "time.sleep(5)\n",
    "tag = driver.find_element_by_css_selector(\".def-btn-box a\")\n",
    "href = tag.get_attribute('href')\n",
    "r = requests.get(href)\n",
    "open('youtube_video.mp4', 'wb').write(r.content)"
   ]
  }
 ],
 "metadata": {
  "kernelspec": {
   "display_name": "Python 3",
   "language": "python",
   "name": "python3"
  },
  "language_info": {
   "codemirror_mode": {
    "name": "ipython",
    "version": 3
   },
   "file_extension": ".py",
   "mimetype": "text/x-python",
   "name": "python",
   "nbconvert_exporter": "python",
   "pygments_lexer": "ipython3",
   "version": "3.6.3"
  }
 },
 "nbformat": 4,
 "nbformat_minor": 1
}
