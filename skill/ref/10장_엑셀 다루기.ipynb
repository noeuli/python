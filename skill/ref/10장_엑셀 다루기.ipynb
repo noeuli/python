{
 "cells": [
  {
   "cell_type": "code",
   "execution_count": 1,
   "metadata": {
    "collapsed": true
   },
   "outputs": [],
   "source": [
    "from openpyxl import Workbook\n",
    "\n",
    "wb = Workbook()"
   ]
  },
  {
   "cell_type": "code",
   "execution_count": 2,
   "metadata": {},
   "outputs": [
    {
     "data": {
      "text/plain": [
       "['Sheet']"
      ]
     },
     "execution_count": 2,
     "metadata": {},
     "output_type": "execute_result"
    }
   ],
   "source": [
    "wb.sheetnames"
   ]
  },
  {
   "cell_type": "markdown",
   "metadata": {},
   "source": [
    "`active` 속성값을 이용해서 현재 활성화되어 있는 워크시트를 가져온다."
   ]
  },
  {
   "cell_type": "code",
   "execution_count": 3,
   "metadata": {
    "collapsed": true
   },
   "outputs": [],
   "source": [
    "ws = wb.active"
   ]
  },
  {
   "cell_type": "markdown",
   "metadata": {},
   "source": [
    "워크시트 추가는 `create_sheet()` 메서드를 이용한다. 두 번째 인수로 삽입 위치를 지정할 수도 있다.\n",
    "좌측 위치는 0부터 시작한다."
   ]
  },
  {
   "cell_type": "code",
   "execution_count": 4,
   "metadata": {
    "collapsed": true
   },
   "outputs": [],
   "source": [
    "ws2 = wb.create_sheet(\"new_sheet2\") # 마지막에 시트 추가\n",
    "ws1 = wb.create_sheet(\"new_sheet1\", 1) # 두 번째에 시트 삽입"
   ]
  },
  {
   "cell_type": "markdown",
   "metadata": {},
   "source": [
    "추가된 워크시트들을 확인해보자."
   ]
  },
  {
   "cell_type": "code",
   "execution_count": 5,
   "metadata": {},
   "outputs": [
    {
     "data": {
      "text/plain": [
       "['Sheet', 'new_sheet1', 'new_sheet2']"
      ]
     },
     "execution_count": 5,
     "metadata": {},
     "output_type": "execute_result"
    }
   ],
   "source": [
    "wb.sheetnames"
   ]
  },
  {
   "cell_type": "markdown",
   "metadata": {},
   "source": [
    "워크시트를 하나 선택한다."
   ]
  },
  {
   "cell_type": "code",
   "execution_count": 6,
   "metadata": {
    "collapsed": true
   },
   "outputs": [],
   "source": [
    "ws = wb['Sheet']"
   ]
  },
  {
   "cell_type": "markdown",
   "metadata": {},
   "source": [
    "시트 이름 변경은 `'title'`속성으로 한다."
   ]
  },
  {
   "cell_type": "code",
   "execution_count": 7,
   "metadata": {},
   "outputs": [
    {
     "data": {
      "text/plain": [
       "'주소'"
      ]
     },
     "execution_count": 7,
     "metadata": {},
     "output_type": "execute_result"
    }
   ],
   "source": [
    "ws.title = '주소'\n",
    "ws.title"
   ]
  },
  {
   "cell_type": "markdown",
   "metadata": {},
   "source": [
    "이제 조그마한 표를 하나 만들어보자.\n",
    "셀에 접근하는 방법은 두 가지 인데, 워크시트에서 셀주소를 지정하는 방법이 있고,"
   ]
  },
  {
   "cell_type": "code",
   "execution_count": 8,
   "metadata": {
    "collapsed": true
   },
   "outputs": [],
   "source": [
    "ws['A1'] = '이름'\n",
    "ws['B1'] = '전화번호'\n",
    "\n",
    "ws['A2'] = '홍길동'\n",
    "ws['B2'] = '7777'"
   ]
  },
  {
   "cell_type": "markdown",
   "metadata": {},
   "source": [
    "워크시트의 `cell()` 메서드로 셀 객체를 직접 다룰 수도 있다.\n",
    "셀 주소를 'A1'과 같은 심볼이 아니라 숫자 기반의 행열 첨자값으로 셀을 참조할 수 있다.\n",
    "주의할 점은 행열 첨자 값이 1부터 시작한다는 것이다."
   ]
  },
  {
   "cell_type": "code",
   "execution_count": 9,
   "metadata": {
    "collapsed": true
   },
   "outputs": [],
   "source": [
    "ws.cell(row=3, column=1, value='홍길순');  # A3\n",
    "ws.cell(row=3, column=2, value='3333');   # B3"
   ]
  },
  {
   "cell_type": "markdown",
   "metadata": {},
   "source": [
    "다음과 같은 사용도 가능하다."
   ]
  },
  {
   "cell_type": "code",
   "execution_count": 10,
   "metadata": {
    "collapsed": true
   },
   "outputs": [],
   "source": [
    "ws.cell(row=3, column=1).value = '홍길순'  # A3\n",
    "ws.cell(row=3, column=2).value = '3333'   # B3\n",
    "\n",
    "cell = ws.cell(row=3, column=1)\n",
    "cell.value = '홍길순'"
   ]
  },
  {
   "cell_type": "markdown",
   "metadata": {},
   "source": [
    "이제 파일을 저장한다. 엑셀로 저장된 파일을 직접 확인해보자."
   ]
  },
  {
   "cell_type": "code",
   "execution_count": 11,
   "metadata": {
    "collapsed": true
   },
   "outputs": [],
   "source": [
    "wb.save('address.xlsx')"
   ]
  },
  {
   "cell_type": "markdown",
   "metadata": {},
   "source": [
    "## openpyxl로 파일 읽기\n"
   ]
  },
  {
   "cell_type": "markdown",
   "metadata": {},
   "source": [
    "`openpyxl.load_workbook()`로 파일에서 엑셀 파일을 읽는다."
   ]
  },
  {
   "cell_type": "code",
   "execution_count": 12,
   "metadata": {},
   "outputs": [
    {
     "data": {
      "text/plain": [
       "['주소', 'new_sheet1', 'new_sheet2']"
      ]
     },
     "execution_count": 12,
     "metadata": {},
     "output_type": "execute_result"
    }
   ],
   "source": [
    "from openpyxl import load_workbook\n",
    "wb2 = load_workbook('address.xlsx')\n",
    "wb2.sheetnames"
   ]
  },
  {
   "cell_type": "markdown",
   "metadata": {},
   "source": [
    "워크시트를 가져오고, 값을 읽어낸다."
   ]
  },
  {
   "cell_type": "code",
   "execution_count": 13,
   "metadata": {},
   "outputs": [
    {
     "data": {
      "text/plain": [
       "'이름'"
      ]
     },
     "execution_count": 13,
     "metadata": {},
     "output_type": "execute_result"
    }
   ],
   "source": [
    "sheet = wb2['주소']\n",
    "sheet['A1'].value"
   ]
  },
  {
   "cell_type": "markdown",
   "metadata": {},
   "source": [
    "데이터가 있는 모든 행과 열에 대해서 반복을 할 수 있다.\n",
    "실제로 데이터가 있는 영역으로 반복이 한정된다."
   ]
  },
  {
   "cell_type": "code",
   "execution_count": 14,
   "metadata": {},
   "outputs": [
    {
     "name": "stdout",
     "output_type": "stream",
     "text": [
      "<Cell '주소'.A1> 이름\n",
      "<Cell '주소'.B1> 전화번호\n",
      "<Cell '주소'.A2> 홍길동\n",
      "<Cell '주소'.B2> 7777\n",
      "<Cell '주소'.A3> 홍길순\n",
      "<Cell '주소'.B3> 3333\n"
     ]
    }
   ],
   "source": [
    "for row in sheet.iter_rows():\n",
    "    for cell in row:\n",
    "        print(cell, cell.value)"
   ]
  },
  {
   "cell_type": "markdown",
   "metadata": {},
   "source": [
    "## pandas로 엑셀 파일 읽기\n"
   ]
  },
  {
   "cell_type": "code",
   "execution_count": 15,
   "metadata": {},
   "outputs": [
    {
     "data": {
      "text/html": [
       "<div>\n",
       "<style>\n",
       "    .dataframe thead tr:only-child th {\n",
       "        text-align: right;\n",
       "    }\n",
       "\n",
       "    .dataframe thead th {\n",
       "        text-align: left;\n",
       "    }\n",
       "\n",
       "    .dataframe tbody tr th {\n",
       "        vertical-align: top;\n",
       "    }\n",
       "</style>\n",
       "<table border=\"1\" class=\"dataframe\">\n",
       "  <thead>\n",
       "    <tr style=\"text-align: right;\">\n",
       "      <th></th>\n",
       "      <th>이름</th>\n",
       "      <th>전화번호</th>\n",
       "    </tr>\n",
       "  </thead>\n",
       "  <tbody>\n",
       "    <tr>\n",
       "      <th>0</th>\n",
       "      <td>홍길동</td>\n",
       "      <td>7777</td>\n",
       "    </tr>\n",
       "    <tr>\n",
       "      <th>1</th>\n",
       "      <td>홍길순</td>\n",
       "      <td>3333</td>\n",
       "    </tr>\n",
       "  </tbody>\n",
       "</table>\n",
       "</div>"
      ],
      "text/plain": [
       "    이름  전화번호\n",
       "0  홍길동  7777\n",
       "1  홍길순  3333"
      ]
     },
     "execution_count": 15,
     "metadata": {},
     "output_type": "execute_result"
    }
   ],
   "source": [
    "import pandas as pd\n",
    "\n",
    "df = pd.read_excel('address.xlsx')\n",
    "df"
   ]
  },
  {
   "cell_type": "code",
   "execution_count": 16,
   "metadata": {
    "collapsed": true
   },
   "outputs": [],
   "source": [
    "df = pd.read_excel('address.xlsx', '주소')"
   ]
  },
  {
   "cell_type": "code",
   "execution_count": 17,
   "metadata": {},
   "outputs": [
    {
     "data": {
      "text/plain": [
       "0    홍길동\n",
       "1    홍길순\n",
       "Name: 이름, dtype: object"
      ]
     },
     "execution_count": 17,
     "metadata": {},
     "output_type": "execute_result"
    }
   ],
   "source": [
    "df['이름']"
   ]
  },
  {
   "cell_type": "code",
   "execution_count": 18,
   "metadata": {},
   "outputs": [
    {
     "data": {
      "text/plain": [
       "이름       홍길동\n",
       "전화번호    7777\n",
       "Name: 0, dtype: object"
      ]
     },
     "execution_count": 18,
     "metadata": {},
     "output_type": "execute_result"
    }
   ],
   "source": [
    "df.iloc[0]"
   ]
  },
  {
   "cell_type": "code",
   "execution_count": 19,
   "metadata": {},
   "outputs": [
    {
     "name": "stdout",
     "output_type": "stream",
     "text": [
      "0 홍길동 7777\n",
      "1 홍길순 3333\n"
     ]
    }
   ],
   "source": [
    "for index, row in df.iterrows():\n",
    "    print(index, row[0], row[1])"
   ]
  },
  {
   "cell_type": "code",
   "execution_count": 20,
   "metadata": {},
   "outputs": [
    {
     "name": "stdout",
     "output_type": "stream",
     "text": [
      "이름 ['홍길동', '홍길순']\n",
      "전화번호 [7777, 3333]\n"
     ]
    }
   ],
   "source": [
    "for column in df:\n",
    "    print(column, list(df[column]))\n"
   ]
  },
  {
   "cell_type": "code",
   "execution_count": 21,
   "metadata": {},
   "outputs": [
    {
     "data": {
      "text/plain": [
       "array([['홍길동', 7777],\n",
       "       ['홍길순', 3333]], dtype=object)"
      ]
     },
     "execution_count": 21,
     "metadata": {},
     "output_type": "execute_result"
    }
   ],
   "source": [
    "arr = df.values\n",
    "arr"
   ]
  },
  {
   "cell_type": "code",
   "execution_count": 22,
   "metadata": {},
   "outputs": [
    {
     "data": {
      "text/plain": [
       "array(['홍길동', 7777], dtype=object)"
      ]
     },
     "execution_count": 22,
     "metadata": {},
     "output_type": "execute_result"
    }
   ],
   "source": [
    "arr[0]"
   ]
  },
  {
   "cell_type": "code",
   "execution_count": 23,
   "metadata": {},
   "outputs": [
    {
     "data": {
      "text/plain": [
       "7777"
      ]
     },
     "execution_count": 23,
     "metadata": {},
     "output_type": "execute_result"
    }
   ],
   "source": [
    "arr[0][1]"
   ]
  },
  {
   "cell_type": "code",
   "execution_count": 24,
   "metadata": {
    "collapsed": true
   },
   "outputs": [],
   "source": [
    "from openpyxl import Workbook\n",
    "import math\n",
    "import datetime\n",
    "\n",
    "wb = Workbook()\n",
    "ws = wb.active\n",
    "\n",
    "ws['A1'] = '홍길동'  # 문자열\n",
    "ws['A2'] = 1234     # 숫자 (int)\n",
    "ws['A3'] = math.pi  # 숫자 (float)\n",
    "ws['A4'] = datetime.datetime(2019, 1, 3, 15, 25, 0) # 시간 2019-01-03 15:25:00\n",
    "ws['A5'] = '=SIN(PI()/2)'  # 수식\n",
    "\n",
    "wb.save('test.xlsx')"
   ]
  },
  {
   "cell_type": "code",
   "execution_count": 25,
   "metadata": {},
   "outputs": [
    {
     "data": {
      "text/plain": [
       "((<Cell 'Sheet'.A1>, <Cell 'Sheet'.B1>, <Cell 'Sheet'.C1>),\n",
       " (<Cell 'Sheet'.A2>, <Cell 'Sheet'.B2>, <Cell 'Sheet'.C2>))"
      ]
     },
     "execution_count": 25,
     "metadata": {},
     "output_type": "execute_result"
    }
   ],
   "source": [
    "ws['A1':'C2']"
   ]
  },
  {
   "cell_type": "code",
   "execution_count": 26,
   "metadata": {},
   "outputs": [
    {
     "name": "stdout",
     "output_type": "stream",
     "text": [
      "(<Cell 'Sheet'.A1>, <Cell 'Sheet'.B1>, <Cell 'Sheet'.C1>)\n",
      "(<Cell 'Sheet'.A2>, <Cell 'Sheet'.B2>, <Cell 'Sheet'.C2>)\n"
     ]
    }
   ],
   "source": [
    "for row in ws['A1':'C2']:\n",
    "    print(row)"
   ]
  },
  {
   "cell_type": "code",
   "execution_count": 27,
   "metadata": {
    "collapsed": true
   },
   "outputs": [],
   "source": [
    "data = [(1,2,3),\n",
    "       (4,5,6)]\n",
    "\n",
    "for row, drow in zip(ws['A1':'C2'], data):\n",
    "    for cell, value in zip(row, drow):\n",
    "        cell.value = value"
   ]
  },
  {
   "cell_type": "code",
   "execution_count": 28,
   "metadata": {},
   "outputs": [
    {
     "data": {
      "text/plain": [
       "'A'"
      ]
     },
     "execution_count": 28,
     "metadata": {},
     "output_type": "execute_result"
    }
   ],
   "source": [
    "from openpyxl.utils import get_column_letter\n",
    "\n",
    "get_column_letter(1)"
   ]
  },
  {
   "cell_type": "code",
   "execution_count": 29,
   "metadata": {},
   "outputs": [
    {
     "data": {
      "text/plain": [
       "'C1'"
      ]
     },
     "execution_count": 29,
     "metadata": {},
     "output_type": "execute_result"
    }
   ],
   "source": [
    "def index2cell(row, col):\n",
    "    return '{}{}'.format(get_column_letter(col), row)\n",
    "\n",
    "index2cell(row=1,col=3)"
   ]
  },
  {
   "cell_type": "code",
   "execution_count": 30,
   "metadata": {
    "collapsed": true
   },
   "outputs": [],
   "source": [
    "from openpyxl import Workbook\n",
    "\n",
    "wb = Workbook()\n",
    "ws = wb.active\n",
    "\n",
    "data=[('Id','이름','나이'),\n",
    "      (1,'홍길동',50),\n",
    "      (2,'홍길순',60)]\n",
    "\n",
    "# append all rows\n",
    "for row in data:\n",
    "    ws.append(row)\n",
    "    \n",
    "wb.save('sample1.xlsx')"
   ]
  },
  {
   "cell_type": "code",
   "execution_count": 31,
   "metadata": {
    "collapsed": true
   },
   "outputs": [],
   "source": [
    "from openpyxl import Workbook\n",
    "import pandas as pd\n",
    "\n",
    "wb = Workbook()\n",
    "ws = wb.active\n",
    "\n",
    "ws.append(('시간',))\n",
    "data = pd.date_range('2019-1-3 09:00:00', '2019-1-3 15:00:00', freq='10min')\n",
    "\n",
    "for row in data:\n",
    "    ws.append((row,))\n",
    "\n",
    "ws.column_dimensions['A'].width = 18  # 18자(영문기준) 정도 폭으로 설정    \n",
    "wb.save('test.xlsx')"
   ]
  },
  {
   "cell_type": "code",
   "execution_count": 32,
   "metadata": {},
   "outputs": [
    {
     "data": {
      "text/plain": [
       "37"
      ]
     },
     "execution_count": 32,
     "metadata": {},
     "output_type": "execute_result"
    }
   ],
   "source": [
    "len(data)"
   ]
  },
  {
   "cell_type": "code",
   "execution_count": 33,
   "metadata": {},
   "outputs": [
    {
     "data": {
      "text/plain": [
       "Timestamp('2019-01-03 09:00:00', freq='10T')"
      ]
     },
     "execution_count": 33,
     "metadata": {},
     "output_type": "execute_result"
    }
   ],
   "source": [
    "data[0]"
   ]
  },
  {
   "cell_type": "code",
   "execution_count": 34,
   "metadata": {
    "collapsed": true
   },
   "outputs": [],
   "source": [
    "from openpyxl import Workbook\n",
    "import datetime\n",
    "\n",
    "wb = Workbook()\n",
    "ws = wb.active\n",
    "ws['A1'] = datetime.datetime(2019, 1, 3, 15, 25, 0) # 시간 2019-01-03 15:25:00\n",
    "\n",
    "ws.column_dimensions['A'].width = 18  # 18자(영문기준) 정도 폭으로 설정\n",
    "ws.row_dimensions[1].height = 30      # 높이 설정\n",
    "\n",
    "wb.save('test.xlsx')"
   ]
  },
  {
   "cell_type": "code",
   "execution_count": 35,
   "metadata": {
    "collapsed": true
   },
   "outputs": [],
   "source": [
    "from openpyxl import Workbook\n",
    "import datetime\n",
    "\n",
    "wb = Workbook()\n",
    "ws = wb.active\n",
    "\n",
    "ws['A1'] = 123456789\n",
    "cell = ws['A1']\n",
    "cell.number_format = \"#,##0_-\"\n",
    "ws.column_dimensions['A'].width = 14\n",
    "\n",
    "wb.save('test.xlsx')"
   ]
  },
  {
   "cell_type": "code",
   "execution_count": 36,
   "metadata": {
    "collapsed": true
   },
   "outputs": [],
   "source": [
    "from openpyxl.styles import PatternFill, Font, colors, Side, Alignment, Border\n",
    "\n",
    "fill = PatternFill(start_color='eff7f7', fill_type='solid')\n",
    "ws['A1'].fill = fill"
   ]
  },
  {
   "cell_type": "code",
   "execution_count": 37,
   "metadata": {
    "collapsed": true
   },
   "outputs": [],
   "source": [
    "# Font properties\n",
    "font = Font(name='나눔고딕', size=11, color=colors.RED, italic=True)\n",
    "ws['A1'].font = font\n",
    "ws['A1'] = 1234"
   ]
  },
  {
   "cell_type": "code",
   "execution_count": 38,
   "metadata": {
    "collapsed": true
   },
   "outputs": [],
   "source": [
    "al = Alignment(horizontal=\"center\", vertical=\"center\")\n",
    "ws['A1'].alignment = al\n",
    "wb.save('test.xlsx')"
   ]
  },
  {
   "cell_type": "code",
   "execution_count": 39,
   "metadata": {
    "collapsed": true
   },
   "outputs": [],
   "source": [
    "border = Border(left=Side(style='thin'), \n",
    "                     right=Side(style='thin'), \n",
    "                     top=Side(style='thin'), \n",
    "                     bottom=Side(style='thin'))\n",
    "\n",
    "for row in ws['A1':'C10']:\n",
    "    for cell in row:\n",
    "        cell.border = border"
   ]
  },
  {
   "cell_type": "code",
   "execution_count": 40,
   "metadata": {
    "collapsed": true
   },
   "outputs": [],
   "source": [
    "ws.merge_cells('A2:D2')\n",
    "ws.unmerge_cells('A2:D2')"
   ]
  },
  {
   "cell_type": "code",
   "execution_count": 41,
   "metadata": {
    "collapsed": true
   },
   "outputs": [],
   "source": [
    "ws.insert_rows(1)  # 첫 행 삽입\n",
    "ws.insert_cols(1)  # 첫 열 삽입"
   ]
  },
  {
   "cell_type": "code",
   "execution_count": 42,
   "metadata": {
    "collapsed": true
   },
   "outputs": [],
   "source": [
    "ws.delete_rows(1,3)  # 첫 행 ~ 셋째 행을 삭제"
   ]
  },
  {
   "cell_type": "code",
   "execution_count": 43,
   "metadata": {
    "collapsed": true
   },
   "outputs": [],
   "source": [
    "ws.delete_cols(1,1)  # 첫 열을 삭제"
   ]
  },
  {
   "cell_type": "code",
   "execution_count": 44,
   "metadata": {},
   "outputs": [
    {
     "data": {
      "text/plain": [
       "112.2"
      ]
     },
     "execution_count": 44,
     "metadata": {},
     "output_type": "execute_result"
    }
   ],
   "source": [
    "110 * 1.02"
   ]
  },
  {
   "cell_type": "code",
   "execution_count": 45,
   "metadata": {},
   "outputs": [
    {
     "data": {
      "text/plain": [
       "110.32999999999998"
      ]
     },
     "execution_count": 45,
     "metadata": {},
     "output_type": "execute_result"
    }
   ],
   "source": [
    "110 * 1.003"
   ]
  },
  {
   "cell_type": "code",
   "execution_count": 46,
   "metadata": {},
   "outputs": [
    {
     "data": {
      "text/plain": [
       "array([1.02      , 1.01811111, 1.01622222, 1.01433333, 1.01244444,\n",
       "       1.01055556, 1.00866667, 1.00677778, 1.00488889, 1.003     ])"
      ]
     },
     "execution_count": 46,
     "metadata": {},
     "output_type": "execute_result"
    }
   ],
   "source": [
    "import numpy as np\n",
    "\n",
    "np.linspace(1.02, 1.003, 10)"
   ]
  },
  {
   "cell_type": "code",
   "execution_count": 47,
   "metadata": {},
   "outputs": [
    {
     "data": {
      "text/plain": [
       "array([0.28064827, 0.33344418, 0.57243427, 0.36441912, 0.28157618,\n",
       "       0.40199189, 0.7287625 , 0.25220007, 0.88685232, 0.14082582,\n",
       "       0.99018887, 0.00369844])"
      ]
     },
     "execution_count": 47,
     "metadata": {},
     "output_type": "execute_result"
    }
   ],
   "source": [
    "np.random.random(12)"
   ]
  },
  {
   "cell_type": "code",
   "execution_count": 48,
   "metadata": {},
   "outputs": [
    {
     "data": {
      "text/plain": [
       "array([177.19719259, 168.4881135 , 159.62804124, 162.43036167,\n",
       "       322.10454363, 260.68758635, 433.02218316, 351.86238667,\n",
       "       549.70423061, 693.23476466, 839.58446952, 565.95434512])"
      ]
     },
     "execution_count": 48,
     "metadata": {},
     "output_type": "execute_result"
    }
   ],
   "source": [
    "ref = [110, 110, 110, 110, 220, 220, 220, 220, 440, 440, 440, 440]\n",
    "ref * (1+np.random.random(12))"
   ]
  },
  {
   "cell_type": "code",
   "execution_count": 49,
   "metadata": {
    "collapsed": true
   },
   "outputs": [],
   "source": [
    "import numpy as np\n",
    "\n",
    "for r in np.linspace(1.02, 1.003, 20):\n",
    "    freq1 = ref * (1+np.random.random(12))\n",
    "    freq2 = r * freq1"
   ]
  },
  {
   "cell_type": "code",
   "execution_count": 50,
   "metadata": {
    "collapsed": true
   },
   "outputs": [],
   "source": [
    "for r in np.linspace(1.02, 1.003, 20):\n",
    "    freq1 = ref * (1+np.random.random(12))\n",
    "    freq2 = r * freq1\n",
    "    row = []\n",
    "    for f1, f2 in zip(freq1, freq2):\n",
    "        t = [f1, f2]\n",
    "        np.random.shuffle(t)\n",
    "        row.extend(t)"
   ]
  },
  {
   "cell_type": "code",
   "execution_count": 51,
   "metadata": {},
   "outputs": [
    {
     "data": {
      "text/plain": [
       "[153.62770144063538,\n",
       " 153.16819685008514,\n",
       " 137.92158285931794,\n",
       " 137.50905569224122,\n",
       " 136.41009639137508,\n",
       " 136.81932668054918,\n",
       " 198.08183826544658,\n",
       " 198.6760837802429,\n",
       " 308.2853260294589,\n",
       " 307.36323632049744,\n",
       " 368.5095913796453,\n",
       " 367.40736927182985,\n",
       " 393.9671733480729,\n",
       " 392.78880692729103,\n",
       " 377.9030104914233,\n",
       " 379.0367195228975,\n",
       " 575.7066042470434,\n",
       " 573.984650296155,\n",
       " 440.81482024419296,\n",
       " 442.1372647049255,\n",
       " 626.0819179518319,\n",
       " 624.2092900815871,\n",
       " 639.1143770108786,\n",
       " 641.0317201419111]"
      ]
     },
     "execution_count": 51,
     "metadata": {},
     "output_type": "execute_result"
    }
   ],
   "source": [
    "row"
   ]
  },
  {
   "cell_type": "code",
   "execution_count": 52,
   "metadata": {
    "collapsed": true
   },
   "outputs": [],
   "source": [
    "import numpy as np\n",
    "from openpyxl import Workbook\n",
    "from openpyxl.utils import get_column_letter\n",
    "from openpyxl.styles import Font, colors, Alignment\n",
    "\n",
    "\n",
    "def index2cell(row, col):\n",
    "    return '{}{}'.format(get_column_letter(col), row)\n",
    "\n",
    "# 워크북 새로 만든다\n",
    "wb = Workbook()\n",
    "ws = wb.active\n",
    "\n",
    "# 설정 변수들\n",
    "levels = 20\n",
    "ref = [110, 110, 110, 110, 220, 220, 220, 220, 440, 440, 440, 440]\n",
    "rows, cols = levels, len(ref)*2\n",
    "\n",
    "# 스타일 변수들\n",
    "font = Font(name='Tahoma', size=10, color=colors.DARKBLUE, italic=False)\n",
    "font_title = Font(name='Tahoma', size=10, color=colors.BLACK, bold=True)\n",
    "\n",
    "# 첫 행 타이틀을 넣는다\n",
    "row = ['']*(cols+1)\n",
    "row[1::2] = ['Q'+str(i+1) for i in range(len(ref))]\n",
    "row[0] = 'Level'\n",
    "ws.append(row)\n",
    "align = Alignment(horizontal=\"center\")\n",
    "\n",
    "# 한 문제는 두 개의 주파수로 구성된다. 따라서 첫 행의 두 셀을 하나로 합친다.\n",
    "for i in range(cols//2):\n",
    "    a = index2cell(1, (i+1)*2)\n",
    "    b = index2cell(1, (i+1)*2+1)\n",
    "    ws.merge_cells(a+':'+b)\n",
    "\n",
    "# 첫 행의 스타일(정렬, 폰트)을 설정한다.\n",
    "for col in range(cols+1):\n",
    "    cell = ws.cell(row=1, column=col+1)\n",
    "    cell.alignment = align\n",
    "    cell.font = font_title\n",
    "\n",
    "# 주파수 데이터를 넣는다.\n",
    "for i, r in enumerate(np.linspace(1.02, 1.003, levels)):\n",
    "    freq1 = ref * (1+np.random.random(len(ref)))\n",
    "    freq2 = r * freq1\n",
    "    row = []\n",
    "    for f1, f2 in zip(freq1, freq2):\n",
    "        t = [f1, f2]\n",
    "        np.random.shuffle(t)\n",
    "        row.extend(t)\n",
    "    ws.append([str(i+1)]+row)\n",
    "\n",
    "# 첫 열의 스타일을 정한다.\n",
    "for row in range(rows+1):\n",
    "    cell = ws.cell(row=row+1, column=1)\n",
    "    cell.alignment = align\n",
    "    cell.font = font_title\n",
    "\n",
    "# 주파수 데이터의 스타일을 설정한다.\n",
    "for row in ws['B2':index2cell(rows+1,cols+1)]:\n",
    "    for cell in row:\n",
    "        cell.number_format = '0.000'\n",
    "        cell.font = font\n",
    "        \n",
    "wb.save('data\\\\pitch_train.xlsx')"
   ]
  },
  {
   "cell_type": "markdown",
   "metadata": {},
   "source": [
    "## 도전 과제 - CSV 파일을 읽고 엑셀로 저장하기"
   ]
  },
  {
   "cell_type": "code",
   "execution_count": 53,
   "metadata": {
    "collapsed": true
   },
   "outputs": [],
   "source": [
    "import pandas as pd\n",
    "\n",
    "url = \"http://samplecsvs.s3.amazonaws.com/Sacramentorealestatetransactions.csv\"\n",
    "df = pd.read_csv(url)  # 웹에서 직접 읽어온다.\n",
    "df.to_excel('data\\\\Sacramentorealestatetransactions.xlsx', index=False)"
   ]
  },
  {
   "cell_type": "code",
   "execution_count": 54,
   "metadata": {},
   "outputs": [
    {
     "data": {
      "text/html": [
       "<div>\n",
       "<style scoped>\n",
       "    .dataframe tbody tr th:only-of-type {\n",
       "        vertical-align: middle;\n",
       "    }\n",
       "\n",
       "    .dataframe tbody tr th {\n",
       "        vertical-align: top;\n",
       "    }\n",
       "\n",
       "    .dataframe thead th {\n",
       "        text-align: right;\n",
       "    }\n",
       "</style>\n",
       "<table border=\"1\" class=\"dataframe\">\n",
       "  <thead>\n",
       "    <tr style=\"text-align: right;\">\n",
       "      <th></th>\n",
       "      <th>street</th>\n",
       "      <th>city</th>\n",
       "      <th>zip</th>\n",
       "      <th>state</th>\n",
       "      <th>beds</th>\n",
       "      <th>baths</th>\n",
       "      <th>sq__ft</th>\n",
       "      <th>type</th>\n",
       "      <th>sale_date</th>\n",
       "      <th>price</th>\n",
       "      <th>latitude</th>\n",
       "      <th>longitude</th>\n",
       "    </tr>\n",
       "  </thead>\n",
       "  <tbody>\n",
       "    <tr>\n",
       "      <th>0</th>\n",
       "      <td>3526 HIGH ST</td>\n",
       "      <td>SACRAMENTO</td>\n",
       "      <td>95838</td>\n",
       "      <td>CA</td>\n",
       "      <td>2</td>\n",
       "      <td>1</td>\n",
       "      <td>836</td>\n",
       "      <td>Residential</td>\n",
       "      <td>Wed May 21 00:00:00 EDT 2008</td>\n",
       "      <td>59222</td>\n",
       "      <td>38.631913</td>\n",
       "      <td>-121.434879</td>\n",
       "    </tr>\n",
       "    <tr>\n",
       "      <th>1</th>\n",
       "      <td>51 OMAHA CT</td>\n",
       "      <td>SACRAMENTO</td>\n",
       "      <td>95823</td>\n",
       "      <td>CA</td>\n",
       "      <td>3</td>\n",
       "      <td>1</td>\n",
       "      <td>1167</td>\n",
       "      <td>Residential</td>\n",
       "      <td>Wed May 21 00:00:00 EDT 2008</td>\n",
       "      <td>68212</td>\n",
       "      <td>38.478902</td>\n",
       "      <td>-121.431028</td>\n",
       "    </tr>\n",
       "    <tr>\n",
       "      <th>2</th>\n",
       "      <td>2796 BRANCH ST</td>\n",
       "      <td>SACRAMENTO</td>\n",
       "      <td>95815</td>\n",
       "      <td>CA</td>\n",
       "      <td>2</td>\n",
       "      <td>1</td>\n",
       "      <td>796</td>\n",
       "      <td>Residential</td>\n",
       "      <td>Wed May 21 00:00:00 EDT 2008</td>\n",
       "      <td>68880</td>\n",
       "      <td>38.618305</td>\n",
       "      <td>-121.443839</td>\n",
       "    </tr>\n",
       "    <tr>\n",
       "      <th>3</th>\n",
       "      <td>2805 JANETTE WAY</td>\n",
       "      <td>SACRAMENTO</td>\n",
       "      <td>95815</td>\n",
       "      <td>CA</td>\n",
       "      <td>2</td>\n",
       "      <td>1</td>\n",
       "      <td>852</td>\n",
       "      <td>Residential</td>\n",
       "      <td>Wed May 21 00:00:00 EDT 2008</td>\n",
       "      <td>69307</td>\n",
       "      <td>38.616835</td>\n",
       "      <td>-121.439146</td>\n",
       "    </tr>\n",
       "    <tr>\n",
       "      <th>4</th>\n",
       "      <td>6001 MCMAHON DR</td>\n",
       "      <td>SACRAMENTO</td>\n",
       "      <td>95824</td>\n",
       "      <td>CA</td>\n",
       "      <td>2</td>\n",
       "      <td>1</td>\n",
       "      <td>797</td>\n",
       "      <td>Residential</td>\n",
       "      <td>Wed May 21 00:00:00 EDT 2008</td>\n",
       "      <td>81900</td>\n",
       "      <td>38.519470</td>\n",
       "      <td>-121.435768</td>\n",
       "    </tr>\n",
       "  </tbody>\n",
       "</table>\n",
       "</div>"
      ],
      "text/plain": [
       "             street        city    zip state  beds  baths  sq__ft  \\\n",
       "0      3526 HIGH ST  SACRAMENTO  95838    CA     2      1     836   \n",
       "1       51 OMAHA CT  SACRAMENTO  95823    CA     3      1    1167   \n",
       "2    2796 BRANCH ST  SACRAMENTO  95815    CA     2      1     796   \n",
       "3  2805 JANETTE WAY  SACRAMENTO  95815    CA     2      1     852   \n",
       "4   6001 MCMAHON DR  SACRAMENTO  95824    CA     2      1     797   \n",
       "\n",
       "          type                     sale_date  price   latitude   longitude  \n",
       "0  Residential  Wed May 21 00:00:00 EDT 2008  59222  38.631913 -121.434879  \n",
       "1  Residential  Wed May 21 00:00:00 EDT 2008  68212  38.478902 -121.431028  \n",
       "2  Residential  Wed May 21 00:00:00 EDT 2008  68880  38.618305 -121.443839  \n",
       "3  Residential  Wed May 21 00:00:00 EDT 2008  69307  38.616835 -121.439146  \n",
       "4  Residential  Wed May 21 00:00:00 EDT 2008  81900  38.519470 -121.435768  "
      ]
     },
     "execution_count": 54,
     "metadata": {},
     "output_type": "execute_result"
    }
   ],
   "source": [
    "df.head()"
   ]
  },
  {
   "cell_type": "code",
   "execution_count": 55,
   "metadata": {},
   "outputs": [
    {
     "data": {
      "text/plain": [
       "(985, 12)"
      ]
     },
     "execution_count": 55,
     "metadata": {},
     "output_type": "execute_result"
    }
   ],
   "source": [
    "rows, cols = df.shape\n",
    "rows, cols"
   ]
  },
  {
   "cell_type": "code",
   "execution_count": 56,
   "metadata": {
    "collapsed": true
   },
   "outputs": [],
   "source": [
    "from openpyxl import load_workbook\n",
    "from openpyxl.styles import PatternFill, Font, colors, Side, Alignment, Border\n",
    "from openpyxl.utils import get_column_letter\n",
    "\n",
    "def index2cell(row, col):\n",
    "    return '{}{}'.format(get_column_letter(col), row)\n",
    "\n",
    "wb = load_workbook('data\\\\Sacramentorealestatetransactions.xlsx')\n",
    "ws = wb.active\n",
    "\n",
    "font = Font(name='Tahoma', size=10, color=colors.DARKBLUE, italic=True)\n",
    "font2 = Font(name='Tahoma', size=10, color=colors.DARKYELLOW, bold=True)\n",
    "fill = PatternFill(start_color='eff7f7', fill_type='solid')\n",
    "border = Border(left=Side(style='thin'), \n",
    "                     right=Side(style='thin'), \n",
    "                     top=Side(style='thin'), \n",
    "                     bottom=Side(style='thin'))\n",
    "\n",
    "# 폰트 적용\n",
    "for row in ws['A1':index2cell(rows+1,cols)]:\n",
    "    for cell in row:\n",
    "        cell.font = font\n",
    "        cell.border = border\n",
    "\n",
    "# 첫 행 배경색 적용\n",
    "for row in ws['A1':index2cell(1,cols)]:\n",
    "    for cell in row:\n",
    "        cell.font = font2\n",
    "        cell.fill = fill\n",
    "\n",
    "# 열 폭 적용     \n",
    "for col in ws.columns:\n",
    "    try:\n",
    "        max_len = max([len(cell.value) for cell in col])  # 최대 문자열 길이 계산\n",
    "    except:\n",
    "        max_len = 0  # 계산이 안될 때\n",
    "    width = min(max(6, max_len+2), 28)  # 최소 6 ~ 최대 28 사이의 폭을 지정\n",
    "    ws.column_dimensions[col[0].column].width = width # col[0].column는 열이름\n",
    "\n",
    "wb.save('data\\\\Sacramentorealestatetransactions2.xlsx')"
   ]
  }
 ],
 "metadata": {
  "anaconda-cloud": {},
  "kernelspec": {
   "display_name": "Python 3",
   "language": "python",
   "name": "python3"
  },
  "language_info": {
   "codemirror_mode": {
    "name": "ipython",
    "version": 3
   },
   "file_extension": ".py",
   "mimetype": "text/x-python",
   "name": "python",
   "nbconvert_exporter": "python",
   "pygments_lexer": "ipython3",
   "version": "3.6.3"
  }
 },
 "nbformat": 4,
 "nbformat_minor": 2
}
