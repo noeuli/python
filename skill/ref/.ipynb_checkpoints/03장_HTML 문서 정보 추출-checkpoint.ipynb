{
 "cells": [
  {
   "cell_type": "code",
   "execution_count": 1,
   "metadata": {
    "collapsed": true
   },
   "outputs": [],
   "source": [
    "from bs4 import BeautifulSoup"
   ]
  },
  {
   "cell_type": "code",
   "execution_count": 2,
   "metadata": {
    "collapsed": true
   },
   "outputs": [],
   "source": [
    "html = \"\"\"\n",
    "<html><head><title>FREELEC</title></head>\n",
    "\n",
    "<body>\n",
    "<H1 class=\"title\">Short history of freelec</H1>\n",
    "\n",
    "<p class=\"story\">프리렉은 가속화되는 기술 흐름과 시대 변화 속에서 짦게만 느껴지는 지난 시간을 되짚으며 ‘지식 가공 및 유통’ 회사라는 아이덴티티를 확고히 하려고 합니다.</p>\n",
    "\n",
    "<div class=\"book python\">\n",
    "<a href=\"https://freelec.co.kr/python\" class=\"python\" name=\"python\" id=\"link1\">열혈강의 파이썬</a>,\n",
    "<a href=\"https://freelec.co.kr/bible\" class=\"python\" name=\"bible\" id=\"link1\">바이블 파이썬</a>,\n",
    "</div>\n",
    "<div class=\"book etc\">\n",
    "<a href=\"https://freelec.co.kr/time\" class=\"physics\" id=\"link2\">시간여행</a>,\n",
    "<a href=\"https://freelec.co.kr/physics\" class=\"physics\" id=\"link3\">재미있는 물리</a>,\n",
    "<a href=\"https://freelec.co.kr/business\" class=\"learning python\">머신러닝</a>\n",
    "</div>\n",
    "</body>\n",
    "</html>\n",
    "\"\"\""
   ]
  },
  {
   "cell_type": "code",
   "execution_count": 3,
   "metadata": {},
   "outputs": [
    {
     "data": {
      "text/plain": [
       "<html><head><title>FREELEC</title></head>\n",
       "<body>\n",
       "<h1 class=\"title\">Short history of freelec</h1>\n",
       "<p class=\"story\">프리렉은 가속화되는 기술 흐름과 시대 변화 속에서 짦게만 느껴지는 지난 시간을 되짚으며 ‘지식 가공 및 유통’ 회사라는 아이덴티티를 확고히 하려고 합니다.</p>\n",
       "<div class=\"book python\">\n",
       "<a class=\"python\" href=\"https://freelec.co.kr/python\" id=\"link1\" name=\"python\">열혈강의 파이썬</a>,\n",
       "<a class=\"python\" href=\"https://freelec.co.kr/bible\" id=\"link1\" name=\"bible\">바이블 파이썬</a>,\n",
       "</div>\n",
       "<div class=\"book etc\">\n",
       "<a class=\"physics\" href=\"https://freelec.co.kr/time\" id=\"link2\">시간여행</a>,\n",
       "<a class=\"physics\" href=\"https://freelec.co.kr/physics\" id=\"link3\">재미있는 물리</a>,\n",
       "<a class=\"learning python\" href=\"https://freelec.co.kr/business\">머신러닝</a>\n",
       "</div>\n",
       "</body>\n",
       "</html>"
      ]
     },
     "execution_count": 3,
     "metadata": {},
     "output_type": "execute_result"
    }
   ],
   "source": [
    "soup = BeautifulSoup(html, 'lxml')\n",
    "soup"
   ]
  },
  {
   "cell_type": "code",
   "execution_count": 4,
   "metadata": {},
   "outputs": [
    {
     "data": {
      "text/plain": [
       "bs4.BeautifulSoup"
      ]
     },
     "execution_count": 4,
     "metadata": {},
     "output_type": "execute_result"
    }
   ],
   "source": [
    "type(soup)"
   ]
  },
  {
   "cell_type": "code",
   "execution_count": 5,
   "metadata": {},
   "outputs": [
    {
     "name": "stdout",
     "output_type": "stream",
     "text": [
      "<html>\n",
      " <head>\n",
      "  <title>\n",
      "   FREELEC\n",
      "  </title>\n",
      " </head>\n",
      " <body>\n",
      "  <h1 class=\"title\">\n",
      "   Short history of freelec\n",
      "  </h1>\n",
      "  <p class=\"story\">\n",
      "   프리렉은 가속화되는 기술 흐름과 시대 변화 속에서 짦게만 느껴지는 지난 시간을 되짚으며 ‘지식 가공 및 유통’ 회사라는 아이덴티티를 확고히 하려고 합니다.\n",
      "  </p>\n",
      "  <div class=\"book python\">\n",
      "   <a class=\"python\" href=\"https://freelec.co.kr/python\" id=\"link1\" name=\"python\">\n",
      "    열혈강의 파이썬\n",
      "   </a>\n",
      "   ,\n",
      "   <a class=\"python\" href=\"https://freelec.co.kr/bible\" id=\"link1\" name=\"bible\">\n",
      "    바이블 파이썬\n",
      "   </a>\n",
      "   ,\n",
      "  </div>\n",
      "  <div class=\"book etc\">\n",
      "   <a class=\"physics\" href=\"https://freelec.co.kr/time\" id=\"link2\">\n",
      "    시간여행\n",
      "   </a>\n",
      "   ,\n",
      "   <a class=\"physics\" href=\"https://freelec.co.kr/physics\" id=\"link3\">\n",
      "    재미있는 물리\n",
      "   </a>\n",
      "   ,\n",
      "   <a class=\"learning python\" href=\"https://freelec.co.kr/business\">\n",
      "    머신러닝\n",
      "   </a>\n",
      "  </div>\n",
      " </body>\n",
      "</html>\n",
      "\n"
     ]
    }
   ],
   "source": [
    "print(soup.prettify())"
   ]
  },
  {
   "cell_type": "code",
   "execution_count": 6,
   "metadata": {},
   "outputs": [
    {
     "data": {
      "text/plain": [
       "(<title>FREELEC</title>, <title>FREELEC</title>)"
      ]
     },
     "execution_count": 6,
     "metadata": {},
     "output_type": "execute_result"
    }
   ],
   "source": [
    "soup.html.head.title, soup.title"
   ]
  },
  {
   "cell_type": "code",
   "execution_count": 7,
   "metadata": {},
   "outputs": [
    {
     "data": {
      "text/plain": [
       "<a class=\"python\" href=\"https://freelec.co.kr/python\" id=\"link1\" name=\"python\">열혈강의 파이썬</a>"
      ]
     },
     "execution_count": 7,
     "metadata": {},
     "output_type": "execute_result"
    }
   ],
   "source": [
    "soup.a"
   ]
  },
  {
   "cell_type": "code",
   "execution_count": 8,
   "metadata": {},
   "outputs": [
    {
     "name": "stdout",
     "output_type": "stream",
     "text": [
      "a\n",
      "열혈강의 파이썬\n",
      "https://freelec.co.kr/python\n",
      "{'href': 'https://freelec.co.kr/python', 'class': ['python'], 'name': 'python', 'id': 'link1'}\n"
     ]
    }
   ],
   "source": [
    "tag = soup.a\n",
    "print(tag.name)\n",
    "print(tag.text)\n",
    "print(tag.attrs['href'])\n",
    "print(tag.attrs)"
   ]
  },
  {
   "cell_type": "code",
   "execution_count": 9,
   "metadata": {},
   "outputs": [
    {
     "data": {
      "text/plain": [
       "<a class=\"python\" href=\"https://freelec.co.kr/bible\" id=\"link1\" name=\"bible\">바이블 파이썬</a>"
      ]
     },
     "execution_count": 9,
     "metadata": {},
     "output_type": "execute_result"
    }
   ],
   "source": [
    "soup.a.find_next()"
   ]
  },
  {
   "cell_type": "code",
   "execution_count": 10,
   "metadata": {},
   "outputs": [
    {
     "data": {
      "text/plain": [
       "<div class=\"book etc\">\n",
       "<a class=\"physics\" href=\"https://freelec.co.kr/time\" id=\"link2\">시간여행</a>,\n",
       "<a class=\"physics\" href=\"https://freelec.co.kr/physics\" id=\"link3\">재미있는 물리</a>,\n",
       "<a class=\"learning python\" href=\"https://freelec.co.kr/business\">머신러닝</a>\n",
       "</div>"
      ]
     },
     "execution_count": 10,
     "metadata": {},
     "output_type": "execute_result"
    }
   ],
   "source": [
    "soup.a.find_next().find_next()"
   ]
  },
  {
   "cell_type": "code",
   "execution_count": 11,
   "metadata": {},
   "outputs": [
    {
     "data": {
      "text/plain": [
       "<h1 class=\"title\">Short history of freelec</h1>"
      ]
     },
     "execution_count": 11,
     "metadata": {},
     "output_type": "execute_result"
    }
   ],
   "source": [
    "soup.find('h1')  # soup.h1 과 동일하다"
   ]
  },
  {
   "cell_type": "code",
   "execution_count": 12,
   "metadata": {},
   "outputs": [
    {
     "data": {
      "text/plain": [
       "<h1 class=\"title\">Short history of freelec</h1>"
      ]
     },
     "execution_count": 12,
     "metadata": {},
     "output_type": "execute_result"
    }
   ],
   "source": [
    "soup.find('h1', 'title')  # h1 태그 중 클래스 이름이 title인 태그 검색"
   ]
  },
  {
   "cell_type": "code",
   "execution_count": 13,
   "metadata": {},
   "outputs": [
    {
     "data": {
      "text/plain": [
       "<h1 class=\"title\">Short history of freelec</h1>"
      ]
     },
     "execution_count": 13,
     "metadata": {},
     "output_type": "execute_result"
    }
   ],
   "source": [
    "soup.find('h1', attrs={'class': 'title'})  # 혹은 이렇게도 표현 가능하다"
   ]
  },
  {
   "cell_type": "code",
   "execution_count": 14,
   "metadata": {},
   "outputs": [
    {
     "data": {
      "text/plain": [
       "<p class=\"story\">프리렉은 가속화되는 기술 흐름과 시대 변화 속에서 짦게만 느껴지는 지난 시간을 되짚으며 ‘지식 가공 및 유통’ 회사라는 아이덴티티를 확고히 하려고 합니다.</p>"
      ]
     },
     "execution_count": 14,
     "metadata": {},
     "output_type": "execute_result"
    }
   ],
   "source": [
    "import re\n",
    "soup.find('p', string=re.compile(\"^프리렉\"))"
   ]
  },
  {
   "cell_type": "code",
   "execution_count": 15,
   "metadata": {},
   "outputs": [
    {
     "data": {
      "text/plain": [
       "'열혈강의 파이썬'"
      ]
     },
     "execution_count": 15,
     "metadata": {},
     "output_type": "execute_result"
    }
   ],
   "source": [
    "import re\n",
    "soup.find(string=re.compile(\"파이썬\"))"
   ]
  },
  {
   "cell_type": "code",
   "execution_count": 16,
   "metadata": {},
   "outputs": [
    {
     "data": {
      "text/plain": [
       "['열혈강의 파이썬', '바이블 파이썬']"
      ]
     },
     "execution_count": 16,
     "metadata": {},
     "output_type": "execute_result"
    }
   ],
   "source": [
    "import re\n",
    "soup.find_all(string=re.compile(\"파이썬\"))"
   ]
  },
  {
   "cell_type": "code",
   "execution_count": 17,
   "metadata": {},
   "outputs": [
    {
     "data": {
      "text/plain": [
       "[<a class=\"python\" href=\"https://freelec.co.kr/python\" id=\"link1\" name=\"python\">열혈강의 파이썬</a>,\n",
       " <a class=\"python\" href=\"https://freelec.co.kr/bible\" id=\"link1\" name=\"bible\">바이블 파이썬</a>,\n",
       " <a class=\"physics\" href=\"https://freelec.co.kr/time\" id=\"link2\">시간여행</a>,\n",
       " <a class=\"physics\" href=\"https://freelec.co.kr/physics\" id=\"link3\">재미있는 물리</a>,\n",
       " <a class=\"learning python\" href=\"https://freelec.co.kr/business\">머신러닝</a>]"
      ]
     },
     "execution_count": 17,
     "metadata": {},
     "output_type": "execute_result"
    }
   ],
   "source": [
    "soup.find_all('a')"
   ]
  },
  {
   "cell_type": "code",
   "execution_count": 18,
   "metadata": {},
   "outputs": [
    {
     "data": {
      "text/plain": [
       "[<a class=\"python\" href=\"https://freelec.co.kr/bible\" id=\"link1\" name=\"bible\">바이블 파이썬</a>]"
      ]
     },
     "execution_count": 18,
     "metadata": {},
     "output_type": "execute_result"
    }
   ],
   "source": [
    "soup.find_all('a', attrs={'class':'python', 'name': 'bible'})"
   ]
  },
  {
   "cell_type": "code",
   "execution_count": 19,
   "metadata": {},
   "outputs": [
    {
     "data": {
      "text/plain": [
       "[<h1 class=\"title\">Short history of freelec</h1>,\n",
       " <a class=\"python\" href=\"https://freelec.co.kr/python\" id=\"link1\" name=\"python\">열혈강의 파이썬</a>,\n",
       " <a class=\"python\" href=\"https://freelec.co.kr/bible\" id=\"link1\" name=\"bible\">바이블 파이썬</a>,\n",
       " <a class=\"physics\" href=\"https://freelec.co.kr/time\" id=\"link2\">시간여행</a>,\n",
       " <a class=\"physics\" href=\"https://freelec.co.kr/physics\" id=\"link3\">재미있는 물리</a>,\n",
       " <a class=\"learning python\" href=\"https://freelec.co.kr/business\">머신러닝</a>]"
      ]
     },
     "execution_count": 19,
     "metadata": {},
     "output_type": "execute_result"
    }
   ],
   "source": [
    "soup.find_all(['a', 'h1'])"
   ]
  },
  {
   "cell_type": "code",
   "execution_count": 20,
   "metadata": {},
   "outputs": [
    {
     "data": {
      "text/plain": [
       "[<html><head><title>FREELEC</title></head>\n",
       " <body>\n",
       " <h1 class=\"title\">Short history of freelec</h1>\n",
       " <p class=\"story\">프리렉은 가속화되는 기술 흐름과 시대 변화 속에서 짦게만 느껴지는 지난 시간을 되짚으며 ‘지식 가공 및 유통’ 회사라는 아이덴티티를 확고히 하려고 합니다.</p>\n",
       " <div class=\"book python\">\n",
       " <a class=\"python\" href=\"https://freelec.co.kr/python\" id=\"link1\" name=\"python\">열혈강의 파이썬</a>,\n",
       " <a class=\"python\" href=\"https://freelec.co.kr/bible\" id=\"link1\" name=\"bible\">바이블 파이썬</a>,\n",
       " </div>\n",
       " <div class=\"book etc\">\n",
       " <a class=\"physics\" href=\"https://freelec.co.kr/time\" id=\"link2\">시간여행</a>,\n",
       " <a class=\"physics\" href=\"https://freelec.co.kr/physics\" id=\"link3\">재미있는 물리</a>,\n",
       " <a class=\"learning python\" href=\"https://freelec.co.kr/business\">머신러닝</a>\n",
       " </div>\n",
       " </body>\n",
       " </html>, <head><title>FREELEC</title></head>, <title>FREELEC</title>, <body>\n",
       " <h1 class=\"title\">Short history of freelec</h1>\n",
       " <p class=\"story\">프리렉은 가속화되는 기술 흐름과 시대 변화 속에서 짦게만 느껴지는 지난 시간을 되짚으며 ‘지식 가공 및 유통’ 회사라는 아이덴티티를 확고히 하려고 합니다.</p>\n",
       " <div class=\"book python\">\n",
       " <a class=\"python\" href=\"https://freelec.co.kr/python\" id=\"link1\" name=\"python\">열혈강의 파이썬</a>,\n",
       " <a class=\"python\" href=\"https://freelec.co.kr/bible\" id=\"link1\" name=\"bible\">바이블 파이썬</a>,\n",
       " </div>\n",
       " <div class=\"book etc\">\n",
       " <a class=\"physics\" href=\"https://freelec.co.kr/time\" id=\"link2\">시간여행</a>,\n",
       " <a class=\"physics\" href=\"https://freelec.co.kr/physics\" id=\"link3\">재미있는 물리</a>,\n",
       " <a class=\"learning python\" href=\"https://freelec.co.kr/business\">머신러닝</a>\n",
       " </div>\n",
       " </body>, <h1 class=\"title\">Short history of freelec</h1>, <p class=\"story\">프리렉은 가속화되는 기술 흐름과 시대 변화 속에서 짦게만 느껴지는 지난 시간을 되짚으며 ‘지식 가공 및 유통’ 회사라는 아이덴티티를 확고히 하려고 합니다.</p>, <div class=\"book python\">\n",
       " <a class=\"python\" href=\"https://freelec.co.kr/python\" id=\"link1\" name=\"python\">열혈강의 파이썬</a>,\n",
       " <a class=\"python\" href=\"https://freelec.co.kr/bible\" id=\"link1\" name=\"bible\">바이블 파이썬</a>,\n",
       " </div>, <a class=\"python\" href=\"https://freelec.co.kr/python\" id=\"link1\" name=\"python\">열혈강의 파이썬</a>, <a class=\"python\" href=\"https://freelec.co.kr/bible\" id=\"link1\" name=\"bible\">바이블 파이썬</a>, <div class=\"book etc\">\n",
       " <a class=\"physics\" href=\"https://freelec.co.kr/time\" id=\"link2\">시간여행</a>,\n",
       " <a class=\"physics\" href=\"https://freelec.co.kr/physics\" id=\"link3\">재미있는 물리</a>,\n",
       " <a class=\"learning python\" href=\"https://freelec.co.kr/business\">머신러닝</a>\n",
       " </div>, <a class=\"physics\" href=\"https://freelec.co.kr/time\" id=\"link2\">시간여행</a>, <a class=\"physics\" href=\"https://freelec.co.kr/physics\" id=\"link3\">재미있는 물리</a>, <a class=\"learning python\" href=\"https://freelec.co.kr/business\">머신러닝</a>]"
      ]
     },
     "execution_count": 20,
     "metadata": {},
     "output_type": "execute_result"
    }
   ],
   "source": [
    "soup.find_all()"
   ]
  },
  {
   "cell_type": "code",
   "execution_count": 21,
   "metadata": {},
   "outputs": [
    {
     "data": {
      "text/plain": [
       "[<a class=\"python\" href=\"https://freelec.co.kr/python\" id=\"link1\" name=\"python\">열혈강의 파이썬</a>,\n",
       " <a class=\"python\" href=\"https://freelec.co.kr/bible\" id=\"link1\" name=\"bible\">바이블 파이썬</a>]"
      ]
     },
     "execution_count": 21,
     "metadata": {},
     "output_type": "execute_result"
    }
   ],
   "source": [
    "soup.select('#link1')  # id가 link1인 요소들"
   ]
  },
  {
   "cell_type": "code",
   "execution_count": 22,
   "metadata": {},
   "outputs": [
    {
     "data": {
      "text/plain": [
       "[<p class=\"story\">프리렉은 가속화되는 기술 흐름과 시대 변화 속에서 짦게만 느껴지는 지난 시간을 되짚으며 ‘지식 가공 및 유통’ 회사라는 아이덴티티를 확고히 하려고 합니다.</p>]"
      ]
     },
     "execution_count": 22,
     "metadata": {},
     "output_type": "execute_result"
    }
   ],
   "source": [
    "soup.select('.story')  # class가 story인 요소들"
   ]
  },
  {
   "cell_type": "code",
   "execution_count": 23,
   "metadata": {},
   "outputs": [
    {
     "data": {
      "text/plain": [
       "[<a class=\"python\" href=\"https://freelec.co.kr/python\" id=\"link1\" name=\"python\">열혈강의 파이썬</a>,\n",
       " <a class=\"python\" href=\"https://freelec.co.kr/bible\" id=\"link1\" name=\"bible\">바이블 파이썬</a>]"
      ]
     },
     "execution_count": 23,
     "metadata": {},
     "output_type": "execute_result"
    }
   ],
   "source": [
    "soup.select('.python #link1')"
   ]
  },
  {
   "cell_type": "code",
   "execution_count": 24,
   "metadata": {},
   "outputs": [
    {
     "data": {
      "text/plain": [
       "[<p class=\"story\">프리렉은 가속화되는 기술 흐름과 시대 변화 속에서 짦게만 느껴지는 지난 시간을 되짚으며 ‘지식 가공 및 유통’ 회사라는 아이덴티티를 확고히 하려고 합니다.</p>]"
      ]
     },
     "execution_count": 24,
     "metadata": {},
     "output_type": "execute_result"
    }
   ],
   "source": [
    "soup.select('p')  # p 요소들"
   ]
  },
  {
   "cell_type": "code",
   "execution_count": 25,
   "metadata": {},
   "outputs": [
    {
     "data": {
      "text/plain": [
       "[<a class=\"python\" href=\"https://freelec.co.kr/python\" id=\"link1\" name=\"python\">열혈강의 파이썬</a>,\n",
       " <a class=\"python\" href=\"https://freelec.co.kr/bible\" id=\"link1\" name=\"bible\">바이블 파이썬</a>,\n",
       " <a class=\"learning python\" href=\"https://freelec.co.kr/business\">머신러닝</a>]"
      ]
     },
     "execution_count": 25,
     "metadata": {},
     "output_type": "execute_result"
    }
   ],
   "source": [
    "soup.select('a.python')  # 태그 a중 클래스가 python인 요소들"
   ]
  },
  {
   "cell_type": "code",
   "execution_count": 26,
   "metadata": {},
   "outputs": [
    {
     "data": {
      "text/plain": [
       "[<a class=\"learning python\" href=\"https://freelec.co.kr/business\">머신러닝</a>]"
      ]
     },
     "execution_count": 26,
     "metadata": {},
     "output_type": "execute_result"
    }
   ],
   "source": [
    "soup.select('a.python.learning') # 태그 a중 클래스가 python 및 learning인 요소들"
   ]
  },
  {
   "cell_type": "code",
   "execution_count": 27,
   "metadata": {
    "scrolled": true
   },
   "outputs": [
    {
     "data": {
      "text/plain": [
       "[<p class=\"story\">프리렉은 가속화되는 기술 흐름과 시대 변화 속에서 짦게만 느껴지는 지난 시간을 되짚으며 ‘지식 가공 및 유통’ 회사라는 아이덴티티를 확고히 하려고 합니다.</p>,\n",
       " <a class=\"python\" href=\"https://freelec.co.kr/python\" id=\"link1\" name=\"python\">열혈강의 파이썬</a>,\n",
       " <a class=\"python\" href=\"https://freelec.co.kr/bible\" id=\"link1\" name=\"bible\">바이블 파이썬</a>,\n",
       " <a class=\"physics\" href=\"https://freelec.co.kr/time\" id=\"link2\">시간여행</a>,\n",
       " <a class=\"physics\" href=\"https://freelec.co.kr/physics\" id=\"link3\">재미있는 물리</a>,\n",
       " <a class=\"learning python\" href=\"https://freelec.co.kr/business\">머신러닝</a>]"
      ]
     },
     "execution_count": 27,
     "metadata": {},
     "output_type": "execute_result"
    }
   ],
   "source": [
    "soup.select('p, a')  # p 및 a 요소"
   ]
  },
  {
   "cell_type": "code",
   "execution_count": 28,
   "metadata": {},
   "outputs": [
    {
     "data": {
      "text/plain": [
       "[<a class=\"python\" href=\"https://freelec.co.kr/python\" id=\"link1\" name=\"python\">열혈강의 파이썬</a>,\n",
       " <a class=\"python\" href=\"https://freelec.co.kr/bible\" id=\"link1\" name=\"bible\">바이블 파이썬</a>,\n",
       " <a class=\"physics\" href=\"https://freelec.co.kr/time\" id=\"link2\">시간여행</a>,\n",
       " <a class=\"physics\" href=\"https://freelec.co.kr/physics\" id=\"link3\">재미있는 물리</a>,\n",
       " <a class=\"learning python\" href=\"https://freelec.co.kr/business\">머신러닝</a>]"
      ]
     },
     "execution_count": 28,
     "metadata": {},
     "output_type": "execute_result"
    }
   ],
   "source": [
    "soup.select(\"body a\")  # body 태그 내부에 있는 a 태그를 찾는다. 여러 단계의 포함관계도 허용된다."
   ]
  },
  {
   "cell_type": "code",
   "execution_count": 29,
   "metadata": {
    "scrolled": true
   },
   "outputs": [
    {
     "data": {
      "text/plain": [
       "[<div class=\"book python\">\n",
       " <a class=\"python\" href=\"https://freelec.co.kr/python\" id=\"link1\" name=\"python\">열혈강의 파이썬</a>,\n",
       " <a class=\"python\" href=\"https://freelec.co.kr/bible\" id=\"link1\" name=\"bible\">바이블 파이썬</a>,\n",
       " </div>]"
      ]
     },
     "execution_count": 29,
     "metadata": {},
     "output_type": "execute_result"
    }
   ],
   "source": [
    "soup.select('p + div')  # p 다음에 나오는 div"
   ]
  },
  {
   "cell_type": "code",
   "execution_count": 30,
   "metadata": {},
   "outputs": [
    {
     "data": {
      "text/plain": [
       "[]"
      ]
     },
     "execution_count": 30,
     "metadata": {},
     "output_type": "execute_result"
    }
   ],
   "source": [
    "soup.select(\"body > a\")"
   ]
  },
  {
   "cell_type": "code",
   "execution_count": 31,
   "metadata": {},
   "outputs": [
    {
     "data": {
      "text/plain": [
       "[<a class=\"python\" href=\"https://freelec.co.kr/python\" id=\"link1\" name=\"python\">열혈강의 파이썬</a>,\n",
       " <a class=\"python\" href=\"https://freelec.co.kr/bible\" id=\"link1\" name=\"bible\">바이블 파이썬</a>,\n",
       " <a class=\"physics\" href=\"https://freelec.co.kr/time\" id=\"link2\">시간여행</a>,\n",
       " <a class=\"physics\" href=\"https://freelec.co.kr/physics\" id=\"link3\">재미있는 물리</a>,\n",
       " <a class=\"learning python\" href=\"https://freelec.co.kr/business\">머신러닝</a>]"
      ]
     },
     "execution_count": 31,
     "metadata": {},
     "output_type": "execute_result"
    }
   ],
   "source": [
    "soup.select(\"div > a\")"
   ]
  },
  {
   "cell_type": "code",
   "execution_count": 32,
   "metadata": {},
   "outputs": [
    {
     "data": {
      "text/plain": [
       "[<a class=\"physics\" href=\"https://freelec.co.kr/time\" id=\"link2\">시간여행</a>,\n",
       " <a class=\"physics\" href=\"https://freelec.co.kr/physics\" id=\"link3\">재미있는 물리</a>,\n",
       " <a class=\"learning python\" href=\"https://freelec.co.kr/business\">머신러닝</a>]"
      ]
     },
     "execution_count": 32,
     "metadata": {},
     "output_type": "execute_result"
    }
   ],
   "source": [
    "soup.select(\"html > body > div.etc > a\")"
   ]
  },
  {
   "cell_type": "code",
   "execution_count": 33,
   "metadata": {},
   "outputs": [
    {
     "data": {
      "text/plain": [
       "[<a class=\"python\" href=\"https://freelec.co.kr/bible\" id=\"link1\" name=\"bible\">바이블 파이썬</a>]"
      ]
     },
     "execution_count": 33,
     "metadata": {},
     "output_type": "execute_result"
    }
   ],
   "source": [
    "soup.select(\"[name=bible]\")"
   ]
  },
  {
   "cell_type": "code",
   "execution_count": 34,
   "metadata": {},
   "outputs": [
    {
     "data": {
      "text/plain": [
       "[<a class=\"python\" href=\"https://freelec.co.kr/bible\" id=\"link1\" name=\"bible\">바이블 파이썬</a>]"
      ]
     },
     "execution_count": 34,
     "metadata": {},
     "output_type": "execute_result"
    }
   ],
   "source": [
    "soup.select(\"a[name=bible]\")"
   ]
  },
  {
   "cell_type": "code",
   "execution_count": 35,
   "metadata": {},
   "outputs": [
    {
     "data": {
      "text/plain": [
       "[]"
      ]
     },
     "execution_count": 35,
     "metadata": {},
     "output_type": "execute_result"
    }
   ],
   "source": [
    "soup.select('a[href^=http:]')  # http:로 시작하는 a 요소"
   ]
  },
  {
   "cell_type": "code",
   "execution_count": 36,
   "metadata": {},
   "outputs": [
    {
     "data": {
      "text/plain": [
       "[<a class=\"python\" href=\"https://freelec.co.kr/python\" id=\"link1\" name=\"python\">열혈강의 파이썬</a>,\n",
       " <a class=\"python\" href=\"https://freelec.co.kr/bible\" id=\"link1\" name=\"bible\">바이블 파이썬</a>,\n",
       " <a class=\"physics\" href=\"https://freelec.co.kr/time\" id=\"link2\">시간여행</a>,\n",
       " <a class=\"physics\" href=\"https://freelec.co.kr/physics\" id=\"link3\">재미있는 물리</a>,\n",
       " <a class=\"learning python\" href=\"https://freelec.co.kr/business\">머신러닝</a>]"
      ]
     },
     "execution_count": 36,
     "metadata": {},
     "output_type": "execute_result"
    }
   ],
   "source": [
    "soup.select('a[href^=https:]')  # https:로 시작하는 a 요소"
   ]
  },
  {
   "cell_type": "code",
   "execution_count": 37,
   "metadata": {},
   "outputs": [
    {
     "data": {
      "text/plain": [
       "[<a class=\"python\" href=\"https://freelec.co.kr/python\" id=\"link1\" name=\"python\">열혈강의 파이썬</a>]"
      ]
     },
     "execution_count": 37,
     "metadata": {},
     "output_type": "execute_result"
    }
   ],
   "source": [
    "soup.select(\"a:nth-of-type(1)\")  # 첫 번째"
   ]
  },
  {
   "cell_type": "code",
   "execution_count": 38,
   "metadata": {},
   "outputs": [
    {
     "data": {
      "text/plain": [
       "[<a class=\"physics\" href=\"https://freelec.co.kr/time\" id=\"link2\">시간여행</a>]"
      ]
     },
     "execution_count": 38,
     "metadata": {},
     "output_type": "execute_result"
    }
   ],
   "source": [
    "soup.select(\"a:nth-of-type(3)\")  # 세 번째"
   ]
  },
  {
   "cell_type": "code",
   "execution_count": 39,
   "metadata": {},
   "outputs": [
    {
     "name": "stdout",
     "output_type": "stream",
     "text": [
      "열혈강의 파이썬 https://freelec.co.kr/python\n",
      "바이블 파이썬 https://freelec.co.kr/bible\n",
      "시간여행 https://freelec.co.kr/time\n",
      "재미있는 물리 https://freelec.co.kr/physics\n",
      "머신러닝 https://freelec.co.kr/business\n"
     ]
    }
   ],
   "source": [
    "for ele in soup.select('a[href^=https:]'):\n",
    "    print(ele.get_text(), ele.get('href'))"
   ]
  },
  {
   "cell_type": "code",
   "execution_count": 40,
   "metadata": {},
   "outputs": [
    {
     "name": "stdout",
     "output_type": "stream",
     "text": [
      "1 보통 사람을 배려한 용인 작은집 - 실패하지 않는 작은집 짓기에 도전하고 있는 루트주택이 126㎡(38평)의 작은 땅에 건축주가 원하는 기능을 모두 담아낸 것은 물론 여유와 스타일까지 더했다. ...  https://m.post.naver.com/viewer/postView.nhn?volumeNo=26595247&memberNo=24659848&vType=VERTICAL\n",
      "\n",
      "2 숲속에 자리한, 한 사람을 위한 작은 집 - 충청북도 영동의 한적한 시골 마을 끝자락. 부모님 집 옆으로 아들의 새 보금자리가 놓였다. 둥근 벽을 가진 작은 이층집이다. 진입도로에서 60m...  https://m.post.naver.com/viewer/postView.nhn?volumeNo=26348361&memberNo=954004&vType=VERTICAL\n",
      "\n",
      "3 “작은 집의 매력, 손수 지어봐야 압니다” 한겨레작은집건축학교... - 작은 집 짓기 마무리 작업을 위해 모인 한겨레작은집건축학교 수강생들은 분주히 움직였다. ... com 한겨레작은집건축학교 교장 문건호(文建晧·53)...  https://m.post.naver.com/viewer/postView.nhn?volumeNo=23443484&memberNo=25128306&vType=VERTICAL\n",
      "\n",
      "4 작은집 투룸 신혼집인테리어~♥ - [작은집 투룸 신혼집인테리어~♥] 오늘은 작은집 투룸 신혼집 인테리어 편이심 먼저... 컴퓨터방(작은방)은 보여지게 유리도어가들어가고 슬라이딩 도어가 들어갔음 주방... https://blog.naver.com/lali8122?Redirect=Log&logNo=221654303329\n",
      "\n",
      "5 13평 작은평수아파트와 작은집인테리어 취향에 맞게 꾸미기 - 공사의뢰사항 / 필요하신 부분에 체크 및 기재바랍니다. 샤시 전체교체 내부교체 외부교체 부분교체 ※ 부분교체의 경우... dualdesign.co.kr #작은평수아파트작은집인테리어 https://blog.naver.com/hyekyoung30?Redirect=Log&logNo=221649993950\n",
      "\n",
      "6 대형창문이 있는 13평 작은집 화이트인테리어 - 작은집..작은평수에 있어 화이트는 진리인것 같습니다...ㅎㅎㅎ 시원시원한 오픈플랜형의 구조와 대형창문으로 인해 평수에 비해 넓어보이는 13평 작은집의... https://blog.naver.com/julian1366?Redirect=Log&logNo=221685621166\n",
      "\n"
     ]
    }
   ],
   "source": [
    "import requests\n",
    "from bs4 import BeautifulSoup\n",
    "from urllib.parse import urlparse, parse_qs\n",
    "import webbrowser\n",
    "\n",
    "search = '작은 집'\n",
    "r = requests.get('https://search.naver.com/search.naver?sm=top_hty&fbm=1&ie=utf8&query=' + search)  # 단계 2\n",
    "soup = BeautifulSoup(r.text, 'lxml')  # 단계 3\n",
    "\n",
    "for i, li in enumerate(soup.select('div.sp_post ul li dl') + soup.select('div.blog ul li dl')):\n",
    "    a = li.select('dt a')[0]\n",
    "    print(i+1, a.text, '-', li.select('dd')[1].text, a.attrs['href'])\n",
    "    print()"
   ]
  },
  {
   "cell_type": "code",
   "execution_count": 41,
   "metadata": {
    "collapsed": true
   },
   "outputs": [],
   "source": []
  },
  {
   "cell_type": "code",
   "execution_count": 42,
   "metadata": {},
   "outputs": [
    {
     "name": "stdout",
     "output_type": "stream",
     "text": [
      "https://image.ohou.se/image/central_crop/bucketplace-v2-development/uploads-projects-cover_images-1543918098080_tKj1pi.jpg/640/426\n",
      "https://image.ohou.se/image/central_crop/bucketplace-v2-development/uploads-projects-cover_images-1543764465770_jkle.jpg/640/426\n",
      "https://image.ohou.se/image/central_crop/bucketplace-v2-development/uploads-advices-cover_images-1543471242602_Uq1XRgm.jpg/640/426\n",
      "https://image.ohou.se/image/central_crop/bucketplace-v2-development/uploads-exhibitions-cover_image-1544602171844_nnt1qJ.jpg/640/426\n",
      "https://image.ohou.se/image/central_crop/bucketplace-v2-development/uploads-exhibitions-cover_image-1543906068143_JMvbV.jpg/640/426\n",
      "https://image.ohou.se/image/central_crop/bucketplace-v2-development/uploads-exhibitions-cover_image-1541749250779_yP457IB.jpg/640/426\n",
      "https://image.ohou.se/image/central_crop/bucketplace-v2-development/uploads-exhibitions-cover_image-1543929034218_ivPyxAxXKn.jpg/640/426\n",
      "https://image.ohou.se/image/central_crop/bucketplace-v2-development/uploads-exhibitions-cover_image-1544434718469_m.jpg/640/426\n",
      "https://image.ohou.se/image/central_crop/bucketplace-v2-development/uploads-exhibitions-cover_image-1543825862488_N2eJHfqH.jpg/640/426\n",
      "https://image.ohou.se/image/central_crop/bucketplace-v2-development/uploads-exhibitions-cover_image-1542615516295_WblmNORmg.jpg/640/426\n",
      "https://image.ohou.se/image/central_crop/bucketplace-v2-development/uploads-exhibitions-cover_image-1543316612716_CQ8.jpg/640/426\n",
      "https://image.ohou.se/image/central_crop/bucketplace-v2-development/uploads-exhibitions-cover_image-1543571767712_ZDG1VrceTq.jpg/640/426\n",
      "https://image.ohou.se/image/central_crop/bucketplace-v2-development/uploads-exhibitions-cover_image-1543221791488_Str5.jpg/640/426\n"
     ]
    }
   ],
   "source": [
    "import requests\n",
    "from bs4 import BeautifulSoup\n",
    "from urllib.parse import urlparse, parse_qs\n",
    "import webbrowser\n",
    "import re\n",
    "\n",
    "r = requests.get('https://ohou.se')  # 단계 1\n",
    "soup = BeautifulSoup(r.text, 'lxml')  # 단계 2\n",
    "for tag in soup.select('img[data-src]'): # 단계 3\n",
    "    datasrc = tag.get('data-src')  # 단계 4\n",
    "    m = re.match('(.*?)/(\\d+)/(\\d+)', datasrc)  # 단계 5 : url/가로/세로 형식에 맞는지 검사\n",
    "    if not m:\n",
    "        continue\n",
    "    url, w, h = m.groups()  # 단계 5\n",
    "    width = int(w)     # 단계 5\n",
    "    height = int(h)    # 단계 5\n",
    "    if width < 640 or not url.endswith('.jpg'):  # 단계 6\n",
    "        continue\n",
    "    fname = 'ohou_' + url.split('/')[-1]  # 단계 7\n",
    "    print(fname)\n",
    "    r = requests.get(datasrc)   # 단계 8\n",
    "    open(fname, 'wb').write(r.content)  # 단계 9"
   ]
  }
 ],
 "metadata": {
  "kernelspec": {
   "display_name": "Python 3",
   "language": "python",
   "name": "python3"
  },
  "language_info": {
   "codemirror_mode": {
    "name": "ipython",
    "version": 3
   },
   "file_extension": ".py",
   "mimetype": "text/x-python",
   "name": "python",
   "nbconvert_exporter": "python",
   "pygments_lexer": "ipython3",
   "version": "3.8.8"
  }
 },
 "nbformat": 4,
 "nbformat_minor": 1
}
